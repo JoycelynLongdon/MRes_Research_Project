{
 "cells": [
  {
   "cell_type": "code",
   "execution_count": 19,
   "id": "b10c8713",
   "metadata": {},
   "outputs": [
    {
     "ename": "ModuleNotFoundError",
     "evalue": "No module named 'landsat_cloud_masking'",
     "output_type": "error",
     "traceback": [
      "\u001b[0;31m---------------------------------------------------------------------------\u001b[0m",
      "\u001b[0;31mModuleNotFoundError\u001b[0m                       Traceback (most recent call last)",
      "\u001b[0;32m<ipython-input-19-79101f22785e>\u001b[0m in \u001b[0;36m<module>\u001b[0;34m\u001b[0m\n\u001b[1;32m      6\u001b[0m \u001b[0;32mfrom\u001b[0m \u001b[0mscipy\u001b[0m \u001b[0;32mimport\u001b[0m \u001b[0moptimize\u001b[0m\u001b[0;34m\u001b[0m\u001b[0m\n\u001b[1;32m      7\u001b[0m \u001b[0;32mimport\u001b[0m \u001b[0mos\u001b[0m\u001b[0;34m\u001b[0m\u001b[0m\n\u001b[0;32m----> 8\u001b[0;31m \u001b[0;32mfrom\u001b[0m \u001b[0mlandsat_cloud_masking\u001b[0m \u001b[0;32mimport\u001b[0m \u001b[0mcloudMask\u001b[0m\u001b[0;34m,\u001b[0m \u001b[0mget_l8_sr_cld_free_data\u001b[0m\u001b[0;34m\u001b[0m\u001b[0m\n\u001b[0m",
      "\u001b[0;31mModuleNotFoundError\u001b[0m: No module named 'landsat_cloud_masking'"
     ]
    }
   ],
   "source": [
    "#imports\n",
    "import ee\n",
    "import pandas as pd\n",
    "import matplotlib.pyplot as plt\n",
    "import numpy as np\n",
    "from scipy import optimize\n",
    "import os\n",
    "from landsat_cloud_masking import cloudMask, get_l8_sr_cld_free_data\n"
   ]
  },
  {
   "cell_type": "code",
   "execution_count": null,
   "id": "ad863dd7",
   "metadata": {},
   "outputs": [],
   "source": [
    "#export paths\n",
    "train = '/Users/joycelynlongdon/Desktop/Cambridge/CambridgeCoding/MRES/GEE_examples/Input_Data/training_data/'\n",
    "val = '/Users/joycelynlongdon/Desktop/Cambridge/CambridgeCoding/MRES/GEE_examples/Input_Data/validation_data/'\n",
    "test = '/Users/joycelynlongdon/Desktop/Cambridge/CambridgeCoding/MRES/GEE_examples/Input_Data/test_data/'\n"
   ]
  },
  {
   "cell_type": "code",
   "execution_count": 23,
   "id": "41bfa457",
   "metadata": {},
   "outputs": [
    {
     "name": "stdout",
     "output_type": "stream",
     "text": [
      "/Users/joycelynlongdon/Desktop/Cambridge/CambridgeCoding/MRES/GEE_examples/Input_Data/aoi_train.json\n"
     ]
    },
    {
     "data": {
      "text/plain": [
       "'\\n#open aoi_train in GEE API and turn into feature collection\\nwith open(aoi_train_path) as a:\\n    aoi_train = json.load(a)\\naoi_train = ee.FeatureCollection(aoi_train).first().geometry()\\n\\n#open aoi_val in GEE API and turn into feature collection\\nwith open(aoi_val_path) as b:\\n    aoi_val = json.load(b)\\naoi_val = ee.FeatureCollection(aoi_val).first().geometry()\\n\\n#open aoi_val in GEE API and turn into feature collection\\nwith open(aoi_tes_path) as c:\\n    aoi_test = json.load(c)\\naoi_test = ee.FeatureCollection(aoi_test).first().geometry()\\n\\n#NEED TO FIND A WAY TO STREAMLINE THIS\\n'"
      ]
     },
     "execution_count": 23,
     "metadata": {},
     "output_type": "execute_result"
    }
   ],
   "source": [
    "#import geometry paths\n",
    "aoi_train_path = os.path.abspath('/Users/joycelynlongdon/Desktop/Cambridge/CambridgeCoding/MRES/GEE_examples/Input_Data/aoi_train.json')\n",
    "aoi_val_path = os.path.abspath('/Users/joycelynlongdon/Desktop/Cambridge/CambridgeCoding/MRES/GEE_examples/Input_Data/aoi_train.json')\n",
    "aoi_test_path = os.path.abspath('/Users/joycelynlongdon/Desktop/Cambridge/CambridgeCoding/MRES/GEE_examples/Input_Data/aoi_test.json')\n",
    "\n",
    "aoi_paths = (aoi_train_path, aoi_val_path, aoi_test_path)\n",
    "\n",
    "for i in aoi_paths:\n",
    "    \"\"\"Convert aoi GeoJSON geometries to Feature Collections to be readable by GEE\"\"\"\n",
    "    with open(aoi_paths[i]) as f:\n",
    "        if \n",
    "    aoi_train = json.load(a)\n",
    "    aoi_train = ee.FeatureCollection(aoi_train).first().geometry()\n",
    "\n",
    "    \n",
    "\n",
    "\n",
    "\n",
    "\"\"\"\n",
    "#open aoi_train in GEE API and turn into feature collection\n",
    "with open(aoi_train_path) as a:\n",
    "    aoi_train = json.load(a)\n",
    "aoi_train = ee.FeatureCollection(aoi_train).first().geometry()\n",
    "\n",
    "#open aoi_val in GEE API and turn into feature collection\n",
    "with open(aoi_val_path) as b:\n",
    "    aoi_val = json.load(b)\n",
    "aoi_val = ee.FeatureCollection(aoi_val).first().geometry()\n",
    "\n",
    "#open aoi_val in GEE API and turn into feature collection\n",
    "with open(aoi_tes_path) as c:\n",
    "    aoi_test = json.load(c)\n",
    "aoi_test = ee.FeatureCollection(aoi_test).first().geometry()\n",
    "\n",
    "#NEED TO FIND A WAY TO STREAMLINE THIS\n",
    "\"\"\""
   ]
  },
  {
   "cell_type": "code",
   "execution_count": null,
   "id": "65ac201f",
   "metadata": {},
   "outputs": [],
   "source": [
    "#define visualisation parameters \n",
    "vis_params = {\n",
    "        'min': 0,\n",
    "        'max': 3000,\n",
    "        'bands': ['B4', 'B3', 'B2'] #RGB Composite\n",
    "    }"
   ]
  },
  {
   "cell_type": "code",
   "execution_count": null,
   "id": "09dce55f",
   "metadata": {},
   "outputs": [],
   "source": [
    "#define range of dates (annual dry season)\n",
    "\n",
    "date = [('2013-06-01', '2014-06-01', '2015-06-01', '2016-06-01', '2017-06-01', '2018-06-01','2019-06-01'),\n",
    "        ('2013-08-31','2014-08-31','2015-08-31','2016-08-31','2017-08-31','2018-08-31','2019-08-31')]\n",
    "\n"
   ]
  },
  {
   "cell_type": "code",
   "execution_count": null,
   "id": "9f2cc2ee",
   "metadata": {},
   "outputs": [],
   "source": [
    "for date in date:\n",
    "    START_DATE = date[0]\n",
    "    END_DATE = date[1]\n",
    "    \n",
    "    \"\"\"\n",
    "    Specify region of interest with GeoJSON bounding box\n",
    "    \"\"\"\n",
    "    if aoi"
   ]
  },
  {
   "cell_type": "code",
   "execution_count": null,
   "id": "9343dba8",
   "metadata": {},
   "outputs": [],
   "source": [
    "#retrieve landsat data\n",
    "l8_sr_cld_free = get_l8_sr_cld_free_data(AOI, START_DATE, END_DATE, cloudMask)\n",
    "\n",
    "#process the data to be cloud masked and clipped to aoi\n"
   ]
  }
 ],
 "metadata": {
  "kernelspec": {
   "display_name": "Python 3",
   "language": "python",
   "name": "python3"
  },
  "language_info": {
   "codemirror_mode": {
    "name": "ipython",
    "version": 3
   },
   "file_extension": ".py",
   "mimetype": "text/x-python",
   "name": "python",
   "nbconvert_exporter": "python",
   "pygments_lexer": "ipython3",
   "version": "3.7.0"
  }
 },
 "nbformat": 4,
 "nbformat_minor": 5
}
