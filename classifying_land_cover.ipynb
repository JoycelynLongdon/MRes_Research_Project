{
 "cells": [
  {
   "cell_type": "markdown",
   "metadata": {},
   "source": [
    "# Landcover Classification Example"
   ]
  },
  {
   "cell_type": "markdown",
   "metadata": {},
   "source": [
    "#### Sources: \n",
    "- https://blog.gishub.org/earth-engine-tutorial-32-machine-learning-with-earth-engine-supervised-classification\n",
    "- https://geohackweek.github.io/GoogleEarthEngine/05-classify-imagery/\n",
    "- https://ceholden.github.io/open-geo-tutorial/python/chapter_5_classification.html\n",
    "- GEE Documentation\n",
    "\n",
    "#### Steps:\n",
    "1. Collect training data. Assemble features which have a property that stores the known class label and properties storing numeric values for the predictors.\n",
    "2. Instantiate a classifier. Set its parameters if necessary.\n",
    "3. Train the classifier using the training data.\n",
    "4. Classify an image or feature collection.\n",
    "5. Estimate classification error with independent validation data.\n",
    "\n",
    "The training data is a `FeatureCollection` with a property storing the class label and properties storing predictor variables. Class labels should be consecutive, integers starting from 0. If necessary, use remap() to convert class values to consecutive integers. The predictors should be numeric."
   ]
  },
  {
   "cell_type": "markdown",
   "metadata": {},
   "source": [
    "### Import libraries"
   ]
  },
  {
   "cell_type": "code",
   "execution_count": 1,
   "metadata": {},
   "outputs": [],
   "source": [
    "import ee\n",
    "import geemap\n",
    "from geemap import *\n",
    "import json\n",
    "from geemap import geojson_to_ee, ee_to_geojson\n",
    "from ipyleaflet import GeoJSON\n",
    "import os\n",
    "import sklearn\n",
    "# !pip install geemap\n"
   ]
  },
  {
   "cell_type": "markdown",
   "metadata": {},
   "source": [
    "## Data Preparation"
   ]
  },
  {
   "cell_type": "markdown",
   "metadata": {},
   "source": [
    "### Create an interactive map"
   ]
  },
  {
   "cell_type": "code",
   "execution_count": 2,
   "metadata": {},
   "outputs": [
    {
     "data": {
      "application/vnd.jupyter.widget-view+json": {
       "model_id": "26a6038040a84fddb59467d5b9952a45",
       "version_major": 2,
       "version_minor": 0
      },
      "text/plain": [
       "Map(center=[40, -100], controls=(WidgetControl(options=['position', 'transparent_bg'], widget=HBox(children=(T…"
      ]
     },
     "metadata": {},
     "output_type": "display_data"
    }
   ],
   "source": [
    "Map = geemap.Map()\n",
    "Map"
   ]
  },
  {
   "cell_type": "markdown",
   "metadata": {},
   "source": [
    "### Add region data to the map"
   ]
  },
  {
   "cell_type": "code",
   "execution_count": 3,
   "metadata": {},
   "outputs": [
    {
     "data": {
      "application/vnd.jupyter.widget-view+json": {
       "model_id": "26a6038040a84fddb59467d5b9952a45",
       "version_major": 2,
       "version_minor": 0
      },
      "text/plain": [
       "Map(center=[37.75379999999999, -122.44390000000001], controls=(WidgetControl(options=['position', 'transparent…"
      ]
     },
     "metadata": {},
     "output_type": "display_data"
    }
   ],
   "source": [
    "point = ee.Geometry.Point(-122.4439, 37.7538)\n",
    "\n",
    "#making a cloud free Landsat 8 Surface Reflectance Composite\n",
    "image = ee.ImageCollection('LANDSAT/LC08/C01/T1_SR').filterBounds(point).filterDate('2016-01-01', '2016-12-31').sort('CLOUD_COVER').first().select('B[1-7]')\n",
    "\n",
    "#taking out any remaining cloud cover with the bitmask QA band\n",
    "#qa = image.select('pixel_qa')\n",
    "#cloudMask = qa.bitwiseAnd(1<<5).eq(0)\n",
    "#.and(qa.bitwiseAnd(1<<3).eq(0))\n",
    "#masked = image.updateMask(cloudMask).clip(bounds)\n",
    "\n",
    "#Define a cloud mask for any remaining cloud\n",
    "#def maskClouds(image):\n",
    "    #clear = image.select('pixel_qa').bitwiseAnd(2).neq(0)\n",
    "    #return image.updateMask(clear)\n",
    "\n",
    "#image = LS8_SR1.map(maskClouds).median()\n",
    "\n",
    "vis_params = {\n",
    "    'min': 0,\n",
    "    'max': 3000,\n",
    "    'bands': ['B5', 'B4', 'B3']\n",
    "}\n",
    "\n",
    "\n",
    "Map.centerObject(point, 8)\n",
    "Map.addLayer(image, vis_params, \"Landsat-8\")\n",
    "Map\n",
    "#Map.addLayer(aoi, \"Mai_Ndombe\");\n"
   ]
  },
  {
   "cell_type": "markdown",
   "metadata": {},
   "source": [
    "### Check image properties"
   ]
  },
  {
   "cell_type": "code",
   "execution_count": 4,
   "metadata": {},
   "outputs": [
    {
     "data": {
      "text/plain": [
       "'2016-11-18'"
      ]
     },
     "execution_count": 4,
     "metadata": {},
     "output_type": "execute_result"
    }
   ],
   "source": [
    "ee.Date(image.get('system:time_start')).format('YYYY-MM-dd').getInfo()"
   ]
  },
  {
   "cell_type": "code",
   "execution_count": 5,
   "metadata": {},
   "outputs": [
    {
     "data": {
      "text/plain": [
       "0.08"
      ]
     },
     "execution_count": 5,
     "metadata": {},
     "output_type": "execute_result"
    }
   ],
   "source": [
    "image.get('CLOUD_COVER').getInfo()"
   ]
  },
  {
   "cell_type": "markdown",
   "metadata": {},
   "source": [
    "### Creating the training dataset\n",
    "\n",
    "There are several ways you can create a region for generating the training dataset.\n",
    "\n",
    "- Draw a shape (e.g., rectangle) on the map and the use `region = Map.user_roi`\n",
    "- Define a geometry, such as `region = ee.Geometry.Rectangle([-122.6003, 37.4831, -121.8036, 37.8288])`\n",
    "- Create a buffer zone around a point, such as `region = ee.Geometry.Point([-122.4439, 37.7538]).buffer(10000)`\n",
    "- If you don't define a region, it will use the image footprint by default"
   ]
  },
  {
   "cell_type": "code",
   "execution_count": 6,
   "metadata": {},
   "outputs": [],
   "source": [
    "# region = Map.user_roi\n",
    "# region = ee.Geometry.Rectangle([-122.6003, 37.4831, -121.8036, 37.8288])\n",
    "region = ee.Geometry.Point([-122.4439, 37.7538]).buffer(10000)"
   ]
  },
  {
   "cell_type": "markdown",
   "metadata": {},
   "source": [
    "The [USGS National Land Cover Database (NLCD)](https://developers.google.com/earth-engine/datasets/catalog/USGS_NLCD) will be used to create label dataset for training\n",
    "\n",
    "\n",
    "![](https://i.imgur.com/7QoRXxu.png)"
   ]
  },
  {
   "cell_type": "code",
   "execution_count": 7,
   "metadata": {},
   "outputs": [
    {
     "data": {
      "application/vnd.jupyter.widget-view+json": {
       "model_id": "26a6038040a84fddb59467d5b9952a45",
       "version_major": 2,
       "version_minor": 0
      },
      "text/plain": [
       "Map(center=[37.75379999999999, -122.44390000000001], controls=(WidgetControl(options=['position', 'transparent…"
      ]
     },
     "metadata": {},
     "output_type": "display_data"
    }
   ],
   "source": [
    "nlcd = ee.Image('USGS/NLCD/NLCD2016').select('landcover').clip(image.geometry()) #pre-defined data from an Earth Engine table asset\n",
    "#remapping the LULC categories to new values ranging from 0–19 to make \n",
    "#visualizations consistent across products later in the script.\n",
    "\n",
    "class_values = nlcd.get('landcover_class_values')\n",
    "class_values_remap = [ 0, 1, 2, 3, 4, 5, 6, 7, 8, 9,10,11,12,13,14,15,16,17,18,19]\n",
    "\n",
    "nlcd = nlcd.remap(class_values,\n",
    "         class_values_remap).rename('Landcover_Class')\n",
    "\n",
    "#import the colour palette of the nlcd data\n",
    "classColours = (\n",
    "  '476ba1','d1defa','decaca','d99482','ee0000',\n",
    "  'ab0000','b3aea3','68ab63','1c6330','b5ca8f',\n",
    "  'a68c30','ccba7d','e3e3c2','caca78','99c247',\n",
    "  '78ae94','dcd93d','ab7028','bad9eb','70a3ba'\n",
    "    )\n",
    "\n",
    "Map.addLayer(nlcd, {'min':0, 'max':19, 'palette':classColours}, 'NLCD')\n",
    "Map\n"
   ]
  },
  {
   "cell_type": "code",
   "execution_count": 8,
   "metadata": {},
   "outputs": [
    {
     "data": {
      "application/vnd.jupyter.widget-view+json": {
       "model_id": "26a6038040a84fddb59467d5b9952a45",
       "version_major": 2,
       "version_minor": 0
      },
      "text/plain": [
       "Map(center=[37.75379999999999, -122.44390000000001], controls=(WidgetControl(options=['position', 'transparent…"
      ]
     },
     "metadata": {},
     "output_type": "display_data"
    }
   ],
   "source": [
    "# Make the training dataset.\n",
    "'''points = nlcd.sample(**{\n",
    "    'region': image.geometry(), #The region to sample from. If unspecified, uses the image's whole footprint.\n",
    "    'scale': 30, #A nominal scale in meters of the projection to sample in.\n",
    "    'numPixels': 5000, #The approximate number of pixels to sample.\n",
    "    'seed': 0, #A randomization seed to use for subsampling.\n",
    "    'geometries': True  # If true, adds the center of the sampled pixel as the geometry property of the output \n",
    "                        #feature. Otherwise, geometries will be omitted (saving memory).Set this to False to \n",
    "                        #ignore geometries\n",
    "})\n",
    "'''\n",
    "sample = nlcd.sample(**{\n",
    "    'region': image.geometry(), #The region to sample from. If unspecified, uses the image's whole footprint.\n",
    "    'scale': 30, #A nominal scale in meters of the projection to sample in.\n",
    "    'numPixels': 5000, #The approximate number of pixels to sample.\n",
    "    'seed': 0, #A randomization seed to use for subsampling.\n",
    "    'geometries': True  # If true, adds the center of the sampled pixel as the geometry property of the output \n",
    "                        #feature. Otherwise, geometries will be omitted (saving memory).Set this to False to \n",
    "                        #ignore geometries\n",
    "})\n",
    "\n",
    "\n",
    "#The randomColumn() method will add a column of uniform random\n",
    "#numbers in a column named 'random' by default.\n",
    "sample = sample.randomColumn();\n",
    "\n",
    "split = 0.7;  #Roughly 70% training, 30% testing.\n",
    "training = sample.filter(ee.Filter.lt('random', split))\n",
    "validation = sample.filter(ee.Filter.gte('random', split))\n",
    "\n",
    "Map.addLayer(training, {}, 'Training')\n",
    "Map"
   ]
  },
  {
   "cell_type": "code",
   "execution_count": 9,
   "metadata": {},
   "outputs": [
    {
     "name": "stdout",
     "output_type": "stream",
     "text": [
      "2495\n"
     ]
    }
   ],
   "source": [
    "print(training.size().getInfo())"
   ]
  },
  {
   "cell_type": "code",
   "execution_count": 10,
   "metadata": {},
   "outputs": [
    {
     "name": "stdout",
     "output_type": "stream",
     "text": [
      "{'type': 'Feature', 'geometry': {'type': 'Point', 'coordinates': [-122.25798986874739, 38.2706212827936]}, 'id': '0', 'properties': {'Landcover_Class': 6, 'random': 0.35449786187014276}}\n"
     ]
    }
   ],
   "source": [
    "print(training.first().getInfo()) #Returns the first entry from a given collection."
   ]
  },
  {
   "cell_type": "code",
   "execution_count": 11,
   "metadata": {},
   "outputs": [
    {
     "name": "stdout",
     "output_type": "stream",
     "text": [
      "Generating URL ...\n",
      "Downloading data from https://earthengine.googleapis.com/v1alpha/projects/earthengine-legacy/tables/6743d778a6a20b1ed51f70c5f7fe0292-3d7be6e3074601b292ee498cf4dc8685:getFeatures\n",
      "Please wait ...\n",
      "Data downloaded to /Users/joycelynlongdon/Desktop/Cambridge/CambridgeCoding/MRES/GEE_examples/lc_training_data.csv\n"
     ]
    }
   ],
   "source": [
    "#Export the training data as csv\n",
    "geemap.ee_to_csv(training, 'lc_training_data.csv')\n"
   ]
  },
  {
   "cell_type": "code",
   "execution_count": 12,
   "metadata": {},
   "outputs": [
    {
     "name": "stdout",
     "output_type": "stream",
     "text": [
      "1088\n"
     ]
    }
   ],
   "source": [
    "print(validation.size().getInfo())"
   ]
  },
  {
   "cell_type": "code",
   "execution_count": 13,
   "metadata": {},
   "outputs": [
    {
     "name": "stdout",
     "output_type": "stream",
     "text": [
      "Generating URL ...\n",
      "Downloading data from https://earthengine.googleapis.com/v1alpha/projects/earthengine-legacy/tables/0b186a24444e0a3c4db36b237bcdd12f-79ca7d8971f1a1e7cd32282349c855d5:getFeatures\n",
      "Please wait ...\n",
      "Data downloaded to /Users/joycelynlongdon/Desktop/Cambridge/CambridgeCoding/MRES/GEE_examples/lc_validation_data.csv\n"
     ]
    }
   ],
   "source": [
    "#Export the validation data as csv\n",
    "geemap.ee_to_csv(validation, 'lc_validation_data.csv')\n"
   ]
  },
  {
   "cell_type": "markdown",
   "metadata": {},
   "source": [
    "### Train the classifier\n",
    "\n",
    "Here we complete supervised classification using the RandomForest ensemble decision tree algorithm by [Leo Breiman and Adele Cutler](https://link.springer.com/article/10.1023/A:1010933404324).\n",
    "\n",
    "The RandomForest algorithm is popular in the field of remote sensing, and is quite fast compared to some other machine learning approaches (e.g., SVM can be quite computationally intensive). It isn't necessarily the best but provides great first step into the world of machine learning for classification and regression."
   ]
  },
  {
   "cell_type": "code",
   "execution_count": 14,
   "metadata": {},
   "outputs": [],
   "source": [
    "# Use these bands for prediction.\n",
    "bands = ['B1', 'B2', 'B3', 'B4', 'B5', 'B6', 'B7']\n",
    "\n",
    "\n",
    "# This property of the table stores the land cover labels.\n",
    "label = 'Landcover_Class'\n",
    "\n",
    "# Overlay the points on the imagery to get training.\n",
    "training = image.select(bands).sampleRegions(**{\n",
    "  'collection': training,\n",
    "  'properties': [label],\n",
    "  'scale': 30\n",
    "})\n",
    "\n",
    "# Train a Random Forest classifier with 10 decision trees (will employ hyperparameter testing outside of notebook)\n",
    "classifier = ee.Classifier.smileRandomForest(10).train(training,label,bands)"
   ]
  },
  {
   "cell_type": "code",
   "execution_count": 15,
   "metadata": {},
   "outputs": [
    {
     "name": "stdout",
     "output_type": "stream",
     "text": [
      "{'type': 'Feature', 'geometry': None, 'id': '0_0', 'properties': {'B1': 575, 'B2': 814, 'B3': 1312, 'B4': 1638, 'B5': 1980, 'B6': 2091, 'B7': 1967, 'Landcover_Class': 6}}\n"
     ]
    }
   ],
   "source": [
    "print(training.first().getInfo())"
   ]
  },
  {
   "cell_type": "code",
   "execution_count": 16,
   "metadata": {},
   "outputs": [
    {
     "name": "stdout",
     "output_type": "stream",
     "text": [
      "Generating URL ...\n",
      "Downloading data from https://earthengine.googleapis.com/v1alpha/projects/earthengine-legacy/tables/1e96f779b0c4b958f6c880525e3a9c5a-830a9bda943a2932ccf8dffa0d5085f0:getFeatures\n",
      "Please wait ...\n",
      "Data downloaded to /Users/joycelynlongdon/Desktop/Cambridge/CambridgeCoding/MRES/GEE_examples/trained_data.csv\n"
     ]
    }
   ],
   "source": [
    "#Export the data as csv\n",
    "geemap.ee_to_csv(training, 'trained_data.csv')\n"
   ]
  },
  {
   "cell_type": "markdown",
   "metadata": {},
   "source": [
    "### Classify the image"
   ]
  },
  {
   "cell_type": "code",
   "execution_count": 17,
   "metadata": {},
   "outputs": [
    {
     "data": {
      "application/vnd.jupyter.widget-view+json": {
       "model_id": "26a6038040a84fddb59467d5b9952a45",
       "version_major": 2,
       "version_minor": 0
      },
      "text/plain": [
       "Map(center=[37.75379999999999, -122.44390000000001], controls=(WidgetControl(options=['position', 'transparent…"
      ]
     },
     "metadata": {},
     "output_type": "display_data"
    }
   ],
   "source": [
    "# Classify the image with the same bands used for training.\n",
    "classified = image.select(bands).classify(classifier)\n",
    "\n",
    "# Display the clusters with random colors.\n",
    "Map.addLayer(classified.randomVisualizer(), {}, 'classfied')\n",
    "Map"
   ]
  },
  {
   "cell_type": "markdown",
   "metadata": {},
   "source": [
    "### Render categorical map\n",
    "\n",
    "To render a categorical map, we can set two image properties: `landcover_class_values` and `landcover_class_palette`. We can use the same style as the NLCD so that it is easy to compare the two maps. "
   ]
  },
  {
   "cell_type": "code",
   "execution_count": 18,
   "metadata": {},
   "outputs": [
    {
     "data": {
      "text/plain": [
       "[0, 1, 2, 3, 4, 5, 6, 7, 8, 9, 10, 11, 12, 13, 14, 15, 16, 17, 18, 19]"
      ]
     },
     "execution_count": 18,
     "metadata": {},
     "output_type": "execute_result"
    }
   ],
   "source": [
    "classValues = class_values_remap \n",
    "classValues"
   ]
  },
  {
   "cell_type": "code",
   "execution_count": 19,
   "metadata": {},
   "outputs": [
    {
     "data": {
      "text/plain": [
       "['476ba1',\n",
       " 'd1defa',\n",
       " 'decaca',\n",
       " 'd99482',\n",
       " 'ee0000',\n",
       " 'ab0000',\n",
       " 'b3aea3',\n",
       " '68ab63',\n",
       " '1c6330',\n",
       " 'b5ca8f',\n",
       " 'a68c30',\n",
       " 'ccba7d',\n",
       " 'e3e3c2',\n",
       " 'caca78',\n",
       " '99c247',\n",
       " '78ae94',\n",
       " 'dcd93d',\n",
       " 'ab7028',\n",
       " 'bad9eb',\n",
       " '70a3ba']"
      ]
     },
     "execution_count": 19,
     "metadata": {},
     "output_type": "execute_result"
    }
   ],
   "source": [
    "class_palette = nlcd.get('landcover_class_palette').getInfo()\n",
    "class_palette"
   ]
  },
  {
   "cell_type": "code",
   "execution_count": 20,
   "metadata": {},
   "outputs": [],
   "source": [
    "landcover = classified.set('classification_class_values', classValues)\n",
    "landcover = landcover.set('classification_class_palette', class_palette)"
   ]
  },
  {
   "cell_type": "code",
   "execution_count": 21,
   "metadata": {},
   "outputs": [
    {
     "data": {
      "application/vnd.jupyter.widget-view+json": {
       "model_id": "26a6038040a84fddb59467d5b9952a45",
       "version_major": 2,
       "version_minor": 0
      },
      "text/plain": [
       "Map(center=[37.75379999999999, -122.44390000000001], controls=(WidgetControl(options=['position', 'transparent…"
      ]
     },
     "metadata": {},
     "output_type": "display_data"
    }
   ],
   "source": [
    "Map.addLayer(landcover, {}, 'Land Cover Map')\n",
    "Map"
   ]
  },
  {
   "cell_type": "markdown",
   "metadata": {},
   "source": [
    "### Visualize the result"
   ]
  },
  {
   "cell_type": "code",
   "execution_count": 22,
   "metadata": {},
   "outputs": [
    {
     "name": "stdout",
     "output_type": "stream",
     "text": [
      "Change layer opacity:\n"
     ]
    },
    {
     "data": {
      "application/vnd.jupyter.widget-view+json": {
       "model_id": "8cc646b664f94f0a802a680386bed256",
       "version_major": 2,
       "version_minor": 0
      },
      "text/plain": [
       "Box(children=(FloatSlider(value=1.0, description='opacity', max=1.0),))"
      ]
     },
     "metadata": {},
     "output_type": "display_data"
    }
   ],
   "source": [
    "print('Change layer opacity:')\n",
    "cluster_layer = Map.layers[-1]\n",
    "cluster_layer.interact(opacity=(0, 1, 0.1))"
   ]
  },
  {
   "cell_type": "markdown",
   "metadata": {},
   "source": [
    "### Add a legend to the map"
   ]
  },
  {
   "cell_type": "code",
   "execution_count": 23,
   "metadata": {
    "scrolled": false
   },
   "outputs": [
    {
     "data": {
      "application/vnd.jupyter.widget-view+json": {
       "model_id": "26a6038040a84fddb59467d5b9952a45",
       "version_major": 2,
       "version_minor": 0
      },
      "text/plain": [
       "Map(center=[37.75379999999999, -122.44390000000001], controls=(WidgetControl(options=['position', 'transparent…"
      ]
     },
     "metadata": {},
     "output_type": "display_data"
    }
   ],
   "source": [
    "Map.add_legend(builtin_legend='NLCD')\n",
    "Map"
   ]
  },
  {
   "cell_type": "markdown",
   "metadata": {},
   "source": [
    "### Export the result\n",
    "\n"
   ]
  },
  {
   "cell_type": "code",
   "execution_count": 24,
   "metadata": {},
   "outputs": [
    {
     "name": "stdout",
     "output_type": "stream",
     "text": [
      "Generating URL ...\n",
      "Downloading data from https://earthengine.googleapis.com/v1alpha/projects/earthengine-legacy/thumbnails/5be35caa5e816acaa2325909f3255a2a-4d61e41b11060cc4f074467f77d0fc17:getPixels\n",
      "Please wait ...\n",
      "Data downloaded to /Users/joycelynlongdon/Desktop/Cambridge/CambridgeCoding/MRES/GEE_examples/Land_Cover_Classification.tif\n"
     ]
    }
   ],
   "source": [
    "#tif file\n",
    "geemap.ee_export_image(landcover, 'Land_Cover_Classification.tif', scale=900)"
   ]
  },
  {
   "cell_type": "markdown",
   "metadata": {},
   "source": [
    "### Assess The Accuracy\n",
    "\n",
    "A confusion matrix is used here to compare two different image grids. We will be using it primarily to compute overall accuracy between the model and the validation layer, but confusion matrices also provide explicit information about which LULC classes were classified incorrectly; not just if pixels were classified incorrectly, but what LULC they were incorrectly classified as. "
   ]
  },
  {
   "cell_type": "code",
   "execution_count": 25,
   "metadata": {},
   "outputs": [
    {
     "data": {
      "text/plain": [
       "[[384, 0, 0, 0, 0, 0, 0, 0, 1, 0, 0, 0, 0, 0, 0, 0, 0, 0, 0, 2],\n",
       " [0, 0, 0, 0, 0, 0, 0, 0, 0, 0, 0, 0, 0, 0, 0, 0, 0, 0, 0, 0],\n",
       " [0, 0, 89, 2, 0, 0, 0, 0, 1, 2, 0, 2, 3, 0, 0, 0, 0, 5, 0, 0],\n",
       " [0, 0, 0, 106, 3, 1, 0, 0, 0, 0, 0, 1, 0, 0, 0, 0, 1, 2, 0, 0],\n",
       " [0, 0, 0, 10, 127, 1, 0, 0, 0, 0, 0, 0, 0, 0, 0, 0, 0, 1, 0, 0],\n",
       " [0, 0, 0, 0, 5, 49, 1, 0, 0, 0, 0, 0, 0, 0, 0, 0, 0, 0, 0, 0],\n",
       " [0, 0, 0, 0, 0, 1, 2, 0, 0, 0, 0, 0, 0, 0, 0, 0, 0, 0, 0, 0],\n",
       " [0, 0, 0, 0, 0, 0, 0, 7, 1, 0, 0, 0, 0, 0, 0, 0, 0, 0, 0, 0],\n",
       " [0, 0, 0, 0, 0, 0, 0, 0, 183, 4, 0, 1, 1, 0, 0, 0, 0, 0, 0, 0],\n",
       " [0, 0, 0, 1, 0, 0, 0, 0, 4, 225, 0, 8, 1, 0, 0, 0, 0, 0, 0, 0],\n",
       " [0, 0, 0, 0, 0, 0, 0, 0, 0, 0, 0, 0, 0, 0, 0, 0, 0, 0, 0, 0],\n",
       " [0, 0, 0, 1, 1, 0, 0, 1, 1, 6, 0, 289, 9, 0, 0, 0, 0, 1, 0, 0],\n",
       " [0, 0, 0, 0, 0, 0, 0, 0, 0, 2, 0, 8, 380, 0, 0, 0, 0, 9, 0, 0],\n",
       " [0, 0, 0, 0, 0, 0, 0, 0, 0, 0, 0, 0, 0, 0, 0, 0, 0, 0, 0, 0],\n",
       " [0, 0, 0, 0, 0, 0, 0, 0, 0, 0, 0, 0, 0, 0, 0, 0, 0, 0, 0, 0],\n",
       " [0, 0, 0, 0, 0, 0, 0, 0, 0, 0, 0, 0, 0, 0, 0, 0, 0, 0, 0, 0],\n",
       " [0, 0, 0, 0, 0, 1, 0, 0, 0, 0, 0, 0, 0, 0, 0, 0, 15, 3, 0, 0],\n",
       " [0, 0, 0, 1, 1, 0, 0, 0, 0, 2, 0, 4, 11, 0, 0, 0, 0, 441, 0, 0],\n",
       " [0, 0, 0, 0, 0, 0, 0, 0, 0, 0, 0, 1, 0, 0, 0, 0, 0, 2, 12, 0],\n",
       " [0, 0, 0, 1, 1, 0, 0, 0, 0, 0, 0, 1, 1, 0, 0, 0, 0, 5, 0, 46]]"
      ]
     },
     "execution_count": 25,
     "metadata": {},
     "output_type": "execute_result"
    }
   ],
   "source": [
    "#Get a confusion matrix representing resubstitution accuracy.\n",
    "train_conf_matrix = classifier.confusionMatrix()\n",
    "train_conf_matrix.getInfo()\n"
   ]
  },
  {
   "cell_type": "code",
   "execution_count": 26,
   "metadata": {},
   "outputs": [
    {
     "data": {
      "text/plain": [
       "0.9438877755511023"
      ]
     },
     "execution_count": 26,
     "metadata": {},
     "output_type": "execute_result"
    }
   ],
   "source": [
    "#Get the overall train accuracy\n",
    "train_accuracy = train_conf_matrix.accuracy()\n",
    "train_accuracy.getInfo()"
   ]
  },
  {
   "cell_type": "markdown",
   "metadata": {},
   "source": [
    "The accuracy estimated from training data is an overestimate because the random forest is “fit” to the training data.\n",
    "\n",
    "To get validation accuracy, we classify the validation data.\n",
    "\n",
    "We want to ensure that the training samples are uncorrelated with the evaluation samples. This might result from spatial autocorrelation of the phenomenon being predicted. One way to exclude samples that might be correlated in this manner is to remove samples that are within some distance to any other sample(s). This can be accomplished with a spatial join:"
   ]
  },
  {
   "cell_type": "markdown",
   "metadata": {},
   "source": [
    "### Validation on NLCD Data"
   ]
  },
  {
   "cell_type": "code",
   "execution_count": 27,
   "metadata": {},
   "outputs": [],
   "source": [
    "# Overlay the points on the imagery to get validation points.\n",
    "validation = image.select(bands).sampleRegions(**{\n",
    "  'collection': validation,\n",
    "  'properties': [label],\n",
    "  'scale': 30\n",
    "})"
   ]
  },
  {
   "cell_type": "code",
   "execution_count": 28,
   "metadata": {},
   "outputs": [
    {
     "name": "stdout",
     "output_type": "stream",
     "text": [
      "{'type': 'Feature', 'geometry': None, 'id': '7_0', 'properties': {'B1': 286, 'B2': 351, 'B3': 515, 'B4': 480, 'B5': 1734, 'B6': 1518, 'B7': 1002, 'Landcover_Class': 17}}\n"
     ]
    }
   ],
   "source": [
    "print(validation.first().getInfo())"
   ]
  },
  {
   "cell_type": "code",
   "execution_count": 29,
   "metadata": {},
   "outputs": [],
   "source": [
    "validated = validation.classify(classifier)"
   ]
  },
  {
   "cell_type": "code",
   "execution_count": 30,
   "metadata": {},
   "outputs": [
    {
     "name": "stdout",
     "output_type": "stream",
     "text": [
      "Generating URL ...\n",
      "Downloading data from https://earthengine.googleapis.com/v1alpha/projects/earthengine-legacy/tables/d4bd218d2bb04db4caaec1418cc91dee-588c21c7e651dcc3baefabd5bc726605:getFeatures\n",
      "Please wait ...\n",
      "Data downloaded to /Users/joycelynlongdon/Desktop/Cambridge/CambridgeCoding/MRES/GEE_examples/validated_data.csv\n"
     ]
    }
   ],
   "source": [
    "#Export the data as csv\n",
    "geemap.ee_to_csv(validated, 'validated_data.csv')"
   ]
  },
  {
   "cell_type": "code",
   "execution_count": 31,
   "metadata": {},
   "outputs": [
    {
     "data": {
      "text/plain": [
       "[[158, 0, 1, 0, 2, 0, 0, 0, 0, 0, 0, 0, 0, 0, 0, 0, 0, 1, 0, 2],\n",
       " [0, 0, 0, 0, 0, 0, 0, 0, 0, 0, 0, 0, 0, 0, 0, 0, 0, 0, 0, 0],\n",
       " [0, 0, 6, 5, 1, 0, 0, 0, 6, 10, 0, 6, 10, 0, 0, 0, 0, 12, 0, 0],\n",
       " [0, 0, 2, 17, 11, 2, 0, 0, 0, 2, 0, 3, 1, 0, 0, 0, 0, 15, 0, 0],\n",
       " [1, 0, 2, 20, 41, 9, 0, 0, 0, 0, 0, 0, 3, 0, 0, 0, 0, 4, 0, 0],\n",
       " [0, 0, 0, 1, 6, 12, 0, 0, 0, 0, 0, 0, 0, 0, 0, 0, 0, 0, 0, 0],\n",
       " [0, 0, 0, 0, 0, 0, 0, 0, 0, 0, 0, 0, 1, 0, 0, 0, 0, 0, 0, 0],\n",
       " [0, 0, 1, 0, 0, 0, 0, 0, 0, 0, 0, 0, 0, 0, 0, 0, 0, 0, 0, 0],\n",
       " [0, 0, 1, 1, 0, 0, 0, 1, 61, 20, 0, 1, 0, 0, 0, 0, 0, 4, 0, 0],\n",
       " [0, 0, 3, 0, 0, 0, 0, 0, 27, 47, 0, 19, 3, 0, 0, 0, 0, 5, 0, 0],\n",
       " [0, 0, 0, 0, 0, 0, 0, 0, 0, 0, 0, 0, 0, 0, 0, 0, 0, 0, 0, 0],\n",
       " [0, 0, 1, 4, 1, 1, 0, 0, 8, 30, 0, 53, 19, 0, 0, 0, 0, 8, 0, 1],\n",
       " [0, 0, 4, 1, 1, 1, 0, 0, 2, 3, 0, 24, 111, 0, 0, 0, 0, 25, 0, 0],\n",
       " [0, 0, 0, 0, 0, 0, 0, 0, 0, 0, 0, 0, 0, 0, 0, 0, 0, 0, 0, 0],\n",
       " [0, 0, 0, 0, 0, 0, 0, 0, 0, 0, 0, 0, 0, 0, 0, 0, 0, 0, 0, 0],\n",
       " [0, 0, 0, 0, 0, 0, 0, 0, 0, 0, 0, 0, 0, 0, 0, 0, 0, 0, 0, 0],\n",
       " [0, 0, 0, 1, 0, 1, 0, 0, 0, 0, 0, 0, 2, 0, 0, 0, 1, 4, 0, 0],\n",
       " [0, 0, 7, 10, 5, 0, 0, 0, 4, 0, 0, 20, 24, 0, 0, 0, 0, 123, 0, 2],\n",
       " [0, 0, 0, 0, 0, 0, 0, 0, 0, 0, 0, 0, 0, 0, 0, 0, 0, 0, 0, 0],\n",
       " [2, 0, 0, 2, 0, 1, 0, 0, 0, 0, 0, 2, 0, 0, 0, 0, 0, 5, 0, 5]]"
      ]
     },
     "execution_count": 31,
     "metadata": {},
     "output_type": "execute_result"
    }
   ],
   "source": [
    "#Get a confusion matrix representing resubstitution accuracy.\n",
    "#errorMatrix computes a 2D error matrix for a collection by comparing two columns \n",
    "#of a collection: one containing the actual values, and one containing predicted values.\n",
    "test_conf_matrix = validated.errorMatrix('Landcover_Class', 'classification')\n",
    "test_conf_matrix.getInfo()\n"
   ]
  },
  {
   "cell_type": "code",
   "execution_count": 32,
   "metadata": {},
   "outputs": [
    {
     "data": {
      "text/plain": [
       "0.5847145488029466"
      ]
     },
     "execution_count": 32,
     "metadata": {},
     "output_type": "execute_result"
    }
   ],
   "source": [
    "#Get the overall test accuracy\n",
    "test_accuracy = test_conf_matrix.accuracy()\n",
    "test_accuracy.getInfo()"
   ]
  },
  {
   "cell_type": "markdown",
   "metadata": {},
   "source": [
    "The model does not perform too well on data it hasn't seen before. Hyperparameter testing will need to be performed to improve this performance."
   ]
  },
  {
   "cell_type": "markdown",
   "metadata": {},
   "source": [
    "## Validation on AOI (Mai Ndombe)"
   ]
  },
  {
   "cell_type": "markdown",
   "metadata": {},
   "source": [
    "#### Set-Up Data for first time period for AOI"
   ]
  },
  {
   "cell_type": "code",
   "execution_count": 33,
   "metadata": {},
   "outputs": [],
   "source": [
    "'''\n",
    "#Adding AOI GeoJSON\n",
    "file_path = os.path.abspath('/Users/joycelynlongdon/Desktop/Cambridge/CambridgeCoding/MRES/GEE_examples/mai_ndombe.json')\n",
    "\n",
    "with open(file_path) as f:\n",
    "    json_data = json.load(f)\n",
    "\n",
    "mai_ndombe = GeoJSON(data=json_data, name='Mai_Ndombe')\n",
    "'''\n",
    "\n",
    "#include aoi region\n",
    "file_path = os.path.abspath('/Users/joycelynlongdon/Desktop/Cambridge/CambridgeCoding/MRES/GEE_examples/mai_ndombe_poly.json')\n",
    "\n",
    "with open(file_path) as f:\n",
    "    aoi_poly = json.load(f)\n",
    "\n",
    "aoi = ee.Geometry.Polygon(aoi_poly)\n"
   ]
  },
  {
   "cell_type": "code",
   "execution_count": 36,
   "metadata": {},
   "outputs": [
    {
     "data": {
      "application/vnd.jupyter.widget-view+json": {
       "model_id": "26a6038040a84fddb59467d5b9952a45",
       "version_major": 2,
       "version_minor": 0
      },
      "text/plain": [
       "Map(bottom=33432.0, center=[-2, 18.329999999999995], controls=(WidgetControl(options=['position', 'transparent…"
      ]
     },
     "metadata": {},
     "output_type": "display_data"
    }
   ],
   "source": [
    "point = ee.Geometry.Point(18.3300, -2.00)\n",
    "pointBuffer = point.buffer(100000)\n",
    "#making a cloud free Landsat 8 Surface Reflectance Composite\n",
    "image_aoi = ee.ImageCollection('LANDSAT/LC08/C01/T1_SR').filterBounds(point).filterDate('2016-01-01', '2016-12-31').sort('CLOUD_COVER').first().select('B[1-7]')\n",
    "\n",
    "#taking out any remaining cloud cover with the bitmask QA band\n",
    "#qa = image.select('pixel_qa')\n",
    "#cloudMask = qa.bitwiseAnd(1<<5).eq(0)\n",
    "#.and(qa.bitwiseAnd(1<<3).eq(0))\n",
    "#masked = image.updateMask(cloudMask).clip(bounds)\n",
    "\n",
    "vis_params = {\n",
    "    'min': 0,\n",
    "    'max': 3000,\n",
    "    'bands': ['B5', 'B4', 'B3']\n",
    "}\n",
    "\n",
    "Map.centerObject(point, 8)\n",
    "Map.addLayer(image_aoi, vis_params, \"Landsat-8\")\n",
    "Map"
   ]
  },
  {
   "cell_type": "code",
   "execution_count": 40,
   "metadata": {},
   "outputs": [
    {
     "name": "stdout",
     "output_type": "stream",
     "text": [
      "ee_object must be an ee.FeatureCollection\n"
     ]
    }
   ],
   "source": [
    "aoi_class = image_aoi.classify(classifier)\n",
    "geemap.ee_to_csv(aoi_class, 'aoi_data.csv')"
   ]
  },
  {
   "cell_type": "code",
   "execution_count": null,
   "metadata": {},
   "outputs": [],
   "source": [
    "Map.addLayer(aoi_class, vis_params, \"AOI Classification\")"
   ]
  }
 ],
 "metadata": {
  "hide_input": false,
  "kernelspec": {
   "display_name": "Python 3",
   "language": "python",
   "name": "python3"
  },
  "language_info": {
   "codemirror_mode": {
    "name": "ipython",
    "version": 3
   },
   "file_extension": ".py",
   "mimetype": "text/x-python",
   "name": "python",
   "nbconvert_exporter": "python",
   "pygments_lexer": "ipython3",
   "version": "3.7.0"
  },
  "toc": {
   "base_numbering": 1,
   "nav_menu": {},
   "number_sections": true,
   "sideBar": true,
   "skip_h1_title": true,
   "title_cell": "Table of Contents",
   "title_sidebar": "Table of Contents",
   "toc_cell": false,
   "toc_position": {
    "height": "calc(100% - 180px)",
    "left": "10px",
    "top": "150px",
    "width": "384px"
   },
   "toc_section_display": true,
   "toc_window_display": false
  },
  "varInspector": {
   "cols": {
    "lenName": 16,
    "lenType": 16,
    "lenVar": 40
   },
   "kernels_config": {
    "python": {
     "delete_cmd_postfix": "",
     "delete_cmd_prefix": "del ",
     "library": "var_list.py",
     "varRefreshCmd": "print(var_dic_list())"
    },
    "r": {
     "delete_cmd_postfix": ") ",
     "delete_cmd_prefix": "rm(",
     "library": "var_list.r",
     "varRefreshCmd": "cat(var_dic_list()) "
    }
   },
   "types_to_exclude": [
    "module",
    "function",
    "builtin_function_or_method",
    "instance",
    "_Feature"
   ],
   "window_display": false
  }
 },
 "nbformat": 4,
 "nbformat_minor": 4
}
