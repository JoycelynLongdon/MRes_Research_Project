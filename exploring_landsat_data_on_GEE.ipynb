{
 "cells": [
  {
   "cell_type": "markdown",
   "id": "ddadaadd",
   "metadata": {},
   "source": [
    "# Exploring Landsat Data and GEE"
   ]
  },
  {
   "cell_type": "code",
   "execution_count": 4,
   "id": "e987e49a",
   "metadata": {},
   "outputs": [],
   "source": [
    "#imports\n",
    "\n",
    "import ee\n",
    "import geemap\n",
    "from geemap import *\n",
    "import json\n",
    "from geemap import geojson_to_ee, ee_to_geojson\n",
    "from ipyleaflet import GeoJSON\n",
    "import os"
   ]
  },
  {
   "cell_type": "markdown",
   "id": "c98b9f40",
   "metadata": {},
   "source": [
    "### Visualisation"
   ]
  },
  {
   "cell_type": "code",
   "execution_count": 5,
   "id": "83be5c3d",
   "metadata": {},
   "outputs": [
    {
     "data": {
      "application/vnd.jupyter.widget-view+json": {
       "model_id": "6eca77f8509e42fda38a6dd22c0419b9",
       "version_major": 2,
       "version_minor": 0
      },
      "text/plain": [
       "Map(center=[40, -100], controls=(WidgetControl(options=['position', 'transparent_bg'], widget=HBox(children=(T…"
      ]
     },
     "metadata": {},
     "output_type": "display_data"
    }
   ],
   "source": [
    "Map = geemap.Map()\n",
    "Map"
   ]
  },
  {
   "cell_type": "code",
   "execution_count": 6,
   "id": "361143bd",
   "metadata": {},
   "outputs": [
    {
     "data": {
      "application/vnd.jupyter.widget-view+json": {
       "model_id": "6eca77f8509e42fda38a6dd22c0419b9",
       "version_major": 2,
       "version_minor": 0
      },
      "text/plain": [
       "Map(center=[-0.66667, 28.75], controls=(WidgetControl(options=['position', 'transparent_bg'], widget=HBox(chil…"
      ]
     },
     "metadata": {},
     "output_type": "display_data"
    }
   ],
   "source": [
    "#adding Landsat8 data to the Map\n",
    "landsat_8 = ee.ImageCollection(\"LANDSAT/LC08/C01/T1_TOA\").filterDate('2013-09-01', '2014-05-31') #filtered for the wet seasons\n",
    "\n",
    "#define visualisation parameters\n",
    "image_vis_params = {\n",
    "    'bands': ['B4', 'B3', 'B2'], #red, green, blue bands\n",
    "    'max': 0.25 #reflectance\n",
    "} \n",
    "\n",
    "#set map centre\n",
    "Map.setCenter(28.75, -0.66667, 8) #centering map on North Kivu Region, DRC\n",
    "\n",
    "#display imagery\n",
    "Map.addLayer(landsat_8,image_vis_params , 'Landsat True Colour Composite')\n",
    "#finding out the data type\n",
    "#print('landsat_8', landsat_8 )\n",
    "Map"
   ]
  },
  {
   "cell_type": "code",
   "execution_count": 13,
   "id": "6b46e089",
   "metadata": {},
   "outputs": [],
   "source": [
    "#Adding AOI GeoJSON\n",
    "file_path = os.path.abspath('/Users/joycelynlongdon/Desktop/Cambridge/CambridgeCoding/MRES/GEE_examples/north_kivu.json')\n",
    "\n",
    "with open(file_path) as f:\n",
    "    json_data = json.load(f)\n",
    "\n",
    "north_kivu_DRC = GeoJSON(data=json_data, name='North_Kivu_Region')\n",
    "Map.add_layer(north_kivu_DRC)\n"
   ]
  },
  {
   "cell_type": "code",
   "execution_count": null,
   "id": "f47180e3",
   "metadata": {},
   "outputs": [],
   "source": [
    "#retrieving the image in the collection with the least cloud cover\n",
    "#sorted = landsat_8.sort('CLOUD_COVER')\n",
    "#scene = sorted.first()\n",
    "#Map.addLayer(scene, {}, 'default RGB');\n"
   ]
  },
  {
   "cell_type": "markdown",
   "id": "b2c8e2e4",
   "metadata": {},
   "source": [
    "### Compositing, Masking, and Mosaicking\n"
   ]
  },
  {
   "cell_type": "markdown",
   "id": "02bd5637",
   "metadata": {},
   "source": [
    "#### Compositing with Reducers\n",
    "\n",
    "- Reducing an image collection to an image is a temporal reduction when the collection represents images over time. \n",
    "\n",
    "- Landsat 8 visits the same spot on the Earth every 16 days. That means that over a 6 month period, there will be approximately 12 images (and more where the scenes overlap)\n",
    "\n",
    "- Merely adding the collection to the map results in selecting the most recent pixel - the one from the latest image in the stack.\n",
    "\n",
    "- Rather than take the most recent pixel from the stack, Earth Engine can be instructed to pick the median value in the stack. \n",
    "\n",
    "- This has the benefit of removing clouds (which have a high value) and shadows (which have a low value).\n",
    "\n",
    "- When an image collection is reduced using the median reducer, the composite value is the median in each band, over time."
   ]
  },
  {
   "cell_type": "code",
   "execution_count": 8,
   "id": "37edf2f8",
   "metadata": {},
   "outputs": [
    {
     "data": {
      "application/vnd.jupyter.widget-view+json": {
       "model_id": "e38b45a3a41f4ef690e8792b23b3dbcb",
       "version_major": 2,
       "version_minor": 0
      },
      "text/plain": [
       "Map(bottom=33189.0, center=[-0.66667, 28.75], controls=(WidgetControl(options=['position', 'transparent_bg'], …"
      ]
     },
     "metadata": {},
     "output_type": "display_data"
    }
   ],
   "source": [
    "#Get the median over time, in each band, in each pixel\n",
    "median = landsat_8.median()\n",
    "\n",
    "#define visualisation parameters\n",
    "image_vis_params = {\n",
    "    'bands': ['B4', 'B3', 'B2'], #red, green, blue bands\n",
    "    'max': 0.25 #reflectance\n",
    "} \n",
    "\n",
    "#display the median composit\n",
    "Map.addLayer(median, image_vis_params, 'median')\n",
    "\n",
    "Map.setCenter(28.75, -0.66667, 8) #centering map on North Kivu Region, DRC\n",
    "\n",
    "Map"
   ]
  },
  {
   "cell_type": "markdown",
   "id": "aae97ce1",
   "metadata": {},
   "source": [
    "#### Creating a simple cloud-free composite\n"
   ]
  },
  {
   "cell_type": "code",
   "execution_count": 9,
   "id": "e68c4de0",
   "metadata": {},
   "outputs": [
    {
     "data": {
      "text/plain": [
       "\"\\n#create a cloud free composite with defualt parameters\\ncomposite = ee.Algorithms.Landsat.simpleComposite(landsat_8)\\n\\n#create a cloud free composite with custom parameters\\ncustomComposite = ee.Algorithms.Landsat.simpleComposite({landsat_8: landsat_8,percentile: 75,cloudScoreRange: 5\\n})\\n\\n#display the composites\\nMap.addLayer(composite, {bands: ['B4', 'B3', 'B2'], max: 128}, 'TOA composite')\\nMap.addLayer(customComposite, {bands: ['B4', 'B3', 'B2'], max: 128},'Custom TOA composite')\\nMap.setCenter(28.75, -0.66667, 8) #centering map on North Kivu Region, DRC\\nMap\\n\""
      ]
     },
     "execution_count": 9,
     "metadata": {},
     "output_type": "execute_result"
    }
   ],
   "source": [
    "'''\n",
    "#create a cloud free composite with defualt parameters\n",
    "composite = ee.Algorithms.Landsat.simpleComposite(landsat_8)\n",
    "\n",
    "#create a cloud free composite with custom parameters\n",
    "customComposite = ee.Algorithms.Landsat.simpleComposite({landsat_8: landsat_8,percentile: 75,cloudScoreRange: 5\n",
    "})\n",
    "\n",
    "#display the composites\n",
    "Map.addLayer(composite, {bands: ['B4', 'B3', 'B2'], max: 128}, 'TOA composite')\n",
    "Map.addLayer(customComposite, {bands: ['B4', 'B3', 'B2'], max: 128},'Custom TOA composite')\n",
    "Map.setCenter(28.75, -0.66667, 8) #centering map on North Kivu Region, DRC\n",
    "Map\n",
    "''' "
   ]
  },
  {
   "cell_type": "markdown",
   "id": "7a7e52da",
   "metadata": {},
   "source": [
    "### Forest Change Analysis"
   ]
  },
  {
   "cell_type": "code",
   "execution_count": 10,
   "id": "e3ca7d0d",
   "metadata": {},
   "outputs": [
    {
     "data": {
      "application/vnd.jupyter.widget-view+json": {
       "model_id": "e38b45a3a41f4ef690e8792b23b3dbcb",
       "version_major": 2,
       "version_minor": 0
      },
      "text/plain": [
       "Map(bottom=33189.0, center=[-0.66667, 28.75], controls=(WidgetControl(options=['position', 'transparent_bg'], …"
      ]
     },
     "metadata": {},
     "output_type": "display_data"
    }
   ],
   "source": [
    "#importing the Hansen Global Forest Change Dataset\n",
    "gfc2013 = ee.Image('UMD/hansen/global_forest_change_2014')\n",
    "Map.addLayer(gfc2013, {}, \"UMD/hansen/global_forest_change_2014\")\n",
    "Map"
   ]
  },
  {
   "cell_type": "markdown",
   "id": "bd55356e",
   "metadata": {},
   "source": [
    "The reason the image looks red is that the first three bands are treecover2000, loss, and gain. The treecover2000 band is expressed as a percent and has values much higher than loss (green) and gain (blue) which are binary ({0, 1}). The image therefore displays as overwhelmingly red.\n",
    "\n",
    "You can find the full band list at: https://developers.google.com/earth-engine/tutorials/tutorial_forest_02"
   ]
  },
  {
   "cell_type": "code",
   "execution_count": 11,
   "id": "9e11eb8f",
   "metadata": {
    "scrolled": true
   },
   "outputs": [
    {
     "data": {
      "application/vnd.jupyter.widget-view+json": {
       "model_id": "e38b45a3a41f4ef690e8792b23b3dbcb",
       "version_major": 2,
       "version_minor": 0
      },
      "text/plain": [
       "Map(bottom=33189.0, center=[-0.66667, 28.75], controls=(WidgetControl(options=['position', 'transparent_bg'], …"
      ]
     },
     "metadata": {},
     "output_type": "display_data"
    }
   ],
   "source": [
    "#putting everything together\n",
    "treeCover = gfc2013.select(['treecover2000'])\n",
    "lossImage = gfc2013.select(['loss'])\n",
    "gainImage = gfc2013.select(['gain'])\n",
    "\n",
    "#Add the tree cover layer in green.\n",
    "Map.addLayer(treeCover.mask(treeCover),\n",
    "    {'palette': ['000000', '00FF00'], 'max': 100}, 'Forest Cover')\n",
    "\n",
    "#Add the loss layer in red.\n",
    "Map.addLayer(lossImage.mask(lossImage),\n",
    "            {'palette': ['FF0000']}, 'Loss')\n",
    "\n",
    "#Add the gain layer in blue.\n",
    "Map.addLayer(gainImage.mask(gainImage),\n",
    "            {'palette': ['0000FF']}, 'Gain')\n",
    "\n",
    "Map.setCenter(28.75, -0.66667, 8) #centering map on North Kivu Region, DRC\n",
    "\n",
    "\n",
    "Map"
   ]
  },
  {
   "cell_type": "markdown",
   "id": "988e12da",
   "metadata": {},
   "source": [
    "### Quantifying Forest Change"
   ]
  },
  {
   "cell_type": "markdown",
   "id": "5dc1b92d",
   "metadata": {},
   "source": [
    "The Hansen et al. dataset has a band whose pixels are 1 where loss occurred and 0 otherwise (loss) and a band that is 1 where gain has occurred and a 0 otherwise (gain).\n",
    "\n",
    "The key method for calculating statistics in an image region in GEE is reduceRegion(). For example, suppose we want to calculate the number of pixels estimated to represent forest loss during the study period. "
   ]
  },
  {
   "cell_type": "code",
   "execution_count": 14,
   "id": "90a07730",
   "metadata": {},
   "outputs": [
    {
     "ename": "EEException",
     "evalue": "Invalid argument for ee.Reducer(): ({'reducer': <ee.Reducer object at 0x7fcc9b11cb00>, 'geometry': GeoJSON(data={'type': 'FeatureCollection', 'features': [{'type': 'Feature', 'properties': {}, 'geometry': {'type': 'Polygon', 'coordinates': [[[29.970703124999996, 0.7415564444349354], [29.904785156249996, 0.8129610018708315], [29.8553466796875, 0.8074683870228081], [29.827880859375, 0.8733792609738106], [29.838867187500004, 0.9337965488500297], [29.783935546874996, 0.9008417889908868], [29.7235107421875, 0.8898568022677679], [29.696044921875, 0.8514090937773031], [29.6246337890625, 0.884364296613886], [29.619140624999996, 0.856901647439813], [29.608154296874996, 0.8349313860427184], [29.520263671875, 0.8459165322899798], [29.5037841796875, 0.8129610018708315], [29.50927734375, 0.7690198781221326], [29.4708251953125, 0.7909904981540058], [29.448852539062504, 0.8294388013837057], [29.3829345703125, 0.7745125438579877], [29.344482421875, 0.7086000996551165], [29.454345703125, 0.6207153969631366], [29.377441406249996, 0.5932511181408705], [29.300537109374996, 0.6591651462894632], [29.262084960937504, 0.5822653680900857], [29.234619140625004, 0.6207153969631366], [29.152221679687496, 0.6701507351859315], [28.970947265625, 0.5493079911125155], [28.8665771484375, 0.5712795966325395], [28.778686523437504, 0.5657867030024479], [28.67431640625, 0.5657867030024479], [28.5699462890625, 0.5053645409603004], [28.5040283203125, 0.5383221578577205], [28.4930419921875, 0.5822653680900857], [28.350219726562496, 0.6811362994451233], [28.223876953125, 0.6811362994451233], [28.108520507812496, 0.653672342728431], [28.004150390625, 0.615222552406841], [27.938232421875, 0.6097297021959899], [27.806396484374996, 0.5273363048115169], [27.8448486328125, 0.4943786309629956], [27.982177734375, 0.4888856691231101], [28.0645751953125, 0.35705335302470415], [28.092041015625, 0.3076157096439005], [28.1414794921875, 0.24169850190165], [28.179931640625, 0.17028783523693297], [28.157958984375, 0.13183582116662096], [28.125, 0.10437005946680143], [28.1304931640625, -0.1867672473697175], [28.10302734375, -0.24169850190163725], [27.954711914062496, -0.34057416628374637], [27.9986572265625, -0.4724067568442892], [27.954711914062496, -0.5053645409602877], [27.927246093749996, -0.5877582458165641], [27.850341796875, -0.615222552406841], [27.79541015625, -0.7470491450051796], [27.7679443359375, -0.884364296613886], [27.713012695312496, -0.9008417889908868], [27.5372314453125, -0.8898568022677551], [27.3944091796875, -0.961258613197397], [27.333984375, -0.961258613197397], [27.279052734375, -1.0051974541602615], [27.279052734375, -1.0875811671623443], [27.333984375, -1.18094664760652], [27.2515869140625, -1.191930620381516], [27.350463867187496, -1.312751340599985], [27.350463867187496, -1.4006173190275208], [27.4163818359375, -1.4500404973607948], [27.443847656249996, -1.4500404973607948], [27.4603271484375, -1.4774973547127075], [27.531738281249996, -1.5763391859789206], [27.5372314453125, -1.625758360412755], [27.59765625, -1.691648704756987], [27.630615234375, -1.691648704756987], [27.696533203125, -1.7520462233579808], [27.713012695312496, -1.7740084780891991], [27.7349853515625, -1.790479998207114], [27.7569580078125, -1.7959704720862544], [27.806396484374996, -1.834403324493515], [27.8118896484375, -1.8673451129219134], [27.8009033203125, -1.922246716098091], [27.8009033203125, -1.9936161531854508], [27.833862304687496, -2.00459579470075], [27.872314453125, -1.9936161531854508], [27.9107666015625, -1.9826364384297377], [27.9766845703125, -2.00459579470075], [28.114013671875, -1.9936161531854508], [28.1744384765625, -2.0430239574220272], [28.223876953125, -2.05949288957668], [28.2073974609375, -1.99910598312332], [28.388671875, -1.99910598312332], [28.410644531249996, -1.9881263049374718], [28.4051513671875, -1.916756634399981], [28.4765625, -1.8783255723852057], [28.5205078125, -1.9057764182382697], [28.6083984375, -1.8893059628373186], [28.6468505859375, -1.8893059628373186], [28.668823242187496, -1.834403324493515], [28.657836914062504, -1.7740084780891991], [28.7017822265625, -1.7685179387242826], [28.729248046875, -1.7959704720862544], [28.773193359374996, -1.7685179387242826], [28.828124999999996, -1.7685179387242826], [28.855590820312496, -1.7136116598836224], [28.905029296875, -1.7300837111164604], [28.976440429687496, -1.669685500986571], [29.0093994140625, -1.669685500986571], [29.036865234375, -1.6037944300589726], [29.086303710937504, -1.6147764249054963], [29.146728515625, -1.6587038068676119], [29.190673828124996, -1.6971394669749607], [29.207153320312504, -1.7300837111164604], [29.2510986328125, -1.691648704756987], [29.2510986328125, -1.6477220517969224], [29.300537109374996, -1.6037944300589726], [29.338989257812496, -1.537901237431487], [29.432373046874996, -1.537901237431487], [29.4818115234375, -1.4774973547127075], [29.520263671875, -1.4006173190275208], [29.580688476562496, -1.3951257897508238], [29.586181640625, -1.2962761196418089], [29.597167968750004, -1.208406497271858], [29.5751953125, -1.1315182387740395], [29.580688476562496, -1.0326589311777759], [29.580688476562496, -0.9887204566941844], [29.5916748046875, -0.9173192068570714], [29.635620117187496, -0.8953492997435784], [29.64111328125, -0.8294388013837057], [29.619140624999996, -0.7800052024755708], [29.619140624999996, -0.7250783020332547], [29.64111328125, -0.6426867176331666], [29.646606445312496, -0.5987439850125229], [29.6685791015625, -0.5602938041720732], [29.663085937499996, -0.5108574890167433], [29.663085937499996, -0.47789973201326874], [29.6795654296875, -0.3460672317284577], [29.7344970703125, -0.03295898255728466], [29.718017578125004, 0.016479491960279726], [29.718017578125004, 0.0769042737833478], [29.729003906249996, 0.12084951976866681], [29.761962890625, 0.17028783523693297], [29.783935546874996, 0.17028783523693297], [29.81689453125, 0.17028783523693297], [29.8333740234375, 0.2856433479945185], [29.871826171875, 0.3900116365329134], [29.9871826171875, 0.5163504323777589], [29.9871826171875, 0.5932511181408705], [29.959716796875004, 0.6317010689101341], [29.970703124999996, 0.7415564444349354]]]}}]}, name='North_Kivu_Region'), 'scale': 30},).  Must be a ComputedObject.",
     "output_type": "error",
     "traceback": [
      "\u001b[0;31m---------------------------------------------------------------------------\u001b[0m",
      "\u001b[0;31mEEException\u001b[0m                               Traceback (most recent call last)",
      "\u001b[0;32m<ipython-input-14-68cc0740909d>\u001b[0m in \u001b[0;36m<module>\u001b[0;34m\u001b[0m\n\u001b[1;32m      3\u001b[0m   \u001b[0;34m'reducer'\u001b[0m\u001b[0;34m:\u001b[0m \u001b[0mee\u001b[0m\u001b[0;34m.\u001b[0m\u001b[0mReducer\u001b[0m\u001b[0;34m.\u001b[0m\u001b[0msum\u001b[0m\u001b[0;34m(\u001b[0m\u001b[0;34m)\u001b[0m\u001b[0;34m,\u001b[0m\u001b[0;34m\u001b[0m\u001b[0m\n\u001b[1;32m      4\u001b[0m   \u001b[0;34m'geometry'\u001b[0m\u001b[0;34m:\u001b[0m \u001b[0mnorth_kivu_DRC\u001b[0m\u001b[0;34m,\u001b[0m\u001b[0;34m\u001b[0m\u001b[0m\n\u001b[0;32m----> 5\u001b[0;31m   \u001b[0;34m'scale'\u001b[0m\u001b[0;34m:\u001b[0m \u001b[0;36m30\u001b[0m\u001b[0;34m\u001b[0m\u001b[0m\n\u001b[0m\u001b[1;32m      6\u001b[0m });\n\u001b[1;32m      7\u001b[0m \u001b[0mprint\u001b[0m\u001b[0;34m(\u001b[0m\u001b[0mstats\u001b[0m\u001b[0;34m)\u001b[0m\u001b[0;34m;\u001b[0m\u001b[0;34m\u001b[0m\u001b[0m\n",
      "\u001b[0;32m~/opt/anaconda3/envs/GEEenv/lib/python3.7/site-packages/ee/apifunction.py\u001b[0m in \u001b[0;36m<lambda>\u001b[0;34m(*args, **kwargs)\u001b[0m\n\u001b[1;32m    203\u001b[0m         \u001b[0;32mdef\u001b[0m \u001b[0mMakeBoundFunction\u001b[0m\u001b[0;34m(\u001b[0m\u001b[0mfunc\u001b[0m\u001b[0;34m)\u001b[0m\u001b[0;34m:\u001b[0m\u001b[0;34m\u001b[0m\u001b[0m\n\u001b[1;32m    204\u001b[0m           \u001b[0;31m# We need the lambda to capture \"func\" from the enclosing scope.\u001b[0m\u001b[0;34m\u001b[0m\u001b[0;34m\u001b[0m\u001b[0m\n\u001b[0;32m--> 205\u001b[0;31m           \u001b[0;32mreturn\u001b[0m \u001b[0;32mlambda\u001b[0m \u001b[0;34m*\u001b[0m\u001b[0margs\u001b[0m\u001b[0;34m,\u001b[0m \u001b[0;34m**\u001b[0m\u001b[0mkwargs\u001b[0m\u001b[0;34m:\u001b[0m \u001b[0mfunc\u001b[0m\u001b[0;34m.\u001b[0m\u001b[0mcall\u001b[0m\u001b[0;34m(\u001b[0m\u001b[0;34m*\u001b[0m\u001b[0margs\u001b[0m\u001b[0;34m,\u001b[0m \u001b[0;34m**\u001b[0m\u001b[0mkwargs\u001b[0m\u001b[0;34m)\u001b[0m  \u001b[0;31m# pylint: disable=unnecessary-lambda\u001b[0m\u001b[0;34m\u001b[0m\u001b[0m\n\u001b[0m\u001b[1;32m    206\u001b[0m         \u001b[0mbound_function\u001b[0m \u001b[0;34m=\u001b[0m \u001b[0mMakeBoundFunction\u001b[0m\u001b[0;34m(\u001b[0m\u001b[0mapi_func\u001b[0m\u001b[0;34m)\u001b[0m\u001b[0;34m\u001b[0m\u001b[0m\n\u001b[1;32m    207\u001b[0m \u001b[0;34m\u001b[0m\u001b[0m\n",
      "\u001b[0;32m~/opt/anaconda3/envs/GEEenv/lib/python3.7/site-packages/ee/function.py\u001b[0m in \u001b[0;36mcall\u001b[0;34m(self, *args, **kwargs)\u001b[0m\n\u001b[1;32m     65\u001b[0m       \u001b[0mto\u001b[0m \u001b[0mthat\u001b[0m \u001b[0mtype\u001b[0m\u001b[0;34m.\u001b[0m\u001b[0;34m\u001b[0m\u001b[0m\n\u001b[1;32m     66\u001b[0m     \"\"\"\n\u001b[0;32m---> 67\u001b[0;31m     \u001b[0;32mreturn\u001b[0m \u001b[0mself\u001b[0m\u001b[0;34m.\u001b[0m\u001b[0mapply\u001b[0m\u001b[0;34m(\u001b[0m\u001b[0mself\u001b[0m\u001b[0;34m.\u001b[0m\u001b[0mnameArgs\u001b[0m\u001b[0;34m(\u001b[0m\u001b[0margs\u001b[0m\u001b[0;34m,\u001b[0m \u001b[0mkwargs\u001b[0m\u001b[0;34m)\u001b[0m\u001b[0;34m)\u001b[0m\u001b[0;34m\u001b[0m\u001b[0m\n\u001b[0m\u001b[1;32m     68\u001b[0m \u001b[0;34m\u001b[0m\u001b[0m\n\u001b[1;32m     69\u001b[0m   \u001b[0;32mdef\u001b[0m \u001b[0mapply\u001b[0m\u001b[0;34m(\u001b[0m\u001b[0mself\u001b[0m\u001b[0;34m,\u001b[0m \u001b[0mnamed_args\u001b[0m\u001b[0;34m)\u001b[0m\u001b[0;34m:\u001b[0m\u001b[0;34m\u001b[0m\u001b[0m\n",
      "\u001b[0;32m~/opt/anaconda3/envs/GEEenv/lib/python3.7/site-packages/ee/function.py\u001b[0m in \u001b[0;36mapply\u001b[0;34m(self, named_args)\u001b[0m\n\u001b[1;32m     78\u001b[0m       \u001b[0mto\u001b[0m \u001b[0mthat\u001b[0m \u001b[0mtype\u001b[0m\u001b[0;34m.\u001b[0m\u001b[0;34m\u001b[0m\u001b[0m\n\u001b[1;32m     79\u001b[0m     \"\"\"\n\u001b[0;32m---> 80\u001b[0;31m     \u001b[0mresult\u001b[0m \u001b[0;34m=\u001b[0m \u001b[0mcomputedobject\u001b[0m\u001b[0;34m.\u001b[0m\u001b[0mComputedObject\u001b[0m\u001b[0;34m(\u001b[0m\u001b[0mself\u001b[0m\u001b[0;34m,\u001b[0m \u001b[0mself\u001b[0m\u001b[0;34m.\u001b[0m\u001b[0mpromoteArgs\u001b[0m\u001b[0;34m(\u001b[0m\u001b[0mnamed_args\u001b[0m\u001b[0;34m)\u001b[0m\u001b[0;34m)\u001b[0m\u001b[0;34m\u001b[0m\u001b[0m\n\u001b[0m\u001b[1;32m     81\u001b[0m     \u001b[0;32mreturn\u001b[0m \u001b[0mFunction\u001b[0m\u001b[0;34m.\u001b[0m\u001b[0m_promoter\u001b[0m\u001b[0;34m(\u001b[0m\u001b[0mresult\u001b[0m\u001b[0;34m,\u001b[0m \u001b[0mself\u001b[0m\u001b[0;34m.\u001b[0m\u001b[0mgetReturnType\u001b[0m\u001b[0;34m(\u001b[0m\u001b[0;34m)\u001b[0m\u001b[0;34m)\u001b[0m\u001b[0;34m\u001b[0m\u001b[0m\n\u001b[1;32m     82\u001b[0m \u001b[0;34m\u001b[0m\u001b[0m\n",
      "\u001b[0;32m~/opt/anaconda3/envs/GEEenv/lib/python3.7/site-packages/ee/function.py\u001b[0m in \u001b[0;36mpromoteArgs\u001b[0;34m(self, args)\u001b[0m\n\u001b[1;32m    105\u001b[0m       \u001b[0mname\u001b[0m \u001b[0;34m=\u001b[0m \u001b[0mspec\u001b[0m\u001b[0;34m[\u001b[0m\u001b[0;34m'name'\u001b[0m\u001b[0;34m]\u001b[0m\u001b[0;34m\u001b[0m\u001b[0m\n\u001b[1;32m    106\u001b[0m       \u001b[0;32mif\u001b[0m \u001b[0mname\u001b[0m \u001b[0;32min\u001b[0m \u001b[0margs\u001b[0m\u001b[0;34m:\u001b[0m\u001b[0;34m\u001b[0m\u001b[0m\n\u001b[0;32m--> 107\u001b[0;31m         \u001b[0mpromoted_args\u001b[0m\u001b[0;34m[\u001b[0m\u001b[0mname\u001b[0m\u001b[0;34m]\u001b[0m \u001b[0;34m=\u001b[0m \u001b[0mFunction\u001b[0m\u001b[0;34m.\u001b[0m\u001b[0m_promoter\u001b[0m\u001b[0;34m(\u001b[0m\u001b[0margs\u001b[0m\u001b[0;34m[\u001b[0m\u001b[0mname\u001b[0m\u001b[0;34m]\u001b[0m\u001b[0;34m,\u001b[0m \u001b[0mspec\u001b[0m\u001b[0;34m[\u001b[0m\u001b[0;34m'type'\u001b[0m\u001b[0;34m]\u001b[0m\u001b[0;34m)\u001b[0m\u001b[0;34m\u001b[0m\u001b[0m\n\u001b[0m\u001b[1;32m    108\u001b[0m       \u001b[0;32melif\u001b[0m \u001b[0;32mnot\u001b[0m \u001b[0mspec\u001b[0m\u001b[0;34m.\u001b[0m\u001b[0mget\u001b[0m\u001b[0;34m(\u001b[0m\u001b[0;34m'optional'\u001b[0m\u001b[0;34m)\u001b[0m\u001b[0;34m:\u001b[0m\u001b[0;34m\u001b[0m\u001b[0m\n\u001b[1;32m    109\u001b[0m         raise ee_exception.EEException(\n",
      "\u001b[0;32m~/opt/anaconda3/envs/GEEenv/lib/python3.7/site-packages/ee/__init__.py\u001b[0m in \u001b[0;36m_Promote\u001b[0;34m(arg, klass)\u001b[0m\n\u001b[1;32m    284\u001b[0m     \u001b[0;32melse\u001b[0m\u001b[0;34m:\u001b[0m\u001b[0;34m\u001b[0m\u001b[0m\n\u001b[1;32m    285\u001b[0m       \u001b[0;31m# Client-side cast.\u001b[0m\u001b[0;34m\u001b[0m\u001b[0;34m\u001b[0m\u001b[0m\n\u001b[0;32m--> 286\u001b[0;31m       \u001b[0;32mreturn\u001b[0m \u001b[0mcls\u001b[0m\u001b[0;34m(\u001b[0m\u001b[0marg\u001b[0m\u001b[0;34m)\u001b[0m\u001b[0;34m\u001b[0m\u001b[0m\n\u001b[0m\u001b[1;32m    287\u001b[0m   \u001b[0;32melse\u001b[0m\u001b[0;34m:\u001b[0m\u001b[0;34m\u001b[0m\u001b[0m\n\u001b[1;32m    288\u001b[0m     \u001b[0;32mreturn\u001b[0m \u001b[0marg\u001b[0m\u001b[0;34m\u001b[0m\u001b[0m\n",
      "\u001b[0;32m~/opt/anaconda3/envs/GEEenv/lib/python3.7/site-packages/ee/computedobject.py\u001b[0m in \u001b[0;36m__call__\u001b[0;34m(cls, *args, **kwargs)\u001b[0m\n\u001b[1;32m     30\u001b[0m       \u001b[0;32mreturn\u001b[0m \u001b[0margs\u001b[0m\u001b[0;34m[\u001b[0m\u001b[0;36m0\u001b[0m\u001b[0;34m]\u001b[0m\u001b[0;34m\u001b[0m\u001b[0m\n\u001b[1;32m     31\u001b[0m     \u001b[0;32melse\u001b[0m\u001b[0;34m:\u001b[0m\u001b[0;34m\u001b[0m\u001b[0m\n\u001b[0;32m---> 32\u001b[0;31m       \u001b[0;32mreturn\u001b[0m \u001b[0mtype\u001b[0m\u001b[0;34m.\u001b[0m\u001b[0m__call__\u001b[0m\u001b[0;34m(\u001b[0m\u001b[0mcls\u001b[0m\u001b[0;34m,\u001b[0m \u001b[0;34m*\u001b[0m\u001b[0margs\u001b[0m\u001b[0;34m,\u001b[0m \u001b[0;34m**\u001b[0m\u001b[0mkwargs\u001b[0m\u001b[0;34m)\u001b[0m\u001b[0;34m\u001b[0m\u001b[0m\n\u001b[0m\u001b[1;32m     33\u001b[0m \u001b[0;34m\u001b[0m\u001b[0m\n\u001b[1;32m     34\u001b[0m \u001b[0;34m\u001b[0m\u001b[0m\n",
      "\u001b[0;32m~/opt/anaconda3/envs/GEEenv/lib/python3.7/site-packages/ee/__init__.py\u001b[0m in \u001b[0;36minit\u001b[0;34m(self, *args)\u001b[0m\n\u001b[1;32m    400\u001b[0m           raise EEException(\n\u001b[1;32m    401\u001b[0m               \u001b[0;34m'Invalid argument for ee.{0}(): {1}.  '\u001b[0m\u001b[0;34m\u001b[0m\u001b[0m\n\u001b[0;32m--> 402\u001b[0;31m               'Must be a ComputedObject.'.format(name, args))\n\u001b[0m\u001b[1;32m    403\u001b[0m         \u001b[0;32melse\u001b[0m\u001b[0;34m:\u001b[0m\u001b[0;34m\u001b[0m\u001b[0m\n\u001b[1;32m    404\u001b[0m           \u001b[0mresult\u001b[0m \u001b[0;34m=\u001b[0m \u001b[0margs\u001b[0m\u001b[0;34m[\u001b[0m\u001b[0;36m0\u001b[0m\u001b[0;34m]\u001b[0m\u001b[0;34m\u001b[0m\u001b[0m\n",
      "\u001b[0;31mEEException\u001b[0m: Invalid argument for ee.Reducer(): ({'reducer': <ee.Reducer object at 0x7fcc9b11cb00>, 'geometry': GeoJSON(data={'type': 'FeatureCollection', 'features': [{'type': 'Feature', 'properties': {}, 'geometry': {'type': 'Polygon', 'coordinates': [[[29.970703124999996, 0.7415564444349354], [29.904785156249996, 0.8129610018708315], [29.8553466796875, 0.8074683870228081], [29.827880859375, 0.8733792609738106], [29.838867187500004, 0.9337965488500297], [29.783935546874996, 0.9008417889908868], [29.7235107421875, 0.8898568022677679], [29.696044921875, 0.8514090937773031], [29.6246337890625, 0.884364296613886], [29.619140624999996, 0.856901647439813], [29.608154296874996, 0.8349313860427184], [29.520263671875, 0.8459165322899798], [29.5037841796875, 0.8129610018708315], [29.50927734375, 0.7690198781221326], [29.4708251953125, 0.7909904981540058], [29.448852539062504, 0.8294388013837057], [29.3829345703125, 0.7745125438579877], [29.344482421875, 0.7086000996551165], [29.454345703125, 0.6207153969631366], [29.377441406249996, 0.5932511181408705], [29.300537109374996, 0.6591651462894632], [29.262084960937504, 0.5822653680900857], [29.234619140625004, 0.6207153969631366], [29.152221679687496, 0.6701507351859315], [28.970947265625, 0.5493079911125155], [28.8665771484375, 0.5712795966325395], [28.778686523437504, 0.5657867030024479], [28.67431640625, 0.5657867030024479], [28.5699462890625, 0.5053645409603004], [28.5040283203125, 0.5383221578577205], [28.4930419921875, 0.5822653680900857], [28.350219726562496, 0.6811362994451233], [28.223876953125, 0.6811362994451233], [28.108520507812496, 0.653672342728431], [28.004150390625, 0.615222552406841], [27.938232421875, 0.6097297021959899], [27.806396484374996, 0.5273363048115169], [27.8448486328125, 0.4943786309629956], [27.982177734375, 0.4888856691231101], [28.0645751953125, 0.35705335302470415], [28.092041015625, 0.3076157096439005], [28.1414794921875, 0.24169850190165], [28.179931640625, 0.17028783523693297], [28.157958984375, 0.13183582116662096], [28.125, 0.10437005946680143], [28.1304931640625, -0.1867672473697175], [28.10302734375, -0.24169850190163725], [27.954711914062496, -0.34057416628374637], [27.9986572265625, -0.4724067568442892], [27.954711914062496, -0.5053645409602877], [27.927246093749996, -0.5877582458165641], [27.850341796875, -0.615222552406841], [27.79541015625, -0.7470491450051796], [27.7679443359375, -0.884364296613886], [27.713012695312496, -0.9008417889908868], [27.5372314453125, -0.8898568022677551], [27.3944091796875, -0.961258613197397], [27.333984375, -0.961258613197397], [27.279052734375, -1.0051974541602615], [27.279052734375, -1.0875811671623443], [27.333984375, -1.18094664760652], [27.2515869140625, -1.191930620381516], [27.350463867187496, -1.312751340599985], [27.350463867187496, -1.4006173190275208], [27.4163818359375, -1.4500404973607948], [27.443847656249996, -1.4500404973607948], [27.4603271484375, -1.4774973547127075], [27.531738281249996, -1.5763391859789206], [27.5372314453125, -1.625758360412755], [27.59765625, -1.691648704756987], [27.630615234375, -1.691648704756987], [27.696533203125, -1.7520462233579808], [27.713012695312496, -1.7740084780891991], [27.7349853515625, -1.790479998207114], [27.7569580078125, -1.7959704720862544], [27.806396484374996, -1.834403324493515], [27.8118896484375, -1.8673451129219134], [27.8009033203125, -1.922246716098091], [27.8009033203125, -1.9936161531854508], [27.833862304687496, -2.00459579470075], [27.872314453125, -1.9936161531854508], [27.9107666015625, -1.9826364384297377], [27.9766845703125, -2.00459579470075], [28.114013671875, -1.9936161531854508], [28.1744384765625, -2.0430239574220272], [28.223876953125, -2.05949288957668], [28.2073974609375, -1.99910598312332], [28.388671875, -1.99910598312332], [28.410644531249996, -1.9881263049374718], [28.4051513671875, -1.916756634399981], [28.4765625, -1.8783255723852057], [28.5205078125, -1.9057764182382697], [28.6083984375, -1.8893059628373186], [28.6468505859375, -1.8893059628373186], [28.668823242187496, -1.834403324493515], [28.657836914062504, -1.7740084780891991], [28.7017822265625, -1.7685179387242826], [28.729248046875, -1.7959704720862544], [28.773193359374996, -1.7685179387242826], [28.828124999999996, -1.7685179387242826], [28.855590820312496, -1.7136116598836224], [28.905029296875, -1.7300837111164604], [28.976440429687496, -1.669685500986571], [29.0093994140625, -1.669685500986571], [29.036865234375, -1.6037944300589726], [29.086303710937504, -1.6147764249054963], [29.146728515625, -1.6587038068676119], [29.190673828124996, -1.6971394669749607], [29.207153320312504, -1.7300837111164604], [29.2510986328125, -1.691648704756987], [29.2510986328125, -1.6477220517969224], [29.300537109374996, -1.6037944300589726], [29.338989257812496, -1.537901237431487], [29.432373046874996, -1.537901237431487], [29.4818115234375, -1.4774973547127075], [29.520263671875, -1.4006173190275208], [29.580688476562496, -1.3951257897508238], [29.586181640625, -1.2962761196418089], [29.597167968750004, -1.208406497271858], [29.5751953125, -1.1315182387740395], [29.580688476562496, -1.0326589311777759], [29.580688476562496, -0.9887204566941844], [29.5916748046875, -0.9173192068570714], [29.635620117187496, -0.8953492997435784], [29.64111328125, -0.8294388013837057], [29.619140624999996, -0.7800052024755708], [29.619140624999996, -0.7250783020332547], [29.64111328125, -0.6426867176331666], [29.646606445312496, -0.5987439850125229], [29.6685791015625, -0.5602938041720732], [29.663085937499996, -0.5108574890167433], [29.663085937499996, -0.47789973201326874], [29.6795654296875, -0.3460672317284577], [29.7344970703125, -0.03295898255728466], [29.718017578125004, 0.016479491960279726], [29.718017578125004, 0.0769042737833478], [29.729003906249996, 0.12084951976866681], [29.761962890625, 0.17028783523693297], [29.783935546874996, 0.17028783523693297], [29.81689453125, 0.17028783523693297], [29.8333740234375, 0.2856433479945185], [29.871826171875, 0.3900116365329134], [29.9871826171875, 0.5163504323777589], [29.9871826171875, 0.5932511181408705], [29.959716796875004, 0.6317010689101341], [29.970703124999996, 0.7415564444349354]]]}}]}, name='North_Kivu_Region'), 'scale': 30},).  Must be a ComputedObject."
     ]
    }
   ],
   "source": [
    "#Sum the values of forest loss pixels in the Congo Republic.\n",
    "forest_loss_stats = lossImage.reduceRegion({\n",
    "  'reducer': ee.Reducer.sum(),\n",
    "  'geometry': north_kivu_DRC,\n",
    "  'scale': 30\n",
    "});\n",
    "print(stats);"
   ]
  },
  {
   "cell_type": "code",
   "execution_count": null,
   "id": "a807ca43",
   "metadata": {},
   "outputs": [],
   "source": []
  }
 ],
 "metadata": {
  "kernelspec": {
   "display_name": "Python 3",
   "language": "python",
   "name": "python3"
  },
  "language_info": {
   "codemirror_mode": {
    "name": "ipython",
    "version": 3
   },
   "file_extension": ".py",
   "mimetype": "text/x-python",
   "name": "python",
   "nbconvert_exporter": "python",
   "pygments_lexer": "ipython3",
   "version": "3.7.0"
  }
 },
 "nbformat": 4,
 "nbformat_minor": 5
}
