{
 "cells": [
  {
   "cell_type": "markdown",
   "id": "ec4d6719",
   "metadata": {},
   "source": [
    "code from: https://rasterio.readthedocs.io/en/latest/topics/reading.html"
   ]
  },
  {
   "cell_type": "markdown",
   "id": "2321c114",
   "metadata": {},
   "source": [
    "### Merging Raster Imagery"
   ]
  },
  {
   "cell_type": "code",
   "execution_count": 2,
   "id": "379a985a",
   "metadata": {
    "scrolled": true
   },
   "outputs": [],
   "source": [
    "import rasterio\n",
    "from osgeo import gdal\n",
    "from rasterio.plot import show\n",
    "from rasterio.merge import merge\n",
    "from rasterio.plot import show\n",
    "from rasterio.mask import mask\n",
    "from shapely.geometry import box\n",
    "import geopandas as gpd\n",
    "from fiona.crs import from_epsg\n",
    "import pycrs\n",
    "import glob\n",
    "import os\n",
    "import xarray as xr\n",
    "from matplotlib import pyplot as plt\n",
    "import pandas as pd\n",
    "\n",
    "\n",
    "\n",
    "\n",
    "%matplotlib inline\n"
   ]
  },
  {
   "cell_type": "markdown",
   "id": "a40ff114",
   "metadata": {},
   "source": [
    "# Data Exploration"
   ]
  },
  {
   "cell_type": "markdown",
   "id": "5281d66c",
   "metadata": {},
   "source": [
    "### Import the data"
   ]
  },
  {
   "cell_type": "code",
   "execution_count": null,
   "id": "ba139a3d",
   "metadata": {},
   "outputs": [],
   "source": [
    "#list of test data files\n",
    "PIREDD_2013 = '/Users/joycelynlongdon/Desktop/Cambridge/CambridgeCoding/MRES/Data/PIREDD_Test_Data/PIREDD_2013_Test_Date_Merged.tif'\n",
    "PIREDD_2014 = '/Users/joycelynlongdon/Desktop/Cambridge/CambridgeCoding/MRES/Data/PIREDD_Test_Data/PIREDD_2014_Test_Data_Merged.tif'\n",
    "PIREDD_2015 = '/Users/joycelynlongdon/Desktop/Cambridge/CambridgeCoding/MRES/Data/PIREDD_Test_Data/PIREDD_2015_Test_Data_Merged.tif'\n",
    "PIREDD_2016 = '/Users/joycelynlongdon/Desktop/Cambridge/CambridgeCoding/MRES/Data/PIREDD_Test_Data/PIREDD_2016_Test_Data_Merged.tif'\n",
    "PIREDD_2017 = '/Users/joycelynlongdon/Desktop/Cambridge/CambridgeCoding/MRES/Data/PIREDD_Test_Data/PIREDD_2017_Test_Data_Merged.tif'\n",
    "PIREDD_2018 = '/Users/joycelynlongdon/Desktop/Cambridge/CambridgeCoding/MRES/Data/PIREDD_Test_Data/PIREDD_2018_Test_Data_Merged.tif'\n",
    "PIREDD_2019 = '/Users/joycelynlongdon/Desktop/Cambridge/CambridgeCoding/MRES/Data/PIREDD_Test_Data/PIREDD_2019_Test_Data_Merged.tif'\n",
    "\n",
    "\n",
    "#routine to visualise a given year and its bandsfor data in test_data:\n",
    "src = rasterio.open(PIREDD_2019)\n",
    "array = src.read()\n",
    "band_1 = src.read(1)\n",
    "band_2 = src.read(2)\n",
    "band_3 = src.read(3)\n",
    "band_4 = src.read(4)\n",
    "band_5 = src.read(5)    \n",
    "band_6 = src.read(6)\n",
    "band_7 = src.read(7)\n",
    "src"
   ]
  },
  {
   "cell_type": "markdown",
   "id": "577d4fdf",
   "metadata": {},
   "source": [
    "### Visualise  the Data"
   ]
  },
  {
   "cell_type": "code",
   "execution_count": null,
   "id": "60360de9",
   "metadata": {},
   "outputs": [],
   "source": [
    "#plot band images\n",
    "fig, ((ax1, ax2, ax3 , ax4), (ax5, ax6, ax7, ax8)) = plt.subplots(2,4, figsize = (12,4)) \n",
    "fig.suptitle('Visuallising Test Data Bands')\n",
    "ax1.title.set_text('Band 1')\n",
    "ax2.title.set_text('Band 2')\n",
    "ax3.title.set_text('Band 3')\n",
    "ax4.title.set_text('Band 4')\n",
    "ax5.title.set_text('Band 5')\n",
    "ax6.title.set_text('Band 6')\n",
    "ax7.title.set_text('Band 7')\n",
    "ax8.title.set_text('Band 8')\n",
    "show(band_1, ax=ax1)\n",
    "show(band_2, ax=ax2)\n",
    "show(band_3, ax=ax3)\n",
    "show(band_4, ax=ax4)\n",
    "show(band_5, ax=ax5)\n",
    "show(band_6, ax=ax6)\n",
    "show(band_7, ax=ax7)\n",
    "show(src, ax=ax8)\n"
   ]
  },
  {
   "cell_type": "markdown",
   "id": "d8a29837",
   "metadata": {},
   "source": [
    "### Read MetaData"
   ]
  },
  {
   "cell_type": "code",
   "execution_count": null,
   "id": "cee8f094",
   "metadata": {},
   "outputs": [],
   "source": [
    "# How many bands does this image have?\n",
    "num_bands = src.count\n",
    "print('Number of bands in image: {n}\\n'.format(n=num_bands))\n",
    "\n",
    "# How many rows and columns?\n",
    "rows, cols = src.shape\n",
    "print('Image size is: {r} rows x {c} columns\\n'.format(r=rows, c=cols))\n",
    "\n",
    "# What driver was used to open the raster?\n",
    "driver = src.driver\n",
    "print('Raster driver: {d}\\n'.format(d=driver))\n",
    "\n",
    "# What is the raster's projection?\n",
    "proj = src.crs\n",
    "print('Image projection:')\n",
    "print(proj)"
   ]
  },
  {
   "cell_type": "code",
   "execution_count": null,
   "id": "c8e03684",
   "metadata": {},
   "outputs": [],
   "source": [
    "print(array)"
   ]
  },
  {
   "cell_type": "markdown",
   "id": "f6791766",
   "metadata": {},
   "source": [
    "### Visualise Landcover Data"
   ]
  },
  {
   "cell_type": "code",
   "execution_count": 2,
   "id": "296bdb4d",
   "metadata": {},
   "outputs": [],
   "source": [
    "#import data\n",
    "ESA_CCI = '/Users/joycelynlongdon/Desktop/Cambridge/CambridgeCoding/MRES/Data/ESA_CCI/CCI_Landcover_Maps/ESA_CCI_LC_Map_2013.tif'\n",
    "landcover_classes = '/Users/joycelynlongdon/Desktop/Cambridge/CambridgeCoding/MRES/Data/ESA_CCI/CCI_Landcover_Maps/ESACCI-LC-Legend.csv'\n",
    "classes = pd.read_csv(landcover_classes, delimiter=\";\", index_col=0)\n",
    "LC_src = rasterio.open(ESA_CCI)\n",
    "LC_array = LC_src.read()\n"
   ]
  },
  {
   "cell_type": "code",
   "execution_count": 3,
   "id": "490c884a",
   "metadata": {},
   "outputs": [
    {
     "ename": "AttributeError",
     "evalue": "module 'geopandas' has no attribute 'GeoDataFrame'",
     "output_type": "error",
     "traceback": [
      "\u001b[0;31m---------------------------------------------------------------------------\u001b[0m",
      "\u001b[0;31mAttributeError\u001b[0m                            Traceback (most recent call last)",
      "\u001b[0;32m<ipython-input-3-e48e5ddaeb1f>\u001b[0m in \u001b[0;36m<module>\u001b[0;34m\u001b[0m\n\u001b[1;32m      1\u001b[0m \u001b[0mtraining_polygon\u001b[0m \u001b[0;34m=\u001b[0m \u001b[0;34m'/Users/joycelynlongdon/Desktop/Cambridge/CambridgeCoding/MRES/Data/GeoJSONS/DRC_Training_Polygon.geojson'\u001b[0m\u001b[0;34m\u001b[0m\u001b[0m\n\u001b[0;32m----> 2\u001b[0;31m \u001b[0mstudyRegion\u001b[0m \u001b[0;34m=\u001b[0m \u001b[0mgpd\u001b[0m\u001b[0;34m.\u001b[0m\u001b[0mGeoDataFrame\u001b[0m\u001b[0;34m(\u001b[0m\u001b[0;34m{\u001b[0m\u001b[0;34m'geometry'\u001b[0m\u001b[0;34m:\u001b[0m \u001b[0mtraining_polygon\u001b[0m\u001b[0;34m}\u001b[0m\u001b[0;34m,\u001b[0m \u001b[0mindex\u001b[0m\u001b[0;34m=\u001b[0m\u001b[0;34m[\u001b[0m\u001b[0;36m0\u001b[0m\u001b[0;34m]\u001b[0m\u001b[0;34m,\u001b[0m \u001b[0mcrs\u001b[0m\u001b[0;34m=\u001b[0m\u001b[0mfrom_epsg\u001b[0m\u001b[0;34m(\u001b[0m\u001b[0;36m4326\u001b[0m\u001b[0;34m)\u001b[0m\u001b[0;34m)\u001b[0m\u001b[0;34m\u001b[0m\u001b[0m\n\u001b[0m",
      "\u001b[0;31mAttributeError\u001b[0m: module 'geopandas' has no attribute 'GeoDataFrame'"
     ]
    }
   ],
   "source": [
    "training_polygon = '/Users/joycelynlongdon/Desktop/Cambridge/CambridgeCoding/MRES/Data/GeoJSONS/DRC_Training_Polygon.geojson'\n",
    "studyRegion = gpd.GeoDataFrame({'geometry': training_polygon}, index=[0], crs=from_epsg(4326))"
   ]
  },
  {
   "cell_type": "code",
   "execution_count": null,
   "id": "c31c9ef0",
   "metadata": {},
   "outputs": [],
   "source": [
    "# check out the labels and convert them to values\n",
    "print(f\"There are {len(classes)} classes.\")\n",
    "print(classes)\n",
    "\n",
    "class_value_to_label = {class_val: row.LCCOwnLabel for class_val, row in classes.iterrows()}"
   ]
  },
  {
   "cell_type": "code",
   "execution_count": null,
   "id": "4bdcf81b",
   "metadata": {},
   "outputs": [],
   "source": [
    "#prepping data for our region of interest\n",
    "training_polygon = '/Users/joycelynlongdon/Desktop/Cambridge/CambridgeCoding/MRES/Data/GeoJSONS/DRC_Training_Polygon.geojson'\n",
    "\n",
    "def clip_and_reproject(xrdata, clip_geometry=training_polygon, to_crs=None, x_res=300, y_res=300):\n",
    "\n",
    "    if clip_geometry is not None:\n",
    "        clipped_data = xrdata.rio.clip(clip_geometry)\n",
    "    else:\n",
    "        clipped_data = xrdata\n",
    "\n",
    "    if to_crs is not None:\n",
    "        reprojected_data = clipped_data.rio.reproject(to_crs, resolution=(x_res, y_res))\n",
    "    else:\n",
    "        reprojected_data = clipped_data\n",
    "\n",
    "    return reprojected_data"
   ]
  },
  {
   "cell_type": "code",
   "execution_count": null,
   "id": "cd94eb2f",
   "metadata": {},
   "outputs": [],
   "source": [
    "# Loading ESA CCI land cover raster data\n",
    "training_polygon = '/Users/joycelynlongdon/Desktop/Cambridge/CambridgeCoding/MRES/Data/GeoJSONS/DRC_Training_Polygon.geojson'\n",
    "ESA_CCI_2013 = LC_src.clip(training_polygon)\n",
    "              "
   ]
  },
  {
   "cell_type": "code",
   "execution_count": null,
   "id": "02cac9d1",
   "metadata": {},
   "outputs": [],
   "source": [
    "plt.imshow(ESA_CCI_2013)"
   ]
  },
  {
   "cell_type": "code",
   "execution_count": null,
   "id": "ebc3c521",
   "metadata": {},
   "outputs": [],
   "source": []
  }
 ],
 "metadata": {
  "kernelspec": {
   "display_name": "Python 3",
   "language": "python",
   "name": "python3"
  },
  "language_info": {
   "codemirror_mode": {
    "name": "ipython",
    "version": 3
   },
   "file_extension": ".py",
   "mimetype": "text/x-python",
   "name": "python",
   "nbconvert_exporter": "python",
   "pygments_lexer": "ipython3",
   "version": "3.7.0"
  }
 },
 "nbformat": 4,
 "nbformat_minor": 5
}
