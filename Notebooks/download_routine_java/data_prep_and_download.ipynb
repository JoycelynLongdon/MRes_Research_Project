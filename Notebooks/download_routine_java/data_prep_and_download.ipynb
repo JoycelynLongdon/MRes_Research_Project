{
 "cells": [
  {
   "cell_type": "code",
   "execution_count": 1,
   "id": "b977820f",
   "metadata": {},
   "outputs": [
    {
     "name": "stderr",
     "output_type": "stream",
     "text": [
      "UsageError: %%javascript is a cell magic, but the cell body is empty.\n"
     ]
    }
   ],
   "source": [
    "%%javascript"
   ]
  },
  {
   "cell_type": "code",
   "execution_count": null,
   "id": "6f226c42",
   "metadata": {},
   "outputs": [],
   "source": []
  }
 ],
 "metadata": {
  "kernelspec": {
   "display_name": "Python 3",
   "language": "python",
   "name": "python3"
  },
  "language_info": {
   "codemirror_mode": {
    "name": "ipython",
    "version": 3
   },
   "file_extension": ".py",
   "mimetype": "text/x-python",
   "name": "python",
   "nbconvert_exporter": "python",
   "pygments_lexer": "ipython3",
   "version": "3.7.0"
  }
 },
 "nbformat": 4,
 "nbformat_minor": 5
}
