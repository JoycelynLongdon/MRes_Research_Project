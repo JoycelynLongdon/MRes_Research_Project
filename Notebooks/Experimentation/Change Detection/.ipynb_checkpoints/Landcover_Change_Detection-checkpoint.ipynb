{
 "cells": [
  {
   "cell_type": "code",
   "execution_count": 1,
   "id": "207c0e7d",
   "metadata": {},
   "outputs": [],
   "source": [
    "import rasterio\n",
    "from rasterio.plot import show\n",
    "from rasterio.merge import merge\n",
    "from rasterio.plot import show\n",
    "import rasterio.features\n",
    "import rasterio.warp\n",
    "import glob\n",
    "import os\n",
    "import rioxarray as xr\n",
    "import pandas as pd\n",
    "import geopandas as gpd\n",
    "import numpy as np\n",
    "from rasterio.enums import Resampling\n",
    "from rasterio.crs import CRS\n",
    "import matplotlib.pyplot as plt\n",
    "import earthpy as et\n",
    "import earthpy.plot as ep\n",
    "from shapely.geometry import mapping\n",
    "import subprocess\n",
    "from osgeo import gdal\n",
    "import multiprocessing as mp\n",
    "from typing import List, Any, Sequence, Tuple\n",
    "import xarray as xarray\n",
    "from numpy import savetxt\n",
    "from matplotlib.colors import colorConverter\n",
    "\n",
    "\n",
    "\n",
    "\n",
    "%matplotlib inline\n"
   ]
  },
  {
   "cell_type": "markdown",
   "id": "764cb356",
   "metadata": {},
   "source": [
    "## Importing the classifiied arrays"
   ]
  },
  {
   "cell_type": "code",
   "execution_count": 65,
   "id": "753d2acf",
   "metadata": {},
   "outputs": [],
   "source": [
    "image_1 = np.load('/gws/nopw/j04/ai4er/users/jl2182/data/Figures/PIREDD_Classified/PIREDD_Plataue_L8_2018_classified.npy')\n",
    "image_2 = np.load('/gws/nopw/j04/ai4er/users/jl2182/data/Figures/PIREDD_Classified/PIREDD_Plataue_L8_2020_classified.npy')"
   ]
  },
  {
   "cell_type": "code",
   "execution_count": 66,
   "id": "ae491b0e",
   "metadata": {},
   "outputs": [
    {
     "data": {
      "text/plain": [
       "array([[6, 6, 6, ..., 6, 6, 6],\n",
       "       [6, 6, 6, ..., 6, 6, 6],\n",
       "       [6, 6, 6, ..., 6, 6, 6],\n",
       "       ...,\n",
       "       [6, 6, 6, ..., 6, 6, 6],\n",
       "       [6, 6, 6, ..., 6, 6, 6],\n",
       "       [6, 6, 6, ..., 6, 6, 6]], dtype=uint8)"
      ]
     },
     "execution_count": 66,
     "metadata": {},
     "output_type": "execute_result"
    }
   ],
   "source": [
    "image_1"
   ]
  },
  {
   "cell_type": "code",
   "execution_count": 67,
   "id": "dfa9993a",
   "metadata": {},
   "outputs": [
    {
     "data": {
      "image/png": "[encoded data removed]",
      "text/plain": [
       "<Figure size 432x288 with 2 Axes>"
      ]
     },
     "metadata": {
      "needs_background": "light"
     },
     "output_type": "display_data"
    }
   ],
   "source": [
    "#visualise boths landcover maps\n",
    "\n",
    "# See https://github.com/matplotlib/matplotlib/issues/844/\n",
    "n = image_1.max()\n",
    "# Next setup a colormap for our map\n",
    "colors = dict((\n",
    "    (0, (111, 97, 6,255)),  # Cropland\n",
    "    (1, (135, 198, 42,255)),  # Shrubland\n",
    "    (2, (15, 91, 3,255)),  # Forest\n",
    "    (3, (204, 243, 112,255)),  # Grassland\n",
    "    (4, (255, 26, 0,255)),  # Urban\n",
    "    (5, (0, 0, 255,255))  # Water\n",
    "))\n",
    "# Put 0 - 255 as float 0 - 1\n",
    "for k in colors:\n",
    "    v = colors[k]\n",
    "    _v = [_v / 255.0 for _v in v]\n",
    "    colors[k] = _v\n",
    "    \n",
    "index_colors = [colors[key] if key in colors else \n",
    "                (255, 255, 255, 0) for key in range(1, n + 1)]\n",
    "cmap = plt.matplotlib.colors.ListedColormap(index_colors, 'Classification', n)\n",
    "\n",
    "# Now show the classmap next to the image\n",
    "#plt.figure(figsize = (8,8))\n",
    "plt.subplot(121)\n",
    "plt.title('Year 1')\n",
    "plt.imshow(image_1, cmap=cmap, interpolation='none')\n",
    "\n",
    "#plt.figure(figsize = (8,8))\n",
    "plt.subplot(122)\n",
    "plt.title('Year 2')\n",
    "plt.imshow(image_2, cmap=cmap, interpolation='none')\n",
    "\n",
    "plt.show()"
   ]
  },
  {
   "cell_type": "markdown",
   "id": "37be1eba",
   "metadata": {},
   "source": [
    "## Plotting Change Map"
   ]
  },
  {
   "cell_type": "code",
   "execution_count": 68,
   "id": "0a880fc0",
   "metadata": {},
   "outputs": [],
   "source": [
    "#img_1.shape"
   ]
  },
  {
   "cell_type": "code",
   "execution_count": 69,
   "id": "ac279d78",
   "metadata": {},
   "outputs": [],
   "source": [
    "A = np.ones(image_1.shape)\n",
    "for i in range(image_1.shape[0]):\n",
    "    for j in range(image_1.shape[1]):\n",
    "        if image_1[i,j] == 2 and image_1[i,j] == image_2[i,j]:\n",
    "            A[i,j] = 0 #no change\n",
    "        if image_1[i,j] == 2 and image_1[i,j] != image_2[i,j]:\n",
    "            A[i,j] = 1 #change\n",
    "        else:\n",
    "            A[i,j] = 0 #blank out all other pixels/changes"
   ]
  },
  {
   "cell_type": "code",
   "execution_count": 70,
   "id": "0edc55a1",
   "metadata": {},
   "outputs": [
    {
     "data": {
      "text/plain": [
       "array([[0, 0, 0, ..., 0, 0, 0],\n",
       "       [0, 0, 0, ..., 0, 0, 0],\n",
       "       [0, 0, 0, ..., 0, 0, 0],\n",
       "       ...,\n",
       "       [0, 0, 0, ..., 0, 0, 0],\n",
       "       [0, 0, 0, ..., 0, 0, 0],\n",
       "       [0, 0, 0, ..., 0, 0, 0]])"
      ]
     },
     "execution_count": 70,
     "metadata": {},
     "output_type": "execute_result"
    }
   ],
   "source": [
    "A = A.astype(int)\n",
    "A"
   ]
  },
  {
   "cell_type": "code",
   "execution_count": 71,
   "id": "372dfb93",
   "metadata": {},
   "outputs": [
    {
     "data": {
      "image/png": "[encoded data removed]",
      "text/plain": [
       "<Figure size 432x288 with 1 Axes>"
      ]
     },
     "metadata": {
      "needs_background": "light"
     },
     "output_type": "display_data"
    }
   ],
   "source": [
    "colour_1 = colorConverter.to_rgba('white',alpha=0.0)\n",
    "colour_2 = 'red'\n",
    "colour_3 = colorConverter.to_rgba('white',alpha=0.0)\n",
    "cmap_2 = plt.matplotlib.colors.ListedColormap([colour_1, colour_2, colour_3])\n",
    "plt.title('2014 Landcover Change Map')\n",
    "plt.imshow(A, cmap = cmap_2)\n",
    "plt.savefig('/gws/nopw/j04/ai4er/users/jl2182/data/Figures/Landcover_Change_Maps/PIREDD_2019_Landcover_Change_Map.tif')\n",
    "plt.savefig('/gws/nopw/j04/ai4er/users/jl2182/data/Figures/Landcover_Change_Maps/PIREDD_2019_Landcover_Change_Map.png')"
   ]
  },
  {
   "cell_type": "code",
   "execution_count": null,
   "id": "2201cd1b",
   "metadata": {},
   "outputs": [],
   "source": []
  }
 ],
 "metadata": {
  "kernelspec": {
   "display_name": "Python 3",
   "language": "python",
   "name": "python3"
  },
  "language_info": {
   "codemirror_mode": {
    "name": "ipython",
    "version": 3
   },
   "file_extension": ".py",
   "mimetype": "text/x-python",
   "name": "python",
   "nbconvert_exporter": "python",
   "pygments_lexer": "ipython3",
   "version": "3.7.0"
  }
 },
 "nbformat": 4,
 "nbformat_minor": 5
}
