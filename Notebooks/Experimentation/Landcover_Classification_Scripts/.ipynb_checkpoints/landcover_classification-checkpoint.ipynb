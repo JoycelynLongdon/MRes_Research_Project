{
 "cells": [
  {
   "cell_type": "markdown",
   "id": "d5515372",
   "metadata": {},
   "source": [
    "This code was adapted from Chris Holden (ceholden@gmail.com) Chaoter 5 Lesson on Ladncover Classification: https://ceholden.github.io/open-geo-tutorial/python/chapter_5_classification.html - https://github.com/ceholden\n",
    "\n"
   ]
  },
  {
   "cell_type": "markdown",
   "id": "5ff027cf",
   "metadata": {},
   "source": [
    "### Imports"
   ]
  },
  {
   "cell_type": "code",
   "execution_count": 9,
   "id": "35d38e6e",
   "metadata": {},
   "outputs": [],
   "source": [
    "# Import Python 3's print function and division\n",
    "from __future__ import print_function, division\n",
    "\n",
    "# Import GDAL, NumPy, and matplotlib\n",
    "from osgeo import gdal, gdal_array\n",
    "import numpy as np\n",
    "import matplotlib.pyplot as plt\n",
    "%matplotlib inline\n",
    "\n",
    "## Sklearn Libraries\n",
    "from sklearn import metrics\n",
    "from sklearn.utils import shuffle\n",
    "from sklearn.ensemble import RandomForestClassifier\n",
    "from sklearn.preprocessing import StandardScaler\n",
    "from sklearn.model_selection import train_test_split\n",
    "from sklearn.model_selection import StratifiedKFold\n",
    "from sklearn.model_selection import cross_val_score\n",
    "from sklearn.ensemble import RandomForestClassifier\n",
    "from sklearn.model_selection import GridSearchCV\n",
    "from sklearn.metrics import make_scorer\n",
    "from sklearn.metrics import f1_score, confusion_matrix, roc_curve, auc, \\\n",
    "            classification_report, recall_score, precision_recall_curve\n",
    "from sklearn.metrics import accuracy_score\n",
    "from pprint import pprint\n"
   ]
  },
  {
   "cell_type": "markdown",
   "id": "9a31ee4d",
   "metadata": {},
   "source": [
    "### Preparing The Dataset"
   ]
  },
  {
   "cell_type": "code",
   "execution_count": 2,
   "id": "5a43e724",
   "metadata": {},
   "outputs": [],
   "source": [
    "# Read in our satellite and label image\n",
    "satellite_img = gdal.Open('/gws/nopw/j04/ai4er/users/jl2182/data/Mres_Data/classification_training_data/final_filled_l8_training_data.tif', gdal.GA_ReadOnly)\n",
    "training_img = gdal.Open('/gws/nopw/j04/ai4er/users/jl2182/data/Mres_Data/classification_training_data/final_landcover_training_data.tif', gdal.GA_ReadOnly)\n"
   ]
  },
  {
   "cell_type": "code",
   "execution_count": 3,
   "id": "34b41c3d",
   "metadata": {},
   "outputs": [
    {
     "data": {
      "image/png": "[encoded data removed]",
      "text/plain": [
       "<Figure size 432x288 with 2 Axes>"
      ]
     },
     "metadata": {
      "needs_background": "light"
     },
     "output_type": "display_data"
    }
   ],
   "source": [
    "\n",
    "img = np.zeros((satellite_img.RasterYSize, satellite_img.RasterXSize, satellite_img.RasterCount),\n",
    "               gdal_array.GDALTypeCodeToNumericTypeCode(satellite_img.GetRasterBand(1).DataType))\n",
    "for b in range(img.shape[2]):\n",
    "    img[:, :, b] = satellite_img.GetRasterBand(b + 1).ReadAsArray()\n",
    "    \n",
    "lbls = training_img.GetRasterBand(1).ReadAsArray().astype(np.uint8)\n",
    "\n",
    "# Display them\n",
    "plt.subplot(121)\n",
    "plt.imshow(img[:, :, 4], cmap=plt.cm.tab20b)\n",
    "plt.title('SWIR1')\n",
    "\n",
    "plt.subplot(122)\n",
    "plt.imshow(lbls, cmap=plt.cm.terrain)\n",
    "plt.title('Training Data')\n",
    "\n",
    "plt.show()"
   ]
  },
  {
   "cell_type": "code",
   "execution_count": 4,
   "id": "1638c0dc",
   "metadata": {},
   "outputs": [
    {
     "data": {
      "text/plain": [
       "(1483, 2353, 7)"
      ]
     },
     "execution_count": 4,
     "metadata": {},
     "output_type": "execute_result"
    }
   ],
   "source": [
    "img.shape"
   ]
  },
  {
   "cell_type": "code",
   "execution_count": 5,
   "id": "412d08ab",
   "metadata": {},
   "outputs": [
    {
     "data": {
      "text/plain": [
       "(1483, 2353)"
      ]
     },
     "execution_count": 5,
     "metadata": {},
     "output_type": "execute_result"
    }
   ],
   "source": [
    "lbls.shape"
   ]
  },
  {
   "cell_type": "markdown",
   "id": "c96f2fa5",
   "metadata": {},
   "source": [
    "Creating the X feature matrix array and the y labels matrix to be fed into the Random Forest"
   ]
  },
  {
   "cell_type": "code",
   "execution_count": 6,
   "id": "7ba761d7",
   "metadata": {},
   "outputs": [
    {
     "name": "stdout",
     "output_type": "stream",
     "text": [
      "We have 1322596 samples\n",
      "The training data include 8 classes: [1 2 3 4 5 6 7 8]\n",
      "Our X matrix is sized: (1322596, 7)\n",
      "Our y array is sized: (1322596,)\n"
     ]
    }
   ],
   "source": [
    "# Find how many non-zero entries we have -- i.e. how many training data samples?\n",
    "n_samples = (lbls !=9).sum()\n",
    "print('We have {n} samples'.format(n=n_samples))\n",
    "\n",
    "# What are our classification labels?\n",
    "labels = np.unique(lbls[lbls !=9])\n",
    "print('The training data include {n} classes: {classes}'.format(n=labels.size, \n",
    "                                                                classes=labels))\n",
    "# We will need a \"X\" matrix containing our features, and a \"y\" array containing our labels\n",
    "#     These will have n_samples rows\n",
    "#     In other languages we would need to allocate these and them loop to fill them, but NumPy can be faster\n",
    "\n",
    "#this is a quick numpy trick for flattening\n",
    "X = img[lbls !=9]  # include 8th band, which is Fmask, for now\n",
    "y = lbls[lbls !=9]\n",
    "\n",
    "\n",
    "print('Our X matrix is sized: {sz}'.format(sz=X.shape))\n",
    "print('Our y array is sized: {sz}'.format(sz=y.shape))\n",
    "\n"
   ]
  },
  {
   "cell_type": "markdown",
   "id": "db677cb8",
   "metadata": {},
   "source": [
    "### Training The Random Forest"
   ]
  },
  {
   "cell_type": "code",
   "execution_count": 12,
   "id": "9c62909b",
   "metadata": {},
   "outputs": [
    {
     "data": {
      "text/plain": [
       "10"
      ]
     },
     "execution_count": 12,
     "metadata": {},
     "output_type": "execute_result"
    }
   ],
   "source": [
    "#stratified k-cross validation to balance the classes\n",
    "skf = StratifiedKFold(n_splits=10)\n",
    "skf.get_n_splits(X, y)"
   ]
  },
  {
   "cell_type": "code",
   "execution_count": 13,
   "id": "0d65510f",
   "metadata": {},
   "outputs": [
    {
     "name": "stdout",
     "output_type": "stream",
     "text": [
      "TRAIN: [  18595   18596   18597 ... 1322593 1322594 1322595] TEST: [     0      1      2 ... 206111 206112 206641]\n",
      "TRAIN: [      0       1       2 ... 1322593 1322594 1322595] TEST: [ 18595  18596  18597 ... 379338 379339 379340]\n",
      "TRAIN: [      0       1       2 ... 1322593 1322594 1322595] TEST: [ 27554  27555  27556 ... 545198 545199 545200]\n",
      "TRAIN: [      0       1       2 ... 1322593 1322594 1322595] TEST: [ 32127  32128  32129 ... 678038 678039 678040]\n",
      "TRAIN: [      0       1       2 ... 1322593 1322594 1322595] TEST: [ 36431  36432  36433 ... 789466 789467 789468]\n",
      "TRAIN: [      0       1       2 ... 1322593 1322594 1322595] TEST: [ 48237  48238  48239 ... 903431 903432 903441]\n",
      "TRAIN: [      0       1       2 ... 1322593 1322594 1322595] TEST: [  50207   50208   50209 ... 1011197 1011198 1011199]\n",
      "TRAIN: [      0       1       2 ... 1322593 1322594 1322595] TEST: [  53003   53004   53005 ... 1118295 1118296 1118297]\n",
      "TRAIN: [      0       1       2 ... 1322593 1322594 1322595] TEST: [  56409   56410   56413 ... 1221743 1221744 1221745]\n",
      "TRAIN: [      0       1       2 ... 1221743 1221744 1221745] TEST: [ 447761  447762  447766 ... 1322593 1322594 1322595]\n"
     ]
    }
   ],
   "source": [
    "StratifiedKFold(n_splits=10, random_state=None, shuffle=False)\n",
    "for train_index, test_index in skf.split(X, y):\n",
    "    print(\"TRAIN:\", train_index, \"TEST:\", test_index)\n",
    "    X_train, X_test = X[train_index], X[test_index]\n",
    "    y_train, y_test = y[train_index], y[test_index]"
   ]
  },
  {
   "cell_type": "code",
   "execution_count": 31,
   "id": "f244d707",
   "metadata": {},
   "outputs": [],
   "source": [
    "#X_train, X_test, y_train, y_test = train_test_split(X, y, test_size=0.3) #stratify=y, random_state=123456"
   ]
  },
  {
   "cell_type": "code",
   "execution_count": 32,
   "id": "73f3b8d9",
   "metadata": {},
   "outputs": [
    {
     "data": {
      "text/plain": [
       "(1190337, 7)"
      ]
     },
     "execution_count": 32,
     "metadata": {},
     "output_type": "execute_result"
    }
   ],
   "source": [
    "X_train.shape"
   ]
  },
  {
   "cell_type": "code",
   "execution_count": 33,
   "id": "503b35a0",
   "metadata": {},
   "outputs": [
    {
     "data": {
      "text/plain": [
       "(132259, 7)"
      ]
     },
     "execution_count": 33,
     "metadata": {},
     "output_type": "execute_result"
    }
   ],
   "source": [
    "X_test.shape"
   ]
  },
  {
   "cell_type": "code",
   "execution_count": 34,
   "id": "be952abb",
   "metadata": {},
   "outputs": [
    {
     "data": {
      "text/plain": [
       "(1190337,)"
      ]
     },
     "execution_count": 34,
     "metadata": {},
     "output_type": "execute_result"
    }
   ],
   "source": [
    "y_train.shape"
   ]
  },
  {
   "cell_type": "code",
   "execution_count": 35,
   "id": "5f179874",
   "metadata": {},
   "outputs": [
    {
     "data": {
      "text/plain": [
       "(132259,)"
      ]
     },
     "execution_count": 35,
     "metadata": {},
     "output_type": "execute_result"
    }
   ],
   "source": [
    "y_test.shape"
   ]
  },
  {
   "cell_type": "code",
   "execution_count": 7,
   "id": "1b4bb547",
   "metadata": {},
   "outputs": [],
   "source": [
    "# Initialize our model with 500 trees\n",
    "rf = RandomForestClassifier(n_estimators=500, oob_score=True)\n"
   ]
  },
  {
   "cell_type": "code",
   "execution_count": 21,
   "id": "8aac447a",
   "metadata": {},
   "outputs": [],
   "source": [
    "\n",
    "# Fit our model to training data\n",
    "train = rf.fit(X_train, y_train)"
   ]
  },
  {
   "cell_type": "markdown",
   "id": "518aed6d",
   "metadata": {},
   "source": [
    "### Training Performance"
   ]
  },
  {
   "cell_type": "code",
   "execution_count": 24,
   "id": "cd8d3be5",
   "metadata": {},
   "outputs": [
    {
     "name": "stdout",
     "output_type": "stream",
     "text": [
      "Our OOB prediction of accuracy is: 80.17813442747726%\n"
     ]
    }
   ],
   "source": [
    "print('Our OOB prediction of accuracy is: {oob}%'.format(oob=rf.oob_score_ * 100))\n"
   ]
  },
  {
   "cell_type": "code",
   "execution_count": 15,
   "id": "0a6316af",
   "metadata": {},
   "outputs": [
    {
     "name": "stdout",
     "output_type": "stream",
     "text": [
      "predict      1      2     3       4       5      6     7     8      All\n",
      "truth                                                                  \n",
      "1        59433      0     0    5423    6055     23    37     0    70971\n",
      "2           61  15531     0     685    2605     54     0     0    18936\n",
      "3            7      0  3727     404     174      4     0     0     4316\n",
      "4          294      0     0  926868   15209    535    89     0   942995\n",
      "5          620      4     4   19405  204761    166   370     9   225339\n",
      "6          256      0     3    1591    8044  39076   232     3    49205\n",
      "7          224      9     0      61     150     10  3576     5     4035\n",
      "8            7      0     0     139    1848     27     8  4770     6799\n",
      "All      60902  15544  3734  954576  238846  39895  4312  4787  1322596\n"
     ]
    }
   ],
   "source": [
    "import pandas as pd\n",
    "\n",
    "# Setup a dataframe -- just like R\n",
    "df = pd.DataFrame()\n",
    "df['truth'] = y\n",
    "df['predict'] = rf.predict(X)\n",
    "\n",
    "# Cross-tabulate predictions\n",
    "print(pd.crosstab(df['truth'], df['predict'], margins=True))"
   ]
  },
  {
   "cell_type": "markdown",
   "id": "6a1c8cbf",
   "metadata": {},
   "source": [
    "### Validation Performance"
   ]
  },
  {
   "cell_type": "code",
   "execution_count": 10,
   "id": "9102ebad",
   "metadata": {},
   "outputs": [],
   "source": [
    "val = rf.predict(X_test)"
   ]
  },
  {
   "cell_type": "code",
   "execution_count": 11,
   "id": "bf2d660c",
   "metadata": {},
   "outputs": [],
   "source": [
    "target_names = ['Cropland', 'Mosaic Cropland', 'Mosaic Vegetation', 'Forest',\n",
    "                         'Shrubland', 'Grassland', 'Urban', 'Water'\n",
    "                                                           ]"
   ]
  },
  {
   "cell_type": "code",
   "execution_count": 12,
   "id": "03842f1f",
   "metadata": {},
   "outputs": [
    {
     "name": "stdout",
     "output_type": "stream",
     "text": [
      "                   precision    recall  f1-score   support\n",
      "\n",
      "         Cropland       0.25      0.07      0.11      7098\n",
      "  Mosaic Cropland       0.00      0.00      0.00      1894\n",
      "Mosaic Vegetation       0.00      0.00      0.00       431\n",
      "           Forest       0.76      0.95      0.85     94300\n",
      "        Shrubland       0.18      0.09      0.12     22533\n",
      "        Grassland       0.39      0.11      0.17      4920\n",
      "            Urban       0.01      0.01      0.01       404\n",
      "            Water       0.92      0.30      0.45       679\n",
      "\n",
      "         accuracy                           0.70    132259\n",
      "        macro avg       0.31      0.19      0.21    132259\n",
      "     weighted avg       0.61      0.70      0.64    132259\n",
      "\n"
     ]
    }
   ],
   "source": [
    "print(classification_report(y_test, val, target_names=target_names))"
   ]
  },
  {
   "cell_type": "code",
   "execution_count": 13,
   "id": "3f435392",
   "metadata": {},
   "outputs": [
    {
     "name": "stdout",
     "output_type": "stream",
     "text": [
      "Confusion matrix:\n",
      "[[  487     0     0  5423  1128    23    37     0]\n",
      " [   61     0     0   685  1094    54     0     0]\n",
      " [    7     0     0   404    16     4     0     0]\n",
      " [  294     0     0 89456  3926   535    89     0]\n",
      " [  620     4     4 19405  1955   166   370     9]\n",
      " [  256     0     3  1591  2303   532   232     3]\n",
      " [  224     9     0    61    90    10     5     5]\n",
      " [    7     0     0   139   294    27     8   204]]\n"
     ]
    },
    {
     "data": {
      "image/png": "[encoded data removed]",
      "text/plain": [
       "<Figure size 432x288 with 2 Axes>"
      ]
     },
     "metadata": {
      "needs_background": "light"
     },
     "output_type": "display_data"
    }
   ],
   "source": [
    "disp = metrics.plot_confusion_matrix(rf, X_test, y_test)\n",
    "disp.figure_.suptitle(\"Confusion Matrix\")\n",
    "print(f\"Confusion matrix:\\n{disp.confusion_matrix}\")\n",
    "\n",
    "plt.show()"
   ]
  },
  {
   "cell_type": "markdown",
   "id": "c7f34bdb",
   "metadata": {},
   "source": [
    "### Band Importance"
   ]
  },
  {
   "cell_type": "code",
   "execution_count": 14,
   "id": "9d6beddc",
   "metadata": {},
   "outputs": [
    {
     "name": "stdout",
     "output_type": "stream",
     "text": [
      "Band 1 importance: 0.12409062007074936\n",
      "Band 2 importance: 0.13948711625405702\n",
      "Band 3 importance: 0.11529673666714631\n",
      "Band 4 importance: 0.14098313375718868\n",
      "Band 5 importance: 0.13270211545417737\n",
      "Band 6 importance: 0.1813987220965016\n",
      "Band 7 importance: 0.16604155570017956\n"
     ]
    }
   ],
   "source": [
    "bands = [1, 2, 3, 4, 5, 6,7,8,9,10]\n",
    "\n",
    "for b, imp in zip(bands, rf.feature_importances_):\n",
    "    print('Band {b} importance: {imp}'.format(b=b, imp=imp))"
   ]
  },
  {
   "cell_type": "code",
   "execution_count": null,
   "id": "d5758042",
   "metadata": {},
   "outputs": [],
   "source": [
    "#scientific comment on band importance"
   ]
  },
  {
   "cell_type": "code",
   "execution_count": 32,
   "id": "79bf2d7a",
   "metadata": {},
   "outputs": [
    {
     "name": "stdout",
     "output_type": "stream",
     "text": [
      "Parameters currently in use:\n",
      "\n",
      "{'bootstrap': True,\n",
      " 'ccp_alpha': 0.0,\n",
      " 'class_weight': None,\n",
      " 'criterion': 'gini',\n",
      " 'max_depth': None,\n",
      " 'max_features': 'auto',\n",
      " 'max_leaf_nodes': None,\n",
      " 'max_samples': None,\n",
      " 'min_impurity_decrease': 0.0,\n",
      " 'min_impurity_split': None,\n",
      " 'min_samples_leaf': 1,\n",
      " 'min_samples_split': 2,\n",
      " 'min_weight_fraction_leaf': 0.0,\n",
      " 'n_estimators': 500,\n",
      " 'n_jobs': None,\n",
      " 'oob_score': True,\n",
      " 'random_state': None,\n",
      " 'verbose': 0,\n",
      " 'warm_start': False}\n"
     ]
    }
   ],
   "source": [
    "#current parameters in use\n",
    "\n",
    "# Look at parameters used by our current forest\n",
    "print('Parameters currently in use:\\n')\n",
    "pprint(rf.get_params())\n"
   ]
  },
  {
   "cell_type": "markdown",
   "id": "09fc6294",
   "metadata": {},
   "source": [
    "### Hyperparameter Testing with Grid Search\n",
    "\n",
    "Methood 1: Code adapted from \"Dealing with multiclass data\" - https://towardsdatascience.com/dealing-with-multiclass-data-78a1a27c5dcc"
   ]
  },
  {
   "cell_type": "code",
   "execution_count": 43,
   "id": "fdc9ec8a",
   "metadata": {},
   "outputs": [],
   "source": [
    "def hyper_param_rf_predict(X_train, y_train, X_test, y_test):\n",
    "    #rfc = RandomForestClassifier()\n",
    "    #rfc.fit(X_train, y_train)\n",
    "    n_optimal_param_grid = {\n",
    "    'bootstrap': [True],\n",
    "    'max_depth': [20], #setting this so as not to create a tree that's too big\n",
    "    #'max_features': [2, 3, 4, 10],\n",
    "    'min_samples_leaf': [1],\n",
    "    'min_samples_split': [2],\n",
    "    'n_estimators': [500]\n",
    "    }\n",
    "    grid_search_optimal = GridSearchCV(estimator = rf, param_grid = n_optimal_param_grid,\n",
    "                          cv = 3, n_jobs = -1, verbose = 2)\n",
    "    grid_search_optimal.fit(X_train, y_train)\n",
    "    rf_pred_gs = grid_search_optimal.predict(X_test)\n",
    "    print (\"Random Forest Train Accuracy Baseline After Grid Search:\", metrics.accuracy_score(y_train, grid_search_optimal.predict(X_train)))\n",
    "    print (\"Random Forest Test Accuracy Baseline After Grid Search:\", metrics.accuracy_score(y_test, grid_search_optimal.predict(X_test)))\n",
    "    print(confusion_matrix(y_test,rf_pred_gs))\n",
    "    print(classification_report(y_test,rf_pred_gs))\n",
    "    rf_train_acc = metrics.accuracy_score(y_train, rf.predict(X_train))\n",
    "    rf_test_acc = metrics.accuracy_score(y_test, rf.predict(X_test))\n",
    "\n",
    "\n",
    "   \n",
    "    return(rfc_train_acc, rfc_test_accs)\n"
   ]
  },
  {
   "cell_type": "code",
   "execution_count": 44,
   "id": "f97315c3",
   "metadata": {},
   "outputs": [
    {
     "name": "stdout",
     "output_type": "stream",
     "text": [
      "Fitting 3 folds for each of 1 candidates, totalling 3 fits\n",
      "Random Forest Train Accuracy Baseline After Grid Search: 0.8931546276390636\n",
      "Random Forest Test Accuracy Baseline After Grid Search: 0.7022055209853394\n",
      "[[  450     0     0  5509  1084    17    38     0]\n",
      " [   55     0     0   667  1122    50     0     0]\n",
      " [    7     0     0   404    16     4     0     0]\n",
      " [  244     0     0 89854  3668   453    81     0]\n",
      " [  669     3     4 19450  1887   175   336     9]\n",
      " [  226     0     2  1616  2374   471   229     2]\n",
      " [  234     5     0    49    98     9     5     4]\n",
      " [    7     0     0   137   295    27     7   206]]\n",
      "              precision    recall  f1-score   support\n",
      "\n",
      "           1       0.24      0.06      0.10      7098\n",
      "           2       0.00      0.00      0.00      1894\n",
      "           3       0.00      0.00      0.00       431\n",
      "           4       0.76      0.95      0.85     94300\n",
      "           5       0.18      0.08      0.11     22533\n",
      "           6       0.39      0.10      0.15      4920\n",
      "           7       0.01      0.01      0.01       404\n",
      "           8       0.93      0.30      0.46       679\n",
      "\n",
      "    accuracy                           0.70    132259\n",
      "   macro avg       0.31      0.19      0.21    132259\n",
      "weighted avg       0.61      0.70      0.64    132259\n",
      "\n"
     ]
    },
    {
     "ename": "NameError",
     "evalue": "name 'y_pred' is not defined",
     "output_type": "error",
     "traceback": [
      "\u001b[0;31m---------------------------------------------------------------------------\u001b[0m",
      "\u001b[0;31mNameError\u001b[0m                                 Traceback (most recent call last)",
      "\u001b[0;32m<ipython-input-44-7f4e8c392a12>\u001b[0m in \u001b[0;36m<module>\u001b[0;34m\u001b[0m\n\u001b[0;32m----> 1\u001b[0;31m \u001b[0mhyper_param_rf_predict\u001b[0m\u001b[0;34m(\u001b[0m\u001b[0mX_train\u001b[0m\u001b[0;34m,\u001b[0m \u001b[0my_train\u001b[0m\u001b[0;34m,\u001b[0m \u001b[0mX_test\u001b[0m\u001b[0;34m,\u001b[0m \u001b[0my_test\u001b[0m\u001b[0;34m)\u001b[0m\u001b[0;34m\u001b[0m\u001b[0m\n\u001b[0m",
      "\u001b[0;32m<ipython-input-43-3120bea7bed6>\u001b[0m in \u001b[0;36mhyper_param_rf_predict\u001b[0;34m(X_train, y_train, X_test, y_test)\u001b[0m\n\u001b[1;32m     22\u001b[0m \u001b[0;34m\u001b[0m\u001b[0m\n\u001b[1;32m     23\u001b[0m \u001b[0;34m\u001b[0m\u001b[0m\n\u001b[0;32m---> 24\u001b[0;31m     \u001b[0mconf_mat\u001b[0m \u001b[0;34m=\u001b[0m \u001b[0mconfusion_matrix\u001b[0m\u001b[0;34m(\u001b[0m\u001b[0my_test\u001b[0m\u001b[0;34m,\u001b[0m\u001b[0my_pred\u001b[0m\u001b[0;34m)\u001b[0m\u001b[0;34m\u001b[0m\u001b[0m\n\u001b[0m\u001b[1;32m     25\u001b[0m     \u001b[0mclass_rept\u001b[0m \u001b[0;34m=\u001b[0m \u001b[0mclassification_report\u001b[0m\u001b[0;34m(\u001b[0m\u001b[0my_test\u001b[0m\u001b[0;34m,\u001b[0m\u001b[0my_pred\u001b[0m \u001b[0;34m)\u001b[0m\u001b[0;34m\u001b[0m\u001b[0m\n\u001b[1;32m     26\u001b[0m     \u001b[0mfig\u001b[0m \u001b[0;34m=\u001b[0m \u001b[0mplt\u001b[0m\u001b[0;34m.\u001b[0m\u001b[0mfigure\u001b[0m\u001b[0;34m(\u001b[0m\u001b[0;34m)\u001b[0m\u001b[0;34m\u001b[0m\u001b[0m\n",
      "\u001b[0;31mNameError\u001b[0m: name 'y_pred' is not defined"
     ]
    }
   ],
   "source": [
    "hyper_param_rf_predict(X_train, y_train, X_test, y_test)"
   ]
  },
  {
   "cell_type": "markdown",
   "id": "7a01beaf",
   "metadata": {},
   "source": [
    "### Hyperparameter Testing with Random Search\n",
    "\n",
    "Method 2: Code adapted from Hyperparameter Tuning the Random Forest in Python - https://towardsdatascience.com/hyperparameter-tuning-the-random-forest-in-python-using-scikit-learn-28d2aa77dd74\n"
   ]
  },
  {
   "cell_type": "code",
   "execution_count": 10,
   "id": "b237ed47",
   "metadata": {},
   "outputs": [
    {
     "name": "stdout",
     "output_type": "stream",
     "text": [
      "{'bootstrap': [True],\n",
      " 'max_depth': [20, None],\n",
      " 'max_features': ['auto', 'sqrt'],\n",
      " 'min_samples_leaf': [1],\n",
      " 'min_samples_split': [2],\n",
      " 'n_estimators': [500]}\n"
     ]
    }
   ],
   "source": [
    "from sklearn.model_selection import RandomizedSearchCV\n",
    "### cCreate the parameter grid\n",
    "# Number of trees in random forest\n",
    "n_estimators = [500]\n",
    "# Number of features to consider at every split\n",
    "max_features = ['auto', 'sqrt']\n",
    "# Maximum number of levels in tree\n",
    "max_depth = [20]\n",
    "max_depth.append(None)\n",
    "# Minimum number of samples required to split a node\n",
    "min_samples_split = [2]\n",
    "# Minimum number of samples required at each leaf node\n",
    "min_samples_leaf = [1]\n",
    "# Method of selecting samples for training each tree\n",
    "bootstrap = [True]\n",
    "# Create the random grid\n",
    "random_grid = {'n_estimators': n_estimators,\n",
    "               'max_features': max_features,\n",
    "               'max_depth': max_depth,\n",
    "               'min_samples_split': min_samples_split,\n",
    "               'min_samples_leaf': min_samples_leaf,\n",
    "               'bootstrap': bootstrap}\n",
    "pprint(random_grid)"
   ]
  },
  {
   "cell_type": "code",
   "execution_count": 14,
   "id": "2518e2fb",
   "metadata": {},
   "outputs": [
    {
     "name": "stdout",
     "output_type": "stream",
     "text": [
      "Fitting 3 folds for each of 4 candidates, totalling 12 fits\n"
     ]
    },
    {
     "name": "stderr",
     "output_type": "stream",
     "text": [
      "/home/users/joycelyn/miniconda3/envs/mres_proj/lib/python3.7/site-packages/sklearn/model_selection/_search.py:289: UserWarning: The total space of parameters 4 is smaller than n_iter=10. Running 4 iterations. For exhaustive searches, use GridSearchCV.\n",
      "  % (grid_size, self.n_iter, grid_size), UserWarning)\n"
     ]
    },
    {
     "data": {
      "text/plain": [
       "RandomizedSearchCV(cv=3,\n",
       "                   estimator=RandomForestClassifier(n_estimators=500,\n",
       "                                                    oob_score=True),\n",
       "                   n_jobs=-1,\n",
       "                   param_distributions={'bootstrap': [True],\n",
       "                                        'max_depth': [20, None],\n",
       "                                        'max_features': ['auto', 'sqrt'],\n",
       "                                        'min_samples_leaf': [1],\n",
       "                                        'min_samples_split': [2],\n",
       "                                        'n_estimators': [500]},\n",
       "                   random_state=42, verbose=2)"
      ]
     },
     "execution_count": 14,
     "metadata": {},
     "output_type": "execute_result"
    }
   ],
   "source": [
    "### Instantiate the random search and fit\n",
    "# Random search of parameters, using 3 fold cross validation, \n",
    "# search across 100 different combinations, and use all available cores\n",
    "rf_random = RandomizedSearchCV(estimator = rf, param_distributions = random_grid, n_iter = 10, cv = 3, verbose=2, random_state=42, n_jobs = -1)\n",
    "# Fit the random search model\n",
    "rf_random.fit(X_train, y_train)\n"
   ]
  },
  {
   "cell_type": "markdown",
   "id": "b9d3b0a4",
   "metadata": {},
   "source": [
    "Note: The most important arguments in RandomizedSearchCV are n_iter, which controls the number of different combinations to try, and cv which is the number of folds to use for cross validation. More iterations will cover a wider search space and more cv folds reduces the chances of overfitting."
   ]
  },
  {
   "cell_type": "code",
   "execution_count": 15,
   "id": "ce560cc4",
   "metadata": {},
   "outputs": [
    {
     "data": {
      "text/plain": [
       "{'n_estimators': 500,\n",
       " 'min_samples_split': 2,\n",
       " 'min_samples_leaf': 1,\n",
       " 'max_features': 'auto',\n",
       " 'max_depth': 20,\n",
       " 'bootstrap': True}"
      ]
     },
     "execution_count": 15,
     "metadata": {},
     "output_type": "execute_result"
    }
   ],
   "source": [
    "### Identify the best parameters\n",
    "rf_random.best_params_"
   ]
  },
  {
   "cell_type": "code",
   "execution_count": null,
   "id": "27af674b",
   "metadata": {},
   "outputs": [],
   "source": [
    "### Evaluate the performance of the grid search model to the baseline model\n",
    "def evaluate(model, test_features, test_labels):\n",
    "    predictions = model.predict(test_features)\n",
    "    errors = abs(predictions - test_labels)\n",
    "    mape = 100 * np.mean(errors / test_labels)\n",
    "    accuracy = 100 - mape\n",
    "    print('Model Performance')\n",
    "    print('Average Error: {:0.4f} degrees.'.format(np.mean(errors)))\n",
    "    print('Accuracy = {:0.2f}%.'.format(accuracy))\n",
    "    \n",
    "    return accuracy\n",
    "\n",
    "#baseline\n",
    "base_model = rf\n",
    "train = base_model.fit(X_train, y_train)\n",
    "base_accuracy = evaluate(train, X_test, y_test)\n",
    "\n",
    "#random grid search\n",
    "best_random = rf_random.best_estimator_\n",
    "random_accuracy = evaluate(best_random, X_test, y_test)\n",
    "\n",
    "\n",
    "print('Improvement of {:0.2f}%.'.format( 100 * (random_accuracy - base_accuracy) / base_accuracy))\n"
   ]
  },
  {
   "cell_type": "code",
   "execution_count": null,
   "id": "be6ba0b3",
   "metadata": {},
   "outputs": [],
   "source": []
  }
 ],
 "metadata": {
  "kernelspec": {
   "display_name": "Python 3",
   "language": "python",
   "name": "python3"
  },
  "language_info": {
   "codemirror_mode": {
    "name": "ipython",
    "version": 3
   },
   "file_extension": ".py",
   "mimetype": "text/x-python",
   "name": "python",
   "nbconvert_exporter": "python",
   "pygments_lexer": "ipython3",
   "version": "3.7.0"
  }
 },
 "nbformat": 4,
 "nbformat_minor": 5
}
