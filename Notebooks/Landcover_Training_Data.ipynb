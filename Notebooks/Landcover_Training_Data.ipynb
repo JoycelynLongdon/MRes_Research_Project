{
 "cells": [
  {
   "cell_type": "markdown",
   "id": "07ab7f4a",
   "metadata": {},
   "source": [
    "# Landcover Training Data\n",
    "\n",
    "#### Sources: \n",
    "- https://blog.gishub.org/earth-engine-tutorial-32-machine-learning-with-earth-engine-supervised-classification\n",
    "- https://geohackweek.github.io/GoogleEarthEngine/05-classify-imagery/\n",
    "- https://ceholden.github.io/open-geo-tutorial/python/chapter_5_classification.html\n",
    "- GEE Documentation\n"
   ]
  },
  {
   "cell_type": "markdown",
   "id": "8dcb00b2",
   "metadata": {},
   "source": [
    "### Import libraries\n"
   ]
  },
  {
   "cell_type": "code",
   "execution_count": 1,
   "id": "f418ec74",
   "metadata": {},
   "outputs": [],
   "source": [
    "import ee\n",
    "import geemap\n",
    "from geemap import *\n",
    "import json\n",
    "from geemap import geojson_to_ee, ee_to_geojson\n",
    "from ipyleaflet import GeoJSON\n",
    "import os\n",
    "# !pip install geemap\n"
   ]
  },
  {
   "cell_type": "code",
   "execution_count": 2,
   "id": "d35a6086",
   "metadata": {},
   "outputs": [],
   "source": [
    "Map = geemap.Map()"
   ]
  },
  {
   "cell_type": "markdown",
   "id": "9a8d47b6",
   "metadata": {},
   "source": [
    "### Organise Data and Visualise Data"
   ]
  },
  {
   "cell_type": "code",
   "execution_count": 3,
   "id": "caa950f7",
   "metadata": {},
   "outputs": [],
   "source": [
    "#import studyRegion data\n",
    "file_path = os.path.abspath('/Users/joycelynlongdon/Desktop/Cambridge/CambridgeCoding/MRES/Data/GeoJSONS/DRC_Training_Polygon.geojson')\n",
    "\n",
    "#define area of interest\n",
    "def open_aoi_json(aoi_file_path):\n",
    "    with open(aoi_file_path) as f:\n",
    "        studyRegion = json.load(f)\n",
    "    studyRegion = ee.FeatureCollection(studyRegion).first().geometry()\n",
    "    #print(aoi)\n",
    "    return studyRegion\n",
    "\n",
    "studyRegion = open_aoi_json(file_path)\n"
   ]
  },
  {
   "cell_type": "code",
   "execution_count": 4,
   "id": "c1eac45d",
   "metadata": {
    "scrolled": false
   },
   "outputs": [
    {
     "data": {
      "application/vnd.jupyter.widget-view+json": {
       "model_id": "64c19e26de4d4f02bb665aafc7dc48b3",
       "version_major": 2,
       "version_minor": 0
      },
      "text/plain": [
       "Map(center=[-4, 21], controls=(WidgetControl(options=['position'], widget=HBox(children=(ToggleButton(value=Fa…"
      ]
     },
     "metadata": {},
     "output_type": "display_data"
    }
   ],
   "source": [
    "#process satellite imagery\n",
    "point = ee.Geometry.Point(21, -4)\n",
    "\n",
    "def cloudMask(image):\n",
    "  #Bits 3 and 5 are cloud shadow and cloud, respectively.\n",
    "    cloudShadowBitMask = (1 << 3)\n",
    "    cloudsBitMask = (1 << 5)\n",
    "    #Get the pixel QA band.\n",
    "    qa = image.select('pixel_qa')\n",
    "    #Both flags should be set to zero, indicating clear conditions.\n",
    "    mask = qa.bitwiseAnd(cloudShadowBitMask).eq(0).And(qa.bitwiseAnd(cloudsBitMask).eq(0))\n",
    "    return image.updateMask(mask)\n",
    "#making a cloud free Landsat 8 Surface Reflectance Composite\n",
    "\n",
    "l8_sr = ee.ImageCollection('LANDSAT/LC08/C01/T1_SR')\n",
    "l8_sr_masked = l8_sr.map(cloudMask)\n",
    "l8_sr_med = l8_sr_masked.median().select(['B1', 'B3', 'B2','B4','B5','B6','B7'])\n",
    "l8_image = l8_sr_med.clip(studyRegion)\n",
    "#reduce image collection into one multiband image taking the median value of each pixel\n",
    "\n",
    "vis_params = {\n",
    "    'min': 0,\n",
    "    'max': 3000,\n",
    "    'bands': ['B4', 'B3', 'B2'] #True Colour Composite\n",
    "}\n",
    "\n",
    "\n",
    "Map.centerObject(point, 6)\n",
    "Map.addLayer(l8_sr_masked, vis_params, \"Landsat-8\")\n",
    "Map\n",
    "#Map.addLayer(aoi, \"Mai_Ndombe\");\n"
   ]
  },
  {
   "cell_type": "markdown",
   "id": "897e53a1",
   "metadata": {},
   "source": [
    "### Create training set"
   ]
  },
  {
   "cell_type": "code",
   "execution_count": 5,
   "id": "ee480635",
   "metadata": {},
   "outputs": [],
   "source": [
    "#set training region extent\n",
    "region = ee.Geometry.Point([25.47, 7.19]).buffer(10000) #the town of Kabongo in the South East where there is a good range of classes"
   ]
  },
  {
   "cell_type": "code",
   "execution_count": 8,
   "id": "6217f317",
   "metadata": {},
   "outputs": [
    {
     "data": {
      "application/vnd.jupyter.widget-view+json": {
       "model_id": "64c19e26de4d4f02bb665aafc7dc48b3",
       "version_major": 2,
       "version_minor": 0
      },
      "text/plain": [
       "Map(bottom=8674.0, center=[-4, 21], controls=(WidgetControl(options=['position'], widget=HBox(children=(Toggle…"
      ]
     },
     "metadata": {},
     "output_type": "display_data"
    }
   ],
   "source": [
    "#import and visualise training data set and vectorise to make into a FEatureCollection which is necesary for GEE\n",
    "LC_data = ee.Image(\"COPERNICUS/Landcover/100m/Proba-V-C3/Global/2019\").select('discrete_classification').clip(studyRegion)\n",
    "\n",
    "Map.centerObject(point, 6)\n",
    "Map.addLayer(LC_data, {}, \"Land Cover\")\n",
    "Map\n"
   ]
  },
  {
   "cell_type": "code",
   "execution_count": 12,
   "id": "ffc772ea",
   "metadata": {},
   "outputs": [
    {
     "name": "stdout",
     "output_type": "stream",
     "text": [
      "None\n"
     ]
    }
   ],
   "source": [
    "class_values = LC_data.get('discrete-classficiation_palette\t')\n",
    "print(class_values.getInfo())\n"
   ]
  },
  {
   "cell_type": "code",
   "execution_count": null,
   "id": "55e44fe8",
   "metadata": {},
   "outputs": [],
   "source": []
  }
 ],
 "metadata": {
  "kernelspec": {
   "display_name": "Python 3",
   "language": "python",
   "name": "python3"
  },
  "language_info": {
   "codemirror_mode": {
    "name": "ipython",
    "version": 3
   },
   "file_extension": ".py",
   "mimetype": "text/x-python",
   "name": "python",
   "nbconvert_exporter": "python",
   "pygments_lexer": "ipython3",
   "version": "3.7.0"
  }
 },
 "nbformat": 4,
 "nbformat_minor": 5
}
