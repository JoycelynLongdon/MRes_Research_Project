{
 "cells": [
  {
   "cell_type": "markdown",
   "id": "c4690e20",
   "metadata": {},
   "source": [
    "# Landcover Training Data\n",
    "\n",
    "#### Sources: \n",
    "- https://blog.gishub.org/earth-engine-tutorial-32-machine-learning-with-earth-engine-supervised-classification\n",
    "- https://geohackweek.github.io/GoogleEarthEngine/05-classify-imagery/\n",
    "- https://ceholden.github.io/open-geo-tutorial/python/chapter_5_classification.html\n",
    "- GEE Documentation\n"
   ]
  },
  {
   "cell_type": "markdown",
   "id": "319c823d",
   "metadata": {},
   "source": [
    "### Import libraries\n"
   ]
  },
  {
   "cell_type": "code",
   "execution_count": 3,
   "id": "1618f523",
   "metadata": {},
   "outputs": [],
   "source": [
    "import ee\n",
    "import geemap\n",
    "from geemap import *\n",
    "import json\n",
    "from geemap import geojson_to_ee, ee_to_geojson\n",
    "from ipyleaflet import GeoJSON\n",
    "import os\n",
    "# !pip install geemap\n"
   ]
  },
  {
   "cell_type": "code",
   "execution_count": 4,
   "id": "3bdee2c8",
   "metadata": {},
   "outputs": [],
   "source": [
    "Map = geemap.Map()"
   ]
  },
  {
   "cell_type": "markdown",
   "id": "c6e1db0e",
   "metadata": {},
   "source": [
    "### Organise Data and Visualise Data"
   ]
  },
  {
   "cell_type": "code",
   "execution_count": 6,
   "id": "98e99e05",
   "metadata": {},
   "outputs": [],
   "source": [
    "#import studyRegion data\n",
    "file_path = os.path.abspath('/Users/joycelynlongdon/Desktop/Cambridge/CambridgeCoding/MRES/Data/GeoJSONS/PIREDD_Plataue.geojson')\n",
    "\n",
    "#define area of interest\n",
    "def open_aoi_json(aoi_file_path):\n",
    "    with open(aoi_file_path) as f:\n",
    "        studyRegion = json.load(f)\n",
    "    studyRegion = ee.FeatureCollection(studyRegion).first().geometry()\n",
    "    #print(aoi)\n",
    "    return studyRegion\n",
    "\n",
    "studyRegion = open_aoi_json(file_path)\n"
   ]
  },
  {
   "cell_type": "code",
   "execution_count": 16,
   "id": "4f5e9f9e",
   "metadata": {
    "scrolled": false
   },
   "outputs": [
    {
     "data": {
      "application/vnd.jupyter.widget-view+json": {
       "model_id": "c54cb1ccfc2d4bbcb9f1bc47b6b9f9a3",
       "version_major": 2,
       "version_minor": 0
      },
      "text/plain": [
       "Map(bottom=8538.0, center=[-4, 21], controls=(WidgetControl(options=['position'], widget=HBox(children=(Toggle…"
      ]
     },
     "metadata": {},
     "output_type": "display_data"
    }
   ],
   "source": [
    "#process satellite imagery\n",
    "point = ee.Geometry.Point(21, -4)\n",
    "\n",
    "def cloudMask(image):\n",
    "  #Bits 3 and 5 are cloud shadow and cloud, respectively.\n",
    "    cloudShadowBitMask = (1 << 3)\n",
    "    cloudsBitMask = (1 << 5)\n",
    "    #Get the pixel QA band.\n",
    "    qa = image.select('pixel_qa')\n",
    "    #Both flags should be set to zero, indicating clear conditions.\n",
    "    mask = qa.bitwiseAnd(cloudShadowBitMask).eq(0).And(qa.bitwiseAnd(cloudsBitMask).eq(0))\n",
    "    return image.updateMask(mask)\n",
    "#making a cloud free Landsat 8 Surface Reflectance Composite\n",
    "\n",
    "l8_sr = ee.ImageCollection('LANDSAT/LC08/C01/T1_SR')\n",
    "l8_sr_masked = l8_sr.map(cloudMask)\n",
    "l8_sr_med = l8_sr_masked.median().select(['B1', 'B3', 'B2','B4','B5','B6','B7'])\n",
    "l8_image = l8_sr_med.clip(studyRegion)\n",
    "#reduce image collection into one multiband image taking the median value of each pixel\n",
    "\n",
    "vis_params = {\n",
    "    'min': 0,\n",
    "    'max': 3000,\n",
    "    'bands': ['B4', 'B3', 'B2'] #True Colour Composite\n",
    "}\n",
    "\n",
    "\n",
    "Map.centerObject(point, 6)\n",
    "Map.addLayer(l8_sr_masked, vis_params, \"Landsat-8\")\n",
    "Map\n",
    "#Map.addLayer(aoi, \"Mai_Ndombe\");\n"
   ]
  },
  {
   "cell_type": "markdown",
   "id": "c95cb820",
   "metadata": {},
   "source": [
    "### Create training set"
   ]
  },
  {
   "cell_type": "code",
   "execution_count": 17,
   "id": "d557c0ed",
   "metadata": {},
   "outputs": [],
   "source": [
    "#set training region extent\n",
    "region = ee.Geometry.Point([25.47, 7.19]).buffer(10000) #the town of Kabongo in the South East where there is a good range of classes"
   ]
  },
  {
   "cell_type": "code",
   "execution_count": 21,
   "id": "2b81fa9b",
   "metadata": {},
   "outputs": [
    {
     "ename": "AttributeError",
     "evalue": "'Image' object has no attribute 'reduceToVectores'",
     "output_type": "error",
     "traceback": [
      "\u001b[0;31m---------------------------------------------------------------------------\u001b[0m",
      "\u001b[0;31mAttributeError\u001b[0m                            Traceback (most recent call last)",
      "\u001b[0;32m<ipython-input-21-d34f6ad9e87e>\u001b[0m in \u001b[0;36m<module>\u001b[0;34m\u001b[0m\n\u001b[1;32m      2\u001b[0m \u001b[0mESA_CCI\u001b[0m \u001b[0;34m=\u001b[0m \u001b[0;34m'/Users/joycelynlongdon/Desktop/Cambridge/CambridgeCoding/MRES/Data/ESA_CCI/CCI_Landcover_Maps/ESA_CCI_LC_Map_2013.tif'\u001b[0m\u001b[0;34m\u001b[0m\u001b[0m\n\u001b[1;32m      3\u001b[0m \u001b[0mESA_CCI\u001b[0m \u001b[0;34m=\u001b[0m \u001b[0mee\u001b[0m\u001b[0;34m.\u001b[0m\u001b[0mImage\u001b[0m\u001b[0;34m(\u001b[0m\u001b[0mESA_CCI\u001b[0m\u001b[0;34m)\u001b[0m\u001b[0;34m\u001b[0m\u001b[0m\n\u001b[0;32m----> 4\u001b[0;31m ESA_CCI = ESA_CCI.reduceToVectores({\n\u001b[0m\u001b[1;32m      5\u001b[0m     \u001b[0;34m\"geometry\"\u001b[0m\u001b[0;34m:\u001b[0m\u001b[0mstudyRegion\u001b[0m\u001b[0;34m,\u001b[0m\u001b[0;34m\u001b[0m\u001b[0m\n\u001b[1;32m      6\u001b[0m     \u001b[0;34m\"crs\"\u001b[0m\u001b[0;34m:\u001b[0m \u001b[0;34m'EPSG:4326'\u001b[0m\u001b[0;34m,\u001b[0m\u001b[0;34m\u001b[0m\u001b[0m\n",
      "\u001b[0;31mAttributeError\u001b[0m: 'Image' object has no attribute 'reduceToVectores'"
     ]
    }
   ],
   "source": [
    "#import training data set and vectorise to make into a FEatureCollection which is necesary for GEE\n",
    "ESA_CCI = '/Users/joycelynlongdon/Desktop/Cambridge/CambridgeCoding/MRES/Data/ESA_CCI/CCI_Landcover_Maps/ESA_CCI_LC_Map_2013.tif'\n",
    "ESA_CCI = ee.Image(ESA_CCI)\n",
    "ESA_CCI = ESA_CCI.reduceToVectores({\n",
    "    \"geometry\":studyRegion,\n",
    "    \"crs\": 'EPSG:4326',\n",
    "    \"scale\": 300,\n",
    "    \"labelProperty\": landcover_data\n",
    "})"
   ]
  },
  {
   "cell_type": "code",
   "execution_count": null,
   "id": "b2bdbd88",
   "metadata": {},
   "outputs": [],
   "source": []
  }
 ],
 "metadata": {
  "kernelspec": {
   "display_name": "Python 3",
   "language": "python",
   "name": "python3"
  },
  "language_info": {
   "codemirror_mode": {
    "name": "ipython",
    "version": 3
   },
   "file_extension": ".py",
   "mimetype": "text/x-python",
   "name": "python",
   "nbconvert_exporter": "python",
   "pygments_lexer": "ipython3",
   "version": "3.7.0"
  }
 },
 "nbformat": 4,
 "nbformat_minor": 5
}
