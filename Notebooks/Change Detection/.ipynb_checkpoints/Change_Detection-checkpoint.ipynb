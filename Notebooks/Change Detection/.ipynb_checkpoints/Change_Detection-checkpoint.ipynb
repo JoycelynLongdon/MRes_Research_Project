{
 "cells": [
  {
   "cell_type": "markdown",
   "id": "ac3092d6",
   "metadata": {},
   "source": [
    "# Continuous Change Detection (CCDC) Land Cover"
   ]
  },
  {
   "cell_type": "markdown",
   "id": "331fbd70",
   "metadata": {},
   "source": [
    "This code is adapted from the CCDC methodology detailed in the following manuscript: https://www.sciencedirect.com/science/article/abs/pii/S0034425714000248"
   ]
  },
  {
   "cell_type": "code",
   "execution_count": 1,
   "id": "d22aefcf",
   "metadata": {},
   "outputs": [],
   "source": [
    "import ee\n",
    "import geemap\n",
    "from geemap import *\n",
    "import json\n",
    "from geemap import geojson_to_ee, ee_to_geojson\n",
    "from ipyleaflet import GeoJSON\n",
    "import os\n",
    "import sklearn\n",
    "import js2py\n",
    "\n",
    "\n",
    "# !pip install geemap\n",
    "\n",
    "utils = ('users/parevalo_bu/gee-ccdc-tools:ccdcUtilities/api')"
   ]
  },
  {
   "cell_type": "markdown",
   "id": "aabb7a00",
   "metadata": {},
   "source": [
    "### Define parameters"
   ]
  },
  {
   "cell_type": "code",
   "execution_count": 4,
   "id": "5e6864d4",
   "metadata": {},
   "outputs": [
    {
     "ename": "NameError",
     "evalue": "name 'classifier' is not defined",
     "output_type": "error",
     "traceback": [
      "\u001b[0;31m---------------------------------------------------------------------------\u001b[0m",
      "\u001b[0;31mNameError\u001b[0m                                 Traceback (most recent call last)",
      "\u001b[0;32m<ipython-input-4-eb54f8136c8d>\u001b[0m in \u001b[0;36m<module>\u001b[0;34m\u001b[0m\n\u001b[1;32m     21\u001b[0m   \u001b[0;34m'classProperty'\u001b[0m\u001b[0;34m:\u001b[0m \u001b[0;34m'LC_Class'\u001b[0m\u001b[0;34m,\u001b[0m\u001b[0;34m\u001b[0m\u001b[0m\n\u001b[1;32m     22\u001b[0m   \u001b[0;34m'yearProperty'\u001b[0m\u001b[0;34m:\u001b[0m \u001b[0;34m'year'\u001b[0m\u001b[0;34m,\u001b[0m\u001b[0;34m\u001b[0m\u001b[0m\n\u001b[0;32m---> 23\u001b[0;31m   \u001b[0mclassifier\u001b[0m\u001b[0;34m:\u001b[0m \u001b[0mee\u001b[0m\u001b[0;34m.\u001b[0m\u001b[0mClassifier\u001b[0m\u001b[0;34m.\u001b[0m\u001b[0msmileRandomForest\u001b[0m\u001b[0;34m,\u001b[0m\u001b[0;34m\u001b[0m\u001b[0m\n\u001b[0m\u001b[1;32m     24\u001b[0m   'classifierParams': {\n\u001b[1;32m     25\u001b[0m     \u001b[0;34m'numberOfTrees'\u001b[0m\u001b[0;34m:\u001b[0m \u001b[0;36m150\u001b[0m\u001b[0;34m,\u001b[0m\u001b[0;34m\u001b[0m\u001b[0m\n",
      "\u001b[0;31mNameError\u001b[0m: name 'classifier' is not defined"
     ]
    }
   ],
   "source": [
    "#Change detection parameters\n",
    "changeDetection = {\n",
    "  'breakpointBands': ['GREEN','RED','NIR','SWIR1','SWIR2'],\n",
    "  'tmaskBands': ['GREEN','SWIR2'],\n",
    "  'minObservations': 6,\n",
    "  'chiSquareProbability': .99,\n",
    "  'minNumOfYearsScaler': 1.33,\n",
    "  'dateFormat': 2,\n",
    "  'lambda': 20/10000,\n",
    "  'maxIterations': 25000\n",
    "}\n",
    "\n",
    "\n",
    "#Classification parameters\n",
    "classification = {\n",
    "  'bandNames': [\"B1\",\"B2\",\"B3\",\"B4\",\"B5\",\"B6\",\"B7\"],\n",
    "  'inputFeatures': [\"INTP\", \"SLP\",\"PHASE\",\"RMSE\"],\n",
    "  'coefs': [\"INTP\", \"SLP\",\"COS\", \"SIN\",\"RMSE\",\"COS2\",\"SIN2\",\"COS3\",\"SIN3\"],\n",
    "  'ancillaryFeatures': [\"ELEVATION\",\"ASPECT\",\"DEM_SLOPE\",\"RAINFALL\",\"TEMPERATURE\"],\n",
    "  'resultFormat': 'SegCollection',\n",
    "  'classProperty': 'LC_Class',\n",
    "  'yearProperty': 'year',\n",
    "  'classifier': ee.Classifier.smileRandomForest,\n",
    "  'classifierParams': {\n",
    "    'numberOfTrees': 150,\n",
    "    'variablesPerSplit': null,\n",
    "    'minLeafPopulation': 1,\n",
    "    'bagFraction': 0.5,\n",
    "    'maxNodes': null\n",
    "  },\n",
    "  'outPath': '/Users/joycelynlongdon/Desktop/Cambridge/CambridgeCoding/MRES/GEE_examples',\n",
    "  'segs': [\"S1\", \"S2\", \"S3\", \"S4\", \"S5\", \"S6\"],\n",
    "  #'trainingPath': projects/GLANCE/TRAINING/MASTER/NA/NA_V1/NA_Training_Master_V1_NO_LCMAP_2021_03_17',\n",
    "  #'trainingPathPredictors': 'projects/GLANCE/TRAINING/MASTER/NA/NA_V1/NA_Training_Master_V1_NO_LCMAP_2021_03_17_predictors',\n",
    "}\n",
    "\n",
    "#define study region\n",
    "file_path = os.path.abspath('/Users/joycelynlongdon/Desktop/Cambridge/CambridgeCoding/MRES/GEE_examples/Input Data/mai_ndombe.json')\n",
    "\n",
    "with open(file_path) as f:\n",
    "    aoi_poly = json.load(f)\n",
    "\n",
    "studyRegion = ee.FeatureCollection(aoi_poly).first().geometry()\n",
    "\n",
    "params = {\n",
    "  'start': '2013-01-01',\n",
    "  'end': '2019-01-01',\n",
    "  'ChangeDetection': changeDetection,\n",
    "  'Classification': classification,\n",
    "  'StudyRegion': studyRegion\n",
    "}\n",
    "\n",
    "#Filter Landsat data by date and location \n",
    "filteredLandsat = utils.Inputs.getLandsat().filterBounds(params.StudyRegion).filterDate(params.start, params.end)\n",
    "\n",
    "print(filteredLandsat.size())"
   ]
  },
  {
   "cell_type": "code",
   "execution_count": null,
   "id": "67bc45c3",
   "metadata": {},
   "outputs": [],
   "source": []
  }
 ],
 "metadata": {
  "kernelspec": {
   "display_name": "Python 3",
   "language": "python",
   "name": "python3"
  },
  "language_info": {
   "codemirror_mode": {
    "name": "ipython",
    "version": 3
   },
   "file_extension": ".py",
   "mimetype": "text/x-python",
   "name": "python",
   "nbconvert_exporter": "python",
   "pygments_lexer": "ipython3",
   "version": "3.7.0"
  }
 },
 "nbformat": 4,
 "nbformat_minor": 5
}
