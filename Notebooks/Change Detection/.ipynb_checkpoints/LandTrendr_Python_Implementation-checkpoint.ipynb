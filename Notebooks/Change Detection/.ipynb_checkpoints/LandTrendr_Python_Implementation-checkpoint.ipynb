{
 "cells": [
  {
   "cell_type": "code",
   "execution_count": 1,
   "id": "0c86bc75",
   "metadata": {},
   "outputs": [],
   "source": [
    "#imports\n",
    "import ee\n",
    "import geemap\n",
    "from geemap import *\n",
    "import json\n",
    "from geemap import geojson_to_ee, ee_to_geojson\n",
    "from ipyleaflet import GeoJSON\n",
    "import os"
   ]
  },
  {
   "cell_type": "markdown",
   "id": "ed2c0639",
   "metadata": {},
   "source": [
    "Code adapted from the GEE documentation and examples written by:\n",
    "author: Justin Braaten | jstnbraaten@gmail.com\n",
    "        Zhiqiang Yang  | zhiqiang.yang@oregonstate.edu\n",
    "         Robert Kennedy | rkennedy@coas.oregonstate.edu\n",
    " parameter definitions: https://emapr.github.io/LT-GEE/api.html#getchangemap\n",
    " website: https://github.com/eMapR/LT-GEE\n",
    " notes: \n",
    "   - you must add the LT-GEE API to your GEE account to run this script. \n",
    "     Visit this URL to add it:\n",
    "     https://code.earthengine.google.com/?accept_repo=users/emaprlab/public\n",
    "   - use this app to help parameterize: \n",
    "     https://emaprlab.users.earthengine.app/view/lt-gee-change-mapper\n"
   ]
  },
  {
   "cell_type": "code",
   "execution_count": 3,
   "id": "0470c5b0",
   "metadata": {},
   "outputs": [],
   "source": [
    "# define landtrendr parameters\n",
    "runParams = { \n",
    "  'maxSegments':            6,\n",
    "  'spikeThreshold':         0.9,\n",
    "  'vertexCountOvershoot':   3,\n",
    "  'preventOneYearRecovery': True,\n",
    "  'recoveryThreshold':      0.25,\n",
    "  'pvalThreshold':          0.05,\n",
    "  'bestModelProportion':    0.75,\n",
    "  'minObservationsNeeded':  6\n",
    "};\n",
    "\n"
   ]
  },
  {
   "cell_type": "code",
   "execution_count": 7,
   "id": "46a311ff",
   "metadata": {},
   "outputs": [],
   "source": [
    "# define change parameters\n",
    "changeParams = {\n",
    "  'delta':  'loss',\n",
    "  'sort':   'greatest',\n",
    "  'year':   {'checked':True, 'start':2013, 'end':2020},\n",
    "  'mag':    {'checked':True, 'value':200,  'operator':'>'}, #The absolute value representing the spectral delta of change events to be compared against the following operator parameter. It is in the units of the spectral index defined by the index parameter in the runL\n",
    "  'dur':    {'checked':True, 'value':4,    'operator':'<'}, #The number of years a change event took to complete to be compared against the following operator parameter. It is in units of years. Less than 4 indicates more abrupt change\n",
    "  'preval': {'checked':True, 'value':300,  'operator':'>'}, #The spectral index value prior to a change event to be compared against the following operator parameter. It is in the units of the spectral index\n",
    "  'mmu':    {'checked':True, 'value':1}, #The minimum number of pixels defining a change event patch. Number of pixels is the unit.\n",
    "};\n"
   ]
  },
  {
   "cell_type": "code",
   "execution_count": 9,
   "id": "fd3de839",
   "metadata": {},
   "outputs": [
    {
     "ename": "NameError",
     "evalue": "name 'require' is not defined",
     "output_type": "error",
     "traceback": [
      "\u001b[0;31m---------------------------------------------------------------------------\u001b[0m",
      "\u001b[0;31mNameError\u001b[0m                                 Traceback (most recent call last)",
      "\u001b[0;32m<ipython-input-9-bce8edf475c0>\u001b[0m in \u001b[0;36m<module>\u001b[0;34m\u001b[0m\n\u001b[1;32m      1\u001b[0m \u001b[0;31m#load the LandTrendr.js module\u001b[0m\u001b[0;34m\u001b[0m\u001b[0;34m\u001b[0m\u001b[0m\n\u001b[0;32m----> 2\u001b[0;31m \u001b[0mltgee\u001b[0m \u001b[0;34m=\u001b[0m \u001b[0mrequire\u001b[0m\u001b[0;34m(\u001b[0m\u001b[0;34m'users/emaprlab/public:Modules/LandTrendr.js'\u001b[0m\u001b[0;34m)\u001b[0m\u001b[0;34m;\u001b[0m\u001b[0;34m\u001b[0m\u001b[0m\n\u001b[0m\u001b[1;32m      3\u001b[0m \u001b[0;34m\u001b[0m\u001b[0m\n\u001b[1;32m      4\u001b[0m \u001b[0;31m#add index to changeParams object\u001b[0m\u001b[0;34m\u001b[0m\u001b[0;34m\u001b[0m\u001b[0m\n\u001b[1;32m      5\u001b[0m \u001b[0mchangeParams\u001b[0m\u001b[0;34m.\u001b[0m\u001b[0mindex\u001b[0m \u001b[0;34m=\u001b[0m \u001b[0mindex\u001b[0m\u001b[0;34m\u001b[0m\u001b[0m\n",
      "\u001b[0;31mNameError\u001b[0m: name 'require' is not defined"
     ]
    }
   ],
   "source": [
    "#load the LandTrendr.js module\n",
    "ltgee = require('users/emaprlab/public:Modules/LandTrendr.js'); \n",
    "\n",
    "#add index to changeParams object\n",
    "changeParams.index = index\n",
    "\n",
    "#run landtrendr\n",
    "lt = ltgee.runLT(startYear, endYear, startDay, endDay, aoi, index, [], runParams, maskThese);\n"
   ]
  },
  {
   "cell_type": "code",
   "execution_count": null,
   "id": "3fd6c577",
   "metadata": {},
   "outputs": [],
   "source": [
    "#get the change map layers\n",
    "changeImg = ltgee.getChangeMap(lt, changeParams)\n",
    "print(changeImg)\n",
    "\n",
    "#get segment \n",
    "#Output: An image array with dimensions: 8 (rows) x nSegments (cols). Each row describes an \n",
    "#attribute of the segments identified by LandTrendr per pixel time series.\n",
    "#segInfo = ltgee.getSegmentData(lt, index, 'all');\n",
    "#print(segInfo);\n",
    "\n",
    "#get fitted data - get errors on these\n",
    "nbrFTV = ltgee.getFittedData(lt, startYear, endYear, ftvList)\n",
    "print(nbrFTV)\n",
    "\n",
    "#get the segment count\n",
    "#segCount = ltgee.getSegmentCount(segData);\n",
    "\n"
   ]
  },
  {
   "cell_type": "code",
   "execution_count": null,
   "id": "1491e078",
   "metadata": {},
   "outputs": [],
   "source": [
    "#set visualization dictionaries\n",
    "palette = ['#9400D3', '#4B0082', '#0000FF', '#00FF00', '#FFFF00', '#FF7F00', '#FF0000'];\n",
    "yodVizParms = {\n",
    "  'min': startYear,\n",
    "  'max': endYear,\n",
    "  'palette': palette}\n",
    "\n",
    "magVizParms = {\n",
    "  'min': 100,\n",
    "  'max': 1000,\n",
    "  'palette': palette\n",
    "}\n",
    "\n",
    "var durVizParms = {\n",
    "  'min': 1,\n",
    "  'max': 2020-2000,\n",
    "  'palette': palette\n",
    "}\n"
   ]
  },
  {
   "cell_type": "code",
   "execution_count": null,
   "id": "e1c0be8c",
   "metadata": {},
   "outputs": [],
   "source": [
    "#display the change attribute map - note that there are other layers - print changeImg to console to see all\n",
    "Map.centerObject(aoi, 11);\n",
    "Map.addLayer(aoi, {}, 'aoi');\n",
    "Map.addLayer(changeImg.select(['mag']).clip(aoi), magVizParms, 'Magnitude of Change')\n",
    "Map.addLayer(changeImg.select(['yod']).clip(aoi), yodVizParms, 'Year of Detection')\n",
    "Map.addLayer(changeImg.select(['dur']).clip(aoi), yodVizParms, 'Duration of Change')"
   ]
  }
 ],
 "metadata": {
  "kernelspec": {
   "display_name": "Python 3",
   "language": "python",
   "name": "python3"
  },
  "language_info": {
   "codemirror_mode": {
    "name": "ipython",
    "version": 3
   },
   "file_extension": ".py",
   "mimetype": "text/x-python",
   "name": "python",
   "nbconvert_exporter": "python",
   "pygments_lexer": "ipython3",
   "version": "3.7.0"
  }
 },
 "nbformat": 4,
 "nbformat_minor": 5
}
