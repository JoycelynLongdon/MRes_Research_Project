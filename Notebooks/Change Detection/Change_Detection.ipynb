{
 "cells": [
  {
   "cell_type": "markdown",
   "id": "ac3092d6",
   "metadata": {},
   "source": [
    "# Continuous Change Detection (CCDC) Land Cover"
   ]
  },
  {
   "cell_type": "markdown",
   "id": "331fbd70",
   "metadata": {},
   "source": [
    "This code is adapted from the CCDC methodology detailed in the following manuscript: https://www.sciencedirect.com/science/article/abs/pii/S0034425714000248"
   ]
  },
  {
   "cell_type": "code",
   "execution_count": 14,
   "id": "d22aefcf",
   "metadata": {},
   "outputs": [],
   "source": [
    "import ee\n",
    "import geemap\n",
    "from geemap import *\n",
    "import json\n",
    "from geemap import geojson_to_ee, ee_to_geojson\n",
    "from ipyleaflet import GeoJSON\n",
    "import os\n",
    "\n",
    "\n",
    "# !pip install geemap\n",
    "\n",
    "utils = ('users/parevalo_bu/gee-ccdc-tools:ccdcUtilities/api')"
   ]
  },
  {
   "cell_type": "markdown",
   "id": "aabb7a00",
   "metadata": {},
   "source": [
    "### Building Custom Image Collection\n",
    "The CCDC function in GEE can take any ee.ImageCollection that has been masked for clouds and cloud shadows. CCDC contains an internal cloud masking algorithm and is rather robust against missed clouds, but the cleaner the data the better. "
   ]
  },
  {
   "cell_type": "markdown",
   "id": "2e9ebb68",
   "metadata": {},
   "source": [
    "### Define Parameters"
   ]
  },
  {
   "cell_type": "code",
   "execution_count": 18,
   "id": "b985b9c0",
   "metadata": {},
   "outputs": [
    {
     "ename": "AttributeError",
     "evalue": "module 'ee' has no attribute 'Classifier'",
     "output_type": "error",
     "traceback": [
      "\u001b[0;31m---------------------------------------------------------------------------\u001b[0m",
      "\u001b[0;31mAttributeError\u001b[0m                            Traceback (most recent call last)",
      "\u001b[0;32m<ipython-input-18-9910799cc71e>\u001b[0m in \u001b[0;36m<module>\u001b[0;34m\u001b[0m\n\u001b[0;32m----> 1\u001b[0;31m \u001b[0mclassifier\u001b[0m \u001b[0;34m=\u001b[0m \u001b[0mee\u001b[0m\u001b[0;34m.\u001b[0m\u001b[0mClassifier\u001b[0m\u001b[0;34m.\u001b[0m\u001b[0msmileRandomForest\u001b[0m\u001b[0;34m(\u001b[0m\u001b[0;34m)\u001b[0m\u001b[0;34m\u001b[0m\u001b[0m\n\u001b[0m",
      "\u001b[0;31mAttributeError\u001b[0m: module 'ee' has no attribute 'Classifier'"
     ]
    }
   ],
   "source": [
    "classifier = ee.Classifier.smileRandomForest()\n"
   ]
  },
  {
   "cell_type": "code",
   "execution_count": 19,
   "id": "cc465c51",
   "metadata": {},
   "outputs": [
    {
     "ename": "AttributeError",
     "evalue": "module 'ee' has no attribute 'Classifier'",
     "output_type": "error",
     "traceback": [
      "\u001b[0;31m---------------------------------------------------------------------------\u001b[0m",
      "\u001b[0;31mAttributeError\u001b[0m                            Traceback (most recent call last)",
      "\u001b[0;32m<ipython-input-19-ca6851e5e5b4>\u001b[0m in \u001b[0;36m<module>\u001b[0;34m\u001b[0m\n\u001b[1;32m     20\u001b[0m   \u001b[0;34m\"classProperty\"\u001b[0m\u001b[0;34m:\u001b[0m \u001b[0;34m'LC_Class'\u001b[0m\u001b[0;34m,\u001b[0m\u001b[0;34m\u001b[0m\u001b[0m\n\u001b[1;32m     21\u001b[0m   \u001b[0;34m\"yearProperty\"\u001b[0m\u001b[0;34m:\u001b[0m \u001b[0;34m'year'\u001b[0m\u001b[0;34m,\u001b[0m\u001b[0;34m\u001b[0m\u001b[0m\n\u001b[0;32m---> 22\u001b[0;31m   \u001b[0;34m\"classifier\"\u001b[0m\u001b[0;34m:\u001b[0m \u001b[0mee\u001b[0m\u001b[0;34m.\u001b[0m\u001b[0mClassifier\u001b[0m\u001b[0;34m.\u001b[0m\u001b[0msmileRandomForest\u001b[0m\u001b[0;34m(\u001b[0m\u001b[0;36m10\u001b[0m\u001b[0;34m)\u001b[0m\u001b[0;34m,\u001b[0m\u001b[0;34m\u001b[0m\u001b[0m\n\u001b[0m\u001b[1;32m     23\u001b[0m   \"classifierParams\": {\n\u001b[1;32m     24\u001b[0m     \u001b[0;34m\"numberOfTrees\"\u001b[0m\u001b[0;34m:\u001b[0m \u001b[0;36m150\u001b[0m\u001b[0;34m,\u001b[0m\u001b[0;34m\u001b[0m\u001b[0m\n",
      "\u001b[0;31mAttributeError\u001b[0m: module 'ee' has no attribute 'Classifier'"
     ]
    }
   ],
   "source": [
    "#change detection paramters\n",
    "changeDetection = {\n",
    "    \"breakpointBands\": ['GREEN', 'RED', 'NIR', 'SWIR1', 'SWIR2'],\n",
    "    \"tmaskBands\": ['GREEN', 'SWIR2'],\n",
    "    \"minObservations\": 6,\n",
    "    \"chiSquareProbability\": .99,\n",
    "    \"minNumOfYearsScaler\": 1.33,\n",
    "    \"dateFormat\":2,\n",
    "    \"lambda\": 20/10000,\n",
    "    \"maxIterations\": 25000\n",
    "}\n",
    "\n",
    "#classification paramters\n",
    "classification = {\n",
    "  \"bandNames\": [\"B1\",\"B2\",\"B3\",\"B4\",\"B5\",\"B6\",\"B7\"],\n",
    "  \"inputFeatures\": [\"INTP\", \"SLP\",\"PHASE\",\"RMSE\"],\n",
    "  \"coefs\": [\"INTP\", \"SLP\",\"COS\", \"SIN\",\"RMSE\",\"COS2\",\"SIN2\",\"COS3\",\"SIN3\"],\n",
    "  \"ancillaryFeatures\": [\"ELEVATION\",\"ASPECT\",\"DEM_SLOPE\",\"RAINFALL\",\"TEMPERATURE\"],\n",
    "  \"resultFormat\": 'SegCollection',\n",
    "  \"classProperty\": 'LC_Class',\n",
    "  \"yearProperty\": 'year',\n",
    "  \"classifier\": ee.Classifier.smileRandomForest, #this works in my other notebook but not here?\n",
    "  \"classifierParams\": {\n",
    "    \"numberOfTrees\": 150,\n",
    "    \"variablesPerSplit\": null,\n",
    "    \"minLeafPopulation\": 1,\n",
    "    \"bagFraction\": 0.5,\n",
    "    \"maxNodes\": null\n",
    "  },\n",
    "    \"outPath\": '/Users/joycelynlongdon/Desktop/Cambridge/CambridgeCoding/MRES/GEE_examples/Notebooks/Change Detection',\n",
    "    \"segs\": [\"S1\", \"S2\", \"S3\", \"S4\", \"S5\", \"S6\"],\n",
    "    \"trainingPath\": 'path/to/training/data',\n",
    "    \"trainingPathPredictors\": 'path/to/CCDC/predictor/results' #is this correct?\n",
    "}\n",
    "\n",
    "\n",
    "#setting enquiry parameters\n",
    "\n",
    "aoi_file_path = 'aoi/file/path'\n",
    "def open_aoi_file(aoi_file_path):\n",
    "    with open(aoi_file_path) as f:\n",
    "        studyRegion = json.load(f)\n",
    "        studyRegion = ee.FeatureCollection(studyRegion).first().geometry()\n",
    "    return studyRegion\n",
    "\n",
    "params = {\n",
    "    \"start\": '2013-01-01'\n",
    "    \"end\": '2019-01-01'\n",
    "    \"ChangeDetection\": changeDetection,\n",
    "    \"Classification\": classification,\n",
    "    \"StudyRegion\": studyRegion\n",
    "}\n",
    "\n"
   ]
  },
  {
   "cell_type": "code",
   "execution_count": null,
   "id": "bb457d55",
   "metadata": {},
   "outputs": [],
   "source": []
  },
  {
   "cell_type": "code",
   "execution_count": null,
   "id": "db0fe9d4",
   "metadata": {},
   "outputs": [],
   "source": []
  }
 ],
 "metadata": {
  "kernelspec": {
   "display_name": "Python 3",
   "language": "python",
   "name": "python3"
  },
  "language_info": {
   "codemirror_mode": {
    "name": "ipython",
    "version": 3
   },
   "file_extension": ".py",
   "mimetype": "text/x-python",
   "name": "python",
   "nbconvert_exporter": "python",
   "pygments_lexer": "ipython3",
   "version": "3.7.0"
  }
 },
 "nbformat": 4,
 "nbformat_minor": 5
}
