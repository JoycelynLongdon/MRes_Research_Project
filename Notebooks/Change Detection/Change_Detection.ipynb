{
 "cells": [
  {
   "cell_type": "markdown",
   "id": "ac3092d6",
   "metadata": {},
   "source": [
    "# Continuous Change Detection (CCDC) Land Cover"
   ]
  },
  {
   "cell_type": "markdown",
   "id": "331fbd70",
   "metadata": {},
   "source": [
    "This code is adapted from the CCDC methodology detailed in the following manuscript: https://www.sciencedirect.com/science/article/abs/pii/S0034425714000248"
   ]
  },
  {
   "cell_type": "code",
   "execution_count": 1,
   "id": "d22aefcf",
   "metadata": {},
   "outputs": [],
   "source": [
    "import ee\n",
    "import geemap\n",
    "from geemap import *\n",
    "import json\n",
    "from geemap import geojson_to_ee, ee_to_geojson\n",
    "from ipyleaflet import GeoJSON\n",
    "import os\n",
    "import sklearn\n",
    "import js2py\n",
    "\n",
    "\n",
    "# !pip install geemap\n",
    "\n",
    "utils = ('users/parevalo_bu/gee-ccdc-tools:ccdcUtilities/api')"
   ]
  },
  {
   "cell_type": "markdown",
   "id": "aabb7a00",
   "metadata": {},
   "source": [
    "### Building Custom Image Collection\n",
    "The CCDC function in GEE can take any ee.ImageCollection that has been masked for clouds and cloud shadows. CCDC contains an internal cloud masking algorithm and is rather robust against missed clouds, but the cleaner the data the better. "
   ]
  },
  {
   "cell_type": "code",
   "execution_count": null,
   "id": "67bc45c3",
   "metadata": {},
   "outputs": [],
   "source": [
    "### "
   ]
  }
 ],
 "metadata": {
  "kernelspec": {
   "display_name": "Python 3",
   "language": "python",
   "name": "python3"
  },
  "language_info": {
   "codemirror_mode": {
    "name": "ipython",
    "version": 3
   },
   "file_extension": ".py",
   "mimetype": "text/x-python",
   "name": "python",
   "nbconvert_exporter": "python",
   "pygments_lexer": "ipython3",
   "version": "3.7.0"
  }
 },
 "nbformat": 4,
 "nbformat_minor": 5
}
