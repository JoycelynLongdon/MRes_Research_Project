{
 "cells": [
  {
   "cell_type": "code",
   "execution_count": null,
   "id": "f2a3476e",
   "metadata": {},
   "outputs": [],
   "source": [
    "\"\"\"\n",
    "Created on Sat May 08 \n",
    "\n",
    "Functions used to create Landsat 8 cloud and shadow free composites for given period and area of interest (aoi).\n",
    "\n",
    "Code sources:\n",
    "- https://blog.gishub.org/earth-engine-tutorial-32-machine-learning-with-earth-engine-supervised-classification\n",
    "- https://geohackweek.github.io/GoogleEarthEngine/05-classify-imagery/\n",
    "- https://ceholden.github.io/open-geo-tutorial/python/chapter_5_classification.html\n",
    "- GEE Documentation\n",
    "\n",
    "@author: Joycelyn Longdon\n",
    "\n",
    "\"\"\""
   ]
  },
  {
   "cell_type": "code",
   "execution_count": 21,
   "id": "33fee30c",
   "metadata": {},
   "outputs": [
    {
     "data": {
      "text/html": [
       "<p>To authorize access needed by Earth Engine, open the following\n",
       "        URL in a web browser and follow the instructions:</p>\n",
       "        <p><a href=https://accounts.google.com/o/oauth2/auth?client_id=517222506229-vsmmajv00ul0bs7p89v5m89qs8eb9359.apps.googleusercontent.com&scope=https%3A%2F%2Fwww.googleapis.com%2Fauth%2Fearthengine+https%3A%2F%2Fwww.googleapis.com%2Fauth%2Fdevstorage.full_control&redirect_uri=urn%3Aietf%3Awg%3Aoauth%3A2.0%3Aoob&response_type=code&code_challenge=Pi2gI6hpXKAeA1Y6qTb1IIhVEsHCsJ6v-53BN48AePk&code_challenge_method=S256>https://accounts.google.com/o/oauth2/auth?client_id=517222506229-vsmmajv00ul0bs7p89v5m89qs8eb9359.apps.googleusercontent.com&scope=https%3A%2F%2Fwww.googleapis.com%2Fauth%2Fearthengine+https%3A%2F%2Fwww.googleapis.com%2Fauth%2Fdevstorage.full_control&redirect_uri=urn%3Aietf%3Awg%3Aoauth%3A2.0%3Aoob&response_type=code&code_challenge=Pi2gI6hpXKAeA1Y6qTb1IIhVEsHCsJ6v-53BN48AePk&code_challenge_method=S256</a></p>\n",
       "        <p>The authorization workflow will generate a code, which you\n",
       "        should paste in the box below</p>\n",
       "        "
      ],
      "text/plain": [
       "<IPython.core.display.HTML object>"
      ]
     },
     "metadata": {},
     "output_type": "display_data"
    },
    {
     "name": "stdout",
     "output_type": "stream",
     "text": [
      "Enter verification code: 4/1AY0e-g78N5ZQ1JNb3EbJGV7wMRugEh6kZjXHL74AUit1jq0Td-GbLQbkoCc\n",
      "\n",
      "Successfully saved authorization token.\n"
     ]
    }
   ],
   "source": [
    "import ee\n",
    "import ee\n",
    "import geemap\n",
    "from geemap import *\n",
    "import json\n",
    "from geemap import geojson_to_ee, ee_to_geojson\n",
    "from ipyleaflet import GeoJSON\n",
    "import os\n",
    "\n",
    "# Trigger the authentication flow.\n",
    "ee.Authenticate()\n",
    "\n",
    "# Initialize the library.\n",
    "ee.Initialize()"
   ]
  },
  {
   "cell_type": "markdown",
   "id": "03e5cdcf",
   "metadata": {},
   "source": [
    "### Define Variables"
   ]
  },
  {
   "cell_type": "code",
   "execution_count": 51,
   "id": "bb156ec0",
   "metadata": {},
   "outputs": [],
   "source": [
    "#AOI geometry\n",
    "AOI_FILE_PATH = os.path.abspath('/Users/joycelynlongdon/Desktop/Cambridge/CambridgeCoding/MRES/GEE_examples/Input_Data/mai_ndombe.json')\n",
    "\n",
    "#dates to filter imagery on\n",
    "START_DATE = '2016-01-01'\n",
    "END_DATE = '2016-12-31'\n",
    "\n",
    "#path to save image\n",
    "OUTPUT_PATH = \"/Users/joycelynlongdon/Desktop/Cambridge/CambridgeCoding/MRES/GEE_examples/Output Data\"\n",
    "\n",
    "VIZ_PARAMS = {'min': 0,'max': 3000,'bands': ['B4', 'B3', 'B2']} #RGB Composite \n",
    "\n",
    "LAYER_NAME = 'Landsat-8 2016 Cloud Free Composite'        "
   ]
  },
  {
   "cell_type": "markdown",
   "id": "edcaaea9",
   "metadata": {},
   "source": [
    "### Define functions to process imagery"
   ]
  },
  {
   "cell_type": "code",
   "execution_count": 52,
   "id": "c0797986",
   "metadata": {},
   "outputs": [],
   "source": [
    "#import the data, apply cloud mask and clip\n",
    "def gen_clip_cloud_free(aoi, start_date, end_date, cloudMask):\n",
    "    \"\"\"\n",
    "    Build a cloud free composite of Landsat 8 Surface Reflectance Data\n",
    "    \"\"\"\n",
    "    #import and filter Landsat 8 SR\n",
    "    image = ee.ImageCollection('LANDSAT/LC08/C01/T2_SR').filterDate(start_date, end_date) #NOT SURE IF THIS IS RIGHT\n",
    "    \n",
    "    #apply cloud mask\n",
    "    l8_sr_cld_free = image.map(cloudMask)#apply cloud mask\n",
    "    l8_sr_median = l8_sr_cld_free.median()\n",
    "    l8_sr_cld_free_clipped = l8_sr_median.clip(aoi)#clip to aoi\n",
    "\n",
    "    return l8_sr_cld_free_clipped"
   ]
  },
  {
   "cell_type": "code",
   "execution_count": 53,
   "id": "f03c7f49",
   "metadata": {},
   "outputs": [],
   "source": [
    "#define cloud mask\n",
    "def cloudMask(image):\n",
    "  #Bits 3 and 5 are cloud shadow and cloud, respectively.\n",
    "    cloudShadowBitMask = (1 << 3)\n",
    "    cloudsBitMask = (1 << 5)\n",
    "    #Get the pixel QA band.\n",
    "    qa = image.select('pixel_qa')\n",
    "    #Both flags should be set to zero, indicating clear conditions.\n",
    "    mask = qa.bitwiseAnd(cloudShadowBitMask).eq(0).And(qa.bitwiseAnd(cloudsBitMask).eq(0))\n",
    "    return image.updateMask(mask)"
   ]
  },
  {
   "cell_type": "code",
   "execution_count": 54,
   "id": "75e145dc",
   "metadata": {},
   "outputs": [],
   "source": [
    "def open_aoi_json(aoi_file_path):\n",
    "    with open(file_path) as f:\n",
    "        aoi = json.load(f)\n",
    "    aoi = ee.FeatureCollection(aoi).first().geometry()\n",
    "    #print(aoi)\n",
    "    return aoi\n",
    "\n",
    "AOI = open_aoi_json(AOI_FILE_PATH)"
   ]
  },
  {
   "cell_type": "code",
   "execution_count": 55,
   "id": "98dad612",
   "metadata": {},
   "outputs": [],
   "source": [
    "#reduce image and clip to aoi\n",
    "def clip_image_to_aoi(image):\n",
    "    #reduce image collection into one multiband image taking the median value of each pixel\n",
    "    image = image.median()\n",
    "    #clip image to required boundary for studyRegion\n",
    "    return image.clip(aoi) #NEED TO FIGURE OUT HOW TO DO THIS SEAMLESSLY WITH THE VARYING AOI'S"
   ]
  },
  {
   "cell_type": "markdown",
   "id": "25ccef9a",
   "metadata": {},
   "source": [
    "### Mapping"
   ]
  },
  {
   "cell_type": "code",
   "execution_count": 61,
   "id": "91e53a72",
   "metadata": {},
   "outputs": [],
   "source": [
    "def display_image_and_save(image, vis_params, layer_name):\n",
    "    #tif file\n",
    "    geemap.ee_export_image(landcover, 'Land_Cover_Classification.tif', scale=900)\n",
    "    Map.addLayer(image, vis_params, layer_name)\n",
    "    Map\n",
    "\n"
   ]
  },
  {
   "cell_type": "markdown",
   "id": "d3b4df75",
   "metadata": {},
   "source": [
    "### Save and visualise imagery"
   ]
  },
  {
   "cell_type": "code",
   "execution_count": 62,
   "id": "e677be06",
   "metadata": {},
   "outputs": [
    {
     "ename": "AttributeError",
     "evalue": "'Image' object has no attribute 'layers'",
     "output_type": "error",
     "traceback": [
      "\u001b[0;31m---------------------------------------------------------------------------\u001b[0m",
      "\u001b[0;31mAttributeError\u001b[0m                            Traceback (most recent call last)",
      "\u001b[0;32m<ipython-input-62-e0b991564203>\u001b[0m in \u001b[0;36m<module>\u001b[0;34m\u001b[0m\n\u001b[1;32m      3\u001b[0m \u001b[0;34m\u001b[0m\u001b[0m\n\u001b[1;32m      4\u001b[0m \u001b[0;31m#save and display the composite\u001b[0m\u001b[0;34m\u001b[0m\u001b[0;34m\u001b[0m\u001b[0m\n\u001b[0;32m----> 5\u001b[0;31m \u001b[0mdisplay_image_and_save\u001b[0m\u001b[0;34m(\u001b[0m\u001b[0ml8_sr_cld_free\u001b[0m\u001b[0;34m,\u001b[0m \u001b[0mVIZ_PARAMS\u001b[0m\u001b[0;34m,\u001b[0m \u001b[0mLAYER_NAME\u001b[0m\u001b[0;34m)\u001b[0m\u001b[0;34m\u001b[0m\u001b[0m\n\u001b[0m",
      "\u001b[0;32m<ipython-input-61-e1dac312b272>\u001b[0m in \u001b[0;36mdisplay_image_and_save\u001b[0;34m(image, vis_params, layer_name)\u001b[0m\n\u001b[1;32m      1\u001b[0m \u001b[0;32mdef\u001b[0m \u001b[0mdisplay_image_and_save\u001b[0m\u001b[0;34m(\u001b[0m\u001b[0mimage\u001b[0m\u001b[0;34m,\u001b[0m \u001b[0mvis_params\u001b[0m\u001b[0;34m,\u001b[0m \u001b[0mlayer_name\u001b[0m\u001b[0;34m)\u001b[0m\u001b[0;34m:\u001b[0m\u001b[0;34m\u001b[0m\u001b[0m\n\u001b[0;32m----> 2\u001b[0;31m     \u001b[0mMap\u001b[0m\u001b[0;34m.\u001b[0m\u001b[0maddLayer\u001b[0m\u001b[0;34m(\u001b[0m\u001b[0mimage\u001b[0m\u001b[0;34m,\u001b[0m \u001b[0mvis_params\u001b[0m\u001b[0;34m,\u001b[0m \u001b[0mlayer_name\u001b[0m\u001b[0;34m)\u001b[0m\u001b[0;34m\u001b[0m\u001b[0m\n\u001b[0m\u001b[1;32m      3\u001b[0m     \u001b[0mMap\u001b[0m\u001b[0;34m\u001b[0m\u001b[0m\n\u001b[1;32m      4\u001b[0m \u001b[0;34m\u001b[0m\u001b[0m\n",
      "\u001b[0;32m~/opt/anaconda3/envs/mres/lib/python3.7/site-packages/geemap/geemap.py\u001b[0m in \u001b[0;36madd_ee_layer\u001b[0;34m(self, ee_object, vis_params, name, shown, opacity)\u001b[0m\n\u001b[1;32m   1279\u001b[0m         \u001b[0mimage\u001b[0m \u001b[0;34m=\u001b[0m \u001b[0;32mNone\u001b[0m\u001b[0;34m\u001b[0m\u001b[0m\n\u001b[1;32m   1280\u001b[0m         \u001b[0;32mif\u001b[0m \u001b[0mname\u001b[0m \u001b[0;32mis\u001b[0m \u001b[0;32mNone\u001b[0m\u001b[0;34m:\u001b[0m\u001b[0;34m\u001b[0m\u001b[0m\n\u001b[0;32m-> 1281\u001b[0;31m             \u001b[0mlayer_count\u001b[0m \u001b[0;34m=\u001b[0m \u001b[0mlen\u001b[0m\u001b[0;34m(\u001b[0m\u001b[0mself\u001b[0m\u001b[0;34m.\u001b[0m\u001b[0mlayers\u001b[0m\u001b[0;34m)\u001b[0m\u001b[0;34m\u001b[0m\u001b[0m\n\u001b[0m\u001b[1;32m   1282\u001b[0m             \u001b[0mname\u001b[0m \u001b[0;34m=\u001b[0m \u001b[0;34m\"Layer \"\u001b[0m \u001b[0;34m+\u001b[0m \u001b[0mstr\u001b[0m\u001b[0;34m(\u001b[0m\u001b[0mlayer_count\u001b[0m \u001b[0;34m+\u001b[0m \u001b[0;36m1\u001b[0m\u001b[0;34m)\u001b[0m\u001b[0;34m\u001b[0m\u001b[0m\n\u001b[1;32m   1283\u001b[0m \u001b[0;34m\u001b[0m\u001b[0m\n",
      "\u001b[0;31mAttributeError\u001b[0m: 'Image' object has no attribute 'layers'"
     ]
    }
   ],
   "source": [
    "#acquire cloud free Landsat 8 SR imagery\n",
    "l8_sr_cld_free = gen_clip_cloud_free(AOI, START_DATE, END_DATE, cloudMask)\n",
    "\n",
    "#save and display the composite\n",
    "display_image_and_save(l8_sr_cld_free, VIZ_PARAMS, LAYER_NAME)"
   ]
  },
  {
   "cell_type": "code",
   "execution_count": 13,
   "id": "a39aca94",
   "metadata": {},
   "outputs": [
    {
     "ename": "NameError",
     "evalue": "name 'l8_sr_cld_free' is not defined",
     "output_type": "error",
     "traceback": [
      "\u001b[0;31m---------------------------------------------------------------------------\u001b[0m",
      "\u001b[0;31mNameError\u001b[0m                                 Traceback (most recent call last)",
      "\u001b[0;32m<ipython-input-13-1239354e2cfe>\u001b[0m in \u001b[0;36m<module>\u001b[0;34m\u001b[0m\n\u001b[1;32m     13\u001b[0m     \u001b[0mMap\u001b[0m\u001b[0;34m\u001b[0m\u001b[0m\n\u001b[1;32m     14\u001b[0m \u001b[0;34m\u001b[0m\u001b[0m\n\u001b[0;32m---> 15\u001b[0;31m \u001b[0mvisualise_l8_sr_cld_free\u001b[0m\u001b[0;34m(\u001b[0m\u001b[0ml8_sr_cld_free\u001b[0m\u001b[0;34m)\u001b[0m\u001b[0;34m\u001b[0m\u001b[0m\n\u001b[0m",
      "\u001b[0;31mNameError\u001b[0m: name 'l8_sr_cld_free' is not defined"
     ]
    }
   ],
   "source": [
    "#visualise data\n",
    "\n",
    "\n",
    "layer_name = \"Landsat-8_2016\" #how would I make it personalize to the date the image was drawn from or filtered to?\n",
    "\n",
    "def visualise_l8_sr_cld_free(image):\n",
    "    Map = geemap.Map()\n",
    "    point = (18.4276, -2.6357,7)\n",
    "    vis_params = {'min': 0,'max': 3000,'bands': ['B4', 'B3', 'B2']} #RGB Composite}\n",
    "    layer_name = \"Landsat-8_2016\" #how would I make it personalize to the date the image was drawn from or filtered to?\n",
    "    Map.setCenter(point,7)\n",
    "    Map.addLayer(image, vis_params, layer_name)\n",
    "    Map\n",
    "\n",
    "visualise_l8_sr_cld_free(l8_sr_cld_free)\n"
   ]
  },
  {
   "cell_type": "code",
   "execution_count": null,
   "id": "1c8df61d",
   "metadata": {},
   "outputs": [],
   "source": []
  }
 ],
 "metadata": {
  "kernelspec": {
   "display_name": "Python 3",
   "language": "python",
   "name": "python3"
  },
  "language_info": {
   "codemirror_mode": {
    "name": "ipython",
    "version": 3
   },
   "file_extension": ".py",
   "mimetype": "text/x-python",
   "name": "python",
   "nbconvert_exporter": "python",
   "pygments_lexer": "ipython3",
   "version": "3.7.0"
  }
 },
 "nbformat": 4,
 "nbformat_minor": 5
}
