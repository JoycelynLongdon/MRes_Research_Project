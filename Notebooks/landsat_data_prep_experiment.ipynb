{
 "cells": [
  {
   "cell_type": "code",
   "execution_count": 1,
   "id": "f2a3476e",
   "metadata": {},
   "outputs": [
    {
     "data": {
      "text/plain": [
       "'\\nCreated on Sat May 08 \\n\\nFunctions used to create Landsat 8 cloud and shadow free composites for given period and area of interest (aoi).\\n\\nCode sources:\\n- https://blog.gishub.org/earth-engine-tutorial-32-machine-learning-with-earth-engine-supervised-classification\\n- https://geohackweek.github.io/GoogleEarthEngine/05-classify-imagery/\\n- https://ceholden.github.io/open-geo-tutorial/python/chapter_5_classification.html\\n- GEE Documentation\\n\\n@author: Joycelyn Longdon\\n\\n'"
      ]
     },
     "execution_count": 1,
     "metadata": {},
     "output_type": "execute_result"
    }
   ],
   "source": [
    "\"\"\"\n",
    "Created on Sat May 08 \n",
    "\n",
    "Functions used to create Landsat 8 cloud and shadow free composites for given period and area of interest (aoi).\n",
    "\n",
    "Code sources:\n",
    "- https://blog.gishub.org/earth-engine-tutorial-32-machine-learning-with-earth-engine-supervised-classification\n",
    "- https://geohackweek.github.io/GoogleEarthEngine/05-classify-imagery/\n",
    "- https://ceholden.github.io/open-geo-tutorial/python/chapter_5_classification.html\n",
    "- GEE Documentation\n",
    "\n",
    "@author: Joycelyn Longdon\n",
    "\n",
    "\"\"\""
   ]
  },
  {
   "cell_type": "code",
   "execution_count": 2,
   "id": "33fee30c",
   "metadata": {},
   "outputs": [
    {
     "data": {
      "text/html": [
       "<p>To authorize access needed by Earth Engine, open the following\n",
       "        URL in a web browser and follow the instructions:</p>\n",
       "        <p><a href=https://accounts.google.com/o/oauth2/auth?client_id=517222506229-vsmmajv00ul0bs7p89v5m89qs8eb9359.apps.googleusercontent.com&scope=https%3A%2F%2Fwww.googleapis.com%2Fauth%2Fearthengine+https%3A%2F%2Fwww.googleapis.com%2Fauth%2Fdevstorage.full_control&redirect_uri=urn%3Aietf%3Awg%3Aoauth%3A2.0%3Aoob&response_type=code&code_challenge=E7PJdjFNG1qRE1Sl-9Nu7-OKRMpI6Xwxe1uuvre2WzU&code_challenge_method=S256>https://accounts.google.com/o/oauth2/auth?client_id=517222506229-vsmmajv00ul0bs7p89v5m89qs8eb9359.apps.googleusercontent.com&scope=https%3A%2F%2Fwww.googleapis.com%2Fauth%2Fearthengine+https%3A%2F%2Fwww.googleapis.com%2Fauth%2Fdevstorage.full_control&redirect_uri=urn%3Aietf%3Awg%3Aoauth%3A2.0%3Aoob&response_type=code&code_challenge=E7PJdjFNG1qRE1Sl-9Nu7-OKRMpI6Xwxe1uuvre2WzU&code_challenge_method=S256</a></p>\n",
       "        <p>The authorization workflow will generate a code, which you\n",
       "        should paste in the box below</p>\n",
       "        "
      ],
      "text/plain": [
       "<IPython.core.display.HTML object>"
      ]
     },
     "metadata": {},
     "output_type": "display_data"
    },
    {
     "name": "stdout",
     "output_type": "stream",
     "text": [
      "Enter verification code: 4/1AY0e-g5qi9Fpv2ubGknwsKBl4uJ2dzbKyC0SuKztXr8QKNwIoBN8EKVgqlI\n",
      "\n",
      "Successfully saved authorization token.\n"
     ]
    }
   ],
   "source": [
    "import ee\n",
    "import ee\n",
    "import geemap\n",
    "from geemap import *\n",
    "import json\n",
    "from geemap import geojson_to_ee, ee_to_geojson\n",
    "from ipyleaflet import GeoJSON\n",
    "import os\n",
    "import ipygee as ui\n",
    "import datetime\n",
    "import pandas as pd\n",
    "\n",
    "#Trigger the authentication flow.\n",
    "ee.Authenticate()\n",
    "\n",
    "#Initialize the library.\n",
    "ee.Initialize()"
   ]
  },
  {
   "cell_type": "code",
   "execution_count": 3,
   "id": "5e7329d9",
   "metadata": {},
   "outputs": [],
   "source": [
    "#initialise map\n",
    "Map = geemap.Map()"
   ]
  },
  {
   "cell_type": "markdown",
   "id": "03e5cdcf",
   "metadata": {},
   "source": [
    "### Define Variables"
   ]
  },
  {
   "cell_type": "code",
   "execution_count": 23,
   "id": "bb156ec0",
   "metadata": {},
   "outputs": [
    {
     "name": "stdout",
     "output_type": "stream",
     "text": [
      "DatetimeIndex(['2013-12-31', '2014-12-31', '2015-12-31', '2016-12-31',\n",
      "               '2017-12-31', '2018-12-31', '2019-12-31'],\n",
      "              dtype='datetime64[ns]', freq='A-DEC')\n"
     ]
    }
   ],
   "source": [
    "#AOI geometry\n",
    "AOI_FILE_PATH = os.path.abspath('/Users/joycelynlongdon/Desktop/Cambridge/CambridgeCoding/MRES/Data/GeoJSONS/PIREDD_mai_ndombe.geojson')\n",
    "\n",
    "#define study period\n",
    "start_date = '2013-01-01'\n",
    "end_date = '2019-12-31'\n",
    "#create an array of start dates beginning the first of every month between 2013 and 2019\n",
    "#adapted from https://riptutorial.com/pandas/example/6438/create-a-sample-dataframe-with-datetime\n",
    "START_DATE = pd.date_range('2013-01-01', periods=7, freq='AS')\n",
    "END_DATE = pd.date_range('2013-01-01', periods=7, freq='A') #there are 84 months between 2013 and 2019\n",
    "print(END_DATE)\n",
    "#path to save image\n",
    "OUTPUT_PATH = \"/Users/joycelynlongdon/Desktop/Cambridge/CambridgeCoding/MRES/GEE_examples/Output Data\"\n",
    "\n",
    "#visual parameters\n",
    "VIZ_PARAMS = {'min': 0,'max': 3000,'bands': ['B4', 'B3', 'B2']} #RGB Composite \n",
    "\n",
    "#satellite data source\n",
    "l8 = ee.ImageCollection('LANDSAT/LC08/C01/T1_SR')\n",
    "\n",
    "#directories to save outputs\n",
    "output_dir = '/Users/joycelynlongdon/Desktop/Cambridge/CambridgeCoding/MRES/Data/Train'\n",
    "\n"
   ]
  },
  {
   "cell_type": "markdown",
   "id": "edcaaea9",
   "metadata": {},
   "source": [
    "### Define functions to process imagery"
   ]
  },
  {
   "cell_type": "code",
   "execution_count": 13,
   "id": "d8ad9b02",
   "metadata": {},
   "outputs": [],
   "source": [
    "#define area of interest\n",
    "def open_aoi_json(aoi_file_path):\n",
    "    with open(aoi_file_path) as f:\n",
    "        studyRegion = json.load(f)\n",
    "    studyRegion = ee.FeatureCollection(studyRegion).first().geometry()\n",
    "    #print(aoi)\n",
    "    return studyRegion\n",
    "\n",
    "studyRegion = open_aoi_json(AOI_FILE_PATH)"
   ]
  },
  {
   "cell_type": "code",
   "execution_count": 14,
   "id": "f03c7f49",
   "metadata": {},
   "outputs": [],
   "source": [
    "#define cloud mask\n",
    "def cloudMask(image):\n",
    "  #Bits 3 and 5 are cloud shadow and cloud, respectively.\n",
    "    cloudShadowBitMask = (1 << 3)\n",
    "    cloudsBitMask = (1 << 5)\n",
    "    #Get the pixel QA band.\n",
    "    qa = image.select('pixel_qa')\n",
    "    #Both flags should be set to zero, indicating clear conditions.\n",
    "    mask = qa.bitwiseAnd(cloudShadowBitMask).eq(0).And(qa.bitwiseAnd(cloudsBitMask).eq(0))\n",
    "    return image.updateMask(mask)"
   ]
  },
  {
   "cell_type": "code",
   "execution_count": 15,
   "id": "98dad612",
   "metadata": {},
   "outputs": [],
   "source": [
    "#reduce image and clip to aoi\n",
    "def clip_image_to_aoi(image):\n",
    "    #reduce image collection into one multiband image taking the median value of each pixel\n",
    "    image = image.median()\n",
    "    #clip image to required boundary for studyRegion\n",
    "    return image.clip(aoi) #NEED TO FIGURE OUT HOW TO DO THIS SEAMLESSLY WITH THE VARYING AOI'S"
   ]
  },
  {
   "cell_type": "code",
   "execution_count": 16,
   "id": "5ef91680",
   "metadata": {},
   "outputs": [
    {
     "data": {
      "text/plain": [
       "'\\nfor start_date in START_DATE:\\n    for end_date in END_DATE:\\n        start_date = start_date.date()\\n        end_date = end_date.date()\\n        print(start_date.date, end_date.date)\\n'"
      ]
     },
     "execution_count": 16,
     "metadata": {},
     "output_type": "execute_result"
    }
   ],
   "source": [
    "\"\"\"\n",
    "for start_date in START_DATE:\n",
    "    for end_date in END_DATE:\n",
    "        start_date = start_date.date()\n",
    "        end_date = end_date.date()\n",
    "        print(start_date.date, end_date.date)\n",
    "\"\"\"\n"
   ]
  },
  {
   "cell_type": "code",
   "execution_count": 17,
   "id": "b0566dcb",
   "metadata": {
    "scrolled": false
   },
   "outputs": [],
   "source": [
    "\n",
    "#create monthly Landsat composite \n",
    "\n",
    "def monthly_imagery(image, start_date, end_date):\n",
    "            image = image.filterDate(str(start_date), str(end_date))\n",
    "            cloud_free_image = image.map(cloudMask)#apply cloud mask\n",
    "            median_image = cloud_free_image.median().select(['B1','B2','B3','B4','B5','B6','B7','B10','B11','pixel_qa'])#take median pixel values for all bands\n",
    "            monthly_image = median_image.clip(studyRegion)#clip to studyRegion\n",
    "            return monthly_image\n",
    "\n",
    "#start_date, end_date = '2013-01-01','2013-03-01'\n",
    "#l8_monthly_image = monthly_imagery(l8, start_date, end_date)\n",
    "#print(l8_monthly_image)\n",
    "#l8_monthly_image.getInfo()\n",
    "#Map.addLayer(l8_monthly_image, VIZ_PARAMS, 'L8')\n",
    "#Map"
   ]
  },
  {
   "cell_type": "code",
   "execution_count": 18,
   "id": "6b1c82c0",
   "metadata": {},
   "outputs": [
    {
     "name": "stdout",
     "output_type": "stream",
     "text": [
      "7\n"
     ]
    }
   ],
   "source": [
    "list_of_images = [] #create empty list\n",
    "\n",
    "for start_date_, end_date_ in zip(START_DATE, END_DATE):\n",
    "    if not isinstance(start_date_, str):\n",
    "      start_date_ = start_date_.date()\n",
    "    if not isinstance(end_date_, str):\n",
    "      end_date_ = end_date_.date()\n",
    "    image = monthly_imagery(l8, start_date_, end_date_)\n",
    "\n",
    "    list_of_images.append(image)\n",
    "    \n",
    "#list_of_images[0]\n",
    "mai_ndombe_train = list_of_images\n",
    "print(len(mai_ndombe_train))"
   ]
  },
  {
   "cell_type": "markdown",
   "id": "301b6d2e",
   "metadata": {},
   "source": [
    "### Data Download\n",
    "Code adapted from: https://github.com/giswqs/geemap/blob/master/examples/notebooks/11_export_image.ipynb\n"
   ]
  },
  {
   "cell_type": "code",
   "execution_count": null,
   "id": "cd6b813e",
   "metadata": {},
   "outputs": [],
   "source": [
    "#download each image as numpy array\n",
    "#for i in list_of_images:\n",
    "    #rgb_img_array = geemap.ee_to_numpy(list_of_images[i], region=studyRegion)\n",
    "    #print(rgb_img_array.shape)\n",
    "    # Scale the data to [0, 255] to show as an RGB image. \n",
    "    # Adapted from https://bit.ly/2XlmQY8. Credits to Justin Braaten\n",
    "    #rgb_img_test = (255*((rgb_img_array[:, :, 0:3] - 100)/3500)).astype('uint8')\n",
    "    #plt.imshow(rgb_img_test)\n",
    "    #plt.show()\n",
    "#download each image as GeoTiff\n",
    "#and file naming convention\n",
    "\n",
    "#input_name = 'main_ndombe_train'\n",
    "#k = len(mai_ndombe_train)\n",
    "#filename = '{}/{}_{}.tif'.format(output_dir, input_name, k)\n",
    "#mai_ndombe_train_1 = mai_ndombe_train[1]\n",
    "\"\"\"\n",
    "task_config = {\n",
    "    'region': studyRegion,\n",
    "    'scale': 30,\n",
    "    'fileFormat': 'GeoTIFF',\n",
    "    'fileNamePrefix': 'l8_monthly_image',\n",
    "    'folder':'mai_nombe_test_image',\n",
    "    'image': l8_monthly_image,                          # changed this line\n",
    "    'maxPixels': 1e9,\n",
    "}\n",
    "task=ee.Export.image.toDrive(**task_config)\n",
    "task.start()\n",
    "\"\"\"\n"
   ]
  },
  {
   "cell_type": "code",
   "execution_count": 24,
   "id": "59303e58",
   "metadata": {},
   "outputs": [
    {
     "data": {
      "text/plain": [
       "'\\ndef download_tif(image):\\n    for image in list_of_images:\\n        geemap.ee_export_image(image, filename=filename, scale=30, region=studyRegion, file_per_band=False)\\n        \\ndownload_tif(l8_monthly_image)    \\n'"
      ]
     },
     "execution_count": 24,
     "metadata": {},
     "output_type": "execute_result"
    }
   ],
   "source": [
    "\n",
    "def download_tif(images=list_of_images):\n",
    "    input_name = 'main_ndombe_train'\n",
    "    k = len(mai_ndombe_train)\n",
    "    for img in images:\n",
    "        task_config = {\n",
    "            'region': studyRegion,\n",
    "            'scale': 30,\n",
    "            'fileFormat': 'GeoTIFF',\n",
    "            'fileNamePrefix': 'mai_ndombe_train',\n",
    "            'folder':'mai_nombe_train',\n",
    "            'image': img,                          # changed this line\n",
    "            'maxPixels': 1e9,\n",
    "        }\n",
    "        task=ee.batch.Export.image.toDrive(**task_config)\n",
    "        task.start()\n",
    "\n",
    "download_tif(mai_ndombe_train)      \n",
    "\n",
    "\n",
    "#def download_tif(image):\n",
    "    #for image in list_of_images:\n",
    "        #geemap.ee_export_image(image, filename=filename, scale=30, region=studyRegion, file_per_band=False)\n",
    "        \n",
    "#download_tif(l8_monthly_image)    \n",
    "        "
   ]
  },
  {
   "cell_type": "markdown",
   "id": "25ccef9a",
   "metadata": {},
   "source": [
    "### Mapping"
   ]
  },
  {
   "cell_type": "code",
   "execution_count": null,
   "id": "91e53a72",
   "metadata": {},
   "outputs": [],
   "source": [
    "#def display_image_and_save(image, vis_params, layer_name):\n",
    "    #tif file\n",
    "    #geemap.ee_export_image(landcover, 'Land_Cover_Classification.tif', scale=900)\n",
    "    #Map.addLayer(image, vis_params, layer_name)\n",
    "    #Map\n",
    "\n"
   ]
  },
  {
   "cell_type": "markdown",
   "id": "d3b4df75",
   "metadata": {},
   "source": [
    "### Save and visualise imagery"
   ]
  },
  {
   "cell_type": "code",
   "execution_count": null,
   "id": "d5d5082d",
   "metadata": {},
   "outputs": [],
   "source": [
    "'''\n",
    "#retrieve monthly landsat imagery for region of interest and years\n",
    "def yearly_collection(y):\n",
    "    yearCollection = image.filter(ee.Filter.calendarRange(y,y,'year'))\n",
    "    return yearCollection\n",
    "\n",
    "def monthly_collection(m):\n",
    "    monthCollection = yearCollection.filter(ee.Filter.calendarRange(m,m,'month'))\n",
    "    return monthCollection\n",
    "    \n",
    "def monthly_image(image):\n",
    "    date = (y, m, 1).format(\"MM_dd_YYYY\")\n",
    "    #filter imagery to study region and study period\n",
    "    image = image.filter(ee.Filter.And(ee.Filter.geometry(studyRegion)))\n",
    "    return monthly_image\n",
    "\n",
    "l8_monthly = monthly_image(l8)\n",
    "'''"
   ]
  },
  {
   "cell_type": "code",
   "execution_count": null,
   "id": "4d24a1b5",
   "metadata": {},
   "outputs": [],
   "source": [
    "\"\"\"\n",
    "#javascript version of what I need, I can't decode it\n",
    "\n",
    "var startDate = ee.Date('2013-01-01'); // set start time for analysis\n",
    "var endDate = ee.Date('2017-12-31'); // set end time for analysis\n",
    "\n",
    "// calculate the number of months to process\n",
    "var nMonths = ee.Number(endDate.difference(startDate,'month')).round();\n",
    "\n",
    "var point = ee.Geometry.Point([-87.02617187499999, 28.05714582901274]);\n",
    "var sst = ee.ImageCollection('NASA/OCEANDATA/MODIS-Aqua/L3SMI').select('sst')\n",
    "            .filterDate(startDate, endDate);\n",
    "\n",
    "var byMonth = ee.ImageCollection(\n",
    "  // map over each month\n",
    "  ee.List.sequence(0,nMonths).map(function (n) {\n",
    "    // calculate the offset from startDate\n",
    "    var ini = startDate.advance(n,'month');\n",
    "    // advance just one month\n",
    "    var end = ini.advance(1,'month');\n",
    "    // filter and reduce\n",
    "    return sst.filterDate(ini,end)\n",
    "                .select(0).mean()\n",
    "                .set('system:time_start', ini);\n",
    "}));\n",
    "\n",
    "print(byMonth);\n",
    "\n",
    "Map.addLayer(ee.Image(byMonth.first()),{min: 15, max: 35},'SST');\n",
    "\"\"\""
   ]
  },
  {
   "cell_type": "code",
   "execution_count": null,
   "id": "80fa0a4a",
   "metadata": {},
   "outputs": [],
   "source": [
    "\"\"\"\n",
    "#create monthly Landsat composite \n",
    "\n",
    "def monthly_imagery(image):\n",
    "            image = image.filterDate(start_date, end_date)\n",
    "            date_filtered = image.filter(ee.Filter.calendarRange(1,12,'month'))\n",
    "            cloud_free_image = date_filtered.map(cloudMask)#apply cloud mask\n",
    "            median_image = cloud_free_image.median().select(['B1','B2','B3','B4','B5','B6','B7','B10','B11','pixel_qa'])#take median pixel values for all bands\n",
    "            monthly_image = median_image.clip(studyRegion)#clip to studyRegion\n",
    "            return monthly_image\n",
    "\n",
    "l8_monthly_images = monthly_imagery(l8)\n",
    "#l8_monthly_images.getInfo()\n",
    "print(l8_monthly_images)\n",
    "\"\"\""
   ]
  }
 ],
 "metadata": {
  "kernelspec": {
   "display_name": "Python 3",
   "language": "python",
   "name": "python3"
  },
  "language_info": {
   "codemirror_mode": {
    "name": "ipython",
    "version": 3
   },
   "file_extension": ".py",
   "mimetype": "text/x-python",
   "name": "python",
   "nbconvert_exporter": "python",
   "pygments_lexer": "ipython3",
   "version": "3.7.0"
  }
 },
 "nbformat": 4,
 "nbformat_minor": 5
}
