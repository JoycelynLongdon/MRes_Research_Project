{
 "cells": [
  {
   "cell_type": "markdown",
   "id": "9f003259",
   "metadata": {},
   "source": [
    "Code adapted from 1. https://towardsdatascience.com/land-cover-classification-of-satellite-imagery-using-convolutional-neural-networks-91b5bb7fe808 and 2.https://github.com/PratyushTripathy/Landsat-Classification-Using-Neural-Network/blob/master/190826_TF2_builtupNeuralNetwork_tutorial_PT.py"
   ]
  },
  {
   "cell_type": "code",
   "execution_count": 50,
   "id": "b971bc49",
   "metadata": {},
   "outputs": [],
   "source": [
    "\n",
    "from __future__ import print_function, division\n",
    "\n",
    "import os\n",
    "import numpy as np\n",
    "from tensorflow import keras\n",
    "from sklearn.model_selection import train_test_split\n",
    "from sklearn.metrics import confusion_matrix, precision_score, recall_score, f1_score\n",
    "# Import Python 3's print function and division\n",
    "\n",
    "# Import GDAL, NumPy, and matplotlib\n",
    "from osgeo import gdal, gdal_array\n",
    "import numpy as np\n",
    "import matplotlib.pyplot as plt\n",
    "\n",
    "## Sklearn Libraries\n",
    "from sklearn import metrics\n",
    "from sklearn.utils import shuffle\n",
    "from sklearn.preprocessing import StandardScaler\n",
    "from sklearn.model_selection import train_test_split\n",
    "from sklearn.model_selection import StratifiedKFold\n",
    "from sklearn.model_selection import cross_val_score\n",
    "from sklearn.metrics import (accuracy_score,\n",
    "            classification_report, recall_score, precision_recall_curve)\n",
    "from pprint import pprint\n",
    "from keras.models import Sequential\n",
    "\n",
    "\n",
    "import matplotlib.pyplot as plt\n",
    "\n",
    "import numpy as np\n",
    "import earthpy.plot as ep\n",
    "import seaborn as sns\n",
    "import earthpy.spatial as es\n",
    "\n",
    "import plotly.graph_objects as go\n",
    "import plotly.express as px\n",
    "\n",
    "from scipy.io import loadmat\n",
    "\n",
    "import pandas as pd\n",
    "\n",
    "from sklearn.preprocessing import minmax_scale\n",
    "from sklearn.model_selection import train_test_split\n",
    "from sklearn.metrics import (accuracy_score,\n",
    "                             confusion_matrix, classification_report)\n",
    "\n",
    "import tensorflow as tf\n",
    "from tensorflow import keras\n",
    "from tensorflow.keras.layers import Input, Dense, Conv1D, MaxPooling1D, Dropout, Flatten\n",
    "from tensorflow.keras.models import Sequential\n",
    "from tensorflow.keras.utils import to_categorical\n",
    "\n",
    "from tensorflow.keras.callbacks import EarlyStopping, ModelCheckpoint, TensorBoard\n",
    "\n",
    "from tqdm import tqdm\n",
    "from numpy.random import seed\n",
    "from time import time\n",
    "\n",
    "seed(11)"
   ]
  },
  {
   "cell_type": "markdown",
   "id": "21fff4ac",
   "metadata": {},
   "source": [
    "### Preparing The Dataset\n"
   ]
  },
  {
   "cell_type": "code",
   "execution_count": 8,
   "id": "a6371f1e",
   "metadata": {},
   "outputs": [],
   "source": [
    "# Read in our satellite and label image\n",
    "satellite_img = gdal.Open('/gws/nopw/j04/ai4er/users/jl2182/data/Mres_Data/classification_training_data/final_filled_l8_training_data.tif', gdal.GA_ReadOnly)\n",
    "training_img = gdal.Open('/gws/nopw/j04/ai4er/users/jl2182/data/Mres_Data/classification_training_data/final_landcover_training_data.tif', gdal.GA_ReadOnly)\n"
   ]
  },
  {
   "cell_type": "code",
   "execution_count": 9,
   "id": "10e3effb",
   "metadata": {},
   "outputs": [
    {
     "data": {
      "image/png": "[encoded data removed]",
      "text/plain": [
       "<Figure size 432x288 with 2 Axes>"
      ]
     },
     "metadata": {
      "needs_background": "light"
     },
     "output_type": "display_data"
    }
   ],
   "source": [
    "\n",
    "img = np.zeros((satellite_img.RasterYSize, satellite_img.RasterXSize, satellite_img.RasterCount),\n",
    "               gdal_array.GDALTypeCodeToNumericTypeCode(satellite_img.GetRasterBand(1).DataType))\n",
    "for b in range(img.shape[2]):\n",
    "    img[:, :, b] = satellite_img.GetRasterBand(b + 1).ReadAsArray()\n",
    "    \n",
    "lbls = training_img.GetRasterBand(1).ReadAsArray().astype(np.uint8)\n",
    "\n",
    "# Display them\n",
    "plt.subplot(121)\n",
    "plt.imshow(img[:, :, 4], cmap=plt.cm.tab20b)\n",
    "plt.title('SWIR1')\n",
    "\n",
    "plt.subplot(122)\n",
    "plt.imshow(lbls, cmap=plt.cm.terrain)\n",
    "plt.title('Training Data')\n",
    "\n",
    "plt.show()"
   ]
  },
  {
   "cell_type": "code",
   "execution_count": 42,
   "id": "81e0afdf",
   "metadata": {},
   "outputs": [
    {
     "name": "stdout",
     "output_type": "stream",
     "text": [
      "We have 1322596 samples\n",
      "The training data include 8 classes: [1 2 3 4 5 6 7 8]\n",
      "Our X matrix is sized: (1322596, 7)\n",
      "Our y array is sized: (1322596,)\n"
     ]
    }
   ],
   "source": [
    "# Find how many non-zero entries we have -- i.e. how many training data samples?\n",
    "n_samples = (lbls !=9).sum()\n",
    "print('We have {n} samples'.format(n=n_samples))\n",
    "\n",
    "# What are our classification labels?\n",
    "labels = np.unique(lbls[lbls !=9])\n",
    "print('The training data include {n} classes: {classes}'.format(n=labels.size, \n",
    "                                                                classes=labels))\n",
    "# We will need a \"X\" matrix containing our features, and a \"y\" array containing our labels\n",
    "#     These will have n_samples rows\n",
    "#     In other languages we would need to allocate these and them loop to fill them, but NumPy can be faster\n",
    "\n",
    "#this is a quick numpy trick for flattening\n",
    "X = img[lbls !=9]  # include 8th band, which is Fmask, for now\n",
    "y = lbls[lbls !=9]\n",
    "\n",
    "\n",
    "print('Our X matrix is sized: {sz}'.format(sz=X.shape))\n",
    "print('Our y array is sized: {sz}'.format(sz=y.shape))\n",
    "\n"
   ]
  },
  {
   "cell_type": "code",
   "execution_count": 45,
   "id": "e1eaae57",
   "metadata": {},
   "outputs": [
    {
     "data": {
      "text/plain": [
       "10"
      ]
     },
     "execution_count": 45,
     "metadata": {},
     "output_type": "execute_result"
    }
   ],
   "source": [
    "#stratified k-cross validation to balance the classes\n",
    "skf = StratifiedKFold(n_splits=10)\n",
    "skf.get_n_splits(X_fin, y)"
   ]
  },
  {
   "cell_type": "code",
   "execution_count": 47,
   "id": "8cb8ff5f",
   "metadata": {},
   "outputs": [
    {
     "name": "stdout",
     "output_type": "stream",
     "text": [
      "TRAIN: [  18595   18596   18597 ... 1322593 1322594 1322595] TEST: [     0      1      2 ... 206111 206112 206641]\n",
      "TRAIN: [      0       1       2 ... 1322593 1322594 1322595] TEST: [ 18595  18596  18597 ... 379338 379339 379340]\n",
      "TRAIN: [      0       1       2 ... 1322593 1322594 1322595] TEST: [ 27554  27555  27556 ... 545198 545199 545200]\n",
      "TRAIN: [      0       1       2 ... 1322593 1322594 1322595] TEST: [ 32127  32128  32129 ... 678038 678039 678040]\n",
      "TRAIN: [      0       1       2 ... 1322593 1322594 1322595] TEST: [ 36431  36432  36433 ... 789466 789467 789468]\n",
      "TRAIN: [      0       1       2 ... 1322593 1322594 1322595] TEST: [ 48237  48238  48239 ... 903431 903432 903441]\n",
      "TRAIN: [      0       1       2 ... 1322593 1322594 1322595] TEST: [  50207   50208   50209 ... 1011197 1011198 1011199]\n",
      "TRAIN: [      0       1       2 ... 1322593 1322594 1322595] TEST: [  53003   53004   53005 ... 1118295 1118296 1118297]\n",
      "TRAIN: [      0       1       2 ... 1322593 1322594 1322595] TEST: [  56409   56410   56413 ... 1221743 1221744 1221745]\n",
      "TRAIN: [      0       1       2 ... 1221743 1221744 1221745] TEST: [ 447761  447762  447766 ... 1322593 1322594 1322595]\n"
     ]
    }
   ],
   "source": [
    "StratifiedKFold(n_splits=10, random_state=None, shuffle=False)\n",
    "for train_index, test_index in skf.split(X, y):\n",
    "    print(\"TRAIN:\", train_index, \"TEST:\", test_index)\n",
    "    X_train, X_test = X[train_index], X[test_index]\n",
    "    y_train, y_test = y[train_index], y[test_index]"
   ]
  },
  {
   "cell_type": "code",
   "execution_count": null,
   "id": "cd6dd6d3",
   "metadata": {},
   "outputs": [],
   "source": [
    "#define the CNN model \n",
    "\n",
    "model = Sequential(name = 'Salinas_CNN')\n",
    "\n",
    "model.add(Conv1D(filters = 64, kernel_size = 3, activation ='relu', input_shape =(ip_shape[0],1), name = 'Layer1'))\n",
    "model.add(Conv1D(filters = 64, kernel_size = 3, activation ='relu' , name = 'Layer2'))\n",
    "model.add(Conv1D(filters = 64, kernel_size = 3, activation ='relu' , name = 'Layer3'))\n",
    "\n",
    "model.add(MaxPooling1D(pool_size = 2, name = 'MaxPooling_Layer1'))\n",
    "model.add(Dropout(0.4, name = 'Dropout1'))\n",
    "\n",
    "model.add(Conv1D(filters = 32, kernel_size = 3, activation ='relu', name = 'Layer4'))\n",
    "model.add(Conv1D(filters = 32, kernel_size = 3, activation ='relu', name = 'Layer5'))\n",
    "model.add(Conv1D(filters = 32, kernel_size = 3, activation ='relu', name = 'Layer6'))\n",
    "\n",
    "model.add(MaxPooling1D(pool_size = 2, name = 'MaxPooling_Layer2'))\n",
    "model.add(Dropout(0.4, name = 'Dropout2'))\n",
    "\n",
    "model.add(Flatten(name = 'Flatten'))\n",
    "\n",
    "model.add(Dense(25, activation='relu', name = 'DenseLayer'))\n",
    "\n",
    "model.add(Dense(n_outputs, activation='softmax', name = 'OutputLayer'))\n",
    "\n",
    "\n",
    "model.summary()"
   ]
  },
  {
   "cell_type": "code",
   "execution_count": null,
   "id": "46cc0fa4",
   "metadata": {},
   "outputs": [],
   "source": [
    "#train the cnn\n",
    "model.compile(loss='categorical_crossentropy', optimizer='adam', metrics=['accuracy'])\n",
    "\n",
    "early_stop = EarlyStopping(monitor = 'val_loss',\n",
    "                            mode = 'min',\n",
    "                            min_delta = 0,\n",
    "                            patience = 10,\n",
    "                            restore_best_weights = True)\n",
    "\n",
    "checkpoint = ModelCheckpoint(filepath = 'Salinas_Model.h5', \n",
    "                             monitor = 'val_loss', \n",
    "                             mode ='min', \n",
    "                             save_best_only = True)\n",
    "\n",
    "tensorboard = TensorBoard(log_dir='SA_logs/{}'.format(time()))\n",
    "\n",
    "hist = model.fit(X_train, \n",
    "                       y_train, \n",
    "                       epochs = 100, \n",
    "                       batch_size = 256 , \n",
    "                       validation_data = (X_test, y_test), \n",
    "                       callbacks=[early_stop,\n",
    "                                  checkpoint,\n",
    "                                  tensorboard])"
   ]
  },
  {
   "cell_type": "code",
   "execution_count": null,
   "id": "dee73926",
   "metadata": {},
   "outputs": [],
   "source": [
    "#accuracy and loss graph hist = pd.DataFrame(data= hist.history)\n",
    "\n",
    "fig = go.Figure()\n",
    "\n",
    "fig.add_trace(go.Scatter(x = hist.index, y = hist.loss.values,\n",
    "                    mode='lines+markers',\n",
    "                    name='Train Loss'))\n",
    "\n",
    "fig.add_trace(go.Scatter(x = hist.index, y = hist.accuracy.values,\n",
    "                    mode='lines+markers',\n",
    "                    name='Train Accuracy'))\n",
    "\n",
    "fig.add_trace(go.Scatter(x = hist.index, y = hist.val_loss.values,\n",
    "                    mode='lines+markers', name='Test loss'))\n",
    "\n",
    "fig.add_trace(go.Scatter(x = hist.index, y = hist.val_accuracy.values,\n",
    "                    mode='lines+markers', name='Test Accuracy'))\n",
    "\n",
    "fig.show()"
   ]
  },
  {
   "cell_type": "code",
   "execution_count": null,
   "id": "8f482c47",
   "metadata": {},
   "outputs": [],
   "source": [
    "#performance\n",
    "plt.figure(figsize = (10,7))\n",
    "\n",
    "classes = ['Cropland', 'Mosaic Cropland', 'Mosaic Vegetation', 'Forest',\n",
    "                         'Shrubland', 'Grassland', 'Urban', 'Water'\n",
    "                                                           ]\n",
    "\n",
    "mat = confusion_matrix(np.add(pred, 1), np.add(np.argmax(y_test, 1), 1))\n",
    "\n",
    "df_cm = pd.DataFrame(mat, index = classes, columns = classes)\n",
    "\n",
    "sns.heatmap(df_cm, annot=True, fmt='d')\n",
    "\n",
    "plt.show()"
   ]
  },
  {
   "cell_type": "code",
   "execution_count": null,
   "id": "94f5a267",
   "metadata": {},
   "outputs": [],
   "source": [
    "#classification report\n",
    "pred = np.argmax(model.predict(X_test), axis=1)\n",
    "\n",
    "# Classification Report\n",
    "print(classification_report(pred, np.argmax(y_test, 1),\n",
    "      target_names = ['Cropland', 'Mosaic Cropland', 'Mosaic Vegetation', 'Forest',\n",
    "                         'Shrubland', 'Grassland', 'Urban', 'Water'\n",
    "                                                           ]))"
   ]
  },
  {
   "cell_type": "markdown",
   "id": "2dbbba4f",
   "metadata": {},
   "source": [
    "### Trainin the Neural Network"
   ]
  },
  {
   "cell_type": "code",
   "execution_count": 22,
   "id": "5868011d",
   "metadata": {},
   "outputs": [],
   "source": [
    "# Normalise the data (16-bit)\n",
    "#X_train = X_train / 65535.0\n",
    "#X_test = X_test / 65535\n",
    "\n",
    "# Reshape the data\n",
    "#X_train = X_train.reshape((X_train.shape[0], 1, X_train.shape[1]))\n",
    "#X_test = X_test.reshape((X_test.shape[0], 1, X_test.shape[1]))"
   ]
  },
  {
   "cell_type": "code",
   "execution_count": 24,
   "id": "f65b559e",
   "metadata": {},
   "outputs": [],
   "source": [
    "# Define the parameters of the model\n",
    "#model = keras.Sequential([\n",
    "    #keras.layers.Flatten(input_shape=(1, 7)),\n",
    "    #keras.layers.Dense(14, activation='relu'),\n",
    "    #keras.layers.Dense(2, activation='softmax')])\n",
    "\n",
    "# Define the accuracy metrics and parameters\n",
    "#model.compile(optimizer=\"adam\", loss=\"sparse_categorical_crossentropy\", metrics=[\"accuracy\"])\n"
   ]
  },
  {
   "cell_type": "code",
   "execution_count": 35,
   "id": "0db3df50",
   "metadata": {},
   "outputs": [],
   "source": [
    "# Run the model\n",
    "#model.fit(X_train, y_train, epochs=2)\n"
   ]
  },
  {
   "cell_type": "code",
   "execution_count": null,
   "id": "21703679",
   "metadata": {},
   "outputs": [],
   "source": [
    "# Predict for test data \n",
    "#val = model.predict(X_test)\n",
    "#yTestPredicted = yTestPredicted[:,1]"
   ]
  },
  {
   "cell_type": "code",
   "execution_count": null,
   "id": "b8687759",
   "metadata": {},
   "outputs": [],
   "source": [
    "# Calculate and display the error metrics\n",
    "#val = (val>0.5).astype(int)\n",
    "#cMatrix = confusion_matrix(y_test, val)\n",
    "#pScore = precision_score(y_test, val)\n",
    "#rScore = recall_score(y_test, val)\n",
    "#f1Score = f1_score(y_test, val, average='weighted')#calculates f1 score for all labels and takes class imbalance into account\n",
    "\n",
    "#print(\"Confusion matrix: for 14 nodes\\n\", cMatrix)\n",
    "#print(\"\\nP-Score: %.3f, R-Score: %.3f, F1-Score: %.3f\" % (pScore, rScore, f1Score))"
   ]
  }
 ],
 "metadata": {
  "kernelspec": {
   "display_name": "Python 3",
   "language": "python",
   "name": "python3"
  },
  "language_info": {
   "codemirror_mode": {
    "name": "ipython",
    "version": 3
   },
   "file_extension": ".py",
   "mimetype": "text/x-python",
   "name": "python",
   "nbconvert_exporter": "python",
   "pygments_lexer": "ipython3",
   "version": "3.7.0"
  }
 },
 "nbformat": 4,
 "nbformat_minor": 5
}
