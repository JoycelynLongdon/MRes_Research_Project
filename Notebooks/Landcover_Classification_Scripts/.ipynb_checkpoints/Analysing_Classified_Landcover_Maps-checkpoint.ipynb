{
 "cells": [
  {
   "cell_type": "code",
   "execution_count": null,
   "id": "1fa374dd",
   "metadata": {},
   "outputs": [],
   "source": [
    "import rasterio\n",
    "from rasterio.plot import show\n",
    "from rasterio.merge import merge\n",
    "from rasterio.plot import show\n",
    "import rasterio.features\n",
    "import rasterio.warp\n",
    "import glob\n",
    "import os\n",
    "import rioxarray as xr\n",
    "import pandas as pd\n",
    "import geopandas as gpd\n",
    "import numpy as np\n",
    "from rasterio.enums import Resampling\n",
    "from rasterio.crs import CRS\n",
    "import matplotlib.pyplot as plt\n",
    "import earthpy as et\n",
    "import earthpy.plot as ep\n",
    "from shapely.geometry import mapping\n",
    "import subprocess\n",
    "from osgeo import gdal\n",
    "import multiprocessing as mp\n",
    "from typing import List, Any, Sequence, Tuple\n",
    "import xarray as xarray\n",
    "from numpy import savetxt\n",
    "\n",
    "\n",
    "\n",
    "\n",
    "%matplotlib inline\n"
   ]
  },
  {
   "cell_type": "markdown",
   "id": "062208ed",
   "metadata": {},
   "source": [
    "## Correcting Classified Images for pixels where there was cloud cover in one year and not the other"
   ]
  },
  {
   "cell_type": "code",
   "execution_count": null,
   "id": "799fb679",
   "metadata": {},
   "outputs": [],
   "source": [
    "#test\n",
    "image_1 = np.load('/gws/nopw/j04/ai4er/users/jl2182/data/Figures/PIREDD_Classified/PIREDD_Plataue_L8_2013_classified.npy')\n",
    "image_2 = np.load('/gws/nopw/j04/ai4er/users/jl2182/data/Figures/PIREDD_Classified/PIREDD_Plataue_L8_2014_classified.npy')\n",
    "image_3 = np.load('/gws/nopw/j04/ai4er/users/jl2182/data/Figures/PIREDD_Classified/PIREDD_Plataue_L8_2015_classified.npy')"
   ]
  },
  {
   "cell_type": "code",
   "execution_count": null,
   "id": "09cd24e9",
   "metadata": {},
   "outputs": [],
   "source": [
    "image_2.shape"
   ]
  },
  {
   "cell_type": "code",
   "execution_count": null,
   "id": "85167cc5",
   "metadata": {},
   "outputs": [],
   "source": [
    "#visualise boths landcover maps\n",
    "\n",
    "# See https://github.com/matplotlib/matplotlib/issues/844/\n",
    "n = image_1.max()\n",
    "# Next setup a colormap for our map\n",
    "colors = dict((\n",
    "    (1, (111, 97, 6,255)),  # Cropland (brown)\n",
    "    (2, (135, 198, 42,255)),  # Shrubland (light green)\n",
    "    (3, (15, 91, 3,255)),  # Forest (dark green)\n",
    "    (4, (255, 26, 0,255)),  # Urban (red)\n",
    "    (5, (0, 0, 255,255)),  # Water (blue)\n",
    "    (6, (0, 0, 0,0)) #No Data/Clouds\n",
    "))\n",
    "# Put 0 - 255 as float 0 - 1\n",
    "for k in colors:\n",
    "    v = colors[k]\n",
    "    _v = [_v / 255.0 for _v in v]\n",
    "    colors[k] = _v\n",
    "    \n",
    "index_colors = [colors[key] if key in colors else \n",
    "                (255, 255, 255, 0) for key in range(1, n + 1)]\n",
    "cmap = plt.matplotlib.colors.ListedColormap(index_colors, 'Classification', n)\n",
    "\n",
    "# Now show the classmap next to the image\n",
    "#plt.figure(figsize = (8,8))\n",
    "plt.figure(figsize = (20,25))\n",
    "\n",
    "plt.subplot(131)\n",
    "plt.title('Year 1')\n",
    "plt.imshow(image_1, cmap=cmap, interpolation='none')\n",
    "\n",
    "#plt.figure(figsize = (8,8))\n",
    "plt.subplot(132)\n",
    "plt.title('Year 2')\n",
    "plt.imshow(image_2, cmap=cmap, interpolation='none')\n",
    "\n",
    "plt.subplot(133)\n",
    "plt.title('Year 2')\n",
    "plt.imshow(image_2, cmap=cmap, interpolation='none')\n",
    "\n",
    "plt.show()"
   ]
  },
  {
   "cell_type": "code",
   "execution_count": null,
   "id": "c759e396",
   "metadata": {},
   "outputs": [],
   "source": [
    "print(np.count_nonzero(image_2 == 6))"
   ]
  },
  {
   "cell_type": "code",
   "execution_count": null,
   "id": "7c9f9a02",
   "metadata": {},
   "outputs": [],
   "source": [
    "#account for years where pixels might be covered by cloud\n",
    "A = np.ones(image_1.shape)\n",
    "for i in range(image_2.shape[0]):\n",
    "    for j in range(image_2.shape[1]):\n",
    "        #forest, cloud, forest\n",
    "        if image_1[i,j] == 3 and image_2[i,j] == 6 and image_3[i,j] == 3:\n",
    "            A[i,j] = image_1[i,j] #no change\n",
    "        #non-forest, cloud, non-forest\n",
    "        if image_1[i,j] !=3 and image_2[i,j] == 6 and image_3[i,j] != 3:\n",
    "            A[i,j] = image_1[i,j] #change\n",
    "        #forest, cloud, not forest\n",
    "        if image_1[i,j] == 3 and image_2[i,j] == 6 and image_3[i,j] != 3:\n",
    "            A[i,j] = image_3[i,j]\n",
    "        else:\n",
    "            A[i,j] = image_2[i,j] #blank out all other pixels/changes\n",
    "            \n",
    "#a similar method is taken in Landtrendr where a decrease in the observed spectral value is ignored if the \n",
    "#following year it returns to the level of the previous year, which would indicate cloud cover\n",
    "#limitation here is that if the image 1 and image 3 pixel classifcation are different, then bias has been created about which\n",
    "#class the pixel will become which could skew which year the change event was seen to happen"
   ]
  },
  {
   "cell_type": "code",
   "execution_count": null,
   "id": "1588b9f6",
   "metadata": {},
   "outputs": [],
   "source": [
    "unique, counts = np.unique(image_2, return_counts=True)\n",
    "list(zip(unique, counts))"
   ]
  },
  {
   "cell_type": "code",
   "execution_count": null,
   "id": "0df94c17",
   "metadata": {},
   "outputs": [],
   "source": [
    "unique, counts = np.unique(A, return_counts=True)\n",
    "list(zip(unique, counts))"
   ]
  },
  {
   "cell_type": "code",
   "execution_count": null,
   "id": "23729b1b",
   "metadata": {},
   "outputs": [],
   "source": [
    "plt.figure(figsize = (20,25))\n",
    "\n",
    "plt.subplot(121)\n",
    "plt.title('Before Correction')\n",
    "plt.imshow(image_2, cmap=cmap, interpolation='none')\n",
    "\n",
    "#plt.figure(figsize = (8,8))\n",
    "plt.subplot(122)\n",
    "plt.title('After Correction')\n",
    "plt.imshow(A, cmap=cmap, interpolation='none')\n",
    "\n",
    "#save as numpy array, tif and png ahead of analysis\n",
    "np.save('/gws/nopw/j04/ai4er/users/jl2182/data/Figures/PIREDD_Classified/Corrected_Classified/PIREDD_Plataue_L8_2014_corrected_classified.npy', A)\n",
    "plt.savefig( '/gws/nopw/j04/ai4er/users/jl2182/data/Figures/PIREDD_Classified/Corrected_Classified/PIREDD_Plataue_L8_2014_corrected_classified.tif')\n",
    "plt.savefig( '/gws/nopw/j04/ai4er/users/jl2182/data/Figures/PIREDD_Classified/Corrected_Classified/PIREDD_Plataue_L8_2014_corrected_classified.png')"
   ]
  },
  {
   "cell_type": "code",
   "execution_count": null,
   "id": "0698ef57",
   "metadata": {},
   "outputs": [],
   "source": []
  },
  {
   "cell_type": "markdown",
   "id": "d5da7d00",
   "metadata": {},
   "source": [
    "## Calculating class cover time series"
   ]
  },
  {
   "cell_type": "code",
   "execution_count": null,
   "id": "a576bd2e",
   "metadata": {},
   "outputs": [],
   "source": [
    "PIREDD_classified = '/gws/nopw/j04/ai4er/users/jl2182/data/Figures/PIREDD_Classified'"
   ]
  },
  {
   "cell_type": "code",
   "execution_count": null,
   "id": "8c69e3fb",
   "metadata": {},
   "outputs": [],
   "source": [
    "# Make a search criteria to select the files to loop over\n",
    "search_criteria = \"*.npy\"\n",
    "r = os.path.join(PIREDD_classified, search_criteria)\n",
    "print(r)\n",
    "\n",
    "\n",
    "# glob function can be used to list files from a directory with specific criteria\n",
    "classified_images_piredd = glob.glob(r)\n",
    "\n",
    "# Files that were found:\n",
    "print(classified_images_piredd)"
   ]
  },
  {
   "cell_type": "code",
   "execution_count": null,
   "id": "b400fe37",
   "metadata": {},
   "outputs": [],
   "source": [
    "\n",
    "#lost for data frame\n",
    "f = []\n",
    "for classified in classified_images_piredd:\n",
    "    p = np.load(classified)\n",
    "    cropland = np.count_nonzero(p == 1)\n",
    "    shrubland = np.count_nonzero(p == 2)\n",
    "    forest = np.count_nonzero(p == 3)\n",
    "    grassland = np.count_nonzero(p == 4)\n",
    "    urban = np.count_nonzero(p == 5)\n",
    "    water = np.count_nonzero(p == 6)\n",
    "    f.append(\n",
    "        {\n",
    "            'Cropland  (sq m)': cropland*300,\n",
    "            'Shrubland (sq m)': shrubland*300,\n",
    "            'Forest (sq m)': forest*300,\n",
    "            'Grassland (sq m)': grassland*300,\n",
    "            'Urban (sq m)' : urban*300,\n",
    "            'Water (sq m)' : water*300,\n",
    "        }\n",
    "    )\n",
    "\n",
    "\n",
    "df_2 = pd.DataFrame(f, index = ['2013', '2014', '2015', '2016', '2017', '2018', '2019', '2020'])\n",
    "df_2.loc['Total']= df_2.sum()\n",
    "df_2"
   ]
  },
  {
   "cell_type": "code",
   "execution_count": null,
   "id": "d584f7fb",
   "metadata": {},
   "outputs": [],
   "source": [
    "#save as csv\n",
    "df.to_csv('/gws/nopw/j04/ai4er/users/jl2182/data/Figures/PIREDD_Classified/PIREDD_Annual_Class_Areas.csv')\n"
   ]
  },
  {
   "cell_type": "code",
   "execution_count": null,
   "id": "0259a042",
   "metadata": {},
   "outputs": [],
   "source": [
    "#plot all classes\n",
    "df_2.iloc[:8].plot(title='Time Series of all Landcover Class Areas', figsize=(10,10), xlabel='Year',ylabel='Area in Square Meters', grid=True)\n",
    "plt.savefig('/gws/nopw/j04/ai4er/users/jl2182/data/Figures/PIREDD_Classified/PIREDD_Classified_Time_series.png')\n",
    "plt.show()\n",
    "\n",
    "df_2.iloc[:8].plot.bar(title='Bar Graph of all Landcover Class Areas', figsize=(10,10), xlabel='Year',ylabel='Area in Square Meters', grid=True)\n",
    "plt.savefig('/gws/nopw/j04/ai4er/users/jl2182/data/Figures/PIREDD_Classified/PIREDD_Classified_Bar_Graph.png')\n",
    "plt.show()\n"
   ]
  },
  {
   "cell_type": "code",
   "execution_count": null,
   "id": "44cfa779",
   "metadata": {},
   "outputs": [],
   "source": [
    "#plot only forest\n",
    "df_2.iloc[:8,2].plot(title='Time Series of all Landcover Class Areas', figsize=(10,10), xlabel='Year',ylabel='Area in Square Meters', grid=True, color = 'g')\n",
    "plt.savefig('/gws/nopw/j04/ai4er/users/jl2182/data/Figures/PIREDD_Classified/PIREDD_Forest_Time_series.png')\n",
    "plt.show()\n",
    "\n",
    "df_2.iloc[:8,2].plot.bar(title='Bar Graph of all Landcover Class Areas', figsize=(10,10), xlabel='Year',ylabel='Area in Square Meters', grid=True, color = 'g')\n",
    "plt.savefig('/gws/nopw/j04/ai4er/users/jl2182/data/Figures/PIREDD_Classified/PIREDD_Forest_Bar_Graph.png')\n",
    "plt.show()\n"
   ]
  },
  {
   "cell_type": "code",
   "execution_count": null,
   "id": "a8ac4c89",
   "metadata": {},
   "outputs": [],
   "source": []
  }
 ],
 "metadata": {
  "kernelspec": {
   "display_name": "Python 3",
   "language": "python",
   "name": "python3"
  },
  "language_info": {
   "codemirror_mode": {
    "name": "ipython",
    "version": 3
   },
   "file_extension": ".py",
   "mimetype": "text/x-python",
   "name": "python",
   "nbconvert_exporter": "python",
   "pygments_lexer": "ipython3",
   "version": "3.7.0"
  }
 },
 "nbformat": 4,
 "nbformat_minor": 5
}
