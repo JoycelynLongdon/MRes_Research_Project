{
 "cells": [
  {
   "cell_type": "markdown",
   "id": "d5515372",
   "metadata": {},
   "source": [
    "This code was adapted from Chris Holden (ceholden@gmail.com) Chaoter 5 Lesson on Ladncover Classification: https://ceholden.github.io/open-geo-tutorial/python/chapter_5_classification.html - https://github.com/ceholden\n",
    "\n"
   ]
  },
  {
   "cell_type": "markdown",
   "id": "5ff027cf",
   "metadata": {},
   "source": [
    "### Imports"
   ]
  },
  {
   "cell_type": "code",
   "execution_count": 1,
   "id": "35d38e6e",
   "metadata": {},
   "outputs": [],
   "source": [
    "# Import Python 3's print function and division\n",
    "from __future__ import print_function, division\n",
    "\n",
    "# Import GDAL, NumPy, and matplotlib\n",
    "from osgeo import gdal, gdal_array\n",
    "import numpy as np\n",
    "import matplotlib.pyplot as plt\n",
    "%matplotlib inline\n",
    "\n",
    "## Sklearn Libraries\n",
    "from sklearn import metrics\n",
    "from sklearn.utils import shuffle\n",
    "from sklearn.ensemble import RandomForestClassifier\n",
    "from sklearn.preprocessing import StandardScaler\n",
    "from sklearn.model_selection import train_test_split\n",
    "from sklearn.model_selection import StratifiedKFold\n",
    "from sklearn.model_selection import cross_val_score\n",
    "from sklearn.ensemble import RandomForestClassifier\n",
    "from sklearn.model_selection import GridSearchCV\n",
    "from sklearn.metrics import make_scorer\n",
    "from sklearn.metrics import f1_score, confusion_matrix, roc_curve, auc, \\\n",
    "            classification_report, recall_score, precision_recall_curve\n",
    "from sklearn.metrics import accuracy_score\n",
    "from pprint import pprint\n"
   ]
  },
  {
   "cell_type": "markdown",
   "id": "9a31ee4d",
   "metadata": {},
   "source": [
    "### Preparing The Dataset"
   ]
  },
  {
   "cell_type": "code",
   "execution_count": 2,
   "id": "5a43e724",
   "metadata": {},
   "outputs": [],
   "source": [
    "# Read in our satellite and label image\n",
    "satellite_img = gdal.Open('/gws/nopw/j04/ai4er/users/jl2182/data/Mres_Data/classification_training_data/final_filled_l8_training_data.tif', gdal.GA_ReadOnly)\n",
    "training_img = gdal.Open('/gws/nopw/j04/ai4er/users/jl2182/data/Mres_Data/classification_training_data/third_remerge_landcover_training_data.tif', gdal.GA_ReadOnly)\n"
   ]
  },
  {
   "cell_type": "code",
   "execution_count": 3,
   "id": "34b41c3d",
   "metadata": {},
   "outputs": [
    {
     "data": {
      "image/png": "[encoded data removed]",
      "text/plain": [
       "<Figure size 432x288 with 2 Axes>"
      ]
     },
     "metadata": {
      "needs_background": "light"
     },
     "output_type": "display_data"
    }
   ],
   "source": [
    "\n",
    "img = np.zeros((satellite_img.RasterYSize, satellite_img.RasterXSize, satellite_img.RasterCount),\n",
    "               gdal_array.GDALTypeCodeToNumericTypeCode(satellite_img.GetRasterBand(1).DataType))\n",
    "for b in range(img.shape[2]):\n",
    "    img[:, :, b] = satellite_img.GetRasterBand(b + 1).ReadAsArray()\n",
    "    \n",
    "lbls = training_img.GetRasterBand(1).ReadAsArray().astype(np.uint8)\n",
    "\n",
    "# Display them\n",
    "plt.subplot(121)\n",
    "plt.imshow(img[:, :, 4], cmap=plt.cm.tab20b)\n",
    "plt.title('SWIR1')\n",
    "\n",
    "plt.subplot(122)\n",
    "plt.imshow(lbls, cmap=plt.cm.terrain)\n",
    "plt.title('Training Data')\n",
    "\n",
    "plt.show()"
   ]
  },
  {
   "cell_type": "code",
   "execution_count": 4,
   "id": "1638c0dc",
   "metadata": {},
   "outputs": [
    {
     "data": {
      "text/plain": [
       "(1483, 2353, 7)"
      ]
     },
     "execution_count": 4,
     "metadata": {},
     "output_type": "execute_result"
    }
   ],
   "source": [
    "img.shape"
   ]
  },
  {
   "cell_type": "code",
   "execution_count": 5,
   "id": "412d08ab",
   "metadata": {},
   "outputs": [
    {
     "data": {
      "text/plain": [
       "(1483, 2353)"
      ]
     },
     "execution_count": 5,
     "metadata": {},
     "output_type": "execute_result"
    }
   ],
   "source": [
    "lbls.shape"
   ]
  },
  {
   "cell_type": "markdown",
   "id": "c96f2fa5",
   "metadata": {},
   "source": [
    "Creating the X feature matrix array and the y labels matrix to be fed into the Random Forest"
   ]
  },
  {
   "cell_type": "code",
   "execution_count": 6,
   "id": "7ba761d7",
   "metadata": {},
   "outputs": [
    {
     "name": "stdout",
     "output_type": "stream",
     "text": [
      "We have 3489499 samples\n",
      "The training data include 6 classes: [1 2 3 4 5 6]\n",
      "Our X matrix is sized: (3489499, 7)\n",
      "Our y array is sized: (3489499,)\n"
     ]
    }
   ],
   "source": [
    "# Find how many non-zero entries we have -- i.e. how many training data samples?\n",
    "n_samples = (lbls !=7).sum()\n",
    "print('We have {n} samples'.format(n=n_samples))\n",
    "\n",
    "# What are our classification labels?\n",
    "labels = np.unique(lbls[lbls !=7])\n",
    "print('The training data include {n} classes: {classes}'.format(n=labels.size, \n",
    "                                                                classes=labels))\n",
    "# We will need a \"X\" matrix containing our features, and a \"y\" array containing our labels\n",
    "#     These will have n_samples rows\n",
    "#     In other languages we would need to allocate these and them loop to fill them, but NumPy can be faster\n",
    "\n",
    "#this is a quick numpy trick for flattening\n",
    "X = img[lbls !=7]  # include 8th band, which is Fmask, for now\n",
    "y = lbls[lbls !=7]\n",
    "\n",
    "\n",
    "print('Our X matrix is sized: {sz}'.format(sz=X.shape))\n",
    "print('Our y array is sized: {sz}'.format(sz=y.shape))\n",
    "\n"
   ]
  },
  {
   "cell_type": "markdown",
   "id": "db677cb8",
   "metadata": {},
   "source": [
    "### Training The Random Forest"
   ]
  },
  {
   "cell_type": "code",
   "execution_count": 7,
   "id": "9c62909b",
   "metadata": {},
   "outputs": [
    {
     "data": {
      "text/plain": [
       "10"
      ]
     },
     "execution_count": 7,
     "metadata": {},
     "output_type": "execute_result"
    }
   ],
   "source": [
    "#stratified k-cross validation to balance the classes\n",
    "skf = StratifiedKFold(n_splits=10)\n",
    "skf.get_n_splits(X, y)"
   ]
  },
  {
   "cell_type": "code",
   "execution_count": 8,
   "id": "0d65510f",
   "metadata": {},
   "outputs": [
    {
     "name": "stdout",
     "output_type": "stream",
     "text": [
      "TRAIN: [ 248321  248322  248323 ... 3489496 3489497 3489498] TEST: [     0      1      2 ... 770848 770849 770850]\n",
      "TRAIN: [      0       1       2 ... 3489496 3489497 3489498] TEST: [ 248321  248322  248323 ... 1092967 1092968 1092969]\n",
      "TRAIN: [      0       1       2 ... 3489496 3489497 3489498] TEST: [ 297221  297283  297285 ... 1733559 1733560 1733561]\n",
      "TRAIN: [      0       1       2 ... 3489496 3489497 3489498] TEST: [ 311277  311278  311279 ... 1910226 1910230 1910231]\n",
      "TRAIN: [      0       1       2 ... 3489496 3489497 3489498] TEST: [ 325360  325361  325362 ... 2025564 2025565 2025566]\n",
      "TRAIN: [      0       1       2 ... 3489496 3489497 3489498] TEST: [ 337126  337127  337128 ... 2220858 2220859 2220860]\n",
      "TRAIN: [      0       1       2 ... 3489496 3489497 3489498] TEST: [ 346611  346612  348880 ... 2553425 2553426 2553427]\n",
      "TRAIN: [      0       1       2 ... 3489496 3489497 3489498] TEST: [ 360663  360664  360665 ... 2901754 2901755 2901756]\n",
      "TRAIN: [      0       1       2 ... 3489496 3489497 3489498] TEST: [ 377178  377181  377183 ... 3221450 3221451 3221452]\n",
      "TRAIN: [      0       1       2 ... 3221450 3221451 3221452] TEST: [1278057 1278061 1278062 ... 3489496 3489497 3489498]\n"
     ]
    }
   ],
   "source": [
    "StratifiedKFold(n_splits=10, random_state=None, shuffle=False)\n",
    "for train_index, test_index in skf.split(X, y):\n",
    "    print(\"TRAIN:\", train_index, \"TEST:\", test_index)\n",
    "    X_train, X_test = X[train_index], X[test_index]\n",
    "    y_train, y_test = y[train_index], y[test_index]"
   ]
  },
  {
   "cell_type": "code",
   "execution_count": 9,
   "id": "f244d707",
   "metadata": {},
   "outputs": [],
   "source": [
    "#X_train, X_test, y_train, y_test = train_test_split(X, y, test_size=0.3) #stratify=y, random_state=123456"
   ]
  },
  {
   "cell_type": "code",
   "execution_count": 10,
   "id": "b5ceb5d8",
   "metadata": {},
   "outputs": [
    {
     "data": {
      "text/plain": [
       "4220.8759765625"
      ]
     },
     "execution_count": 10,
     "metadata": {},
     "output_type": "execute_result"
    }
   ],
   "source": [
    "X.max()"
   ]
  },
  {
   "cell_type": "code",
   "execution_count": 11,
   "id": "e343dcda",
   "metadata": {},
   "outputs": [
    {
     "data": {
      "text/plain": [
       "6"
      ]
     },
     "execution_count": 11,
     "metadata": {},
     "output_type": "execute_result"
    }
   ],
   "source": [
    "y.max()"
   ]
  },
  {
   "cell_type": "code",
   "execution_count": 12,
   "id": "73f3b8d9",
   "metadata": {},
   "outputs": [
    {
     "data": {
      "text/plain": [
       "(3140550, 7)"
      ]
     },
     "execution_count": 12,
     "metadata": {},
     "output_type": "execute_result"
    }
   ],
   "source": [
    "X_train.shape"
   ]
  },
  {
   "cell_type": "code",
   "execution_count": 13,
   "id": "503b35a0",
   "metadata": {},
   "outputs": [
    {
     "data": {
      "text/plain": [
       "(348949, 7)"
      ]
     },
     "execution_count": 13,
     "metadata": {},
     "output_type": "execute_result"
    }
   ],
   "source": [
    "X_test.shape"
   ]
  },
  {
   "cell_type": "code",
   "execution_count": 14,
   "id": "be952abb",
   "metadata": {},
   "outputs": [
    {
     "data": {
      "text/plain": [
       "(3140550,)"
      ]
     },
     "execution_count": 14,
     "metadata": {},
     "output_type": "execute_result"
    }
   ],
   "source": [
    "y_train.shape"
   ]
  },
  {
   "cell_type": "code",
   "execution_count": 15,
   "id": "5f179874",
   "metadata": {},
   "outputs": [
    {
     "data": {
      "text/plain": [
       "(348949,)"
      ]
     },
     "execution_count": 15,
     "metadata": {},
     "output_type": "execute_result"
    }
   ],
   "source": [
    "y_test.shape"
   ]
  },
  {
   "cell_type": "code",
   "execution_count": 16,
   "id": "15b8e7e2",
   "metadata": {},
   "outputs": [],
   "source": [
    "# Initialize our model with 500 trees\n",
    "rf = RandomForestClassifier(n_estimators=500, oob_score=True)\n"
   ]
  },
  {
   "cell_type": "code",
   "execution_count": 17,
   "id": "8aac447a",
   "metadata": {},
   "outputs": [],
   "source": [
    "\n",
    "# Fit our model to training data\n",
    "train = rf.fit(X_train, y_train)"
   ]
  },
  {
   "cell_type": "markdown",
   "id": "518aed6d",
   "metadata": {},
   "source": [
    "### Training Performance"
   ]
  },
  {
   "cell_type": "code",
   "execution_count": 18,
   "id": "cd8d3be5",
   "metadata": {},
   "outputs": [
    {
     "name": "stdout",
     "output_type": "stream",
     "text": [
      "Our OOB prediction of accuracy is: 92.96037318304118%\n"
     ]
    }
   ],
   "source": [
    "print('Our OOB prediction of accuracy is: {oob}%'.format(oob=rf.oob_score_ * 100))\n"
   ]
  },
  {
   "cell_type": "code",
   "execution_count": 19,
   "id": "0a6316af",
   "metadata": {},
   "outputs": [
    {
     "name": "stdout",
     "output_type": "stream",
     "text": [
      "predict      1       2       3     4      5        6      All\n",
      "truth                                                        \n",
      "1        96843       0       0     0      0    11315   108158\n",
      "2            0  145568       0     0      0    16262   161830\n",
      "3            0       0  873338     0      0    13048   886386\n",
      "4            0       0       0  3573      0       60     3633\n",
      "5            0       0       0     0  28144     2187    30331\n",
      "6            0       0       0     0      0  1950212  1950212\n",
      "All      96843  145568  873338  3573  28144  1993084  3140550\n"
     ]
    }
   ],
   "source": [
    "import pandas as pd\n",
    "\n",
    "# Setup a dataframe -- just like R\n",
    "df = pd.DataFrame()\n",
    "df['truth'] = y_train\n",
    "df['predict'] = rf.predict(X_train)\n",
    "\n",
    "# Cross-tabulate predictions\n",
    "print(pd.crosstab(df['truth'], df['predict'], margins=True))"
   ]
  },
  {
   "cell_type": "markdown",
   "id": "6a1c8cbf",
   "metadata": {},
   "source": [
    "### Validation Performance"
   ]
  },
  {
   "cell_type": "code",
   "execution_count": 20,
   "id": "9102ebad",
   "metadata": {},
   "outputs": [],
   "source": [
    "val = rf.predict(X_test)"
   ]
  },
  {
   "cell_type": "code",
   "execution_count": 25,
   "id": "bf2d660c",
   "metadata": {},
   "outputs": [],
   "source": [
    "target_names = ['Cropland', 'Shrubland', 'Forest', 'Grassland', 'Urban', 'Water']"
   ]
  },
  {
   "cell_type": "code",
   "execution_count": 26,
   "id": "03842f1f",
   "metadata": {},
   "outputs": [
    {
     "name": "stdout",
     "output_type": "stream",
     "text": [
      "              precision    recall  f1-score   support\n",
      "\n",
      "    Cropland       0.37      0.10      0.16     12018\n",
      "   Shrubland       0.22      0.06      0.09     17981\n",
      "      Forest       0.77      0.95      0.85     98487\n",
      "   Grassland       0.00      0.01      0.01       403\n",
      "       Urban       0.85      0.06      0.12      3370\n",
      "       Water       0.99      1.00      1.00    216690\n",
      "\n",
      "    accuracy                           0.90    348949\n",
      "   macro avg       0.53      0.36      0.37    348949\n",
      "weighted avg       0.87      0.90      0.87    348949\n",
      "\n"
     ]
    }
   ],
   "source": [
    "print(classification_report(y_test, val, target_names=target_names))"
   ]
  },
  {
   "cell_type": "code",
   "execution_count": 23,
   "id": "3f435392",
   "metadata": {},
   "outputs": [
    {
     "name": "stdout",
     "output_type": "stream",
     "text": [
      "Confusion matrix:\n",
      "[[  1188   1045   9434    272      9     70]\n",
      " [   807   1067  15628    332     12    135]\n",
      " [   999   2614  93624     89      9   1152]\n",
      " [   230     23     85      3      8     54]\n",
      " [    10    140   2822      0    213    185]\n",
      " [     0      0      0      0      0 216690]]\n"
     ]
    },
    {
     "data": {
      "image/png": "[encoded data removed]",
      "text/plain": [
       "<Figure size 432x288 with 2 Axes>"
      ]
     },
     "metadata": {
      "needs_background": "light"
     },
     "output_type": "display_data"
    }
   ],
   "source": [
    "disp = metrics.plot_confusion_matrix(rf, X_test, y_test)\n",
    "disp.figure_.suptitle(\"Confusion Matrix\")\n",
    "print(f\"Confusion matrix:\\n{disp.confusion_matrix}\")\n",
    "\n",
    "plt.show()"
   ]
  },
  {
   "cell_type": "markdown",
   "id": "c7f34bdb",
   "metadata": {},
   "source": [
    "### Band Importance"
   ]
  },
  {
   "cell_type": "code",
   "execution_count": 24,
   "id": "9d6beddc",
   "metadata": {},
   "outputs": [
    {
     "name": "stdout",
     "output_type": "stream",
     "text": [
      "Band 1 importance: 0.03510919777346954\n",
      "Band 2 importance: 0.16173536365040767\n",
      "Band 3 importance: 0.15845396238661907\n",
      "Band 4 importance: 0.13622324295346275\n",
      "Band 5 importance: 0.16024654790606402\n",
      "Band 6 importance: 0.1754169397705177\n",
      "Band 7 importance: 0.17281474555945936\n"
     ]
    }
   ],
   "source": [
    "bands = [1, 2, 3, 4, 5, 6,7,8,9,10]\n",
    "\n",
    "for b, imp in zip(bands, rf.feature_importances_):\n",
    "    print('Band {b} importance: {imp}'.format(b=b, imp=imp))"
   ]
  },
  {
   "cell_type": "markdown",
   "id": "5c335345",
   "metadata": {},
   "source": [
    "#### Scientific comment on band importance\n",
    "The SWIR bands s"
   ]
  },
  {
   "cell_type": "code",
   "execution_count": 26,
   "id": "79bf2d7a",
   "metadata": {},
   "outputs": [
    {
     "name": "stdout",
     "output_type": "stream",
     "text": [
      "Parameters currently in use:\n",
      "\n",
      "{'bootstrap': True,\n",
      " 'ccp_alpha': 0.0,\n",
      " 'class_weight': None,\n",
      " 'criterion': 'gini',\n",
      " 'max_depth': None,\n",
      " 'max_features': 'auto',\n",
      " 'max_leaf_nodes': None,\n",
      " 'max_samples': None,\n",
      " 'min_impurity_decrease': 0.0,\n",
      " 'min_impurity_split': None,\n",
      " 'min_samples_leaf': 1,\n",
      " 'min_samples_split': 2,\n",
      " 'min_weight_fraction_leaf': 0.0,\n",
      " 'n_estimators': 500,\n",
      " 'n_jobs': None,\n",
      " 'oob_score': True,\n",
      " 'random_state': None,\n",
      " 'verbose': 0,\n",
      " 'warm_start': False}\n"
     ]
    }
   ],
   "source": [
    "#current parameters in use\n",
    "\n",
    "# Look at parameters used by our current forest\n",
    "print('Parameters currently in use:\\n')\n",
    "pprint(rf.get_params())\n"
   ]
  },
  {
   "cell_type": "markdown",
   "id": "09fc6294",
   "metadata": {},
   "source": [
    "### Hyperparameter Testing with Grid Search\n",
    "\n",
    "Methood 1: Code adapted from \"Dealing with multiclass data\" - https://towardsdatascience.com/dealing-with-multiclass-data-78a1a27c5dcc"
   ]
  },
  {
   "cell_type": "code",
   "execution_count": null,
   "id": "fdc9ec8a",
   "metadata": {},
   "outputs": [],
   "source": [
    "def hyper_param_rf_predict(X_train, y_train, X_test, y_test):\n",
    "    #rfc = RandomForestClassifier()\n",
    "    #rfc.fit(X_train, y_train)\n",
    "    n_optimal_param_grid = {\n",
    "    'bootstrap': [True],\n",
    "    'max_depth': [20], #setting this so as not to create a tree that's too big\n",
    "    #'max_features': [2, 3, 4, 10],\n",
    "    'min_samples_leaf': [1],\n",
    "    'min_samples_split': [2],\n",
    "    'n_estimators': [500]\n",
    "    }\n",
    "    grid_search_optimal = GridSearchCV(estimator = rf, param_grid = n_optimal_param_grid,\n",
    "                          cv = 3, n_jobs = -1, verbose = 2)\n",
    "    grid_search_optimal.fit(X_train, y_train)\n",
    "    rf_pred_gs = grid_search_optimal.predict(X_test)\n",
    "    print (\"Random Forest Train Accuracy Baseline After Grid Search:\", metrics.accuracy_score(y_train, grid_search_optimal.predict(X_train)))\n",
    "    print (\"Random Forest Test Accuracy Baseline After Grid Search:\", metrics.accuracy_score(y_test, grid_search_optimal.predict(X_test)))\n",
    "    print(confusion_matrix(y_test,rf_pred_gs))\n",
    "    print(classification_report(y_test,rf_pred_gs))\n",
    "    rf_train_acc = metrics.accuracy_score(y_train, rf.predict(X_train))\n",
    "    rf_test_acc = metrics.accuracy_score(y_test, rf.predict(X_test))\n",
    "\n",
    "\n",
    "   \n",
    "    return(rfc_train_acc, rfc_test_accs)\n"
   ]
  },
  {
   "cell_type": "code",
   "execution_count": null,
   "id": "f97315c3",
   "metadata": {},
   "outputs": [],
   "source": [
    "hyper_param_rf_predict(X_train, y_train, X_test, y_test)"
   ]
  },
  {
   "cell_type": "markdown",
   "id": "7a01beaf",
   "metadata": {},
   "source": [
    "### Hyperparameter Testing with Random Search\n",
    "\n",
    "Method 2: Code adapted from Hyperparameter Tuning the Random Forest in Python - https://towardsdatascience.com/hyperparameter-tuning-the-random-forest-in-python-using-scikit-learn-28d2aa77dd74\n"
   ]
  },
  {
   "cell_type": "code",
   "execution_count": null,
   "id": "b237ed47",
   "metadata": {},
   "outputs": [],
   "source": [
    "from sklearn.model_selection import RandomizedSearchCV\n",
    "### cCreate the parameter grid\n",
    "# Number of trees in random forest\n",
    "n_estimators = [500]\n",
    "# Number of features to consider at every split\n",
    "max_features = ['auto', 'sqrt']\n",
    "# Maximum number of levels in tree\n",
    "max_depth = [20]\n",
    "max_depth.append(None)\n",
    "# Minimum number of samples required to split a node\n",
    "min_samples_split = [2]\n",
    "# Minimum number of samples required at each leaf node\n",
    "min_samples_leaf = [1]\n",
    "# Method of selecting samples for training each tree\n",
    "bootstrap = [True]\n",
    "# Create the random grid\n",
    "random_grid = {'n_estimators': n_estimators,\n",
    "               'max_features': max_features,\n",
    "               'max_depth': max_depth,\n",
    "               'min_samples_split': min_samples_split,\n",
    "               'min_samples_leaf': min_samples_leaf,\n",
    "               'bootstrap': bootstrap}\n",
    "pprint(random_grid)"
   ]
  },
  {
   "cell_type": "code",
   "execution_count": null,
   "id": "2518e2fb",
   "metadata": {},
   "outputs": [],
   "source": [
    "### Instantiate the random search and fit\n",
    "# Random search of parameters, using 3 fold cross validation, \n",
    "# search across 100 different combinations, and use all available cores\n",
    "rf_random = RandomizedSearchCV(estimator = rf, param_distributions = random_grid, n_iter = 10, cv = 3, verbose=2, random_state=42, n_jobs = -1)\n",
    "# Fit the random search model\n",
    "rf_random.fit(X_train, y_train)\n"
   ]
  },
  {
   "cell_type": "markdown",
   "id": "b9d3b0a4",
   "metadata": {},
   "source": [
    "Note: The most important arguments in RandomizedSearchCV are n_iter, which controls the number of different combinations to try, and cv which is the number of folds to use for cross validation. More iterations will cover a wider search space and more cv folds reduces the chances of overfitting."
   ]
  },
  {
   "cell_type": "code",
   "execution_count": null,
   "id": "ce560cc4",
   "metadata": {},
   "outputs": [],
   "source": [
    "### Identify the best parameters\n",
    "rf_random.best_params_"
   ]
  },
  {
   "cell_type": "code",
   "execution_count": null,
   "id": "27af674b",
   "metadata": {},
   "outputs": [],
   "source": [
    "### Evaluate the performance of the grid search model to the baseline model\n",
    "def evaluate(model, test_features, test_labels):\n",
    "    predictions = model.predict(test_features)\n",
    "    errors = abs(predictions - test_labels)\n",
    "    mape = 100 * np.mean(errors / test_labels)\n",
    "    accuracy = 100 - mape\n",
    "    print('Model Performance')\n",
    "    print('Average Error: {:0.4f} degrees.'.format(np.mean(errors)))\n",
    "    print('Accuracy = {:0.2f}%.'.format(accuracy))\n",
    "    \n",
    "    return accuracy\n",
    "\n",
    "#baseline\n",
    "base_model = rf\n",
    "train = base_model.fit(X_train, y_train)\n",
    "base_accuracy = evaluate(base_model, X_test, y_test)\n",
    "\n",
    "#random grid search\n",
    "best_random = rf_random.best_estimator_\n",
    "random_accuracy = evaluate(best_random, X_test, y_test)\n",
    "\n",
    "\n",
    "print('Improvement of {:0.2f}%.'.format( 100 * (random_accuracy - base_accuracy) / base_accuracy))\n"
   ]
  },
  {
   "cell_type": "code",
   "execution_count": null,
   "id": "20f9526f",
   "metadata": {},
   "outputs": [],
   "source": []
  }
 ],
 "metadata": {
  "kernelspec": {
   "display_name": "Python 3",
   "language": "python",
   "name": "python3"
  },
  "language_info": {
   "codemirror_mode": {
    "name": "ipython",
    "version": 3
   },
   "file_extension": ".py",
   "mimetype": "text/x-python",
   "name": "python",
   "nbconvert_exporter": "python",
   "pygments_lexer": "ipython3",
   "version": "3.7.0"
  }
 },
 "nbformat": 4,
 "nbformat_minor": 5
}
