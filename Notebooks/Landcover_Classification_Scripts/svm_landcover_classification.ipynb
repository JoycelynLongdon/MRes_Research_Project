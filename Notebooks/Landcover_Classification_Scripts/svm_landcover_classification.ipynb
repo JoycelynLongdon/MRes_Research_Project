{
 "cells": [
  {
   "cell_type": "markdown",
   "id": "7182431e",
   "metadata": {},
   "source": [
    "### Imports"
   ]
  },
  {
   "cell_type": "markdown",
   "id": "4158c83b",
   "metadata": {},
   "source": [
    "Code adapted from: https://towardsdatascience.com/land-cover-classification-in-satellite-imagery-using-python-ae39dbf2929"
   ]
  },
  {
   "cell_type": "code",
   "execution_count": 10,
   "id": "8ec99c9f",
   "metadata": {},
   "outputs": [],
   "source": [
    "# Import Python 3's print function and division\n",
    "from __future__ import print_function, division\n",
    "\n",
    "# Import GDAL, NumPy, and matplotlib\n",
    "from osgeo import gdal, gdal_array\n",
    "import numpy as np\n",
    "import matplotlib.pyplot as plt\n",
    "%matplotlib inline\n",
    "\n",
    "## Sklearn Libraries\n",
    "from sklearn import metrics\n",
    "from sklearn.utils import shuffle\n",
    "from sklearn.ensemble import RandomForestClassifier\n",
    "from sklearn.preprocessing import StandardScaler\n",
    "from sklearn.model_selection import train_test_split\n",
    "from sklearn.model_selection import StratifiedKFold\n",
    "from sklearn.model_selection import cross_val_score\n",
    "from sklearn.ensemble import RandomForestClassifier\n",
    "from sklearn.model_selection import GridSearchCV\n",
    "from sklearn.metrics import make_scorer\n",
    "from sklearn.metrics import f1_score, confusion_matrix, roc_curve, auc, \\\n",
    "            classification_report, recall_score, precision_recall_curve\n",
    "from sklearn.metrics import accuracy_score\n",
    "from pprint import pprint\n",
    "from sklearn.linear_model import SGDClassifier\n",
    "from sklearn.svm import NuSVC\n",
    "\n",
    "\n",
    "\n",
    "\n",
    "from sklearn.svm import SVC\n"
   ]
  },
  {
   "cell_type": "markdown",
   "id": "1efd8e8a",
   "metadata": {},
   "source": [
    "### Prepare Data"
   ]
  },
  {
   "cell_type": "code",
   "execution_count": 4,
   "id": "3fb76274",
   "metadata": {},
   "outputs": [],
   "source": [
    "# Read in our satellite and label image\n",
    "satellite_img = gdal.Open('/gws/nopw/j04/ai4er/users/jl2182/data/Mres_Data/classification_training_data/final_filled_l8_training_data.tif', gdal.GA_ReadOnly)\n",
    "training_img = gdal.Open('/gws/nopw/j04/ai4er/users/jl2182/data/Mres_Data/classification_training_data/third_remerge_landcover_training_data.tif', gdal.GA_ReadOnly)\n"
   ]
  },
  {
   "cell_type": "code",
   "execution_count": 5,
   "id": "d55ca4c0",
   "metadata": {},
   "outputs": [
    {
     "data": {
      "image/png": "[encoded data removed]",
      "text/plain": [
       "<Figure size 432x288 with 2 Axes>"
      ]
     },
     "metadata": {
      "needs_background": "light"
     },
     "output_type": "display_data"
    }
   ],
   "source": [
    "\n",
    "img = np.zeros((satellite_img.RasterYSize, satellite_img.RasterXSize, satellite_img.RasterCount),\n",
    "               gdal_array.GDALTypeCodeToNumericTypeCode(satellite_img.GetRasterBand(1).DataType))\n",
    "for b in range(img.shape[2]):\n",
    "    img[:, :, b] = satellite_img.GetRasterBand(b + 1).ReadAsArray()\n",
    "    \n",
    "lbls = training_img.GetRasterBand(1).ReadAsArray().astype(np.uint8)\n",
    "\n",
    "# Display them\n",
    "plt.subplot(121)\n",
    "plt.imshow(img[:, :, 4], cmap=plt.cm.tab20b)\n",
    "plt.title('SWIR1')\n",
    "\n",
    "plt.subplot(122)\n",
    "plt.imshow(lbls, cmap=plt.cm.terrain)\n",
    "plt.title('Training Data')\n",
    "\n",
    "plt.show()"
   ]
  },
  {
   "cell_type": "code",
   "execution_count": 6,
   "id": "097c4345",
   "metadata": {},
   "outputs": [
    {
     "data": {
      "text/plain": [
       "[(1, 120176), (2, 179811), (3, 984873), (4, 4036), (5, 33701), (6, 2166902)]"
      ]
     },
     "execution_count": 6,
     "metadata": {},
     "output_type": "execute_result"
    }
   ],
   "source": [
    "unique, counts = np.unique(lbls, return_counts=True)\n",
    "list(zip(unique, counts))"
   ]
  },
  {
   "cell_type": "code",
   "execution_count": 7,
   "id": "7cc6dd22",
   "metadata": {},
   "outputs": [
    {
     "name": "stdout",
     "output_type": "stream",
     "text": [
      "We have 1322597 samples\n",
      "The training data include 5 classes: [1 2 3 4 5]\n",
      "Our X matrix is sized: (1322597, 7)\n",
      "Our y array is sized: (1322597,)\n"
     ]
    }
   ],
   "source": [
    "# Find how many non-zero entries we have -- i.e. how many training data samples?\n",
    "n_samples = (lbls !=6).sum()\n",
    "print('We have {n} samples'.format(n=n_samples))\n",
    "\n",
    "# What are our classification labels?\n",
    "labels = np.unique(lbls[lbls !=6])\n",
    "print('The training data include {n} classes: {classes}'.format(n=labels.size, \n",
    "                                                                classes=labels))\n",
    "# We will need a \"X\" matrix containing our features, and a \"y\" array containing our labels\n",
    "#     These will have n_samples rows\n",
    "#     In other languages we would need to allocate these and them loop to fill them, but NumPy can be faster\n",
    "\n",
    "#this is a quick numpy trick for flattening\n",
    "X = img[lbls !=6]  # include 8th band, which is Fmask, for now\n",
    "y = lbls[lbls !=6]\n",
    "\n",
    "\n",
    "print('Our X matrix is sized: {sz}'.format(sz=X.shape))\n",
    "print('Our y array is sized: {sz}'.format(sz=y.shape))\n",
    "\n"
   ]
  },
  {
   "cell_type": "markdown",
   "id": "c08db95a",
   "metadata": {},
   "source": [
    "## Stratify Data"
   ]
  },
  {
   "cell_type": "markdown",
   "id": "33d59b63",
   "metadata": {},
   "source": [
    "k-fold"
   ]
  },
  {
   "cell_type": "code",
   "execution_count": 6,
   "id": "5c6ebb57",
   "metadata": {},
   "outputs": [
    {
     "data": {
      "text/plain": [
       "10"
      ]
     },
     "execution_count": 6,
     "metadata": {},
     "output_type": "execute_result"
    }
   ],
   "source": [
    "#stratified k-cross validation to balance the classes\n",
    "skf = StratifiedKFold(n_splits=10)\n",
    "skf.get_n_splits(X, y)"
   ]
  },
  {
   "cell_type": "code",
   "execution_count": 7,
   "id": "41330e9f",
   "metadata": {},
   "outputs": [
    {
     "name": "stdout",
     "output_type": "stream",
     "text": [
      "TRAIN: [  34227   34228   34229 ... 1322594 1322595 1322596] TEST: [     0      1      2 ... 166551 166552 166553]\n",
      "TRAIN: [      0       1       2 ... 1322594 1322595 1322596] TEST: [ 34227  34228  34229 ... 337945 337946 337947]\n",
      "TRAIN: [      0       1       2 ... 1322594 1322595 1322596] TEST: [ 40507  40509  40783 ... 689696 689697 689698]\n",
      "TRAIN: [      0       1       2 ... 1322594 1322595 1322596] TEST: [ 43124  43125  43126 ... 749203 749207 749208]\n",
      "TRAIN: [      0       1       2 ... 1322594 1322595 1322596] TEST: [ 45882  45883  45884 ... 796463 796464 796465]\n",
      "TRAIN: [      0       1       2 ... 1322594 1322595 1322596] TEST: [ 48240  48241  48242 ... 885464 885465 885469]\n",
      "TRAIN: [      0       1       2 ... 1322594 1322595 1322596] TEST: [ 50601  50602  50603 ... 997936 997937 997938]\n",
      "TRAIN: [      0       1       2 ... 1322594 1322595 1322596] TEST: [  53007   53008   53013 ... 1109611 1109612 1109613]\n",
      "TRAIN: [      0       1       2 ... 1322594 1322595 1322596] TEST: [  56414   56416   56417 ... 1217459 1217460 1217461]\n",
      "TRAIN: [      0       1       2 ... 1217459 1217460 1217461] TEST: [ 447763  447767  447768 ... 1322594 1322595 1322596]\n"
     ]
    }
   ],
   "source": [
    "StratifiedKFold(n_splits=10, random_state=None, shuffle=False)\n",
    "for train_index, test_index in skf.split(X, y):\n",
    "    print(\"TRAIN:\", train_index, \"TEST:\", test_index)\n",
    "    X_train, X_test = X[train_index], X[test_index]\n",
    "    y_train, y_test = y[train_index], y[test_index]"
   ]
  },
  {
   "cell_type": "markdown",
   "id": "88e004ae",
   "metadata": {},
   "source": [
    "shuffle split"
   ]
  },
  {
   "cell_type": "code",
   "execution_count": 8,
   "id": "ac3f7f34",
   "metadata": {},
   "outputs": [
    {
     "name": "stdout",
     "output_type": "stream",
     "text": [
      "TRAIN: [ 516515  598768 1060876 ... 1060356  926656   83758] TEST: [ 308612 1049170  726738 ... 1242672  417470  815476]\n",
      "TRAIN: [867454 331837 289838 ... 630797 651038 399438] TEST: [ 979140  178008  486077 ...  367931 1130722  797914]\n",
      "TRAIN: [  76693  814276  691795 ...  307709  446187 1019702] TEST: [1019286  425799  539896 ...  276152  290360  825096]\n",
      "TRAIN: [ 110656 1046185   30215 ...  882333 1283538  736703] TEST: [ 980936 1049913  444975 ...   44176 1293046 1180039]\n",
      "TRAIN: [ 827984  782960  588086 ... 1127424  391931  768154] TEST: [ 182281  495117 1196688 ...  347300  622354  326270]\n",
      "TRAIN: [225684 178532 636670 ... 230313 218759 280230] TEST: [  99160 1109765  371407 ...  577320  923870 1204639]\n",
      "TRAIN: [226823 678780 141985 ... 233462 726672 363004] TEST: [1195804 1278677  341394 ...  513854 1220833  984517]\n",
      "TRAIN: [  64712  387273  368864 ...  322534  278136 1245713] TEST: [1063206  990233 1004223 ...  612030  152333  571333]\n",
      "TRAIN: [611615 725761 227178 ... 519273 220646  18307] TEST: [ 538691  886736  451952 ... 1244358  996291  316852]\n",
      "TRAIN: [ 962925  844054  687033 ... 1288424  433995  933185] TEST: [1082951  372331 1106544 ...  223378  594114  124128]\n"
     ]
    }
   ],
   "source": [
    "from sklearn.model_selection import StratifiedShuffleSplit\n",
    "\n",
    "sss = StratifiedShuffleSplit(n_splits=10, test_size=0.1, random_state=0)\n",
    "\n",
    "StratifiedShuffleSplit(n_splits=10, random_state=0)\n",
    "        \n",
    "for train_index, test_index in sss.split(X, y):\n",
    "    print(\"TRAIN:\", train_index, \"TEST:\", test_index)\n",
    "    X_train, X_test = X[train_index], X[test_index]\n",
    "    y_train, y_test = y[train_index], y[test_index]"
   ]
  },
  {
   "cell_type": "markdown",
   "id": "0f76c061",
   "metadata": {},
   "source": [
    "### Train SVM"
   ]
  },
  {
   "cell_type": "code",
   "execution_count": 15,
   "id": "6cdd3c0f",
   "metadata": {},
   "outputs": [],
   "source": [
    "#This estimator implements regularized linear models with stochastic gradient descent (SGD) learning: the gradient of \n",
    "#the loss is estimated each sample at a time and the model is updated along the way with a decreasing strength \n",
    "#schedule (aka learning rate). SGD allows minibatch (online/out-of-core) learning via the partial_fit method. \n",
    "#The loss function defaults to ‘hinge’, which gives a linear SVM.\n",
    "\n",
    "#tol is the stopping criterion. If it is not None, training will stop when (loss > best_loss - tol) for n_iter_no_change \n",
    "#consecutive epochs. Convergence is checked against the training loss or the validation loss depending on the \n",
    "#early_stopping parameter.\n",
    "\n",
    "#learning rate is set to optimal where ‘optimal’: eta = 1.0 / (alpha * (t + t0)) where t0 is chosen by a \n",
    "#heuristic proposed by Leon Bottou. \n",
    "clf = NuSVC(nu=0.1)"
   ]
  },
  {
   "cell_type": "code",
   "execution_count": 16,
   "id": "3fccc020",
   "metadata": {},
   "outputs": [
    {
     "ename": "ValueError",
     "evalue": "specified nu is infeasible",
     "output_type": "error",
     "traceback": [
      "\u001b[0;31m---------------------------------------------------------------------------\u001b[0m",
      "\u001b[0;31mValueError\u001b[0m                                Traceback (most recent call last)",
      "\u001b[0;32m<ipython-input-16-b8c04ab227a1>\u001b[0m in \u001b[0;36m<module>\u001b[0;34m\u001b[0m\n\u001b[1;32m      1\u001b[0m \u001b[0;31m# Fit Data\u001b[0m\u001b[0;34m\u001b[0m\u001b[0;34m\u001b[0m\u001b[0m\n\u001b[0;32m----> 2\u001b[0;31m \u001b[0mtrain\u001b[0m \u001b[0;34m=\u001b[0m \u001b[0mclf\u001b[0m\u001b[0;34m.\u001b[0m\u001b[0mfit\u001b[0m\u001b[0;34m(\u001b[0m\u001b[0mX_train\u001b[0m\u001b[0;34m,\u001b[0m \u001b[0my_train\u001b[0m\u001b[0;34m)\u001b[0m\u001b[0;34m\u001b[0m\u001b[0m\n\u001b[0m",
      "\u001b[0;32m~/miniconda3/envs/mres_proj/lib/python3.7/site-packages/sklearn/svm/_base.py\u001b[0m in \u001b[0;36mfit\u001b[0;34m(self, X, y, sample_weight)\u001b[0m\n\u001b[1;32m    224\u001b[0m \u001b[0;34m\u001b[0m\u001b[0m\n\u001b[1;32m    225\u001b[0m         \u001b[0mseed\u001b[0m \u001b[0;34m=\u001b[0m \u001b[0mrnd\u001b[0m\u001b[0;34m.\u001b[0m\u001b[0mrandint\u001b[0m\u001b[0;34m(\u001b[0m\u001b[0mnp\u001b[0m\u001b[0;34m.\u001b[0m\u001b[0miinfo\u001b[0m\u001b[0;34m(\u001b[0m\u001b[0;34m'i'\u001b[0m\u001b[0;34m)\u001b[0m\u001b[0;34m.\u001b[0m\u001b[0mmax\u001b[0m\u001b[0;34m)\u001b[0m\u001b[0;34m\u001b[0m\u001b[0m\n\u001b[0;32m--> 226\u001b[0;31m         \u001b[0mfit\u001b[0m\u001b[0;34m(\u001b[0m\u001b[0mX\u001b[0m\u001b[0;34m,\u001b[0m \u001b[0my\u001b[0m\u001b[0;34m,\u001b[0m \u001b[0msample_weight\u001b[0m\u001b[0;34m,\u001b[0m \u001b[0msolver_type\u001b[0m\u001b[0;34m,\u001b[0m \u001b[0mkernel\u001b[0m\u001b[0;34m,\u001b[0m \u001b[0mrandom_seed\u001b[0m\u001b[0;34m=\u001b[0m\u001b[0mseed\u001b[0m\u001b[0;34m)\u001b[0m\u001b[0;34m\u001b[0m\u001b[0m\n\u001b[0m\u001b[1;32m    227\u001b[0m         \u001b[0;31m# see comment on the other call to np.iinfo in this file\u001b[0m\u001b[0;34m\u001b[0m\u001b[0;34m\u001b[0m\u001b[0m\n\u001b[1;32m    228\u001b[0m \u001b[0;34m\u001b[0m\u001b[0m\n",
      "\u001b[0;32m~/miniconda3/envs/mres_proj/lib/python3.7/site-packages/sklearn/svm/_base.py\u001b[0m in \u001b[0;36m_dense_fit\u001b[0;34m(self, X, y, sample_weight, solver_type, kernel, random_seed)\u001b[0m\n\u001b[1;32m    283\u001b[0m                 \u001b[0mcache_size\u001b[0m\u001b[0;34m=\u001b[0m\u001b[0mself\u001b[0m\u001b[0;34m.\u001b[0m\u001b[0mcache_size\u001b[0m\u001b[0;34m,\u001b[0m \u001b[0mcoef0\u001b[0m\u001b[0;34m=\u001b[0m\u001b[0mself\u001b[0m\u001b[0;34m.\u001b[0m\u001b[0mcoef0\u001b[0m\u001b[0;34m,\u001b[0m\u001b[0;34m\u001b[0m\u001b[0m\n\u001b[1;32m    284\u001b[0m                 \u001b[0mgamma\u001b[0m\u001b[0;34m=\u001b[0m\u001b[0mself\u001b[0m\u001b[0;34m.\u001b[0m\u001b[0m_gamma\u001b[0m\u001b[0;34m,\u001b[0m \u001b[0mepsilon\u001b[0m\u001b[0;34m=\u001b[0m\u001b[0mself\u001b[0m\u001b[0;34m.\u001b[0m\u001b[0mepsilon\u001b[0m\u001b[0;34m,\u001b[0m\u001b[0;34m\u001b[0m\u001b[0m\n\u001b[0;32m--> 285\u001b[0;31m                 max_iter=self.max_iter, random_seed=random_seed)\n\u001b[0m\u001b[1;32m    286\u001b[0m \u001b[0;34m\u001b[0m\u001b[0m\n\u001b[1;32m    287\u001b[0m         \u001b[0mself\u001b[0m\u001b[0;34m.\u001b[0m\u001b[0m_warn_from_fit_status\u001b[0m\u001b[0;34m(\u001b[0m\u001b[0;34m)\u001b[0m\u001b[0;34m\u001b[0m\u001b[0m\n",
      "\u001b[0;32msklearn/svm/_libsvm.pyx\u001b[0m in \u001b[0;36msklearn.svm._libsvm.fit\u001b[0;34m()\u001b[0m\n",
      "\u001b[0;31mValueError\u001b[0m: specified nu is infeasible"
     ]
    }
   ],
   "source": [
    "# Fit Data\n",
    "train = clf.fit(X_train, y_train)"
   ]
  },
  {
   "cell_type": "code",
   "execution_count": 10,
   "id": "ab0cb764",
   "metadata": {},
   "outputs": [
    {
     "name": "stdout",
     "output_type": "stream",
     "text": [
      "The training accuracy is: 65.86767792005296%\n"
     ]
    }
   ],
   "source": [
    "print('The training accuracy is: {score}%'.format(score= train.score(X_train, y_train) * 100))\n"
   ]
  },
  {
   "cell_type": "markdown",
   "id": "c6ddd494",
   "metadata": {},
   "source": [
    "## Training Performance"
   ]
  },
  {
   "cell_type": "code",
   "execution_count": 11,
   "id": "018d8197",
   "metadata": {},
   "outputs": [],
   "source": [
    "# Predict labels for test data\n",
    "svm_pred = svm.predict(X_test)"
   ]
  },
  {
   "cell_type": "code",
   "execution_count": 12,
   "id": "8f8c02c2",
   "metadata": {},
   "outputs": [],
   "source": [
    "target_names = ['Cropland', 'Shrubland', 'Forest', 'Urban', 'Water']"
   ]
  },
  {
   "cell_type": "code",
   "execution_count": 13,
   "id": "4313d097",
   "metadata": {},
   "outputs": [
    {
     "name": "stdout",
     "output_type": "stream",
     "text": [
      "Accuracy: 48.42997451969242\n",
      "              precision    recall  f1-score   support\n",
      "\n",
      "    Cropland       0.00      0.00      0.00     12018\n",
      "   Shrubland       0.14      0.44      0.21     17981\n",
      "      Forest       0.74      0.57      0.64     98487\n",
      "       Urban       0.33      0.00      0.00       403\n",
      "       Water       0.00      0.00      0.00      3370\n",
      "\n",
      "    accuracy                           0.48    132259\n",
      "   macro avg       0.24      0.20      0.17    132259\n",
      "weighted avg       0.57      0.48      0.51    132259\n",
      "\n"
     ]
    },
    {
     "name": "stderr",
     "output_type": "stream",
     "text": [
      "/home/users/joycelyn/miniconda3/envs/mres_proj/lib/python3.7/site-packages/sklearn/metrics/_classification.py:1248: UndefinedMetricWarning: Precision and F-score are ill-defined and being set to 0.0 in labels with no predicted samples. Use `zero_division` parameter to control this behavior.\n",
      "  _warn_prf(average, modifier, msg_start, len(result))\n",
      "/home/users/joycelyn/miniconda3/envs/mres_proj/lib/python3.7/site-packages/sklearn/metrics/_classification.py:1248: UndefinedMetricWarning: Precision and F-score are ill-defined and being set to 0.0 in labels with no predicted samples. Use `zero_division` parameter to control this behavior.\n",
      "  _warn_prf(average, modifier, msg_start, len(result))\n",
      "/home/users/joycelyn/miniconda3/envs/mres_proj/lib/python3.7/site-packages/sklearn/metrics/_classification.py:1248: UndefinedMetricWarning: Precision and F-score are ill-defined and being set to 0.0 in labels with no predicted samples. Use `zero_division` parameter to control this behavior.\n",
      "  _warn_prf(average, modifier, msg_start, len(result))\n"
     ]
    }
   ],
   "source": [
    "# Accuracy and Classification Reeport\n",
    "print(f\"Accuracy: {accuracy_score(y_test, svm_pred)*100}\")\n",
    "print(classification_report(y_test, svm_pred, target_names=target_names))"
   ]
  },
  {
   "cell_type": "code",
   "execution_count": 14,
   "id": "86a61332",
   "metadata": {},
   "outputs": [
    {
     "name": "stdout",
     "output_type": "stream",
     "text": [
      "Confusion matrix:\n",
      "[[    0  4235  7783     0     0]\n",
      " [    0  7987  9994     0     0]\n",
      " [    0 42420 56065     2     0]\n",
      " [    0   237   165     1     0]\n",
      " [    0  1724  1646     0     0]]\n"
     ]
    },
    {
     "data": {
      "image/png": "[encoded data removed]",
      "text/plain": [
       "<Figure size 432x288 with 2 Axes>"
      ]
     },
     "metadata": {
      "needs_background": "light"
     },
     "output_type": "display_data"
    }
   ],
   "source": [
    "disp = metrics.plot_confusion_matrix(svm, X_test, y_test)\n",
    "disp.figure_.suptitle(\"Confusion Matrix\")\n",
    "print(f\"Confusion matrix:\\n{disp.confusion_matrix}\")\n",
    "\n",
    "plt.show()"
   ]
  },
  {
   "cell_type": "code",
   "execution_count": null,
   "id": "1b03480d",
   "metadata": {},
   "outputs": [],
   "source": []
  }
 ],
 "metadata": {
  "kernelspec": {
   "display_name": "Python 3",
   "language": "python",
   "name": "python3"
  },
  "language_info": {
   "codemirror_mode": {
    "name": "ipython",
    "version": 3
   },
   "file_extension": ".py",
   "mimetype": "text/x-python",
   "name": "python",
   "nbconvert_exporter": "python",
   "pygments_lexer": "ipython3",
   "version": "3.7.0"
  }
 },
 "nbformat": 4,
 "nbformat_minor": 5
}
