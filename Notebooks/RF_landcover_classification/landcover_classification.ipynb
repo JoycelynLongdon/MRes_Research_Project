{
 "cells": [
  {
   "cell_type": "markdown",
   "id": "d5515372",
   "metadata": {},
   "source": [
    "This code was adapted from Chris Holden (ceholden@gmail.com) Chaoter 5 Lesson on Ladncover Classification: https://ceholden.github.io/open-geo-tutorial/python/chapter_5_classification.html - https://github.com/ceholden\n",
    "\n"
   ]
  },
  {
   "cell_type": "markdown",
   "id": "5ff027cf",
   "metadata": {},
   "source": [
    "### Imports"
   ]
  },
  {
   "cell_type": "code",
   "execution_count": 49,
   "id": "35d38e6e",
   "metadata": {},
   "outputs": [],
   "source": [
    "# Import Python 3's print function and division\n",
    "from __future__ import print_function, division\n",
    "\n",
    "# Import GDAL, NumPy, and matplotlib\n",
    "from osgeo import gdal, gdal_array\n",
    "import numpy as np\n",
    "import matplotlib.pyplot as plt\n",
    "%matplotlib inline\n",
    "\n",
    "## Sklearn Libraries\n",
    "from sklearn import metrics\n",
    "from sklearn.utils import shuffle\n",
    "from sklearn.ensemble import RandomForestClassifier\n",
    "from sklearn.preprocessing import StandardScaler\n",
    "from sklearn.model_selection import train_test_split\n",
    "from sklearn.model_selection import StratifiedKFold\n",
    "from sklearn.model_selection import cross_val_score\n",
    "from sklearn.ensemble import RandomForestClassifier\n",
    "from sklearn.model_selection import GridSearchCV\n",
    "from sklearn.metrics import make_scorer\n",
    "from sklearn.metrics import f1_score, confusion_matrix, roc_curve, auc, \\\n",
    "            classification_report, recall_score, precision_recall_curve"
   ]
  },
  {
   "cell_type": "markdown",
   "id": "9a31ee4d",
   "metadata": {},
   "source": [
    "### Preparing The Dataset"
   ]
  },
  {
   "cell_type": "code",
   "execution_count": 16,
   "id": "34b41c3d",
   "metadata": {},
   "outputs": [
    {
     "data": {
      "image/png": "[encoded data removed]",
      "text/plain": [
       "<Figure size 432x288 with 2 Axes>"
      ]
     },
     "metadata": {
      "needs_background": "light"
     },
     "output_type": "display_data"
    }
   ],
   "source": [
    "# Read in our satellite and label image\n",
    "satellite_img = gdal.Open('/gws/nopw/j04/ai4er/users/jl2182/data/Mres_Data/classification_training_data/filled_l8_training_data.tif', gdal.GA_ReadOnly)\n",
    "training_img = gdal.Open('/gws/nopw/j04/ai4er/users/jl2182/data/Mres_Data/classification_training_data/esa_landcover_training_data.tif', gdal.GA_ReadOnly)\n",
    "\n",
    "img = np.zeros((satellite_img.RasterYSize, satellite_img.RasterXSize, satellite_img.RasterCount),\n",
    "               gdal_array.GDALTypeCodeToNumericTypeCode(satellite_img.GetRasterBand(1).DataType))\n",
    "for b in range(img.shape[2]):\n",
    "    img[:, :, b] = satellite_img.GetRasterBand(b + 1).ReadAsArray()\n",
    "    \n",
    "lbls = training_img.GetRasterBand(1).ReadAsArray().astype(np.uint8)\n",
    "\n",
    "# Display them\n",
    "plt.subplot(121)\n",
    "plt.imshow(img[:, :, 4], cmap=plt.cm.tab20b)\n",
    "plt.title('SWIR1')\n",
    "\n",
    "plt.subplot(122)\n",
    "plt.imshow(lbls, cmap=plt.cm.terrain)\n",
    "plt.title('Training Data')\n",
    "\n",
    "plt.show()"
   ]
  },
  {
   "cell_type": "code",
   "execution_count": 17,
   "id": "1638c0dc",
   "metadata": {},
   "outputs": [],
   "source": [
    "#img.shape"
   ]
  },
  {
   "cell_type": "code",
   "execution_count": 18,
   "id": "412d08ab",
   "metadata": {},
   "outputs": [],
   "source": [
    "#lbls.shape"
   ]
  },
  {
   "cell_type": "markdown",
   "id": "c96f2fa5",
   "metadata": {},
   "source": [
    "Creating the X feature matrix array and the y labels matrix to be fed into the Random Forest"
   ]
  },
  {
   "cell_type": "code",
   "execution_count": 19,
   "id": "7ba761d7",
   "metadata": {},
   "outputs": [
    {
     "name": "stdout",
     "output_type": "stream",
     "text": [
      "We have 3489499 samples\n",
      "The training data include 9 classes: [1 2 3 4 5 6 7 8 9]\n",
      "Our X matrix is sized: (3489499, 7)\n",
      "Our y array is sized: (3489499,)\n"
     ]
    }
   ],
   "source": [
    "# Find how many non-zero entries we have -- i.e. how many training data samples?\n",
    "n_samples = (lbls > 0).sum()\n",
    "print('We have {n} samples'.format(n=n_samples))\n",
    "\n",
    "# What are our classification labels?\n",
    "labels = np.unique(lbls[lbls > 0])\n",
    "print('The training data include {n} classes: {classes}'.format(n=labels.size, \n",
    "                                                                classes=labels))\n",
    "# We will need a \"X\" matrix containing our features, and a \"y\" array containing our labels\n",
    "#     These will have n_samples rows\n",
    "#     In other languages we would need to allocate these and them loop to fill them, but NumPy can be faster\n",
    "\n",
    "#this is a wuick numpy trick for flattening\n",
    "X = img[lbls > 0, :]  # include 8th band, which is Fmask, for now\n",
    "y = lbls[lbls > 0]\n",
    "\n",
    "print('Our X matrix is sized: {sz}'.format(sz=X.shape))\n",
    "print('Our y array is sized: {sz}'.format(sz=y.shape))\n",
    "\n"
   ]
  },
  {
   "cell_type": "markdown",
   "id": "db677cb8",
   "metadata": {},
   "source": [
    "### Training The Random Forest"
   ]
  },
  {
   "cell_type": "code",
   "execution_count": 35,
   "id": "9c62909b",
   "metadata": {},
   "outputs": [
    {
     "data": {
      "text/plain": [
       "10"
      ]
     },
     "execution_count": 35,
     "metadata": {},
     "output_type": "execute_result"
    }
   ],
   "source": [
    "#stratified k-cross validation to balance the classes\n",
    "skf = StratifiedKFold(n_splits=10)\n",
    "skf.get_n_splits(X, y)"
   ]
  },
  {
   "cell_type": "code",
   "execution_count": 36,
   "id": "0d65510f",
   "metadata": {},
   "outputs": [
    {
     "name": "stdout",
     "output_type": "stream",
     "text": [
      "TRAIN: [ 172508  172509  172510 ... 3489496 3489497 3489498] TEST: [     0      1      2 ... 848008 848009 849648]\n",
      "TRAIN: [      0       1       2 ... 3489496 3489497 3489498] TEST: [ 172508  172509  172510 ... 1163191 1163192 1163193]\n",
      "TRAIN: [      0       1       2 ... 3489496 3489497 3489498] TEST: [ 226614  226615  226616 ... 1436561 1436562 1436563]\n",
      "TRAIN: [      0       1       2 ... 3489496 3489497 3489498] TEST: [ 252500  252501  252502 ... 1697912 1697913 1697914]\n",
      "TRAIN: [      0       1       2 ... 3489496 3489497 3489498] TEST: [ 276030  276031  276032 ... 2010759 2010760 2010761]\n",
      "TRAIN: [      0       1       2 ... 3489496 3489497 3489498] TEST: [ 337129  337130  337131 ... 2260741 2260742 2260743]\n",
      "TRAIN: [      0       1       2 ... 3489496 3489497 3489498] TEST: [ 348880  348881  348882 ... 2553425 2553426 2553427]\n",
      "TRAIN: [      0       1       2 ... 3489496 3489497 3489498] TEST: [ 360664  360665  360666 ... 2901754 2901755 2901756]\n",
      "TRAIN: [      0       1       2 ... 3489496 3489497 3489498] TEST: [ 377178  377181  377183 ... 3221450 3221451 3221452]\n",
      "TRAIN: [      0       1       2 ... 3221450 3221451 3221452] TEST: [1278056 1278057 1278061 ... 3489496 3489497 3489498]\n"
     ]
    }
   ],
   "source": [
    "StratifiedKFold(n_splits=10, random_state=None, shuffle=False)\n",
    "for train_index, test_index in skf.split(X, y):\n",
    "    print(\"TRAIN:\", train_index, \"TEST:\", test_index)\n",
    "    X_train, X_test = X[train_index], X[test_index]\n",
    "    y_train, y_test = y[train_index], y[test_index]"
   ]
  },
  {
   "cell_type": "code",
   "execution_count": 26,
   "id": "f244d707",
   "metadata": {},
   "outputs": [],
   "source": [
    "#X_train, X_test, y_train, y_test = train_test_split(X, y, test_size=0.3) #stratify=y, random_state=123456"
   ]
  },
  {
   "cell_type": "code",
   "execution_count": 37,
   "id": "73f3b8d9",
   "metadata": {},
   "outputs": [
    {
     "data": {
      "text/plain": [
       "(3140550, 7)"
      ]
     },
     "execution_count": 37,
     "metadata": {},
     "output_type": "execute_result"
    }
   ],
   "source": [
    "X_train.shape"
   ]
  },
  {
   "cell_type": "code",
   "execution_count": 38,
   "id": "503b35a0",
   "metadata": {},
   "outputs": [
    {
     "data": {
      "text/plain": [
       "(348949, 7)"
      ]
     },
     "execution_count": 38,
     "metadata": {},
     "output_type": "execute_result"
    }
   ],
   "source": [
    "X_test.shape"
   ]
  },
  {
   "cell_type": "code",
   "execution_count": 39,
   "id": "be952abb",
   "metadata": {},
   "outputs": [
    {
     "data": {
      "text/plain": [
       "(3140550,)"
      ]
     },
     "execution_count": 39,
     "metadata": {},
     "output_type": "execute_result"
    }
   ],
   "source": [
    "y_train.shape"
   ]
  },
  {
   "cell_type": "code",
   "execution_count": 40,
   "id": "5f179874",
   "metadata": {},
   "outputs": [
    {
     "data": {
      "text/plain": [
       "(348949,)"
      ]
     },
     "execution_count": 40,
     "metadata": {},
     "output_type": "execute_result"
    }
   ],
   "source": [
    "y_test.shape"
   ]
  },
  {
   "cell_type": "code",
   "execution_count": 41,
   "id": "8aac447a",
   "metadata": {},
   "outputs": [],
   "source": [
    "# Initialize our model with 500 trees\n",
    "rf = RandomForestClassifier(n_estimators=500, oob_score=True)\n",
    "\n",
    "# Fit our model to training data\n",
    "rf = rf.fit(X_train, y_train)"
   ]
  },
  {
   "cell_type": "markdown",
   "id": "33dafe8f",
   "metadata": {},
   "source": [
    "### Validating the Random Forest"
   ]
  },
  {
   "cell_type": "code",
   "execution_count": 42,
   "id": "9102ebad",
   "metadata": {},
   "outputs": [],
   "source": [
    "val = rf.predict(X_test)"
   ]
  },
  {
   "cell_type": "markdown",
   "id": "6a1c8cbf",
   "metadata": {},
   "source": [
    "### Accuracy"
   ]
  },
  {
   "cell_type": "code",
   "execution_count": 43,
   "id": "bf2d660c",
   "metadata": {},
   "outputs": [],
   "source": [
    "target_names = ['Cropland', 'Mosaic Cropland', 'Mosaic Vegetation', 'Forest',\n",
    "                         'Shrubland', 'Grassland', 'Urban', 'Water', 'No Data'\n",
    "                                                           ]"
   ]
  },
  {
   "cell_type": "code",
   "execution_count": 44,
   "id": "03842f1f",
   "metadata": {},
   "outputs": [
    {
     "name": "stdout",
     "output_type": "stream",
     "text": [
      "                   precision    recall  f1-score   support\n",
      "\n",
      "         Cropland       0.25      0.07      0.11      7097\n",
      "  Mosaic Cropland       0.10      0.00      0.00      1893\n",
      "Mosaic Vegetation       0.00      0.00      0.00       431\n",
      "           Forest       0.76      0.95      0.85     94300\n",
      "        Shrubland       0.20      0.07      0.10     22534\n",
      "        Grassland       0.40      0.11      0.17      4920\n",
      "            Urban       0.01      0.01      0.01       404\n",
      "            Water       0.92      0.30      0.45       680\n",
      "          No Data       0.99      1.00      0.99    216690\n",
      "\n",
      "         accuracy                           0.89    348949\n",
      "        macro avg       0.40      0.28      0.30    348949\n",
      "     weighted avg       0.84      0.89      0.86    348949\n",
      "\n"
     ]
    }
   ],
   "source": [
    "print(classification_report(y_test, val, target_names=target_names))"
   ]
  },
  {
   "cell_type": "code",
   "execution_count": 52,
   "id": "3f435392",
   "metadata": {},
   "outputs": [
    {
     "name": "stdout",
     "output_type": "stream",
     "text": [
      "Confusion matrix:\n",
      "[[   479      0      0   5414   1125     21     36      0     22]\n",
      " [    56      1      0    686    823     49      0      0    278]\n",
      " [     8      0      0    402     14      5      0      0      2]\n",
      " [   289      0      0  89473   2805    522     91      0   1120]\n",
      " [   615      3      5  19417   1570    178    360      9    377]\n",
      " [   262      0      3   1584   1610    531    232      3    695]\n",
      " [   222      6      0     61     42      8      5      6     54]\n",
      " [     7      0      0    139      9     25      8    205    287]\n",
      " [     0      0      0      0      0      0      0      0 216690]]\n"
     ]
    },
    {
     "data": {
      "image/png": "[encoded data removed]",
      "text/plain": [
       "<Figure size 432x288 with 2 Axes>"
      ]
     },
     "metadata": {
      "needs_background": "light"
     },
     "output_type": "display_data"
    },
    {
     "data": {
      "text/plain": [
       "<Figure size 720x720 with 0 Axes>"
      ]
     },
     "metadata": {},
     "output_type": "display_data"
    }
   ],
   "source": [
    "disp = metrics.plot_confusion_matrix(rf, X_test, y_test)\n",
    "disp.figure_.suptitle(\"Confusion Matrix\")\n",
    "print(f\"Confusion matrix:\\n{disp.confusion_matrix}\")\n",
    "\n",
    "plt.show()"
   ]
  },
  {
   "cell_type": "markdown",
   "id": "c7f34bdb",
   "metadata": {},
   "source": [
    "### Band Importance"
   ]
  },
  {
   "cell_type": "code",
   "execution_count": 12,
   "id": "9d6beddc",
   "metadata": {},
   "outputs": [
    {
     "name": "stdout",
     "output_type": "stream",
     "text": [
      "Band 1 importance: 0.03796131446919975\n",
      "Band 2 importance: 0.16493721601466424\n",
      "Band 3 importance: 0.15308132364361088\n",
      "Band 4 importance: 0.15453980021614264\n",
      "Band 5 importance: 0.15393285434656578\n",
      "Band 6 importance: 0.16376191383374633\n",
      "Band 7 importance: 0.17178557747607043\n"
     ]
    }
   ],
   "source": [
    "bands = [1, 2, 3, 4, 5, 6,7,8,9,10]\n",
    "\n",
    "for b, imp in zip(bands, rf.feature_importances_):\n",
    "    print('Band {b} importance: {imp}'.format(b=b, imp=imp))"
   ]
  },
  {
   "cell_type": "code",
   "execution_count": null,
   "id": "d5758042",
   "metadata": {},
   "outputs": [],
   "source": [
    "#scientific comment on band importance"
   ]
  },
  {
   "cell_type": "code",
   "execution_count": 13,
   "id": "0a6316af",
   "metadata": {},
   "outputs": [
    {
     "name": "stdout",
     "output_type": "stream",
     "text": [
      "predict      1      2     3       4       5      6     7     8  9       10  \\\n",
      "truth                                                                        \n",
      "1        66022      0     0       0       0      0     0     0  0     4949   \n",
      "2            0  17147     0       0       0      0     0     0  0     1789   \n",
      "3            0      0  4156       0       0      0     0     0  0      160   \n",
      "4            0      0     0  930592       0      0     0     0  0    12403   \n",
      "5            0      0     0       0  208562      0     0     0  0    16777   \n",
      "6            0      0     0       0       0  42769     0     0  0     6436   \n",
      "7            0      0     0       0       0      0  3921     0  0      114   \n",
      "8            0      0     0       0       0      0     0  4959  0     1840   \n",
      "9            0      0     0       0       0      0     0     0  1        0   \n",
      "10           0      0     0       0       0      0     0     0  0  2166902   \n",
      "All      66022  17147  4156  930592  208562  42769  3921  4959  1  2211370   \n",
      "\n",
      "predict      All  \n",
      "truth             \n",
      "1          70971  \n",
      "2          18936  \n",
      "3           4316  \n",
      "4         942995  \n",
      "5         225339  \n",
      "6          49205  \n",
      "7           4035  \n",
      "8           6799  \n",
      "9              1  \n",
      "10       2166902  \n",
      "All      3489499  \n"
     ]
    }
   ],
   "source": [
    "import pandas as pd\n",
    "\n",
    "# Setup a dataframe -- just like R\n",
    "df = pd.DataFrame()\n",
    "df['truth'] = y\n",
    "df['predict'] = rf.predict(X)\n",
    "\n",
    "# Cross-tabulate predictions\n",
    "print(pd.crosstab(df['truth'], df['predict'], margins=True))"
   ]
  },
  {
   "cell_type": "code",
   "execution_count": null,
   "id": "5a1c9dbf",
   "metadata": {},
   "outputs": [],
   "source": []
  }
 ],
 "metadata": {
  "kernelspec": {
   "display_name": "Python 3",
   "language": "python",
   "name": "python3"
  },
  "language_info": {
   "codemirror_mode": {
    "name": "ipython",
    "version": 3
   },
   "file_extension": ".py",
   "mimetype": "text/x-python",
   "name": "python",
   "nbconvert_exporter": "python",
   "pygments_lexer": "ipython3",
   "version": "3.7.0"
  }
 },
 "nbformat": 4,
 "nbformat_minor": 5
}
