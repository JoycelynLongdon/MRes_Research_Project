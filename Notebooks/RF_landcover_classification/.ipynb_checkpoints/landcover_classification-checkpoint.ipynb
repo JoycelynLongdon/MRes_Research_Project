{
 "cells": [
  {
   "cell_type": "markdown",
   "id": "bfc2a358",
   "metadata": {},
   "source": [
    "This code was adapted from Chris Holden (ceholden@gmail.com) Chaoter 5 Lesson on Ladncover Classification: https://ceholden.github.io/open-geo-tutorial/python/chapter_5_classification.html - https://github.com/ceholden\n",
    "\n"
   ]
  },
  {
   "cell_type": "markdown",
   "id": "90fac3d9",
   "metadata": {},
   "source": [
    "### Imports"
   ]
  },
  {
   "cell_type": "code",
   "execution_count": 1,
   "id": "35d38e6e",
   "metadata": {},
   "outputs": [],
   "source": [
    "# Import Python 3's print function and division\n",
    "from __future__ import print_function, division\n",
    "\n",
    "# Import GDAL, NumPy, and matplotlib\n",
    "from osgeo import gdal, gdal_array\n",
    "import numpy as np\n",
    "import matplotlib.pyplot as plt\n",
    "%matplotlib inline\n",
    "from sklearn.ensemble import RandomForestClassifier\n",
    "\n",
    "\n",
    "# Tell GDAL to throw Python exceptions, and register all drivers\n",
    "gdal.UseExceptions()\n",
    "gdal.AllRegister()"
   ]
  },
  {
   "cell_type": "markdown",
   "id": "d6b86319",
   "metadata": {},
   "source": [
    "### Preparing The Dataset"
   ]
  },
  {
   "cell_type": "code",
   "execution_count": 2,
   "id": "34b41c3d",
   "metadata": {},
   "outputs": [
    {
     "data": {
      "image/png": "[encoded data removed]",
      "text/plain": [
       "<Figure size 432x288 with 2 Axes>"
      ]
     },
     "metadata": {
      "needs_background": "light"
     },
     "output_type": "display_data"
    }
   ],
   "source": [
    "# Read in our satellite and label image\n",
    "satellite_img = gdal.Open('/gws/nopw/j04/ai4er/users/jl2182/data/Mres_Data/classification_training_data/landsat_8_training_data.tif', gdal.GA_ReadOnly)\n",
    "training_img = gdal.Open('/gws/nopw/j04/ai4er/users/jl2182/data/Mres_Data/classification_training_data/esa_landcover_training_data.tif', gdal.GA_ReadOnly)\n",
    "\n",
    "img = np.zeros((satellite_img.RasterYSize, satellite_img.RasterXSize, satellite_img.RasterCount),\n",
    "               gdal_array.GDALTypeCodeToNumericTypeCode(satellite_img.GetRasterBand(1).DataType))\n",
    "for b in range(img.shape[2]):\n",
    "    img[:, :, b] = satellite_img.GetRasterBand(b + 1).ReadAsArray()\n",
    "    \n",
    "lbls = training_img.GetRasterBand(1).ReadAsArray().astype(np.uint8)\n",
    "\n",
    "# Display them\n",
    "plt.subplot(121)\n",
    "plt.imshow(img[:, :, 4], cmap=plt.cm.tab20b)\n",
    "plt.title('SWIR1')\n",
    "\n",
    "plt.subplot(122)\n",
    "plt.imshow(lbls, cmap=plt.cm.terrain)\n",
    "plt.title('Training Data')\n",
    "\n",
    "plt.show()"
   ]
  },
  {
   "cell_type": "code",
   "execution_count": 3,
   "id": "1638c0dc",
   "metadata": {},
   "outputs": [],
   "source": [
    "#img.shape"
   ]
  },
  {
   "cell_type": "code",
   "execution_count": 4,
   "id": "412d08ab",
   "metadata": {},
   "outputs": [],
   "source": [
    "#lbls.shape"
   ]
  },
  {
   "cell_type": "markdown",
   "id": "bf0559fe",
   "metadata": {},
   "source": [
    "Creating the X feature matrix array and the y labels matrix to be fed into the Random Forest"
   ]
  },
  {
   "cell_type": "code",
   "execution_count": 5,
   "id": "7ba761d7",
   "metadata": {},
   "outputs": [
    {
     "name": "stdout",
     "output_type": "stream",
     "text": [
      "We have 3489499 samples\n",
      "The training data include 10 classes: [ 1  2  3  4  5  6  7  8  9 10]\n",
      "Our X matrix is sized: (3489499, 7)\n",
      "Our y array is sized: (3489499,)\n"
     ]
    }
   ],
   "source": [
    "# Find how many non-zero entries we have -- i.e. how many training data samples?\n",
    "n_samples = (lbls > 0).sum()\n",
    "print('We have {n} samples'.format(n=n_samples))\n",
    "\n",
    "# What are our classification labels?\n",
    "labels = np.unique(lbls[lbls > 0])\n",
    "print('The training data include {n} classes: {classes}'.format(n=labels.size, \n",
    "                                                                classes=labels))\n",
    "# We will need a \"X\" matrix containing our features, and a \"y\" array containing our labels\n",
    "#     These will have n_samples rows\n",
    "#     In other languages we would need to allocate these and them loop to fill them, but NumPy can be faster\n",
    "\n",
    "#this is a wuick numpy trick for flattening\n",
    "X = img[lbls > 0, :]  # include 8th band, which is Fmask, for now\n",
    "y = lbls[lbls > 0]\n",
    "\n",
    "print('Our X matrix is sized: {sz}'.format(sz=X.shape))\n",
    "print('Our y array is sized: {sz}'.format(sz=y.shape))\n",
    "\n"
   ]
  },
  {
   "cell_type": "markdown",
   "id": "4ede190b",
   "metadata": {},
   "source": [
    "### Training The Random Forest"
   ]
  },
  {
   "cell_type": "code",
   "execution_count": null,
   "id": "5bbae6e1",
   "metadata": {},
   "outputs": [],
   "source": []
  }
 ],
 "metadata": {
  "kernelspec": {
   "display_name": "Python 3",
   "language": "python",
   "name": "python3"
  },
  "language_info": {
   "codemirror_mode": {
    "name": "ipython",
    "version": 3
   },
   "file_extension": ".py",
   "mimetype": "text/x-python",
   "name": "python",
   "nbconvert_exporter": "python",
   "pygments_lexer": "ipython3",
   "version": "3.7.0"
  }
 },
 "nbformat": 4,
 "nbformat_minor": 5
}
