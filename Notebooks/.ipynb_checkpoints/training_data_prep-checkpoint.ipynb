{
 "cells": [
  {
   "cell_type": "code",
   "execution_count": 8,
   "id": "e27e459c",
   "metadata": {},
   "outputs": [],
   "source": [
    "import ee\n",
    "import geemap\n",
    "import os"
   ]
  },
  {
   "cell_type": "code",
   "execution_count": 9,
   "id": "205fb2e6",
   "metadata": {},
   "outputs": [],
   "source": [
    "#filepaths\n",
    "out_dir = '/Users/joycelynlongdon/Desktop/Cambridge/CambridgeCoding/MRES/Figures/Landcover_Maps'\n",
    "landcover = '/Users/joycelynlongdon/Desktop/Cambridge/CambridgeCoding/MRES/Data/ESA_CCI/TIF/ESA_CCI_LC_Map_2013.tif'"
   ]
  },
  {
   "cell_type": "code",
   "execution_count": 10,
   "id": "108b541e",
   "metadata": {},
   "outputs": [
    {
     "data": {
      "text/plain": [
       "geemap.geemap.Map"
      ]
     },
     "execution_count": 10,
     "metadata": {},
     "output_type": "execute_result"
    }
   ],
   "source": [
    "Map = geemap.Map\n",
    "Map"
   ]
  },
  {
   "cell_type": "code",
   "execution_count": 6,
   "id": "cb9d3a71",
   "metadata": {},
   "outputs": [
    {
     "data": {
      "text/plain": [
       "geemap.geemap.Map"
      ]
     },
     "execution_count": 6,
     "metadata": {},
     "output_type": "execute_result"
    }
   ],
   "source": []
  },
  {
   "cell_type": "code",
   "execution_count": null,
   "id": "734974e6",
   "metadata": {},
   "outputs": [],
   "source": []
  }
 ],
 "metadata": {
  "kernelspec": {
   "display_name": "Python 3",
   "language": "python",
   "name": "python3"
  },
  "language_info": {
   "codemirror_mode": {
    "name": "ipython",
    "version": 3
   },
   "file_extension": ".py",
   "mimetype": "text/x-python",
   "name": "python",
   "nbconvert_exporter": "python",
   "pygments_lexer": "ipython3",
   "version": "3.7.0"
  }
 },
 "nbformat": 4,
 "nbformat_minor": 5
}
