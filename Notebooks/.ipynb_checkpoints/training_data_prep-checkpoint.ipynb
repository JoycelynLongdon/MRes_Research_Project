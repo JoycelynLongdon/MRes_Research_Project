{
 "cells": [
  {
   "cell_type": "code",
   "execution_count": 37,
   "id": "e27e459c",
   "metadata": {},
   "outputs": [],
   "source": [
    "import rasterio\n",
    "from rasterio.plot import show\n",
    "from rasterio.merge import merge\n",
    "from rasterio.plot import show\n",
    "import rasterio.features\n",
    "import rasterio.warp\n",
    "import glob\n",
    "import os\n",
    "import rioxarray as xr\n",
    "import pandas as pd\n",
    "import geopandas as gpd\n",
    "import numpy as np\n",
    "from rasterio.enums import Resampling\n",
    "from rasterio.crs import CRS\n",
    "import matplotlib.pyplot as plt\n",
    "import earthpy as et\n",
    "import earthpy.plot as ep\n",
    "from shapely.geometry import mapping\n",
    "import subprocess\n",
    "from osgeo import gdal\n",
    "import multiprocessing as mp\n",
    "from typing import List, Any, Sequence, Tuple\n",
    "import xarray as xarray\n",
    "from numpy import savetxt\n",
    "\n",
    "\n",
    "\n",
    "\n",
    "%matplotlib inline\n"
   ]
  },
  {
   "cell_type": "markdown",
   "id": "ede2afef",
   "metadata": {},
   "source": [
    "# Landcover Data"
   ]
  },
  {
   "cell_type": "markdown",
   "id": "8176c88d",
   "metadata": {},
   "source": [
    "### Importing the Training Region Polygon"
   ]
  },
  {
   "cell_type": "code",
   "execution_count": 3,
   "id": "205fb2e6",
   "metadata": {},
   "outputs": [
    {
     "name": "stdout",
     "output_type": "stream",
     "text": [
      "    stroke  stroke-width  stroke-opacity     fill  fill-opacity  \\\n",
      "0  #555555             2               1  #555555           0.5   \n",
      "\n",
      "                                            geometry  \n",
      "0  POLYGON ((16.62231 -2.06224, 16.63055 -1.97166...  \n",
      "epsg:4326\n"
     ]
    }
   ],
   "source": [
    "#region of interest\n",
    "studyRegion = '/gws/nopw/j04/ai4er/users/jl2182/data/Mres_Data/GeoJSONS/PIREDD_Plataue.geojson'\n",
    "studyRegion = gpd.read_file(studyRegion)\n",
    "print(studyRegion.head())\n",
    "print(studyRegion.crs)\n"
   ]
  },
  {
   "cell_type": "code",
   "execution_count": 4,
   "id": "da67238f",
   "metadata": {},
   "outputs": [
    {
     "data": {
      "image/png": "[encoded data removed]",
      "text/plain": [
       "<Figure size 432x432 with 1 Axes>"
      ]
     },
     "metadata": {
      "needs_background": "light"
     },
     "output_type": "display_data"
    }
   ],
   "source": [
    "fig, ax = plt.subplots(figsize=(6, 6))\n",
    "\n",
    "studyRegion.plot(ax=ax)\n",
    "\n",
    "ax.set_title(\"studyRegion\",\n",
    "             fontsize=16)\n",
    "plt.show()"
   ]
  },
  {
   "cell_type": "markdown",
   "id": "8539d603",
   "metadata": {},
   "source": [
    "### Importing and Exploring the Landcover Data"
   ]
  },
  {
   "cell_type": "code",
   "execution_count": 5,
   "id": "108b541e",
   "metadata": {},
   "outputs": [
    {
     "name": "stdout",
     "output_type": "stream",
     "text": [
      "<xarray.DataArray 'lccs_class' (time: 1, y: 64800, x: 129600)>\n",
      "[8398080000 values with dtype=uint8]\n",
      "Coordinates:\n",
      "  * time         (time) object 2013-01-01 00:00:00\n",
      "  * x            (x) float64 -180.0 -180.0 -180.0 -180.0 ... 180.0 180.0 180.0\n",
      "  * y            (y) float64 90.0 90.0 89.99 89.99 ... -89.99 -89.99 -90.0 -90.0\n",
      "    spatial_ref  int64 0\n",
      "Attributes:\n",
      "    ancillary_variables:  processed_flag current_pixel_state observation_coun...\n",
      "    flag_colors:          #ffff64 #ffff64 #ffff00 #aaf0f0 #dcf064 #c8c864 #00...\n",
      "    flag_meanings:        no_data cropland_rainfed cropland_rainfed_herbaceou...\n",
      "    flag_values:          [  0.  10.  11.  12.  20.  30.  40.  50.  60.  61. ...\n",
      "    long_name:            Land cover class defined in LCCS\n",
      "    standard_name:        land_cover_lccs\n",
      "    valid_max:            220\n",
      "    valid_min:            1\n",
      "    _FillValue:           0.0\n",
      "    scale_factor:         1.0\n",
      "    add_offset:           0.0\n"
     ]
    }
   ],
   "source": [
    "#landcover data\n",
    "ESA_CCI = '/gws/nopw/j04/ai4er/users/jl2182/data/Mres_Data/ESA_CCI/TIF/ESA_CCI_LC_Map_2013.tif'\n",
    "landcover = xr.open_rasterio(ESA_CCI)\n",
    "print(landcover)\n"
   ]
  },
  {
   "cell_type": "code",
   "execution_count": 6,
   "id": "eb48cc57",
   "metadata": {},
   "outputs": [
    {
     "name": "stdout",
     "output_type": "stream",
     "text": [
      "There are 38 classes.\n",
      "                                 LCCOwnLabel    R    G    B\n",
      "NB_LAB                                                     \n",
      "0                                    No data    0    0    0\n",
      "10                         Cropland, rainfed  255  255  100\n",
      "11                          Herbaceous cover  255  255  100\n",
      "12                       Tree or shrub cover  255  255    0\n",
      "20      Cropland, irrigated or post-flooding  170  240  240\n"
     ]
    }
   ],
   "source": [
    "#landcover classes\n",
    "landcover_classes = '/gws/nopw/j04/ai4er/users/jl2182/data/Mres_Data/ESA_CCI/TIF/ESACCI-LC-Legend.csv'\n",
    "classes = pd.read_csv(landcover_classes, delimiter=\";\", index_col=0)\n",
    "\n",
    "print(f\"There are {len(classes)} classes.\")\n",
    "print(classes.head())"
   ]
  },
  {
   "cell_type": "code",
   "execution_count": null,
   "id": "cb9d3a71",
   "metadata": {},
   "outputs": [],
   "source": [
    "#explore statistics\n",
    "print(landcover.rio.crs)\n",
    "print(landcover.rio.nodata)\n",
    "print(landcover.rio.bounds())\n",
    "print(landcover.rio.width)\n",
    "print(landcover.rio.height)\n",
    "print(landcover.rio.crs.wkt)"
   ]
  },
  {
   "cell_type": "code",
   "execution_count": null,
   "id": "734974e6",
   "metadata": {},
   "outputs": [],
   "source": [
    "#landcover.values\n",
    "landcover"
   ]
  },
  {
   "cell_type": "markdown",
   "id": "949961ad",
   "metadata": {},
   "source": [
    "### Reproject and Clip the Landcover Data to DRC Cooridnate Projection and Study Region"
   ]
  },
  {
   "cell_type": "code",
   "execution_count": 7,
   "id": "ef40682c",
   "metadata": {},
   "outputs": [],
   "source": [
    "drc_landcover = landcover.rio.clip(studyRegion.geometry.apply(mapping))"
   ]
  },
  {
   "cell_type": "code",
   "execution_count": 8,
   "id": "cf0b4a79",
   "metadata": {},
   "outputs": [],
   "source": [
    "#define projection for DRC\n",
    "crs_drc = CRS.from_string('EPSG:3341')\n",
    "landcover_drc_crs = drc_landcover.rio.reproject(crs_drc)"
   ]
  },
  {
   "cell_type": "code",
   "execution_count": null,
   "id": "86b17057",
   "metadata": {},
   "outputs": [],
   "source": [
    "landcover_drc_crs.rio.crs\n",
    "landcover_drc_crs.shape"
   ]
  },
  {
   "cell_type": "code",
   "execution_count": null,
   "id": "33bde6c4",
   "metadata": {},
   "outputs": [],
   "source": [
    "landcover_drc_crs.values"
   ]
  },
  {
   "cell_type": "code",
   "execution_count": 9,
   "id": "82e66871",
   "metadata": {},
   "outputs": [],
   "source": [
    "#save as raster ahead of reclassification\n",
    "landcover_drc_crs.rio.to_raster('/gws/nopw/j04/ai4er/users/jl2182/data/Mres_Data/PIREDD_Test_ESA/PIREDD_2013_ESA.tif')"
   ]
  },
  {
   "cell_type": "markdown",
   "id": "7aa68ea4",
   "metadata": {},
   "source": [
    "### Reclassify classes "
   ]
  },
  {
   "cell_type": "code",
   "execution_count": 8,
   "id": "74edc6c5",
   "metadata": {},
   "outputs": [],
   "source": [
    "#training_landcover_path = '/gws/nopw/j04/ai4er/users/jl2182/data/Mres_Data/ESA_CCI_Unmerged.tif'\n",
    "#training_landcover = xr.open_rasterio(training_landcover_path)\n"
   ]
  },
  {
   "cell_type": "code",
   "execution_count": null,
   "id": "83f871a0",
   "metadata": {},
   "outputs": [],
   "source": [
    "training_landcover.plot()"
   ]
  },
  {
   "cell_type": "code",
   "execution_count": 39,
   "id": "740e1ac8",
   "metadata": {},
   "outputs": [
    {
     "data": {
      "text/html": [
       "<div>\n",
       "<style scoped>\n",
       "    .dataframe tbody tr th:only-of-type {\n",
       "        vertical-align: middle;\n",
       "    }\n",
       "\n",
       "    .dataframe tbody tr th {\n",
       "        vertical-align: top;\n",
       "    }\n",
       "\n",
       "    .dataframe thead th {\n",
       "        text-align: right;\n",
       "    }\n",
       "</style>\n",
       "<table border=\"1\" class=\"dataframe\">\n",
       "  <thead>\n",
       "    <tr style=\"text-align: right;\">\n",
       "      <th></th>\n",
       "      <th>pixel_count</th>\n",
       "      <th>class_name</th>\n",
       "    </tr>\n",
       "  </thead>\n",
       "  <tbody>\n",
       "    <tr>\n",
       "      <th>1</th>\n",
       "      <td>120176</td>\n",
       "      <td>Cropland</td>\n",
       "    </tr>\n",
       "    <tr>\n",
       "      <th>2</th>\n",
       "      <td>179811</td>\n",
       "      <td>Shrubland</td>\n",
       "    </tr>\n",
       "    <tr>\n",
       "      <th>3</th>\n",
       "      <td>984873</td>\n",
       "      <td>Forest</td>\n",
       "    </tr>\n",
       "    <tr>\n",
       "      <th>4</th>\n",
       "      <td>4036</td>\n",
       "      <td>Urban</td>\n",
       "    </tr>\n",
       "    <tr>\n",
       "      <th>5</th>\n",
       "      <td>33701</td>\n",
       "      <td>Water</td>\n",
       "    </tr>\n",
       "    <tr>\n",
       "      <th>6</th>\n",
       "      <td>2166902</td>\n",
       "      <td>No Data and Other</td>\n",
       "    </tr>\n",
       "  </tbody>\n",
       "</table>\n",
       "</div>"
      ],
      "text/plain": [
       "   pixel_count         class_name\n",
       "1       120176           Cropland\n",
       "2       179811          Shrubland\n",
       "3       984873             Forest\n",
       "4         4036              Urban\n",
       "5        33701              Water\n",
       "6      2166902  No Data and Other"
      ]
     },
     "execution_count": 39,
     "metadata": {},
     "output_type": "execute_result"
    }
   ],
   "source": [
    "training_landcover_path = '/gws/nopw/j04/ai4er/users/jl2182/data/Mres_Data/landcover_clipped_reproj.tif'\n",
    "training_landcover = xr.open_rasterio(training_landcover_path)\n",
    "\n",
    "def reclassify_landcover(input_array):\n",
    "    '''input xarray.DataArray with classes and output dataarray with super classes\n",
    "        but same coords and attributes as input'''\n",
    "\n",
    "    new_class_1 = np.where((input_array == 10)|(input_array == 20)|(input_array ==130), \n",
    "                             1, input_array) #cropland\n",
    "    new_class_2 = np.where((input_array == 11)|(input_array == 12)|(input_array == 30)|(input_array == 153)|(input_array == 152)|(input_array == 151)|(input_array == 150)|(input_array == 110)|(input_array == 120)|(input_array == 121)|(input_array == 122), \n",
    "                             2, new_class_1)#shrubland\n",
    "    #new_class_3 = np.where((input_array == 40), \n",
    "                             #3, new_class_2)#mosaic vegetation\n",
    "    new_class_3 = np.where((input_array == 50)|(input_array == 60)|(input_array == 40)|(input_array == 61)|(input_array == 62)|(input_array == 100)|(input_array == 151)|(input_array == 70)|(input_array == 71)|(input_array == 72)|(input_array == 80)|(input_array == 81)|(input_array == 82)|(input_array == 90)|(input_array == 160)|(input_array == 170), \n",
    "                             3, new_class_2)#forest\n",
    "    #new_class_3 = np.where((input_array == 11)|(input_array == 12)|(input_array == 40)|, \n",
    "                             #3, new_class_2)#shrubland\n",
    "    #new_class_4 = np.where((input_array ==130), \n",
    "                             #4, new_class_3) #grassland\n",
    "    new_class_4 = np.where((input_array == 190)|(input_array == 202)|(input_array == 201)|(input_array == 200), \n",
    "                             4, new_class_3) #urban\n",
    "    new_class_5 = np.where((input_array == 210)|(input_array == 180), \n",
    "                             5, new_class_4)#water\n",
    "    new_class_6 = np.where((input_array == 0)|(input_array == 140)|(input_array == 220), \n",
    "                             6, new_class_5)#No data and Other\n",
    "    #new_class_10 = np.where((input_array == 0), 10, new_class_9) #no data\n",
    "\n",
    "    \n",
    "    output_array_final = xarray.DataArray(data=new_class_6, coords=input_array.coords, attrs=input_array.attrs)\n",
    "    \n",
    "    return output_array_final\n",
    "\n",
    "#super classes\n",
    "drc_training_landcover = reclassify_landcover(training_landcover)\n",
    "superclass_data=[]\n",
    "superclass_vals = np.unique(drc_training_landcover)\n",
    "for c in superclass_vals:\n",
    "    superclass_data.append((drc_training_landcover == c).sum())\n",
    "\n",
    "superclass_df = pd.DataFrame(superclass_data, index = superclass_vals, columns = ['pixel_count']) \n",
    "\n",
    "\n",
    "superclass_df.insert(superclass_df.shape[1], 'class_name', ['Cropland', 'Shrubland', 'Forest',\n",
    "                         'Urban', 'Water', 'No Data and Other'\n",
    "                                                           ])\n",
    "\n",
    "superclass_df"
   ]
  },
  {
   "cell_type": "code",
   "execution_count": 44,
   "id": "567b4979",
   "metadata": {},
   "outputs": [
    {
     "ename": "NameError",
     "evalue": "name 'new' is not defined",
     "output_type": "error",
     "traceback": [
      "\u001b[0;31m---------------------------------------------------------------------------\u001b[0m",
      "\u001b[0;31mNameError\u001b[0m                                 Traceback (most recent call last)",
      "\u001b[0;32m<ipython-input-44-389cc6b7ae5a>\u001b[0m in \u001b[0;36m<module>\u001b[0;34m\u001b[0m\n\u001b[0;32m----> 1\u001b[0;31m \u001b[0mnew\u001b[0m\u001b[0;34m\u001b[0m\u001b[0m\n\u001b[0m",
      "\u001b[0;31mNameError\u001b[0m: name 'new' is not defined"
     ]
    }
   ],
   "source": [
    "new"
   ]
  },
  {
   "cell_type": "code",
   "execution_count": null,
   "id": "b68e090f",
   "metadata": {},
   "outputs": [],
   "source": []
  },
  {
   "cell_type": "code",
   "execution_count": 43,
   "id": "21f4b78f",
   "metadata": {},
   "outputs": [
    {
     "ename": "ConversionError",
     "evalue": "Failed to convert value(s) to axis units: array(['Cropland', 'Shrubland', 'Forest', 'Urban', 'Water',\n       'No Data and Other'], dtype=object)",
     "output_type": "error",
     "traceback": [
      "\u001b[0;31m---------------------------------------------------------------------------\u001b[0m",
      "\u001b[0;31mValueError\u001b[0m                                Traceback (most recent call last)",
      "\u001b[0;32m~/miniconda3/envs/mres_proj/lib/python3.7/site-packages/matplotlib/axis.py\u001b[0m in \u001b[0;36mconvert_units\u001b[0;34m(self, x)\u001b[0m\n\u001b[1;32m   1499\u001b[0m         \u001b[0;32mtry\u001b[0m\u001b[0;34m:\u001b[0m\u001b[0;34m\u001b[0m\u001b[0m\n\u001b[0;32m-> 1500\u001b[0;31m             \u001b[0mret\u001b[0m \u001b[0;34m=\u001b[0m \u001b[0mself\u001b[0m\u001b[0;34m.\u001b[0m\u001b[0mconverter\u001b[0m\u001b[0;34m.\u001b[0m\u001b[0mconvert\u001b[0m\u001b[0;34m(\u001b[0m\u001b[0mx\u001b[0m\u001b[0;34m,\u001b[0m \u001b[0mself\u001b[0m\u001b[0;34m.\u001b[0m\u001b[0munits\u001b[0m\u001b[0;34m,\u001b[0m \u001b[0mself\u001b[0m\u001b[0;34m)\u001b[0m\u001b[0;34m\u001b[0m\u001b[0m\n\u001b[0m\u001b[1;32m   1501\u001b[0m         \u001b[0;32mexcept\u001b[0m \u001b[0mException\u001b[0m \u001b[0;32mas\u001b[0m \u001b[0me\u001b[0m\u001b[0;34m:\u001b[0m\u001b[0;34m\u001b[0m\u001b[0m\n",
      "\u001b[0;32m~/miniconda3/envs/mres_proj/lib/python3.7/site-packages/matplotlib/category.py\u001b[0m in \u001b[0;36mconvert\u001b[0;34m(value, unit, axis)\u001b[0m\n\u001b[1;32m     49\u001b[0m             raise ValueError(\n\u001b[0;32m---> 50\u001b[0;31m                 \u001b[0;34m'Missing category information for StrCategoryConverter; '\u001b[0m\u001b[0;34m\u001b[0m\u001b[0m\n\u001b[0m\u001b[1;32m     51\u001b[0m                 \u001b[0;34m'this might be caused by unintendedly mixing categorical and '\u001b[0m\u001b[0;34m\u001b[0m\u001b[0m\n",
      "\u001b[0;31mValueError\u001b[0m: Missing category information for StrCategoryConverter; this might be caused by unintendedly mixing categorical and numeric data",
      "\nThe above exception was the direct cause of the following exception:\n",
      "\u001b[0;31mConversionError\u001b[0m                           Traceback (most recent call last)",
      "\u001b[0;32m<ipython-input-43-8d9a27970c7a>\u001b[0m in \u001b[0;36m<module>\u001b[0;34m\u001b[0m\n\u001b[1;32m     15\u001b[0m \u001b[0;34m\u001b[0m\u001b[0m\n\u001b[1;32m     16\u001b[0m \u001b[0;34m\u001b[0m\u001b[0m\n\u001b[0;32m---> 17\u001b[0;31m \u001b[0mstatsdata\u001b[0m\u001b[0;34m(\u001b[0m\u001b[0msuperclass_df\u001b[0m\u001b[0;34m)\u001b[0m\u001b[0;34m\u001b[0m\u001b[0m\n\u001b[0m",
      "\u001b[0;32m<ipython-input-43-8d9a27970c7a>\u001b[0m in \u001b[0;36mstatsdata\u001b[0;34m(arr)\u001b[0m\n\u001b[1;32m      3\u001b[0m     \u001b[0mfig\u001b[0m\u001b[0;34m=\u001b[0m\u001b[0mplt\u001b[0m\u001b[0;34m.\u001b[0m\u001b[0mfigure\u001b[0m\u001b[0;34m(\u001b[0m\u001b[0mfigsize\u001b[0m\u001b[0;34m=\u001b[0m\u001b[0;34m(\u001b[0m\u001b[0;36m7\u001b[0m\u001b[0;34m,\u001b[0m \u001b[0;36m7\u001b[0m\u001b[0;34m)\u001b[0m\u001b[0;34m)\u001b[0m\u001b[0;34m\u001b[0m\u001b[0m\n\u001b[1;32m      4\u001b[0m     \u001b[0mbins\u001b[0m \u001b[0;34m=\u001b[0m \u001b[0mrange\u001b[0m\u001b[0;34m(\u001b[0m\u001b[0;36m8\u001b[0m\u001b[0;34m)\u001b[0m\u001b[0;34m\u001b[0m\u001b[0m\n\u001b[0;32m----> 5\u001b[0;31m     \u001b[0mplt\u001b[0m\u001b[0;34m.\u001b[0m\u001b[0mhist\u001b[0m\u001b[0;34m(\u001b[0m\u001b[0marr\u001b[0m\u001b[0;34m,\u001b[0m \u001b[0mbins\u001b[0m\u001b[0;34m=\u001b[0m\u001b[0mbins\u001b[0m\u001b[0;34m)\u001b[0m  \u001b[0;31m# arguments are passed to np.histogram\u001b[0m\u001b[0;34m\u001b[0m\u001b[0m\n\u001b[0m\u001b[1;32m      6\u001b[0m     \u001b[0mbins_labels\u001b[0m\u001b[0;34m(\u001b[0m\u001b[0mbins\u001b[0m\u001b[0;34m,\u001b[0m \u001b[0mfontsize\u001b[0m\u001b[0;34m=\u001b[0m\u001b[0;36m20\u001b[0m\u001b[0;34m)\u001b[0m\u001b[0;34m\u001b[0m\u001b[0m\n\u001b[1;32m      7\u001b[0m     \u001b[0mplt\u001b[0m\u001b[0;34m.\u001b[0m\u001b[0mtitle\u001b[0m\u001b[0;34m(\u001b[0m\u001b[0;34m'Distribution of Training Data Classes'\u001b[0m\u001b[0;34m)\u001b[0m\u001b[0;34m\u001b[0m\u001b[0m\n",
      "\u001b[0;32m~/miniconda3/envs/mres_proj/lib/python3.7/site-packages/matplotlib/pyplot.py\u001b[0m in \u001b[0;36mhist\u001b[0;34m(x, bins, range, density, weights, cumulative, bottom, histtype, align, orientation, rwidth, log, color, label, stacked, data, **kwargs)\u001b[0m\n\u001b[1;32m   2856\u001b[0m         \u001b[0malign\u001b[0m\u001b[0;34m=\u001b[0m\u001b[0malign\u001b[0m\u001b[0;34m,\u001b[0m \u001b[0morientation\u001b[0m\u001b[0;34m=\u001b[0m\u001b[0morientation\u001b[0m\u001b[0;34m,\u001b[0m \u001b[0mrwidth\u001b[0m\u001b[0;34m=\u001b[0m\u001b[0mrwidth\u001b[0m\u001b[0;34m,\u001b[0m \u001b[0mlog\u001b[0m\u001b[0;34m=\u001b[0m\u001b[0mlog\u001b[0m\u001b[0;34m,\u001b[0m\u001b[0;34m\u001b[0m\u001b[0m\n\u001b[1;32m   2857\u001b[0m         \u001b[0mcolor\u001b[0m\u001b[0;34m=\u001b[0m\u001b[0mcolor\u001b[0m\u001b[0;34m,\u001b[0m \u001b[0mlabel\u001b[0m\u001b[0;34m=\u001b[0m\u001b[0mlabel\u001b[0m\u001b[0;34m,\u001b[0m \u001b[0mstacked\u001b[0m\u001b[0;34m=\u001b[0m\u001b[0mstacked\u001b[0m\u001b[0;34m,\u001b[0m\u001b[0;34m\u001b[0m\u001b[0m\n\u001b[0;32m-> 2858\u001b[0;31m         **({\"data\": data} if data is not None else {}), **kwargs)\n\u001b[0m\u001b[1;32m   2859\u001b[0m \u001b[0;34m\u001b[0m\u001b[0m\n\u001b[1;32m   2860\u001b[0m \u001b[0;34m\u001b[0m\u001b[0m\n",
      "\u001b[0;32m~/miniconda3/envs/mres_proj/lib/python3.7/site-packages/matplotlib/__init__.py\u001b[0m in \u001b[0;36minner\u001b[0;34m(ax, data, *args, **kwargs)\u001b[0m\n\u001b[1;32m   1359\u001b[0m     \u001b[0;32mdef\u001b[0m \u001b[0minner\u001b[0m\u001b[0;34m(\u001b[0m\u001b[0max\u001b[0m\u001b[0;34m,\u001b[0m \u001b[0;34m*\u001b[0m\u001b[0margs\u001b[0m\u001b[0;34m,\u001b[0m \u001b[0mdata\u001b[0m\u001b[0;34m=\u001b[0m\u001b[0;32mNone\u001b[0m\u001b[0;34m,\u001b[0m \u001b[0;34m**\u001b[0m\u001b[0mkwargs\u001b[0m\u001b[0;34m)\u001b[0m\u001b[0;34m:\u001b[0m\u001b[0;34m\u001b[0m\u001b[0m\n\u001b[1;32m   1360\u001b[0m         \u001b[0;32mif\u001b[0m \u001b[0mdata\u001b[0m \u001b[0;32mis\u001b[0m \u001b[0;32mNone\u001b[0m\u001b[0;34m:\u001b[0m\u001b[0;34m\u001b[0m\u001b[0m\n\u001b[0;32m-> 1361\u001b[0;31m             \u001b[0;32mreturn\u001b[0m \u001b[0mfunc\u001b[0m\u001b[0;34m(\u001b[0m\u001b[0max\u001b[0m\u001b[0;34m,\u001b[0m \u001b[0;34m*\u001b[0m\u001b[0mmap\u001b[0m\u001b[0;34m(\u001b[0m\u001b[0msanitize_sequence\u001b[0m\u001b[0;34m,\u001b[0m \u001b[0margs\u001b[0m\u001b[0;34m)\u001b[0m\u001b[0;34m,\u001b[0m \u001b[0;34m**\u001b[0m\u001b[0mkwargs\u001b[0m\u001b[0;34m)\u001b[0m\u001b[0;34m\u001b[0m\u001b[0m\n\u001b[0m\u001b[1;32m   1362\u001b[0m \u001b[0;34m\u001b[0m\u001b[0m\n\u001b[1;32m   1363\u001b[0m         \u001b[0mbound\u001b[0m \u001b[0;34m=\u001b[0m \u001b[0mnew_sig\u001b[0m\u001b[0;34m.\u001b[0m\u001b[0mbind\u001b[0m\u001b[0;34m(\u001b[0m\u001b[0max\u001b[0m\u001b[0;34m,\u001b[0m \u001b[0;34m*\u001b[0m\u001b[0margs\u001b[0m\u001b[0;34m,\u001b[0m \u001b[0;34m**\u001b[0m\u001b[0mkwargs\u001b[0m\u001b[0;34m)\u001b[0m\u001b[0;34m\u001b[0m\u001b[0m\n",
      "\u001b[0;32m~/miniconda3/envs/mres_proj/lib/python3.7/site-packages/matplotlib/axes/_axes.py\u001b[0m in \u001b[0;36mhist\u001b[0;34m(self, x, bins, range, density, weights, cumulative, bottom, histtype, align, orientation, rwidth, log, color, label, stacked, **kwargs)\u001b[0m\n\u001b[1;32m   6679\u001b[0m             \u001b[0mconvert_units\u001b[0m \u001b[0;34m=\u001b[0m \u001b[0mself\u001b[0m\u001b[0;34m.\u001b[0m\u001b[0mconvert_xunits\u001b[0m\u001b[0;34m\u001b[0m\u001b[0m\n\u001b[1;32m   6680\u001b[0m             x = [*self._process_unit_info([(\"x\", x[0])], kwargs),\n\u001b[0;32m-> 6681\u001b[0;31m                  *map(convert_units, x[1:])]\n\u001b[0m\u001b[1;32m   6682\u001b[0m         \u001b[0;32melse\u001b[0m\u001b[0;34m:\u001b[0m  \u001b[0;31m# horizontal\u001b[0m\u001b[0;34m\u001b[0m\u001b[0m\n\u001b[1;32m   6683\u001b[0m             \u001b[0mconvert_units\u001b[0m \u001b[0;34m=\u001b[0m \u001b[0mself\u001b[0m\u001b[0;34m.\u001b[0m\u001b[0mconvert_yunits\u001b[0m\u001b[0;34m\u001b[0m\u001b[0m\n",
      "\u001b[0;32m~/miniconda3/envs/mres_proj/lib/python3.7/site-packages/matplotlib/artist.py\u001b[0m in \u001b[0;36mconvert_xunits\u001b[0;34m(self, x)\u001b[0m\n\u001b[1;32m    201\u001b[0m         \u001b[0;32mif\u001b[0m \u001b[0max\u001b[0m \u001b[0;32mis\u001b[0m \u001b[0;32mNone\u001b[0m \u001b[0;32mor\u001b[0m \u001b[0max\u001b[0m\u001b[0;34m.\u001b[0m\u001b[0mxaxis\u001b[0m \u001b[0;32mis\u001b[0m \u001b[0;32mNone\u001b[0m\u001b[0;34m:\u001b[0m\u001b[0;34m\u001b[0m\u001b[0m\n\u001b[1;32m    202\u001b[0m             \u001b[0;32mreturn\u001b[0m \u001b[0mx\u001b[0m\u001b[0;34m\u001b[0m\u001b[0m\n\u001b[0;32m--> 203\u001b[0;31m         \u001b[0;32mreturn\u001b[0m \u001b[0max\u001b[0m\u001b[0;34m.\u001b[0m\u001b[0mxaxis\u001b[0m\u001b[0;34m.\u001b[0m\u001b[0mconvert_units\u001b[0m\u001b[0;34m(\u001b[0m\u001b[0mx\u001b[0m\u001b[0;34m)\u001b[0m\u001b[0;34m\u001b[0m\u001b[0m\n\u001b[0m\u001b[1;32m    204\u001b[0m \u001b[0;34m\u001b[0m\u001b[0m\n\u001b[1;32m    205\u001b[0m     \u001b[0;32mdef\u001b[0m \u001b[0mconvert_yunits\u001b[0m\u001b[0;34m(\u001b[0m\u001b[0mself\u001b[0m\u001b[0;34m,\u001b[0m \u001b[0my\u001b[0m\u001b[0;34m)\u001b[0m\u001b[0;34m:\u001b[0m\u001b[0;34m\u001b[0m\u001b[0m\n",
      "\u001b[0;32m~/miniconda3/envs/mres_proj/lib/python3.7/site-packages/matplotlib/axis.py\u001b[0m in \u001b[0;36mconvert_units\u001b[0;34m(self, x)\u001b[0m\n\u001b[1;32m   1501\u001b[0m         \u001b[0;32mexcept\u001b[0m \u001b[0mException\u001b[0m \u001b[0;32mas\u001b[0m \u001b[0me\u001b[0m\u001b[0;34m:\u001b[0m\u001b[0;34m\u001b[0m\u001b[0m\n\u001b[1;32m   1502\u001b[0m             raise munits.ConversionError('Failed to convert value(s) to axis '\n\u001b[0;32m-> 1503\u001b[0;31m                                          f'units: {x!r}') from e\n\u001b[0m\u001b[1;32m   1504\u001b[0m         \u001b[0;32mreturn\u001b[0m \u001b[0mret\u001b[0m\u001b[0;34m\u001b[0m\u001b[0m\n\u001b[1;32m   1505\u001b[0m \u001b[0;34m\u001b[0m\u001b[0m\n",
      "\u001b[0;31mConversionError\u001b[0m: Failed to convert value(s) to axis units: array(['Cropland', 'Shrubland', 'Forest', 'Urban', 'Water',\n       'No Data and Other'], dtype=object)"
     ]
    },
    {
     "data": {
      "image/png": "[encoded data removed]",
      "text/plain": [
       "<Figure size 504x504 with 1 Axes>"
      ]
     },
     "metadata": {
      "needs_background": "light"
     },
     "output_type": "display_data"
    }
   ],
   "source": [
    "def statsdata(arr):\n",
    "    '''generate histogram of training data'''\n",
    "    fig=plt.figure(figsize=(7, 7))\n",
    "    bins = range(8)\n",
    "    plt.hist(arr, bins=bins)  # arguments are passed to np.histogram\n",
    "    bins_labels(bins, fontsize=20)\n",
    "    plt.title('Distribution of Training Data Classes')\n",
    "    plt.xlabel('Classes')\n",
    "\n",
    "def bins_labels(bins, **kwargs):\n",
    "    '''center the histogram bin labels due to OCD'''\n",
    "    bin_w = (max(bins) - min(bins)) / (len(bins) - 1)\n",
    "    plt.xticks(np.arange(min(bins)+bin_w/2, max(bins), bin_w), bins, **kwargs)\n",
    "    plt.xlim(bins[0], bins[-1])\n",
    "\n",
    "\n",
    "statsdata(superclass_df)"
   ]
  },
  {
   "cell_type": "code",
   "execution_count": 7,
   "id": "d322166f",
   "metadata": {},
   "outputs": [],
   "source": [
    "drc_training_landcover.rio.to_raster('/gws/nopw/j04/ai4er/users/jl2182/data/Mres_Data/PIREDD_Test_ESA/Reclassified_Final/.tif')"
   ]
  },
  {
   "cell_type": "code",
   "execution_count": null,
   "id": "dd03597f",
   "metadata": {},
   "outputs": [],
   "source": [
    "savetxt('/gws/nopw/j04/ai4er/users/jl2182/data/Mres_Data/drc_training_landcover', drc_training_landcover, delimiter=',')"
   ]
  },
  {
   "cell_type": "code",
   "execution_count": null,
   "id": "4c61a814",
   "metadata": {},
   "outputs": [],
   "source": [
    "drc_training_landcover"
   ]
  },
  {
   "cell_type": "code",
   "execution_count": null,
   "id": "ed9adff4",
   "metadata": {},
   "outputs": [],
   "source": [
    "#from 3D ----> 2D\n",
    "drc_training_landcover = landcover_drc_crs[0, :, :]\n",
    "print(drc_training_landcover.shape)"
   ]
  },
  {
   "cell_type": "code",
   "execution_count": null,
   "id": "6eb5c4cb",
   "metadata": {},
   "outputs": [],
   "source": [
    "\n",
    "# save to csv file\n",
    "savetxt('/gws/nopw/j04/ai4er/users/jl2182/data/Mres_Data/ESA_Landcover_Data.csv', ESA_Landcover_Data, delimiter=',')"
   ]
  },
  {
   "cell_type": "code",
   "execution_count": null,
   "id": "789ca553",
   "metadata": {},
   "outputs": [],
   "source": [
    "landcover_drc_crs.values"
   ]
  },
  {
   "cell_type": "code",
   "execution_count": null,
   "id": "84a77b76",
   "metadata": {},
   "outputs": [],
   "source": [
    "# ESA_Landcover_Data.values\n",
    "ESA_Landcover_Data"
   ]
  },
  {
   "cell_type": "code",
   "execution_count": null,
   "id": "ebfdc79c",
   "metadata": {},
   "outputs": [],
   "source": [
    "#print(landcover_drc_crs)"
   ]
  },
  {
   "cell_type": "code",
   "execution_count": null,
   "id": "4c6591c6",
   "metadata": {},
   "outputs": [],
   "source": [
    "f, ax = plt.subplots(figsize=(20, 10))\n",
    "landcover_drc_crs.plot(ax=ax)\n",
    "ax.set(title=\"Landcover Map of Training Region\")\n",
    "ax.set_axis_off()\n",
    "plt.savefig('/gws/nopw/j04/ai4er/users/jl2182/data/Mres_Data/landcover_map_of_training_region.png')\n",
    "plt.show()"
   ]
  },
  {
   "cell_type": "code",
   "execution_count": null,
   "id": "5cfd2934",
   "metadata": {},
   "outputs": [],
   "source": [
    "f, ax = plt.subplots(figsize=(20, 10))\n",
    "drc_training_landcover.plot(ax=ax)\n",
    "ax.set(title=\"Landcover Map of Training Region\")\n",
    "ax.set_axis_off()\n",
    "plt.savefig('/gws/nopw/j04/ai4er/users/jl2182/data/Mres_Data/landcover_map_of_training_region.png')\n",
    "plt.show()"
   ]
  },
  {
   "cell_type": "markdown",
   "id": "d8f994bc",
   "metadata": {},
   "source": [
    "# Satellite Data"
   ]
  },
  {
   "cell_type": "markdown",
   "id": "95e511e5",
   "metadata": {},
   "source": [
    "### Importing and Exploring the Satellite Data\n"
   ]
  },
  {
   "cell_type": "code",
   "execution_count": 27,
   "id": "42bb19a7",
   "metadata": {},
   "outputs": [
    {
     "name": "stdout",
     "output_type": "stream",
     "text": [
      "<xarray.DataArray (band: 7, y: 5649, x: 11397)>\n",
      "[450671571 values with dtype=float64]\n",
      "Coordinates:\n",
      "  * band         (band) int64 1 2 3 4 5 6 7\n",
      "  * x            (x) float64 5.541e+05 5.541e+05 ... 8.95e+05 8.951e+05\n",
      "  * y            (y) float64 9.637e+06 9.637e+06 ... 9.468e+06 9.468e+06\n",
      "    spatial_ref  int64 0\n",
      "Attributes:\n",
      "    scale_factor:  1.0\n",
      "    add_offset:    0.0\n"
     ]
    }
   ],
   "source": [
    "#l8 = '/gws/nopw/j04/ai4er/users/jl2182/data/Mres_Data/training_tiles/merged_l8_train_data.tif'\n",
    "l8_reprojected = '/gws/nopw/j04/ai4er/users/jl2182/data/Mres_Data/Counterfactual_Test_Data/Reprojected/Counterfactual_2014_reprojected.tif' #the imagery was reprojected in \n",
    "#the command line using gdal as rioxarray was re-filloing the array with unwanted values\n",
    "l8_data = xr.open_rasterio(l8_reprojected)\n",
    "print(l8_data)"
   ]
  },
  {
   "cell_type": "code",
   "execution_count": 17,
   "id": "5bd5a65a",
   "metadata": {},
   "outputs": [
    {
     "name": "stdout",
     "output_type": "stream",
     "text": [
      "EPSG:3341\n",
      "None\n",
      "(554074.0965335094, 9467623.152441055, 895066.6993172008, 9636638.438316729)\n",
      "11397\n",
      "5649\n",
      "PROJCS[\"IGCB 1955 / Congo TM zone 16\",GEOGCS[\"IGCB 1955\",DATUM[\"Institut_Geographique_du_Congo_Belge_1955\",SPHEROID[\"Clarke 1880 (RGS)\",6378249.145,293.465,AUTHORITY[\"EPSG\",\"7012\"]],TOWGS84[-79.9,-158,-168.9,0,0,0,0],AUTHORITY[\"EPSG\",\"6701\"]],PRIMEM[\"Greenwich\",0,AUTHORITY[\"EPSG\",\"8901\"]],UNIT[\"degree\",0.0174532925199433,AUTHORITY[\"EPSG\",\"9122\"]],AUTHORITY[\"EPSG\",\"4701\"]],PROJECTION[\"Transverse_Mercator\"],PARAMETER[\"latitude_of_origin\",0],PARAMETER[\"central_meridian\",16],PARAMETER[\"scale_factor\",0.9999],PARAMETER[\"false_easting\",500000],PARAMETER[\"false_northing\",10000000],UNIT[\"metre\",1,AUTHORITY[\"EPSG\",\"9001\"]],AXIS[\"Easting\",EAST],AXIS[\"Northing\",NORTH],AUTHORITY[\"EPSG\",\"3341\"]]\n"
     ]
    }
   ],
   "source": [
    "#explore statistics\n",
    "print(l8_data.rio.crs)\n",
    "print(l8_data.rio.nodata)\n",
    "print(l8_data.rio.bounds())\n",
    "print(l8_data.rio.width)\n",
    "print(l8_data.rio.height)\n",
    "print(l8_data.rio.crs.wkt)"
   ]
  },
  {
   "cell_type": "code",
   "execution_count": null,
   "id": "1b8687ea",
   "metadata": {},
   "outputs": [],
   "source": [
    "l8_data.values\n",
    "#l8_data"
   ]
  },
  {
   "cell_type": "code",
   "execution_count": 18,
   "id": "8957ac03",
   "metadata": {},
   "outputs": [
    {
     "data": {
      "text/plain": [
       "<matplotlib.collections.QuadMesh at 0x7fefe2bdb048>"
      ]
     },
     "execution_count": 18,
     "metadata": {},
     "output_type": "execute_result"
    },
    {
     "data": {
      "image/png": "[encoded data removed]",
      "text/plain": [
       "<Figure size 432x288 with 2 Axes>"
      ]
     },
     "metadata": {
      "needs_background": "light"
     },
     "output_type": "display_data"
    }
   ],
   "source": [
    "l8_data[4].plot() #plotting one band from the training imagery"
   ]
  },
  {
   "cell_type": "code",
   "execution_count": null,
   "id": "33e24a01",
   "metadata": {},
   "outputs": [],
   "source": [
    "#from 3D ----> 2D\n",
    "l8_data = l8_data[0, :, :]\n",
    "print(l8_data.shape)"
   ]
  },
  {
   "cell_type": "code",
   "execution_count": null,
   "id": "c4a8aeea",
   "metadata": {},
   "outputs": [],
   "source": [
    "from numpy import savetxt\n",
    "\n",
    "# save to csv file\n",
    "savetxt('/gws/nopw/j04/ai4er/users/jl2182/data/Mres_Data/Landsat_Satellite_Data_Training.csv', l8_data, delimiter=',')"
   ]
  },
  {
   "cell_type": "code",
   "execution_count": null,
   "id": "4f5a30da",
   "metadata": {},
   "outputs": [],
   "source": [
    "l8_data"
   ]
  },
  {
   "cell_type": "markdown",
   "id": "4d47fb44",
   "metadata": {},
   "source": [
    "### Resample Landsat Data to match resolution of Landcover Data"
   ]
  },
  {
   "cell_type": "code",
   "execution_count": 30,
   "id": "538dd3e9",
   "metadata": {},
   "outputs": [],
   "source": [
    "def write_image(arr: np.array, save_path: os.PathLike, **raster_meta) -> None:\n",
    "    \"\"\"\n",
    "    Write a Geotiff to disk with the given raster metadata.\n",
    "    Convenience function that automatically sets permissions correctly.\n",
    "    Args:\n",
    "        arr (np.array): The data to write to disk in geotif format\n",
    "        save_path (os.PathLike): The path to write to\n",
    "    \"\"\"\n",
    "    with rasterio.open(save_path, \"w\", **raster_meta) as target:\n",
    "        target.write(arr)\n",
    "      # Allow group workspace users access\n",
    "\n",
    "\n",
    "def downsample_image(\n",
    "    image: rasterio.DatasetReader,\n",
    "    bands: List[int],\n",
    "    downsample_factor: int = 10.311,\n",
    "    resampling: Resampling = Resampling.bilinear,\n",
    ") -> Tuple[np.ndarray, Any]:\n",
    "    \"\"\"\n",
    "    Downsample the given bands of a raster image by the given downsample_fator.\n",
    "    Args:\n",
    "        image (rasterio.DatasetReader): Rasterio IO handle to the image\n",
    "        bands (List[int]): The bands to downsample\n",
    "        downsample_factor (int, optional): Factor by which the image will be\n",
    "            downsampled. Defaults to 2.\n",
    "        resampling (Resampling, optional): Resampling algorithm to use. Must be one of\n",
    "            Rasterio's built-in resampling algorithms. Defaults to Resampling.bilinear.\n",
    "    Returns:\n",
    "        Tuple[np.ndarray, Any]: Return the resampled bands of the image as a numpy\n",
    "            array together with the transform.\n",
    "    \"\"\"\n",
    "\n",
    "    downsampled_image = image.read(\n",
    "        bands,\n",
    "        out_shape=(\n",
    "            int(image.height / downsample_factor),\n",
    "            int(image.width / downsample_factor),\n",
    "        ),\n",
    "        resampling=resampling,\n",
    "    )\n",
    "\n",
    "    transform = image.transform * image.transform.scale(\n",
    "        (image.width / downsampled_image.shape[-1]),\n",
    "        (image.height / downsampled_image.shape[-2]),\n",
    "    )\n",
    "\n",
    "    return downsampled_image, transform\n",
    "\n",
    "\n",
    "def generate_downsample(\n",
    "    file_path: os.PathLike,\n",
    "    downsample_factor: int = 10.311,\n",
    "    resampling: Resampling = Resampling.bilinear,\n",
    "    overwrite: bool = False,\n",
    ") -> None:\n",
    "    \"\"\"\n",
    "    Generate downsample of the raster file at `file_path` and save it in same folder.\n",
    "    Saved file will have appendix `_downsample_{downsample_factor}x.tif`\n",
    "    Args:\n",
    "        file_path (os.PathLike): The path to the raster image todownsample\n",
    "        downsample_factor (int, optional): The downsampling factor to use.\n",
    "            Defaults to 2.\n",
    "        resampling (Resampling, optional): The resampling algorithm to use.\n",
    "            Defaults to Resampling.bilinear.\n",
    "        overwrite (bool, optional): Iff True, any existing downsampling file with the\n",
    "            same downsampling factor will be overwritten. Defaults to False.\n",
    "    \"\"\"\n",
    "\n",
    "    save_path = '/gws/nopw/j04/ai4er/users/jl2182/data/Mres_Data/Counterfactual_Test_Data/Resampled/Counterfactual_2014_Resampled.tif'\n",
    "\n",
    "    with rasterio.open(file_path) as image:\n",
    "        downsampled_image, transform = downsample_image(\n",
    "            image,\n",
    "            image.indexes,\n",
    "            downsample_factor=downsample_factor,\n",
    "            resampling=resampling,\n",
    "        )\n",
    "        nbands, height, width = downsampled_image.shape\n",
    "\n",
    "    write_image(\n",
    "        downsampled_image,\n",
    "        save_path,\n",
    "        driver=\"GTiff\",\n",
    "        height=height,\n",
    "        width=width,\n",
    "        count=nbands,\n",
    "        dtype=\"float64\",\n",
    "        crs=image.crs,\n",
    "        transform=transform,\n",
    "        nodata=image.nodata,\n",
    "    )\n"
   ]
  },
  {
   "cell_type": "code",
   "execution_count": 31,
   "id": "4cc06dc8",
   "metadata": {},
   "outputs": [],
   "source": [
    "generate_downsample(l8_reprojected)"
   ]
  },
  {
   "cell_type": "code",
   "execution_count": 32,
   "id": "9b496e32",
   "metadata": {},
   "outputs": [],
   "source": [
    "#visualising resampled landsat imagery\n",
    "l8_resampled = '/gws/nopw/j04/ai4er/users/jl2182/data/Mres_Data/Counterfactual_Test_Data/Resampled/Counterfactual_2014_Resampled.tif'\n",
    "l8_resampled = xr.open_rasterio(l8_resampled)\n",
    "#print(l8_resampled)\n"
   ]
  },
  {
   "cell_type": "code",
   "execution_count": 33,
   "id": "c9b3a7c8",
   "metadata": {},
   "outputs": [
    {
     "data": {
      "text/html": [
       "<div><svg style=\"position: absolute; width: 0; height: 0; overflow: hidden\">\n",
       "<defs>\n",
       "<symbol id=\"icon-database\" viewBox=\"0 0 32 32\">\n",
       "<path d=\"M16 0c-8.837 0-16 2.239-16 5v4c0 2.761 7.163 5 16 5s16-2.239 16-5v-4c0-2.761-7.163-5-16-5z\"></path>\n",
       "<path d=\"M16 17c-8.837 0-16-2.239-16-5v6c0 2.761 7.163 5 16 5s16-2.239 16-5v-6c0 2.761-7.163 5-16 5z\"></path>\n",
       "<path d=\"M16 26c-8.837 0-16-2.239-16-5v6c0 2.761 7.163 5 16 5s16-2.239 16-5v-6c0 2.761-7.163 5-16 5z\"></path>\n",
       "</symbol>\n",
       "<symbol id=\"icon-file-text2\" viewBox=\"0 0 32 32\">\n",
       "<path d=\"M28.681 7.159c-0.694-0.947-1.662-2.053-2.724-3.116s-2.169-2.030-3.116-2.724c-1.612-1.182-2.393-1.319-2.841-1.319h-15.5c-1.378 0-2.5 1.121-2.5 2.5v27c0 1.378 1.122 2.5 2.5 2.5h23c1.378 0 2.5-1.122 2.5-2.5v-19.5c0-0.448-0.137-1.23-1.319-2.841zM24.543 5.457c0.959 0.959 1.712 1.825 2.268 2.543h-4.811v-4.811c0.718 0.556 1.584 1.309 2.543 2.268zM28 29.5c0 0.271-0.229 0.5-0.5 0.5h-23c-0.271 0-0.5-0.229-0.5-0.5v-27c0-0.271 0.229-0.5 0.5-0.5 0 0 15.499-0 15.5 0v7c0 0.552 0.448 1 1 1h7v19.5z\"></path>\n",
       "<path d=\"M23 26h-14c-0.552 0-1-0.448-1-1s0.448-1 1-1h14c0.552 0 1 0.448 1 1s-0.448 1-1 1z\"></path>\n",
       "<path d=\"M23 22h-14c-0.552 0-1-0.448-1-1s0.448-1 1-1h14c0.552 0 1 0.448 1 1s-0.448 1-1 1z\"></path>\n",
       "<path d=\"M23 18h-14c-0.552 0-1-0.448-1-1s0.448-1 1-1h14c0.552 0 1 0.448 1 1s-0.448 1-1 1z\"></path>\n",
       "</symbol>\n",
       "</defs>\n",
       "</svg>\n",
       "<style>/* CSS stylesheet for displaying xarray objects in jupyterlab.\n",
       " *\n",
       " */\n",
       "\n",
       ":root {\n",
       "  --xr-font-color0: var(--jp-content-font-color0, rgba(0, 0, 0, 1));\n",
       "  --xr-font-color2: var(--jp-content-font-color2, rgba(0, 0, 0, 0.54));\n",
       "  --xr-font-color3: var(--jp-content-font-color3, rgba(0, 0, 0, 0.38));\n",
       "  --xr-border-color: var(--jp-border-color2, #e0e0e0);\n",
       "  --xr-disabled-color: var(--jp-layout-color3, #bdbdbd);\n",
       "  --xr-background-color: var(--jp-layout-color0, white);\n",
       "  --xr-background-color-row-even: var(--jp-layout-color1, white);\n",
       "  --xr-background-color-row-odd: var(--jp-layout-color2, #eeeeee);\n",
       "}\n",
       "\n",
       "html[theme=dark],\n",
       "body.vscode-dark {\n",
       "  --xr-font-color0: rgba(255, 255, 255, 1);\n",
       "  --xr-font-color2: rgba(255, 255, 255, 0.54);\n",
       "  --xr-font-color3: rgba(255, 255, 255, 0.38);\n",
       "  --xr-border-color: #1F1F1F;\n",
       "  --xr-disabled-color: #515151;\n",
       "  --xr-background-color: #111111;\n",
       "  --xr-background-color-row-even: #111111;\n",
       "  --xr-background-color-row-odd: #313131;\n",
       "}\n",
       "\n",
       ".xr-wrap {\n",
       "  display: block;\n",
       "  min-width: 300px;\n",
       "  max-width: 700px;\n",
       "}\n",
       "\n",
       ".xr-text-repr-fallback {\n",
       "  /* fallback to plain text repr when CSS is not injected (untrusted notebook) */\n",
       "  display: none;\n",
       "}\n",
       "\n",
       ".xr-header {\n",
       "  padding-top: 6px;\n",
       "  padding-bottom: 6px;\n",
       "  margin-bottom: 4px;\n",
       "  border-bottom: solid 1px var(--xr-border-color);\n",
       "}\n",
       "\n",
       ".xr-header > div,\n",
       ".xr-header > ul {\n",
       "  display: inline;\n",
       "  margin-top: 0;\n",
       "  margin-bottom: 0;\n",
       "}\n",
       "\n",
       ".xr-obj-type,\n",
       ".xr-array-name {\n",
       "  margin-left: 2px;\n",
       "  margin-right: 10px;\n",
       "}\n",
       "\n",
       ".xr-obj-type {\n",
       "  color: var(--xr-font-color2);\n",
       "}\n",
       "\n",
       ".xr-sections {\n",
       "  padding-left: 0 !important;\n",
       "  display: grid;\n",
       "  grid-template-columns: 150px auto auto 1fr 20px 20px;\n",
       "}\n",
       "\n",
       ".xr-section-item {\n",
       "  display: contents;\n",
       "}\n",
       "\n",
       ".xr-section-item input {\n",
       "  display: none;\n",
       "}\n",
       "\n",
       ".xr-section-item input + label {\n",
       "  color: var(--xr-disabled-color);\n",
       "}\n",
       "\n",
       ".xr-section-item input:enabled + label {\n",
       "  cursor: pointer;\n",
       "  color: var(--xr-font-color2);\n",
       "}\n",
       "\n",
       ".xr-section-item input:enabled + label:hover {\n",
       "  color: var(--xr-font-color0);\n",
       "}\n",
       "\n",
       ".xr-section-summary {\n",
       "  grid-column: 1;\n",
       "  color: var(--xr-font-color2);\n",
       "  font-weight: 500;\n",
       "}\n",
       "\n",
       ".xr-section-summary > span {\n",
       "  display: inline-block;\n",
       "  padding-left: 0.5em;\n",
       "}\n",
       "\n",
       ".xr-section-summary-in:disabled + label {\n",
       "  color: var(--xr-font-color2);\n",
       "}\n",
       "\n",
       ".xr-section-summary-in + label:before {\n",
       "  display: inline-block;\n",
       "  content: '►';\n",
       "  font-size: 11px;\n",
       "  width: 15px;\n",
       "  text-align: center;\n",
       "}\n",
       "\n",
       ".xr-section-summary-in:disabled + label:before {\n",
       "  color: var(--xr-disabled-color);\n",
       "}\n",
       "\n",
       ".xr-section-summary-in:checked + label:before {\n",
       "  content: '▼';\n",
       "}\n",
       "\n",
       ".xr-section-summary-in:checked + label > span {\n",
       "  display: none;\n",
       "}\n",
       "\n",
       ".xr-section-summary,\n",
       ".xr-section-inline-details {\n",
       "  padding-top: 4px;\n",
       "  padding-bottom: 4px;\n",
       "}\n",
       "\n",
       ".xr-section-inline-details {\n",
       "  grid-column: 2 / -1;\n",
       "}\n",
       "\n",
       ".xr-section-details {\n",
       "  display: none;\n",
       "  grid-column: 1 / -1;\n",
       "  margin-bottom: 5px;\n",
       "}\n",
       "\n",
       ".xr-section-summary-in:checked ~ .xr-section-details {\n",
       "  display: contents;\n",
       "}\n",
       "\n",
       ".xr-array-wrap {\n",
       "  grid-column: 1 / -1;\n",
       "  display: grid;\n",
       "  grid-template-columns: 20px auto;\n",
       "}\n",
       "\n",
       ".xr-array-wrap > label {\n",
       "  grid-column: 1;\n",
       "  vertical-align: top;\n",
       "}\n",
       "\n",
       ".xr-preview {\n",
       "  color: var(--xr-font-color3);\n",
       "}\n",
       "\n",
       ".xr-array-preview,\n",
       ".xr-array-data {\n",
       "  padding: 0 5px !important;\n",
       "  grid-column: 2;\n",
       "}\n",
       "\n",
       ".xr-array-data,\n",
       ".xr-array-in:checked ~ .xr-array-preview {\n",
       "  display: none;\n",
       "}\n",
       "\n",
       ".xr-array-in:checked ~ .xr-array-data,\n",
       ".xr-array-preview {\n",
       "  display: inline-block;\n",
       "}\n",
       "\n",
       ".xr-dim-list {\n",
       "  display: inline-block !important;\n",
       "  list-style: none;\n",
       "  padding: 0 !important;\n",
       "  margin: 0;\n",
       "}\n",
       "\n",
       ".xr-dim-list li {\n",
       "  display: inline-block;\n",
       "  padding: 0;\n",
       "  margin: 0;\n",
       "}\n",
       "\n",
       ".xr-dim-list:before {\n",
       "  content: '(';\n",
       "}\n",
       "\n",
       ".xr-dim-list:after {\n",
       "  content: ')';\n",
       "}\n",
       "\n",
       ".xr-dim-list li:not(:last-child):after {\n",
       "  content: ',';\n",
       "  padding-right: 5px;\n",
       "}\n",
       "\n",
       ".xr-has-index {\n",
       "  font-weight: bold;\n",
       "}\n",
       "\n",
       ".xr-var-list,\n",
       ".xr-var-item {\n",
       "  display: contents;\n",
       "}\n",
       "\n",
       ".xr-var-item > div,\n",
       ".xr-var-item label,\n",
       ".xr-var-item > .xr-var-name span {\n",
       "  background-color: var(--xr-background-color-row-even);\n",
       "  margin-bottom: 0;\n",
       "}\n",
       "\n",
       ".xr-var-item > .xr-var-name:hover span {\n",
       "  padding-right: 5px;\n",
       "}\n",
       "\n",
       ".xr-var-list > li:nth-child(odd) > div,\n",
       ".xr-var-list > li:nth-child(odd) > label,\n",
       ".xr-var-list > li:nth-child(odd) > .xr-var-name span {\n",
       "  background-color: var(--xr-background-color-row-odd);\n",
       "}\n",
       "\n",
       ".xr-var-name {\n",
       "  grid-column: 1;\n",
       "}\n",
       "\n",
       ".xr-var-dims {\n",
       "  grid-column: 2;\n",
       "}\n",
       "\n",
       ".xr-var-dtype {\n",
       "  grid-column: 3;\n",
       "  text-align: right;\n",
       "  color: var(--xr-font-color2);\n",
       "}\n",
       "\n",
       ".xr-var-preview {\n",
       "  grid-column: 4;\n",
       "}\n",
       "\n",
       ".xr-var-name,\n",
       ".xr-var-dims,\n",
       ".xr-var-dtype,\n",
       ".xr-preview,\n",
       ".xr-attrs dt {\n",
       "  white-space: nowrap;\n",
       "  overflow: hidden;\n",
       "  text-overflow: ellipsis;\n",
       "  padding-right: 10px;\n",
       "}\n",
       "\n",
       ".xr-var-name:hover,\n",
       ".xr-var-dims:hover,\n",
       ".xr-var-dtype:hover,\n",
       ".xr-attrs dt:hover {\n",
       "  overflow: visible;\n",
       "  width: auto;\n",
       "  z-index: 1;\n",
       "}\n",
       "\n",
       ".xr-var-attrs,\n",
       ".xr-var-data {\n",
       "  display: none;\n",
       "  background-color: var(--xr-background-color) !important;\n",
       "  padding-bottom: 5px !important;\n",
       "}\n",
       "\n",
       ".xr-var-attrs-in:checked ~ .xr-var-attrs,\n",
       ".xr-var-data-in:checked ~ .xr-var-data {\n",
       "  display: block;\n",
       "}\n",
       "\n",
       ".xr-var-data > table {\n",
       "  float: right;\n",
       "}\n",
       "\n",
       ".xr-var-name span,\n",
       ".xr-var-data,\n",
       ".xr-attrs {\n",
       "  padding-left: 25px !important;\n",
       "}\n",
       "\n",
       ".xr-attrs,\n",
       ".xr-var-attrs,\n",
       ".xr-var-data {\n",
       "  grid-column: 1 / -1;\n",
       "}\n",
       "\n",
       "dl.xr-attrs {\n",
       "  padding: 0;\n",
       "  margin: 0;\n",
       "  display: grid;\n",
       "  grid-template-columns: 125px auto;\n",
       "}\n",
       "\n",
       ".xr-attrs dt,\n",
       ".xr-attrs dd {\n",
       "  padding: 0;\n",
       "  margin: 0;\n",
       "  float: left;\n",
       "  padding-right: 10px;\n",
       "  width: auto;\n",
       "}\n",
       "\n",
       ".xr-attrs dt {\n",
       "  font-weight: normal;\n",
       "  grid-column: 1;\n",
       "}\n",
       "\n",
       ".xr-attrs dt:hover span {\n",
       "  display: inline-block;\n",
       "  background: var(--xr-background-color);\n",
       "  padding-right: 10px;\n",
       "}\n",
       "\n",
       ".xr-attrs dd {\n",
       "  grid-column: 2;\n",
       "  white-space: pre-wrap;\n",
       "  word-break: break-all;\n",
       "}\n",
       "\n",
       ".xr-icon-database,\n",
       ".xr-icon-file-text2 {\n",
       "  display: inline-block;\n",
       "  vertical-align: middle;\n",
       "  width: 1em;\n",
       "  height: 1.5em !important;\n",
       "  stroke-width: 0;\n",
       "  stroke: currentColor;\n",
       "  fill: currentColor;\n",
       "}\n",
       "</style><pre class='xr-text-repr-fallback'>&lt;xarray.DataArray (band: 7, y: 547, x: 1105)&gt;\n",
       "array([[[0., 0., 0., ..., 0., 0., 0.],\n",
       "        [0., 0., 0., ..., 0., 0., 0.],\n",
       "        [0., 0., 0., ..., 0., 0., 0.],\n",
       "        ...,\n",
       "        [0., 0., 0., ..., 0., 0., 0.],\n",
       "        [0., 0., 0., ..., 0., 0., 0.],\n",
       "        [0., 0., 0., ..., 0., 0., 0.]],\n",
       "\n",
       "       [[0., 0., 0., ..., 0., 0., 0.],\n",
       "        [0., 0., 0., ..., 0., 0., 0.],\n",
       "        [0., 0., 0., ..., 0., 0., 0.],\n",
       "        ...,\n",
       "        [0., 0., 0., ..., 0., 0., 0.],\n",
       "        [0., 0., 0., ..., 0., 0., 0.],\n",
       "        [0., 0., 0., ..., 0., 0., 0.]],\n",
       "\n",
       "       [[0., 0., 0., ..., 0., 0., 0.],\n",
       "        [0., 0., 0., ..., 0., 0., 0.],\n",
       "        [0., 0., 0., ..., 0., 0., 0.],\n",
       "        ...,\n",
       "...\n",
       "        ...,\n",
       "        [0., 0., 0., ..., 0., 0., 0.],\n",
       "        [0., 0., 0., ..., 0., 0., 0.],\n",
       "        [0., 0., 0., ..., 0., 0., 0.]],\n",
       "\n",
       "       [[0., 0., 0., ..., 0., 0., 0.],\n",
       "        [0., 0., 0., ..., 0., 0., 0.],\n",
       "        [0., 0., 0., ..., 0., 0., 0.],\n",
       "        ...,\n",
       "        [0., 0., 0., ..., 0., 0., 0.],\n",
       "        [0., 0., 0., ..., 0., 0., 0.],\n",
       "        [0., 0., 0., ..., 0., 0., 0.]],\n",
       "\n",
       "       [[0., 0., 0., ..., 0., 0., 0.],\n",
       "        [0., 0., 0., ..., 0., 0., 0.],\n",
       "        [0., 0., 0., ..., 0., 0., 0.],\n",
       "        ...,\n",
       "        [0., 0., 0., ..., 0., 0., 0.],\n",
       "        [0., 0., 0., ..., 0., 0., 0.],\n",
       "        [0., 0., 0., ..., 0., 0., 0.]]])\n",
       "Coordinates:\n",
       "  * band         (band) int64 1 2 3 4 5 6 7\n",
       "  * x            (x) float64 5.542e+05 5.545e+05 ... 8.946e+05 8.949e+05\n",
       "  * y            (y) float64 9.636e+06 9.636e+06 ... 9.468e+06 9.468e+06\n",
       "    spatial_ref  int64 0\n",
       "Attributes:\n",
       "    scale_factor:  1.0\n",
       "    add_offset:    0.0</pre><div class='xr-wrap' hidden><div class='xr-header'><div class='xr-obj-type'>xarray.DataArray</div><div class='xr-array-name'></div><ul class='xr-dim-list'><li><span class='xr-has-index'>band</span>: 7</li><li><span class='xr-has-index'>y</span>: 547</li><li><span class='xr-has-index'>x</span>: 1105</li></ul></div><ul class='xr-sections'><li class='xr-section-item'><div class='xr-array-wrap'><input id='section-cbe24162-8d70-4a63-bd85-467e4bfe839e' class='xr-array-in' type='checkbox' checked><label for='section-cbe24162-8d70-4a63-bd85-467e4bfe839e' title='Show/hide data repr'><svg class='icon xr-icon-database'><use xlink:href='#icon-database'></use></svg></label><div class='xr-array-preview xr-preview'><span>0.0 0.0 0.0 0.0 0.0 0.0 0.0 0.0 ... 0.0 0.0 0.0 0.0 0.0 0.0 0.0 0.0</span></div><div class='xr-array-data'><pre>array([[[0., 0., 0., ..., 0., 0., 0.],\n",
       "        [0., 0., 0., ..., 0., 0., 0.],\n",
       "        [0., 0., 0., ..., 0., 0., 0.],\n",
       "        ...,\n",
       "        [0., 0., 0., ..., 0., 0., 0.],\n",
       "        [0., 0., 0., ..., 0., 0., 0.],\n",
       "        [0., 0., 0., ..., 0., 0., 0.]],\n",
       "\n",
       "       [[0., 0., 0., ..., 0., 0., 0.],\n",
       "        [0., 0., 0., ..., 0., 0., 0.],\n",
       "        [0., 0., 0., ..., 0., 0., 0.],\n",
       "        ...,\n",
       "        [0., 0., 0., ..., 0., 0., 0.],\n",
       "        [0., 0., 0., ..., 0., 0., 0.],\n",
       "        [0., 0., 0., ..., 0., 0., 0.]],\n",
       "\n",
       "       [[0., 0., 0., ..., 0., 0., 0.],\n",
       "        [0., 0., 0., ..., 0., 0., 0.],\n",
       "        [0., 0., 0., ..., 0., 0., 0.],\n",
       "        ...,\n",
       "...\n",
       "        ...,\n",
       "        [0., 0., 0., ..., 0., 0., 0.],\n",
       "        [0., 0., 0., ..., 0., 0., 0.],\n",
       "        [0., 0., 0., ..., 0., 0., 0.]],\n",
       "\n",
       "       [[0., 0., 0., ..., 0., 0., 0.],\n",
       "        [0., 0., 0., ..., 0., 0., 0.],\n",
       "        [0., 0., 0., ..., 0., 0., 0.],\n",
       "        ...,\n",
       "        [0., 0., 0., ..., 0., 0., 0.],\n",
       "        [0., 0., 0., ..., 0., 0., 0.],\n",
       "        [0., 0., 0., ..., 0., 0., 0.]],\n",
       "\n",
       "       [[0., 0., 0., ..., 0., 0., 0.],\n",
       "        [0., 0., 0., ..., 0., 0., 0.],\n",
       "        [0., 0., 0., ..., 0., 0., 0.],\n",
       "        ...,\n",
       "        [0., 0., 0., ..., 0., 0., 0.],\n",
       "        [0., 0., 0., ..., 0., 0., 0.],\n",
       "        [0., 0., 0., ..., 0., 0., 0.]]])</pre></div></div></li><li class='xr-section-item'><input id='section-2300bb97-54a5-429e-8f10-d54dbb389516' class='xr-section-summary-in' type='checkbox'  checked><label for='section-2300bb97-54a5-429e-8f10-d54dbb389516' class='xr-section-summary' >Coordinates: <span>(4)</span></label><div class='xr-section-inline-details'></div><div class='xr-section-details'><ul class='xr-var-list'><li class='xr-var-item'><div class='xr-var-name'><span class='xr-has-index'>band</span></div><div class='xr-var-dims'>(band)</div><div class='xr-var-dtype'>int64</div><div class='xr-var-preview xr-preview'>1 2 3 4 5 6 7</div><input id='attrs-43bdfe7d-b1f0-40b4-866b-0534c7be1a72' class='xr-var-attrs-in' type='checkbox' disabled><label for='attrs-43bdfe7d-b1f0-40b4-866b-0534c7be1a72' title='Show/Hide attributes'><svg class='icon xr-icon-file-text2'><use xlink:href='#icon-file-text2'></use></svg></label><input id='data-34d9ae89-1baf-4129-a717-a153edf0599b' class='xr-var-data-in' type='checkbox'><label for='data-34d9ae89-1baf-4129-a717-a153edf0599b' title='Show/Hide data repr'><svg class='icon xr-icon-database'><use xlink:href='#icon-database'></use></svg></label><div class='xr-var-attrs'><dl class='xr-attrs'></dl></div><div class='xr-var-data'><pre>array([1, 2, 3, 4, 5, 6, 7])</pre></div></li><li class='xr-var-item'><div class='xr-var-name'><span class='xr-has-index'>x</span></div><div class='xr-var-dims'>(x)</div><div class='xr-var-dtype'>float64</div><div class='xr-var-preview xr-preview'>5.542e+05 5.545e+05 ... 8.949e+05</div><input id='attrs-fd1ce5a5-5b79-496e-a0bd-1d83a18c8213' class='xr-var-attrs-in' type='checkbox' disabled><label for='attrs-fd1ce5a5-5b79-496e-a0bd-1d83a18c8213' title='Show/Hide attributes'><svg class='icon xr-icon-file-text2'><use xlink:href='#icon-file-text2'></use></svg></label><input id='data-e262c68e-51d7-4761-88c5-81c15cb93234' class='xr-var-data-in' type='checkbox'><label for='data-e262c68e-51d7-4761-88c5-81c15cb93234' title='Show/Hide data repr'><svg class='icon xr-icon-database'><use xlink:href='#icon-database'></use></svg></label><div class='xr-var-attrs'><dl class='xr-attrs'></dl></div><div class='xr-var-data'><pre>array([554228.391829, 554536.98242 , 554845.57301 , ..., 894295.22284 ,\n",
       "       894603.813431, 894912.404022])</pre></div></li><li class='xr-var-item'><div class='xr-var-name'><span class='xr-has-index'>y</span></div><div class='xr-var-dims'>(y)</div><div class='xr-var-dtype'>float64</div><div class='xr-var-preview xr-preview'>9.636e+06 9.636e+06 ... 9.468e+06</div><input id='attrs-7d05b68a-aae4-48d8-9788-80a2194f75c6' class='xr-var-attrs-in' type='checkbox' disabled><label for='attrs-7d05b68a-aae4-48d8-9788-80a2194f75c6' title='Show/Hide attributes'><svg class='icon xr-icon-file-text2'><use xlink:href='#icon-file-text2'></use></svg></label><input id='data-313cdfb9-bf9b-42e2-8ea8-2387ebacde2f' class='xr-var-data-in' type='checkbox'><label for='data-313cdfb9-bf9b-42e2-8ea8-2387ebacde2f' title='Show/Hide data repr'><svg class='icon xr-icon-database'><use xlink:href='#icon-database'></use></svg></label><div class='xr-var-attrs'><dl class='xr-attrs'></dl></div><div class='xr-var-data'><pre>array([9636483.945368, 9636174.959471, 9635865.973573, ..., 9468395.617185,\n",
       "       9468086.631287, 9467777.64539 ])</pre></div></li><li class='xr-var-item'><div class='xr-var-name'><span>spatial_ref</span></div><div class='xr-var-dims'>()</div><div class='xr-var-dtype'>int64</div><div class='xr-var-preview xr-preview'>0</div><input id='attrs-d810a92a-4f14-4358-8502-1238a04a8347' class='xr-var-attrs-in' type='checkbox' ><label for='attrs-d810a92a-4f14-4358-8502-1238a04a8347' title='Show/Hide attributes'><svg class='icon xr-icon-file-text2'><use xlink:href='#icon-file-text2'></use></svg></label><input id='data-82aa5e45-75a8-44f7-a976-58de8b33206b' class='xr-var-data-in' type='checkbox'><label for='data-82aa5e45-75a8-44f7-a976-58de8b33206b' title='Show/Hide data repr'><svg class='icon xr-icon-database'><use xlink:href='#icon-database'></use></svg></label><div class='xr-var-attrs'><dl class='xr-attrs'><dt><span>crs_wkt :</span></dt><dd>PROJCS[&quot;IGCB 1955 / Congo TM zone 16&quot;,GEOGCS[&quot;IGCB 1955&quot;,DATUM[&quot;Institut_Geographique_du_Congo_Belge_1955&quot;,SPHEROID[&quot;Clarke 1880 (RGS)&quot;,6378249.145,293.465,AUTHORITY[&quot;EPSG&quot;,&quot;7012&quot;]],TOWGS84[-79.9,-158,-168.9,0,0,0,0],AUTHORITY[&quot;EPSG&quot;,&quot;6701&quot;]],PRIMEM[&quot;Greenwich&quot;,0,AUTHORITY[&quot;EPSG&quot;,&quot;8901&quot;]],UNIT[&quot;degree&quot;,0.0174532925199433,AUTHORITY[&quot;EPSG&quot;,&quot;9122&quot;]],AUTHORITY[&quot;EPSG&quot;,&quot;4701&quot;]],PROJECTION[&quot;Transverse_Mercator&quot;],PARAMETER[&quot;latitude_of_origin&quot;,0],PARAMETER[&quot;central_meridian&quot;,16],PARAMETER[&quot;scale_factor&quot;,0.9999],PARAMETER[&quot;false_easting&quot;,500000],PARAMETER[&quot;false_northing&quot;,10000000],UNIT[&quot;metre&quot;,1,AUTHORITY[&quot;EPSG&quot;,&quot;9001&quot;]],AXIS[&quot;Easting&quot;,EAST],AXIS[&quot;Northing&quot;,NORTH],AUTHORITY[&quot;EPSG&quot;,&quot;3341&quot;]]</dd><dt><span>semi_major_axis :</span></dt><dd>6378249.145</dd><dt><span>semi_minor_axis :</span></dt><dd>6356514.8695497755</dd><dt><span>inverse_flattening :</span></dt><dd>293.465</dd><dt><span>reference_ellipsoid_name :</span></dt><dd>Clarke 1880 (RGS)</dd><dt><span>longitude_of_prime_meridian :</span></dt><dd>0.0</dd><dt><span>prime_meridian_name :</span></dt><dd>Greenwich</dd><dt><span>geographic_crs_name :</span></dt><dd>IGCB 1955</dd><dt><span>horizontal_datum_name :</span></dt><dd>Institut Geographique du Congo Belge 1955</dd><dt><span>projected_crs_name :</span></dt><dd>IGCB 1955 / Congo TM zone 16</dd><dt><span>grid_mapping_name :</span></dt><dd>transverse_mercator</dd><dt><span>latitude_of_projection_origin :</span></dt><dd>0.0</dd><dt><span>longitude_of_central_meridian :</span></dt><dd>16.0</dd><dt><span>false_easting :</span></dt><dd>500000.0</dd><dt><span>false_northing :</span></dt><dd>10000000.0</dd><dt><span>scale_factor_at_central_meridian :</span></dt><dd>0.9999</dd><dt><span>towgs84 :</span></dt><dd>[-79.9, -158.0, -168.9, 0.0, 0.0, 0.0, 0.0]</dd><dt><span>spatial_ref :</span></dt><dd>PROJCS[&quot;IGCB 1955 / Congo TM zone 16&quot;,GEOGCS[&quot;IGCB 1955&quot;,DATUM[&quot;Institut_Geographique_du_Congo_Belge_1955&quot;,SPHEROID[&quot;Clarke 1880 (RGS)&quot;,6378249.145,293.465,AUTHORITY[&quot;EPSG&quot;,&quot;7012&quot;]],TOWGS84[-79.9,-158,-168.9,0,0,0,0],AUTHORITY[&quot;EPSG&quot;,&quot;6701&quot;]],PRIMEM[&quot;Greenwich&quot;,0,AUTHORITY[&quot;EPSG&quot;,&quot;8901&quot;]],UNIT[&quot;degree&quot;,0.0174532925199433,AUTHORITY[&quot;EPSG&quot;,&quot;9122&quot;]],AUTHORITY[&quot;EPSG&quot;,&quot;4701&quot;]],PROJECTION[&quot;Transverse_Mercator&quot;],PARAMETER[&quot;latitude_of_origin&quot;,0],PARAMETER[&quot;central_meridian&quot;,16],PARAMETER[&quot;scale_factor&quot;,0.9999],PARAMETER[&quot;false_easting&quot;,500000],PARAMETER[&quot;false_northing&quot;,10000000],UNIT[&quot;metre&quot;,1,AUTHORITY[&quot;EPSG&quot;,&quot;9001&quot;]],AXIS[&quot;Easting&quot;,EAST],AXIS[&quot;Northing&quot;,NORTH],AUTHORITY[&quot;EPSG&quot;,&quot;3341&quot;]]</dd><dt><span>GeoTransform :</span></dt><dd>554074.0965335094 308.5905907544719 0.0 9636638.438316729 0.0 -308.98589739611594</dd></dl></div><div class='xr-var-data'><pre>array(0)</pre></div></li></ul></div></li><li class='xr-section-item'><input id='section-a3bc040a-d68a-45e9-8d0c-a489bf00f0e7' class='xr-section-summary-in' type='checkbox'  checked><label for='section-a3bc040a-d68a-45e9-8d0c-a489bf00f0e7' class='xr-section-summary' >Attributes: <span>(2)</span></label><div class='xr-section-inline-details'></div><div class='xr-section-details'><dl class='xr-attrs'><dt><span>scale_factor :</span></dt><dd>1.0</dd><dt><span>add_offset :</span></dt><dd>0.0</dd></dl></div></li></ul></div></div>"
      ],
      "text/plain": [
       "<xarray.DataArray (band: 7, y: 547, x: 1105)>\n",
       "array([[[0., 0., 0., ..., 0., 0., 0.],\n",
       "        [0., 0., 0., ..., 0., 0., 0.],\n",
       "        [0., 0., 0., ..., 0., 0., 0.],\n",
       "        ...,\n",
       "        [0., 0., 0., ..., 0., 0., 0.],\n",
       "        [0., 0., 0., ..., 0., 0., 0.],\n",
       "        [0., 0., 0., ..., 0., 0., 0.]],\n",
       "\n",
       "       [[0., 0., 0., ..., 0., 0., 0.],\n",
       "        [0., 0., 0., ..., 0., 0., 0.],\n",
       "        [0., 0., 0., ..., 0., 0., 0.],\n",
       "        ...,\n",
       "        [0., 0., 0., ..., 0., 0., 0.],\n",
       "        [0., 0., 0., ..., 0., 0., 0.],\n",
       "        [0., 0., 0., ..., 0., 0., 0.]],\n",
       "\n",
       "       [[0., 0., 0., ..., 0., 0., 0.],\n",
       "        [0., 0., 0., ..., 0., 0., 0.],\n",
       "        [0., 0., 0., ..., 0., 0., 0.],\n",
       "        ...,\n",
       "...\n",
       "        ...,\n",
       "        [0., 0., 0., ..., 0., 0., 0.],\n",
       "        [0., 0., 0., ..., 0., 0., 0.],\n",
       "        [0., 0., 0., ..., 0., 0., 0.]],\n",
       "\n",
       "       [[0., 0., 0., ..., 0., 0., 0.],\n",
       "        [0., 0., 0., ..., 0., 0., 0.],\n",
       "        [0., 0., 0., ..., 0., 0., 0.],\n",
       "        ...,\n",
       "        [0., 0., 0., ..., 0., 0., 0.],\n",
       "        [0., 0., 0., ..., 0., 0., 0.],\n",
       "        [0., 0., 0., ..., 0., 0., 0.]],\n",
       "\n",
       "       [[0., 0., 0., ..., 0., 0., 0.],\n",
       "        [0., 0., 0., ..., 0., 0., 0.],\n",
       "        [0., 0., 0., ..., 0., 0., 0.],\n",
       "        ...,\n",
       "        [0., 0., 0., ..., 0., 0., 0.],\n",
       "        [0., 0., 0., ..., 0., 0., 0.],\n",
       "        [0., 0., 0., ..., 0., 0., 0.]]])\n",
       "Coordinates:\n",
       "  * band         (band) int64 1 2 3 4 5 6 7\n",
       "  * x            (x) float64 5.542e+05 5.545e+05 ... 8.946e+05 8.949e+05\n",
       "  * y            (y) float64 9.636e+06 9.636e+06 ... 9.468e+06 9.468e+06\n",
       "    spatial_ref  int64 0\n",
       "Attributes:\n",
       "    scale_factor:  1.0\n",
       "    add_offset:    0.0"
      ]
     },
     "execution_count": 33,
     "metadata": {},
     "output_type": "execute_result"
    }
   ],
   "source": [
    "### turning all 0 non data vlaues into nans\n",
    "#l8_final = l8_resampled.where(l8_resampled !=0)\n",
    "l8_filled = l8_resampled.fillna(0)\n",
    "l8_filled.fillna(0)"
   ]
  },
  {
   "cell_type": "code",
   "execution_count": 34,
   "id": "81309a3f",
   "metadata": {},
   "outputs": [],
   "source": [
    "#converting to raster for use in classification\n",
    "l8_filled.rio.to_raster('/gws/nopw/j04/ai4er/users/jl2182/data/Mres_Data/Counterfactual_Test_Data/Filled/Counterfactual_2014_Filled.tif')"
   ]
  },
  {
   "cell_type": "code",
   "execution_count": 15,
   "id": "6d476a41",
   "metadata": {},
   "outputs": [
    {
     "data": {
      "text/plain": [
       "<matplotlib.collections.QuadMesh at 0x7fefe2c76160>"
      ]
     },
     "execution_count": 15,
     "metadata": {},
     "output_type": "execute_result"
    },
    {
     "data": {
      "image/png": "[encoded data removed]",
      "text/plain": [
       "<Figure size 432x288 with 2 Axes>"
      ]
     },
     "metadata": {
      "needs_background": "light"
     },
     "output_type": "display_data"
    }
   ],
   "source": [
    "l8_resampled[5].plot()"
   ]
  },
  {
   "cell_type": "code",
   "execution_count": null,
   "id": "da5243f8",
   "metadata": {},
   "outputs": [],
   "source": [
    "l8_resampled.values"
   ]
  },
  {
   "cell_type": "code",
   "execution_count": null,
   "id": "3f5a827d",
   "metadata": {},
   "outputs": [],
   "source": [
    "#explore statistics\n",
    "print(l8_resampled.rio.crs)\n",
    "print(l8_resampled.rio.nodata)\n",
    "print(l8_resampled.rio.bounds())\n",
    "print(l8_resampled.rio.width)\n",
    "print(l8_resampled.rio.height)\n",
    "print(l8_resampled.rio.crs.wkt)"
   ]
  },
  {
   "cell_type": "code",
   "execution_count": null,
   "id": "227ab1b9",
   "metadata": {},
   "outputs": [],
   "source": [
    "### Merge satellite data tiles\n",
    "\n",
    "\"\"\"\n",
    "import rasterio\n",
    "import numpy as np\n",
    "from rasterio.merge import merge\n",
    "from rasterio.plot import show\n",
    "\n",
    "dirpath = '/gws/nopw/j04/ai4er/users/jl2182/data/Mres_Data/training_tiles'\n",
    "search_criteria = 'D*.tif'\n",
    "q = os.path.join(dirpath, search_criteria)\n",
    "dem_fps = glob.glob(q)\n",
    "src_files_to_mosaic = []\n",
    "\n",
    "for fp in dem_fps:\n",
    "    src = rasterio.open(fp)\n",
    "    src_files_to_mosaic.append(src)\n",
    "    \n",
    "mosaic, out_trans = merge(src_files_to_mosaic)\n",
    "\n",
    "\n",
    "\n",
    "\n",
    "src1 = rasterio.open('/gws/nopw/j04/ai4er/users/jl2182/data/Mres_Data/training_tiles/DRC_L8_2013_Training_Image_New-0000000000-0000000000.tif')\n",
    "src2 = rasterio.open('/gws/nopw/j04/ai4er/users/jl2182/data/Mres_Data/training_tiles/DRC_L8_2013_Training_Image_New-0000000000-0000008960.tif')\n",
    "src3 = rasterio.open('/gws/nopw/j04/ai4er/users/jl2182/data/Mres_Data/training_tiles/DRC_L8_2013_Training_Image_New-0000000000-0000017920.tif')\n",
    "src4 = rasterio.open('/gws/nopw/j04/ai4er/users/jl2182/data/Mres_Data/training_tiles/DRC_L8_2013_Training_Image_New-0000008960-0000000000.tif')\n",
    "src5 = rasterio.open('/gws/nopw/j04/ai4er/users/jl2182/data/Mres_Data/training_tiles/DRC_L8_2013_Training_Image_New-0000008960-0000008960.tif')\n",
    "src6 = rasterio.open('/gws/nopw/j04/ai4er/users/jl2182/data/Mres_Data/training_tiles/DRC_L8_2013_Training_Image_New-0000008960-0000017920.tif')\n",
    "\n",
    "srcs_to_mosaic = [src1, src2, src3, src4, src5, src6]\n",
    "\n",
    "# The merge function returns a single array and the affine transform info\n",
    "arr, out_trans = merge(srcs_to_mosaic)\n",
    "\"\"\""
   ]
  },
  {
   "cell_type": "code",
   "execution_count": null,
   "id": "4b48dad8",
   "metadata": {},
   "outputs": [],
   "source": [
    "#filled_l8_path = '/gws/nopw/j04/ai4er/users/jl2182/data/Mres_Data/filled_l8_data.tif'\n",
    "#filled_l8 = xr.open_rasterio(l8)\n",
    "#l8_data_drc_crs = l8_filled.rio.reproject(crs_drc)\n",
    "#warp = gdal.Warp('/gws/nopw/j04/ai4er/users/jl2182/data/Mres_Data/reprojected_l8.tif','/gws/nopw/j04/ai4er/users/jl2182/data/Mres_Data/filled_l8_data.tif',dstSRS='EPSG:3341')\n"
   ]
  },
  {
   "cell_type": "code",
   "execution_count": null,
   "id": "49b18657",
   "metadata": {},
   "outputs": [],
   "source": [
    "#l8_filled.rio.to_raster('/gws/nopw/j04/ai4er/users/jl2182/data/Mres_Data/filled_l8_data.tif')"
   ]
  },
  {
   "cell_type": "code",
   "execution_count": null,
   "id": "b8869c5a",
   "metadata": {},
   "outputs": [],
   "source": [
    "#l8_filled = l8_data.fillna(0)\n",
    "#l8_filled.fillna(0)"
   ]
  },
  {
   "cell_type": "code",
   "execution_count": null,
   "id": "0b532000",
   "metadata": {},
   "outputs": [],
   "source": [
    "#l8_filled.rio.to_raster('/gws/nopw/j04/ai4er/users/jl2182/data/Mres_Data/classification_training_data/filled_l8_training_data.tif')"
   ]
  }
 ],
 "metadata": {
  "kernelspec": {
   "display_name": "Python 3",
   "language": "python",
   "name": "python3"
  },
  "language_info": {
   "codemirror_mode": {
    "name": "ipython",
    "version": 3
   },
   "file_extension": ".py",
   "mimetype": "text/x-python",
   "name": "python",
   "nbconvert_exporter": "python",
   "pygments_lexer": "ipython3",
   "version": "3.7.0"
  }
 },
 "nbformat": 4,
 "nbformat_minor": 5
}
