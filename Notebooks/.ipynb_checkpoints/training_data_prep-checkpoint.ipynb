{
 "cells": [
  {
   "cell_type": "code",
   "execution_count": 1,
   "id": "e27e459c",
   "metadata": {},
   "outputs": [],
   "source": [
    "import rasterio\n",
    "from rasterio.plot import show\n",
    "from rasterio.merge import merge\n",
    "from rasterio.plot import show\n",
    "import rasterio.features\n",
    "import rasterio.warp\n",
    "import glob\n",
    "import os\n",
    "import rioxarray as xr\n",
    "import pandas as pd\n",
    "import geopandas as gpd\n",
    "import numpy as np\n",
    "from rasterio.enums import Resampling\n",
    "from rasterio.crs import CRS\n",
    "import matplotlib.pyplot as plt\n",
    "import earthpy as et\n",
    "import earthpy.plot as ep\n",
    "from shapely.geometry import mapping\n",
    "import subprocess\n",
    "from osgeo import gdal\n",
    "import multiprocessing as mp\n",
    "from typing import List, Any, Sequence, Tuple\n",
    "\n",
    "\n",
    "\n",
    "\n",
    "%matplotlib inline\n"
   ]
  },
  {
   "cell_type": "markdown",
   "id": "ede2afef",
   "metadata": {},
   "source": [
    "# Landcover Data"
   ]
  },
  {
   "cell_type": "markdown",
   "id": "8176c88d",
   "metadata": {},
   "source": [
    "### Importing the Training Region Polygon"
   ]
  },
  {
   "cell_type": "code",
   "execution_count": 3,
   "id": "205fb2e6",
   "metadata": {},
   "outputs": [
    {
     "name": "stdout",
     "output_type": "stream",
     "text": [
      "                                            geometry\n",
      "0  POLYGON ((15.24902 -4.32450, 15.18311 -4.36832...\n",
      "epsg:4326\n"
     ]
    }
   ],
   "source": [
    "#region of interest\n",
    "studyRegion = '/gws/nopw/j04/ai4er/users/jl2182/data/Mres_Data/GeoJSONS/drc_training_new.geojson'\n",
    "studyRegion = gpd.read_file(studyRegion)\n",
    "print(studyRegion.head())\n",
    "print(studyRegion.crs)\n"
   ]
  },
  {
   "cell_type": "code",
   "execution_count": 4,
   "id": "da67238f",
   "metadata": {},
   "outputs": [
    {
     "data": {
      "image/png": "[encoded data removed]",
      "text/plain": [
       "<Figure size 432x432 with 1 Axes>"
      ]
     },
     "metadata": {
      "needs_background": "light"
     },
     "output_type": "display_data"
    }
   ],
   "source": [
    "fig, ax = plt.subplots(figsize=(6, 6))\n",
    "\n",
    "studyRegion.plot(ax=ax)\n",
    "\n",
    "ax.set_title(\"studyRegion\",\n",
    "             fontsize=16)\n",
    "plt.show()"
   ]
  },
  {
   "cell_type": "markdown",
   "id": "8539d603",
   "metadata": {},
   "source": [
    "### Importing and Exploring the Landcover Data"
   ]
  },
  {
   "cell_type": "code",
   "execution_count": 5,
   "id": "108b541e",
   "metadata": {},
   "outputs": [
    {
     "name": "stdout",
     "output_type": "stream",
     "text": [
      "<xarray.DataArray 'lccs_class' (time: 1, y: 64800, x: 129600)>\n",
      "[8398080000 values with dtype=uint8]\n",
      "Coordinates:\n",
      "  * time         (time) object 2013-01-01 00:00:00\n",
      "  * x            (x) float64 -180.0 -180.0 -180.0 -180.0 ... 180.0 180.0 180.0\n",
      "  * y            (y) float64 90.0 90.0 89.99 89.99 ... -89.99 -89.99 -90.0 -90.0\n",
      "    spatial_ref  int64 0\n",
      "Attributes:\n",
      "    ancillary_variables:  processed_flag current_pixel_state observation_coun...\n",
      "    flag_colors:          #ffff64 #ffff64 #ffff00 #aaf0f0 #dcf064 #c8c864 #00...\n",
      "    flag_meanings:        no_data cropland_rainfed cropland_rainfed_herbaceou...\n",
      "    flag_values:          [  0.  10.  11.  12.  20.  30.  40.  50.  60.  61. ...\n",
      "    long_name:            Land cover class defined in LCCS\n",
      "    standard_name:        land_cover_lccs\n",
      "    valid_max:            220\n",
      "    valid_min:            1\n",
      "    _FillValue:           0.0\n",
      "    scale_factor:         1.0\n",
      "    add_offset:           0.0\n"
     ]
    }
   ],
   "source": [
    "#landcover data\n",
    "ESA_CCI = '/gws/nopw/j04/ai4er/users/jl2182/data/Mres_Data/ESA_CCI/TIF/ESA_CCI_LC_Map_2013.tif'\n",
    "landcover = xr.open_rasterio(ESA_CCI)\n",
    "print(landcover)\n"
   ]
  },
  {
   "cell_type": "code",
   "execution_count": 6,
   "id": "eb48cc57",
   "metadata": {},
   "outputs": [
    {
     "name": "stdout",
     "output_type": "stream",
     "text": [
      "There are 38 classes.\n",
      "                                 LCCOwnLabel    R    G    B\n",
      "NB_LAB                                                     \n",
      "0                                    No data    0    0    0\n",
      "10                         Cropland, rainfed  255  255  100\n",
      "11                          Herbaceous cover  255  255  100\n",
      "12                       Tree or shrub cover  255  255    0\n",
      "20      Cropland, irrigated or post-flooding  170  240  240\n"
     ]
    }
   ],
   "source": [
    "#landcover classes\n",
    "landcover_classes = '/gws/nopw/j04/ai4er/users/jl2182/data/Mres_Data/ESA_CCI/TIF/ESACCI-LC-Legend.csv'\n",
    "classes = pd.read_csv(landcover_classes, delimiter=\";\", index_col=0)\n",
    "\n",
    "print(f\"There are {len(classes)} classes.\")\n",
    "print(classes.head())"
   ]
  },
  {
   "cell_type": "code",
   "execution_count": 7,
   "id": "cb9d3a71",
   "metadata": {},
   "outputs": [
    {
     "name": "stdout",
     "output_type": "stream",
     "text": [
      "EPSG:4326\n",
      "0\n",
      "(-180.0, -90.0000000000144, 180.0000000000288, 90.0)\n",
      "129600\n",
      "64800\n",
      "GEOGCS[\"WGS 84\",DATUM[\"WGS_1984\",SPHEROID[\"WGS 84\",6378137,298.257223563,AUTHORITY[\"EPSG\",\"7030\"]],AUTHORITY[\"EPSG\",\"6326\"]],PRIMEM[\"Greenwich\",0],UNIT[\"degree\",0.0174532925199433],AUTHORITY[\"EPSG\",\"4326\"]]\n"
     ]
    }
   ],
   "source": [
    "#explore statistics\n",
    "print(landcover.rio.crs)\n",
    "print(landcover.rio.nodata)\n",
    "print(landcover.rio.bounds())\n",
    "print(landcover.rio.width)\n",
    "print(landcover.rio.height)\n",
    "print(landcover.rio.crs.wkt)"
   ]
  },
  {
   "cell_type": "code",
   "execution_count": 8,
   "id": "734974e6",
   "metadata": {},
   "outputs": [],
   "source": [
    "#landcover.values"
   ]
  },
  {
   "cell_type": "markdown",
   "id": "949961ad",
   "metadata": {},
   "source": [
    "### Reproject and Clip the Landcover Data to DRC Cooridnate Projection and Study Region"
   ]
  },
  {
   "cell_type": "code",
   "execution_count": 9,
   "id": "ef40682c",
   "metadata": {},
   "outputs": [],
   "source": [
    "drc_landcover = landcover.rio.clip(studyRegion.geometry.apply(mapping))"
   ]
  },
  {
   "cell_type": "code",
   "execution_count": 10,
   "id": "97d312ff",
   "metadata": {},
   "outputs": [
    {
     "data": {
      "text/plain": [
       "(1, 1478, 2345)"
      ]
     },
     "execution_count": 10,
     "metadata": {},
     "output_type": "execute_result"
    }
   ],
   "source": [
    "drc_landcover.shape"
   ]
  },
  {
   "cell_type": "code",
   "execution_count": 8,
   "id": "b18de6c8",
   "metadata": {},
   "outputs": [],
   "source": [
    "#define projection for DRC\n",
    "crs_drc = CRS.from_string('EPSG:3341')"
   ]
  },
  {
   "cell_type": "code",
   "execution_count": null,
   "id": "cf0b4a79",
   "metadata": {},
   "outputs": [],
   "source": [
    "landcover_drc_crs = drc_landcover.rio.reproject(crs_drc)"
   ]
  },
  {
   "cell_type": "code",
   "execution_count": null,
   "id": "86b17057",
   "metadata": {},
   "outputs": [],
   "source": [
    "landcover_drc_crs.rio.crs"
   ]
  },
  {
   "cell_type": "code",
   "execution_count": null,
   "id": "de82df81",
   "metadata": {},
   "outputs": [],
   "source": [
    "landcover_drc_crs.shape"
   ]
  },
  {
   "cell_type": "code",
   "execution_count": null,
   "id": "ed9adff4",
   "metadata": {},
   "outputs": [],
   "source": [
    "#from 3D ----> 2D\n",
    "ESA_Landcover_Data = landcover_drc_crs[0, :, :]\n",
    "print(ESA_Landcover_Data.shape)"
   ]
  },
  {
   "cell_type": "code",
   "execution_count": null,
   "id": "6eb5c4cb",
   "metadata": {},
   "outputs": [],
   "source": [
    "from numpy import savetxt\n",
    "\n",
    "# save to csv file\n",
    "savetxt('/gws/nopw/j04/ai4er/users/jl2182/data/Mres_Data/ESA_Landcover_Data.csv', ESA_Landcover_Data, delimiter=',')"
   ]
  },
  {
   "cell_type": "code",
   "execution_count": null,
   "id": "789ca553",
   "metadata": {},
   "outputs": [],
   "source": [
    "landcover_drc_crs.values"
   ]
  },
  {
   "cell_type": "code",
   "execution_count": null,
   "id": "84a77b76",
   "metadata": {},
   "outputs": [],
   "source": [
    "# ESA_Landcover_Data.values\n",
    "ESA_Landcover_Data"
   ]
  },
  {
   "cell_type": "code",
   "execution_count": null,
   "id": "ebfdc79c",
   "metadata": {},
   "outputs": [],
   "source": [
    "#print(landcover_drc_crs)"
   ]
  },
  {
   "cell_type": "code",
   "execution_count": null,
   "id": "4c6591c6",
   "metadata": {},
   "outputs": [],
   "source": [
    "f, ax = plt.subplots(figsize=(20, 10))\n",
    "landcover_drc_crs.plot(ax=ax)\n",
    "ax.set(title=\"Landcover Map of Training Region\")\n",
    "ax.set_axis_off()\n",
    "plt.savefig('/gws/nopw/j04/ai4er/users/jl2182/data/Mres_Data/landcover_map_of_training_region.png')\n",
    "plt.show()"
   ]
  },
  {
   "cell_type": "markdown",
   "id": "d8f994bc",
   "metadata": {},
   "source": [
    "# Satellite Data"
   ]
  },
  {
   "cell_type": "markdown",
   "id": "95e511e5",
   "metadata": {},
   "source": [
    "### Importing and Exploring the Satellite Data\n"
   ]
  },
  {
   "cell_type": "code",
   "execution_count": 11,
   "id": "42bb19a7",
   "metadata": {},
   "outputs": [
    {
     "name": "stdout",
     "output_type": "stream",
     "text": [
      "<xarray.DataArray (band: 7, y: 15295, x: 24263)>\n",
      "[2597718095 values with dtype=float64]\n",
      "Coordinates:\n",
      "  * band         (band) int64 1 2 3 4 5 6 7\n",
      "  * x            (x) float64 2.19e+05 2.19e+05 2.191e+05 ... 9.429e+05 9.429e+05\n",
      "  * y            (y) float64 9.558e+06 9.558e+06 ... 9.102e+06 9.102e+06\n",
      "    spatial_ref  int64 0\n",
      "Attributes:\n",
      "    scale_factor:  1.0\n",
      "    add_offset:    0.0\n"
     ]
    }
   ],
   "source": [
    "#l8 = '/gws/nopw/j04/ai4er/users/jl2182/data/Mres_Data/training_tiles/merged_l8_train_data.tif'\n",
    "l8_reprojected = '/gws/nopw/j04/ai4er/users/jl2182/data/Mres_Data/training_tiles/reprojected_l8_train.tif' #the imagery was reprojected in \n",
    "#the command line using gdal as rioxarray was re-filloing the array with unwanted values\n",
    "l8_data = xr.open_rasterio(l8_reprojected)\n",
    "print(l8_data)"
   ]
  },
  {
   "cell_type": "code",
   "execution_count": 4,
   "id": "5bd5a65a",
   "metadata": {},
   "outputs": [
    {
     "name": "stdout",
     "output_type": "stream",
     "text": [
      "EPSG:3341\n",
      "None\n",
      "(219005.03970397508, 9102067.881812781, 942906.5354010442, 9558403.59366567)\n",
      "24263\n",
      "15295\n",
      "PROJCS[\"IGCB 1955 / Congo TM zone 16\",GEOGCS[\"IGCB 1955\",DATUM[\"Institut_Geographique_du_Congo_Belge_1955\",SPHEROID[\"Clarke 1880 (RGS)\",6378249.145,293.465,AUTHORITY[\"EPSG\",\"7012\"]],TOWGS84[-79.9,-158,-168.9,0,0,0,0],AUTHORITY[\"EPSG\",\"6701\"]],PRIMEM[\"Greenwich\",0,AUTHORITY[\"EPSG\",\"8901\"]],UNIT[\"degree\",0.0174532925199433,AUTHORITY[\"EPSG\",\"9122\"]],AUTHORITY[\"EPSG\",\"4701\"]],PROJECTION[\"Transverse_Mercator\"],PARAMETER[\"latitude_of_origin\",0],PARAMETER[\"central_meridian\",16],PARAMETER[\"scale_factor\",0.9999],PARAMETER[\"false_easting\",500000],PARAMETER[\"false_northing\",10000000],UNIT[\"metre\",1,AUTHORITY[\"EPSG\",\"9001\"]],AXIS[\"Easting\",EAST],AXIS[\"Northing\",NORTH],AUTHORITY[\"EPSG\",\"3341\"]]\n"
     ]
    }
   ],
   "source": [
    "#explore statistics\n",
    "print(l8_data.rio.crs)\n",
    "print(l8_data.rio.nodata)\n",
    "print(l8_data.rio.bounds())\n",
    "print(l8_data.rio.width)\n",
    "print(l8_data.rio.height)\n",
    "print(l8_data.rio.crs.wkt)"
   ]
  },
  {
   "cell_type": "code",
   "execution_count": 6,
   "id": "1b8687ea",
   "metadata": {},
   "outputs": [
    {
     "data": {
      "text/plain": [
       "array([[[0., 0., 0., ..., 0., 0., 0.],\n",
       "        [0., 0., 0., ..., 0., 0., 0.],\n",
       "        [0., 0., 0., ..., 0., 0., 0.],\n",
       "        ...,\n",
       "        [0., 0., 0., ..., 0., 0., 0.],\n",
       "        [0., 0., 0., ..., 0., 0., 0.],\n",
       "        [0., 0., 0., ..., 0., 0., 0.]],\n",
       "\n",
       "       [[0., 0., 0., ..., 0., 0., 0.],\n",
       "        [0., 0., 0., ..., 0., 0., 0.],\n",
       "        [0., 0., 0., ..., 0., 0., 0.],\n",
       "        ...,\n",
       "        [0., 0., 0., ..., 0., 0., 0.],\n",
       "        [0., 0., 0., ..., 0., 0., 0.],\n",
       "        [0., 0., 0., ..., 0., 0., 0.]],\n",
       "\n",
       "       [[0., 0., 0., ..., 0., 0., 0.],\n",
       "        [0., 0., 0., ..., 0., 0., 0.],\n",
       "        [0., 0., 0., ..., 0., 0., 0.],\n",
       "        ...,\n",
       "        [0., 0., 0., ..., 0., 0., 0.],\n",
       "        [0., 0., 0., ..., 0., 0., 0.],\n",
       "        [0., 0., 0., ..., 0., 0., 0.]],\n",
       "\n",
       "       ...,\n",
       "\n",
       "       [[0., 0., 0., ..., 0., 0., 0.],\n",
       "        [0., 0., 0., ..., 0., 0., 0.],\n",
       "        [0., 0., 0., ..., 0., 0., 0.],\n",
       "        ...,\n",
       "        [0., 0., 0., ..., 0., 0., 0.],\n",
       "        [0., 0., 0., ..., 0., 0., 0.],\n",
       "        [0., 0., 0., ..., 0., 0., 0.]],\n",
       "\n",
       "       [[0., 0., 0., ..., 0., 0., 0.],\n",
       "        [0., 0., 0., ..., 0., 0., 0.],\n",
       "        [0., 0., 0., ..., 0., 0., 0.],\n",
       "        ...,\n",
       "        [0., 0., 0., ..., 0., 0., 0.],\n",
       "        [0., 0., 0., ..., 0., 0., 0.],\n",
       "        [0., 0., 0., ..., 0., 0., 0.]],\n",
       "\n",
       "       [[0., 0., 0., ..., 0., 0., 0.],\n",
       "        [0., 0., 0., ..., 0., 0., 0.],\n",
       "        [0., 0., 0., ..., 0., 0., 0.],\n",
       "        ...,\n",
       "        [0., 0., 0., ..., 0., 0., 0.],\n",
       "        [0., 0., 0., ..., 0., 0., 0.],\n",
       "        [0., 0., 0., ..., 0., 0., 0.]]])"
      ]
     },
     "execution_count": 6,
     "metadata": {},
     "output_type": "execute_result"
    }
   ],
   "source": [
    "l8_data.values\n",
    "#l8_data"
   ]
  },
  {
   "cell_type": "markdown",
   "id": "2ca6ad86",
   "metadata": {},
   "source": [
    "### Fill the nan values"
   ]
  },
  {
   "cell_type": "code",
   "execution_count": 7,
   "id": "b8869c5a",
   "metadata": {},
   "outputs": [],
   "source": [
    "#l8_filled = l8_data.fillna(0)\n",
    "#l8_filled.fillna(0)"
   ]
  },
  {
   "cell_type": "code",
   "execution_count": 8,
   "id": "1dda4eff",
   "metadata": {},
   "outputs": [],
   "source": [
    "#explore statistics\n",
    "#print(l8_filled.rio.crs)\n",
    "#print(l8_filled.rio.nodata)"
   ]
  },
  {
   "cell_type": "code",
   "execution_count": 9,
   "id": "762fe546",
   "metadata": {},
   "outputs": [],
   "source": [
    "#print(l8_filled.min())\n",
    "#print(l8_filled.max())\n",
    "#print(l8_filled.std())\n"
   ]
  },
  {
   "cell_type": "code",
   "execution_count": 10,
   "id": "8957ac03",
   "metadata": {},
   "outputs": [
    {
     "data": {
      "text/plain": [
       "<matplotlib.collections.QuadMesh at 0x7f1d5aec5320>"
      ]
     },
     "execution_count": 10,
     "metadata": {},
     "output_type": "execute_result"
    },
    {
     "data": {
      "image/png": "[encoded data removed]",
      "text/plain": [
       "<Figure size 432x288 with 2 Axes>"
      ]
     },
     "metadata": {
      "needs_background": "light"
     },
     "output_type": "display_data"
    }
   ],
   "source": [
    "l8_data[4].plot() #plotting one band from the training imagery"
   ]
  },
  {
   "cell_type": "code",
   "execution_count": null,
   "id": "49b18657",
   "metadata": {},
   "outputs": [],
   "source": [
    "#l8_filled.rio.to_raster('/gws/nopw/j04/ai4er/users/jl2182/data/Mres_Data/filled_l8_data.tif')"
   ]
  },
  {
   "cell_type": "markdown",
   "id": "7d99d751",
   "metadata": {},
   "source": [
    "### Reproject the Landcover Data to DRC Cooridnate Projection"
   ]
  },
  {
   "cell_type": "code",
   "execution_count": 17,
   "id": "4b48dad8",
   "metadata": {},
   "outputs": [],
   "source": [
    "#filled_l8_path = '/gws/nopw/j04/ai4er/users/jl2182/data/Mres_Data/filled_l8_data.tif'\n",
    "#filled_l8 = xr.open_rasterio(l8)\n",
    "#l8_data_drc_crs = l8_filled.rio.reproject(crs_drc)\n",
    "#warp = gdal.Warp('/gws/nopw/j04/ai4er/users/jl2182/data/Mres_Data/reprojected_l8.tif','/gws/nopw/j04/ai4er/users/jl2182/data/Mres_Data/filled_l8_data.tif',dstSRS='EPSG:3341')\n"
   ]
  },
  {
   "cell_type": "code",
   "execution_count": 12,
   "id": "33e24a01",
   "metadata": {},
   "outputs": [
    {
     "name": "stdout",
     "output_type": "stream",
     "text": [
      "(15295, 24263)\n"
     ]
    }
   ],
   "source": [
    "#from 3D ----> 2D\n",
    "l8_data = l8_data[0, :, :]\n",
    "print(l8_data.shape)"
   ]
  },
  {
   "cell_type": "code",
   "execution_count": 12,
   "id": "c4a8aeea",
   "metadata": {},
   "outputs": [],
   "source": [
    "from numpy import savetxt\n",
    "\n",
    "# save to csv file\n",
    "savetxt('/gws/nopw/j04/ai4er/users/jl2182/data/Mres_Data/Landsat_Satellite_Data_Training.csv', l8_data, delimiter=',')"
   ]
  },
  {
   "cell_type": "code",
   "execution_count": 13,
   "id": "4f5a30da",
   "metadata": {},
   "outputs": [
    {
     "data": {
      "text/html": [
       "<div><svg style=\"position: absolute; width: 0; height: 0; overflow: hidden\">\n",
       "<defs>\n",
       "<symbol id=\"icon-database\" viewBox=\"0 0 32 32\">\n",
       "<path d=\"M16 0c-8.837 0-16 2.239-16 5v4c0 2.761 7.163 5 16 5s16-2.239 16-5v-4c0-2.761-7.163-5-16-5z\"></path>\n",
       "<path d=\"M16 17c-8.837 0-16-2.239-16-5v6c0 2.761 7.163 5 16 5s16-2.239 16-5v-6c0 2.761-7.163 5-16 5z\"></path>\n",
       "<path d=\"M16 26c-8.837 0-16-2.239-16-5v6c0 2.761 7.163 5 16 5s16-2.239 16-5v-6c0 2.761-7.163 5-16 5z\"></path>\n",
       "</symbol>\n",
       "<symbol id=\"icon-file-text2\" viewBox=\"0 0 32 32\">\n",
       "<path d=\"M28.681 7.159c-0.694-0.947-1.662-2.053-2.724-3.116s-2.169-2.030-3.116-2.724c-1.612-1.182-2.393-1.319-2.841-1.319h-15.5c-1.378 0-2.5 1.121-2.5 2.5v27c0 1.378 1.122 2.5 2.5 2.5h23c1.378 0 2.5-1.122 2.5-2.5v-19.5c0-0.448-0.137-1.23-1.319-2.841zM24.543 5.457c0.959 0.959 1.712 1.825 2.268 2.543h-4.811v-4.811c0.718 0.556 1.584 1.309 2.543 2.268zM28 29.5c0 0.271-0.229 0.5-0.5 0.5h-23c-0.271 0-0.5-0.229-0.5-0.5v-27c0-0.271 0.229-0.5 0.5-0.5 0 0 15.499-0 15.5 0v7c0 0.552 0.448 1 1 1h7v19.5z\"></path>\n",
       "<path d=\"M23 26h-14c-0.552 0-1-0.448-1-1s0.448-1 1-1h14c0.552 0 1 0.448 1 1s-0.448 1-1 1z\"></path>\n",
       "<path d=\"M23 22h-14c-0.552 0-1-0.448-1-1s0.448-1 1-1h14c0.552 0 1 0.448 1 1s-0.448 1-1 1z\"></path>\n",
       "<path d=\"M23 18h-14c-0.552 0-1-0.448-1-1s0.448-1 1-1h14c0.552 0 1 0.448 1 1s-0.448 1-1 1z\"></path>\n",
       "</symbol>\n",
       "</defs>\n",
       "</svg>\n",
       "<style>/* CSS stylesheet for displaying xarray objects in jupyterlab.\n",
       " *\n",
       " */\n",
       "\n",
       ":root {\n",
       "  --xr-font-color0: var(--jp-content-font-color0, rgba(0, 0, 0, 1));\n",
       "  --xr-font-color2: var(--jp-content-font-color2, rgba(0, 0, 0, 0.54));\n",
       "  --xr-font-color3: var(--jp-content-font-color3, rgba(0, 0, 0, 0.38));\n",
       "  --xr-border-color: var(--jp-border-color2, #e0e0e0);\n",
       "  --xr-disabled-color: var(--jp-layout-color3, #bdbdbd);\n",
       "  --xr-background-color: var(--jp-layout-color0, white);\n",
       "  --xr-background-color-row-even: var(--jp-layout-color1, white);\n",
       "  --xr-background-color-row-odd: var(--jp-layout-color2, #eeeeee);\n",
       "}\n",
       "\n",
       "html[theme=dark],\n",
       "body.vscode-dark {\n",
       "  --xr-font-color0: rgba(255, 255, 255, 1);\n",
       "  --xr-font-color2: rgba(255, 255, 255, 0.54);\n",
       "  --xr-font-color3: rgba(255, 255, 255, 0.38);\n",
       "  --xr-border-color: #1F1F1F;\n",
       "  --xr-disabled-color: #515151;\n",
       "  --xr-background-color: #111111;\n",
       "  --xr-background-color-row-even: #111111;\n",
       "  --xr-background-color-row-odd: #313131;\n",
       "}\n",
       "\n",
       ".xr-wrap {\n",
       "  display: block;\n",
       "  min-width: 300px;\n",
       "  max-width: 700px;\n",
       "}\n",
       "\n",
       ".xr-text-repr-fallback {\n",
       "  /* fallback to plain text repr when CSS is not injected (untrusted notebook) */\n",
       "  display: none;\n",
       "}\n",
       "\n",
       ".xr-header {\n",
       "  padding-top: 6px;\n",
       "  padding-bottom: 6px;\n",
       "  margin-bottom: 4px;\n",
       "  border-bottom: solid 1px var(--xr-border-color);\n",
       "}\n",
       "\n",
       ".xr-header > div,\n",
       ".xr-header > ul {\n",
       "  display: inline;\n",
       "  margin-top: 0;\n",
       "  margin-bottom: 0;\n",
       "}\n",
       "\n",
       ".xr-obj-type,\n",
       ".xr-array-name {\n",
       "  margin-left: 2px;\n",
       "  margin-right: 10px;\n",
       "}\n",
       "\n",
       ".xr-obj-type {\n",
       "  color: var(--xr-font-color2);\n",
       "}\n",
       "\n",
       ".xr-sections {\n",
       "  padding-left: 0 !important;\n",
       "  display: grid;\n",
       "  grid-template-columns: 150px auto auto 1fr 20px 20px;\n",
       "}\n",
       "\n",
       ".xr-section-item {\n",
       "  display: contents;\n",
       "}\n",
       "\n",
       ".xr-section-item input {\n",
       "  display: none;\n",
       "}\n",
       "\n",
       ".xr-section-item input + label {\n",
       "  color: var(--xr-disabled-color);\n",
       "}\n",
       "\n",
       ".xr-section-item input:enabled + label {\n",
       "  cursor: pointer;\n",
       "  color: var(--xr-font-color2);\n",
       "}\n",
       "\n",
       ".xr-section-item input:enabled + label:hover {\n",
       "  color: var(--xr-font-color0);\n",
       "}\n",
       "\n",
       ".xr-section-summary {\n",
       "  grid-column: 1;\n",
       "  color: var(--xr-font-color2);\n",
       "  font-weight: 500;\n",
       "}\n",
       "\n",
       ".xr-section-summary > span {\n",
       "  display: inline-block;\n",
       "  padding-left: 0.5em;\n",
       "}\n",
       "\n",
       ".xr-section-summary-in:disabled + label {\n",
       "  color: var(--xr-font-color2);\n",
       "}\n",
       "\n",
       ".xr-section-summary-in + label:before {\n",
       "  display: inline-block;\n",
       "  content: '►';\n",
       "  font-size: 11px;\n",
       "  width: 15px;\n",
       "  text-align: center;\n",
       "}\n",
       "\n",
       ".xr-section-summary-in:disabled + label:before {\n",
       "  color: var(--xr-disabled-color);\n",
       "}\n",
       "\n",
       ".xr-section-summary-in:checked + label:before {\n",
       "  content: '▼';\n",
       "}\n",
       "\n",
       ".xr-section-summary-in:checked + label > span {\n",
       "  display: none;\n",
       "}\n",
       "\n",
       ".xr-section-summary,\n",
       ".xr-section-inline-details {\n",
       "  padding-top: 4px;\n",
       "  padding-bottom: 4px;\n",
       "}\n",
       "\n",
       ".xr-section-inline-details {\n",
       "  grid-column: 2 / -1;\n",
       "}\n",
       "\n",
       ".xr-section-details {\n",
       "  display: none;\n",
       "  grid-column: 1 / -1;\n",
       "  margin-bottom: 5px;\n",
       "}\n",
       "\n",
       ".xr-section-summary-in:checked ~ .xr-section-details {\n",
       "  display: contents;\n",
       "}\n",
       "\n",
       ".xr-array-wrap {\n",
       "  grid-column: 1 / -1;\n",
       "  display: grid;\n",
       "  grid-template-columns: 20px auto;\n",
       "}\n",
       "\n",
       ".xr-array-wrap > label {\n",
       "  grid-column: 1;\n",
       "  vertical-align: top;\n",
       "}\n",
       "\n",
       ".xr-preview {\n",
       "  color: var(--xr-font-color3);\n",
       "}\n",
       "\n",
       ".xr-array-preview,\n",
       ".xr-array-data {\n",
       "  padding: 0 5px !important;\n",
       "  grid-column: 2;\n",
       "}\n",
       "\n",
       ".xr-array-data,\n",
       ".xr-array-in:checked ~ .xr-array-preview {\n",
       "  display: none;\n",
       "}\n",
       "\n",
       ".xr-array-in:checked ~ .xr-array-data,\n",
       ".xr-array-preview {\n",
       "  display: inline-block;\n",
       "}\n",
       "\n",
       ".xr-dim-list {\n",
       "  display: inline-block !important;\n",
       "  list-style: none;\n",
       "  padding: 0 !important;\n",
       "  margin: 0;\n",
       "}\n",
       "\n",
       ".xr-dim-list li {\n",
       "  display: inline-block;\n",
       "  padding: 0;\n",
       "  margin: 0;\n",
       "}\n",
       "\n",
       ".xr-dim-list:before {\n",
       "  content: '(';\n",
       "}\n",
       "\n",
       ".xr-dim-list:after {\n",
       "  content: ')';\n",
       "}\n",
       "\n",
       ".xr-dim-list li:not(:last-child):after {\n",
       "  content: ',';\n",
       "  padding-right: 5px;\n",
       "}\n",
       "\n",
       ".xr-has-index {\n",
       "  font-weight: bold;\n",
       "}\n",
       "\n",
       ".xr-var-list,\n",
       ".xr-var-item {\n",
       "  display: contents;\n",
       "}\n",
       "\n",
       ".xr-var-item > div,\n",
       ".xr-var-item label,\n",
       ".xr-var-item > .xr-var-name span {\n",
       "  background-color: var(--xr-background-color-row-even);\n",
       "  margin-bottom: 0;\n",
       "}\n",
       "\n",
       ".xr-var-item > .xr-var-name:hover span {\n",
       "  padding-right: 5px;\n",
       "}\n",
       "\n",
       ".xr-var-list > li:nth-child(odd) > div,\n",
       ".xr-var-list > li:nth-child(odd) > label,\n",
       ".xr-var-list > li:nth-child(odd) > .xr-var-name span {\n",
       "  background-color: var(--xr-background-color-row-odd);\n",
       "}\n",
       "\n",
       ".xr-var-name {\n",
       "  grid-column: 1;\n",
       "}\n",
       "\n",
       ".xr-var-dims {\n",
       "  grid-column: 2;\n",
       "}\n",
       "\n",
       ".xr-var-dtype {\n",
       "  grid-column: 3;\n",
       "  text-align: right;\n",
       "  color: var(--xr-font-color2);\n",
       "}\n",
       "\n",
       ".xr-var-preview {\n",
       "  grid-column: 4;\n",
       "}\n",
       "\n",
       ".xr-var-name,\n",
       ".xr-var-dims,\n",
       ".xr-var-dtype,\n",
       ".xr-preview,\n",
       ".xr-attrs dt {\n",
       "  white-space: nowrap;\n",
       "  overflow: hidden;\n",
       "  text-overflow: ellipsis;\n",
       "  padding-right: 10px;\n",
       "}\n",
       "\n",
       ".xr-var-name:hover,\n",
       ".xr-var-dims:hover,\n",
       ".xr-var-dtype:hover,\n",
       ".xr-attrs dt:hover {\n",
       "  overflow: visible;\n",
       "  width: auto;\n",
       "  z-index: 1;\n",
       "}\n",
       "\n",
       ".xr-var-attrs,\n",
       ".xr-var-data {\n",
       "  display: none;\n",
       "  background-color: var(--xr-background-color) !important;\n",
       "  padding-bottom: 5px !important;\n",
       "}\n",
       "\n",
       ".xr-var-attrs-in:checked ~ .xr-var-attrs,\n",
       ".xr-var-data-in:checked ~ .xr-var-data {\n",
       "  display: block;\n",
       "}\n",
       "\n",
       ".xr-var-data > table {\n",
       "  float: right;\n",
       "}\n",
       "\n",
       ".xr-var-name span,\n",
       ".xr-var-data,\n",
       ".xr-attrs {\n",
       "  padding-left: 25px !important;\n",
       "}\n",
       "\n",
       ".xr-attrs,\n",
       ".xr-var-attrs,\n",
       ".xr-var-data {\n",
       "  grid-column: 1 / -1;\n",
       "}\n",
       "\n",
       "dl.xr-attrs {\n",
       "  padding: 0;\n",
       "  margin: 0;\n",
       "  display: grid;\n",
       "  grid-template-columns: 125px auto;\n",
       "}\n",
       "\n",
       ".xr-attrs dt,\n",
       ".xr-attrs dd {\n",
       "  padding: 0;\n",
       "  margin: 0;\n",
       "  float: left;\n",
       "  padding-right: 10px;\n",
       "  width: auto;\n",
       "}\n",
       "\n",
       ".xr-attrs dt {\n",
       "  font-weight: normal;\n",
       "  grid-column: 1;\n",
       "}\n",
       "\n",
       ".xr-attrs dt:hover span {\n",
       "  display: inline-block;\n",
       "  background: var(--xr-background-color);\n",
       "  padding-right: 10px;\n",
       "}\n",
       "\n",
       ".xr-attrs dd {\n",
       "  grid-column: 2;\n",
       "  white-space: pre-wrap;\n",
       "  word-break: break-all;\n",
       "}\n",
       "\n",
       ".xr-icon-database,\n",
       ".xr-icon-file-text2 {\n",
       "  display: inline-block;\n",
       "  vertical-align: middle;\n",
       "  width: 1em;\n",
       "  height: 1.5em !important;\n",
       "  stroke-width: 0;\n",
       "  stroke: currentColor;\n",
       "  fill: currentColor;\n",
       "}\n",
       "</style><pre class='xr-text-repr-fallback'>&lt;xarray.DataArray (y: 15295, x: 24263)&gt;\n",
       "array([[0., 0., 0., ..., 0., 0., 0.],\n",
       "       [0., 0., 0., ..., 0., 0., 0.],\n",
       "       [0., 0., 0., ..., 0., 0., 0.],\n",
       "       ...,\n",
       "       [0., 0., 0., ..., 0., 0., 0.],\n",
       "       [0., 0., 0., ..., 0., 0., 0.],\n",
       "       [0., 0., 0., ..., 0., 0., 0.]])\n",
       "Coordinates:\n",
       "    band         int64 1\n",
       "  * x            (x) float64 2.19e+05 2.19e+05 2.191e+05 ... 9.429e+05 9.429e+05\n",
       "  * y            (y) float64 9.558e+06 9.558e+06 ... 9.102e+06 9.102e+06\n",
       "    spatial_ref  int64 0\n",
       "Attributes:\n",
       "    scale_factor:  1.0\n",
       "    add_offset:    0.0</pre><div class='xr-wrap' hidden><div class='xr-header'><div class='xr-obj-type'>xarray.DataArray</div><div class='xr-array-name'></div><ul class='xr-dim-list'><li><span class='xr-has-index'>y</span>: 15295</li><li><span class='xr-has-index'>x</span>: 24263</li></ul></div><ul class='xr-sections'><li class='xr-section-item'><div class='xr-array-wrap'><input id='section-4024d17d-eb0e-4d41-9d8e-708829e164f8' class='xr-array-in' type='checkbox' checked><label for='section-4024d17d-eb0e-4d41-9d8e-708829e164f8' title='Show/hide data repr'><svg class='icon xr-icon-database'><use xlink:href='#icon-database'></use></svg></label><div class='xr-array-preview xr-preview'><span>0.0 0.0 0.0 0.0 0.0 0.0 0.0 0.0 ... 0.0 0.0 0.0 0.0 0.0 0.0 0.0 0.0</span></div><div class='xr-array-data'><pre>array([[0., 0., 0., ..., 0., 0., 0.],\n",
       "       [0., 0., 0., ..., 0., 0., 0.],\n",
       "       [0., 0., 0., ..., 0., 0., 0.],\n",
       "       ...,\n",
       "       [0., 0., 0., ..., 0., 0., 0.],\n",
       "       [0., 0., 0., ..., 0., 0., 0.],\n",
       "       [0., 0., 0., ..., 0., 0., 0.]])</pre></div></div></li><li class='xr-section-item'><input id='section-8a721659-adb1-47d8-86c0-aeb85baf0d72' class='xr-section-summary-in' type='checkbox'  checked><label for='section-8a721659-adb1-47d8-86c0-aeb85baf0d72' class='xr-section-summary' >Coordinates: <span>(4)</span></label><div class='xr-section-inline-details'></div><div class='xr-section-details'><ul class='xr-var-list'><li class='xr-var-item'><div class='xr-var-name'><span>band</span></div><div class='xr-var-dims'>()</div><div class='xr-var-dtype'>int64</div><div class='xr-var-preview xr-preview'>1</div><input id='attrs-2439b0d2-b581-400e-9782-dd8d1f2b48ed' class='xr-var-attrs-in' type='checkbox' disabled><label for='attrs-2439b0d2-b581-400e-9782-dd8d1f2b48ed' title='Show/Hide attributes'><svg class='icon xr-icon-file-text2'><use xlink:href='#icon-file-text2'></use></svg></label><input id='data-ffb43e5f-5dc6-485e-9eee-2506c5f5613c' class='xr-var-data-in' type='checkbox'><label for='data-ffb43e5f-5dc6-485e-9eee-2506c5f5613c' title='Show/Hide data repr'><svg class='icon xr-icon-database'><use xlink:href='#icon-database'></use></svg></label><div class='xr-var-attrs'><dl class='xr-attrs'></dl></div><div class='xr-var-data'><pre>array(1)</pre></div></li><li class='xr-var-item'><div class='xr-var-name'><span class='xr-has-index'>x</span></div><div class='xr-var-dims'>(x)</div><div class='xr-var-dtype'>float64</div><div class='xr-var-preview xr-preview'>2.19e+05 2.19e+05 ... 9.429e+05</div><input id='attrs-599ffa25-3ee7-4b66-a946-cbcf4ee9e46a' class='xr-var-attrs-in' type='checkbox' disabled><label for='attrs-599ffa25-3ee7-4b66-a946-cbcf4ee9e46a' title='Show/Hide attributes'><svg class='icon xr-icon-file-text2'><use xlink:href='#icon-file-text2'></use></svg></label><input id='data-c9e55baf-ef17-42e8-bb97-bcdebdb4d7bb' class='xr-var-data-in' type='checkbox'><label for='data-c9e55baf-ef17-42e8-bb97-bcdebdb4d7bb' title='Show/Hide data repr'><svg class='icon xr-icon-database'><use xlink:href='#icon-database'></use></svg></label><div class='xr-var-attrs'><dl class='xr-attrs'></dl></div><div class='xr-var-data'><pre>array([219019.957511, 219049.793125, 219079.628738, ..., 942831.946367,\n",
       "       942861.78198 , 942891.617594])</pre></div></li><li class='xr-var-item'><div class='xr-var-name'><span class='xr-has-index'>y</span></div><div class='xr-var-dims'>(y)</div><div class='xr-var-dtype'>float64</div><div class='xr-var-preview xr-preview'>9.558e+06 9.558e+06 ... 9.102e+06</div><input id='attrs-88f49562-2ffa-4fa8-949a-b57e7634bdd4' class='xr-var-attrs-in' type='checkbox' disabled><label for='attrs-88f49562-2ffa-4fa8-949a-b57e7634bdd4' title='Show/Hide attributes'><svg class='icon xr-icon-file-text2'><use xlink:href='#icon-file-text2'></use></svg></label><input id='data-2307ee05-8ee7-4473-aa50-587090b1f966' class='xr-var-data-in' type='checkbox'><label for='data-2307ee05-8ee7-4473-aa50-587090b1f966' title='Show/Hide data repr'><svg class='icon xr-icon-database'><use xlink:href='#icon-database'></use></svg></label><div class='xr-var-attrs'><dl class='xr-attrs'></dl></div><div class='xr-var-data'><pre>array([9558388.675859, 9558358.840245, 9558329.004631, ..., 9102142.470847,\n",
       "       9102112.635233, 9102082.79962 ])</pre></div></li><li class='xr-var-item'><div class='xr-var-name'><span>spatial_ref</span></div><div class='xr-var-dims'>()</div><div class='xr-var-dtype'>int64</div><div class='xr-var-preview xr-preview'>0</div><input id='attrs-1a0b5133-669c-42d2-987a-6f3304b6e585' class='xr-var-attrs-in' type='checkbox' ><label for='attrs-1a0b5133-669c-42d2-987a-6f3304b6e585' title='Show/Hide attributes'><svg class='icon xr-icon-file-text2'><use xlink:href='#icon-file-text2'></use></svg></label><input id='data-a794799a-6b88-418b-9e29-cf2c524da182' class='xr-var-data-in' type='checkbox'><label for='data-a794799a-6b88-418b-9e29-cf2c524da182' title='Show/Hide data repr'><svg class='icon xr-icon-database'><use xlink:href='#icon-database'></use></svg></label><div class='xr-var-attrs'><dl class='xr-attrs'><dt><span>crs_wkt :</span></dt><dd>PROJCS[&quot;IGCB 1955 / Congo TM zone 16&quot;,GEOGCS[&quot;IGCB 1955&quot;,DATUM[&quot;Institut_Geographique_du_Congo_Belge_1955&quot;,SPHEROID[&quot;Clarke 1880 (RGS)&quot;,6378249.145,293.465,AUTHORITY[&quot;EPSG&quot;,&quot;7012&quot;]],TOWGS84[-79.9,-158,-168.9,0,0,0,0],AUTHORITY[&quot;EPSG&quot;,&quot;6701&quot;]],PRIMEM[&quot;Greenwich&quot;,0,AUTHORITY[&quot;EPSG&quot;,&quot;8901&quot;]],UNIT[&quot;degree&quot;,0.0174532925199433,AUTHORITY[&quot;EPSG&quot;,&quot;9122&quot;]],AUTHORITY[&quot;EPSG&quot;,&quot;4701&quot;]],PROJECTION[&quot;Transverse_Mercator&quot;],PARAMETER[&quot;latitude_of_origin&quot;,0],PARAMETER[&quot;central_meridian&quot;,16],PARAMETER[&quot;scale_factor&quot;,0.9999],PARAMETER[&quot;false_easting&quot;,500000],PARAMETER[&quot;false_northing&quot;,10000000],UNIT[&quot;metre&quot;,1,AUTHORITY[&quot;EPSG&quot;,&quot;9001&quot;]],AXIS[&quot;Easting&quot;,EAST],AXIS[&quot;Northing&quot;,NORTH],AUTHORITY[&quot;EPSG&quot;,&quot;3341&quot;]]</dd><dt><span>semi_major_axis :</span></dt><dd>6378249.145</dd><dt><span>semi_minor_axis :</span></dt><dd>6356514.8695497755</dd><dt><span>inverse_flattening :</span></dt><dd>293.465</dd><dt><span>reference_ellipsoid_name :</span></dt><dd>Clarke 1880 (RGS)</dd><dt><span>longitude_of_prime_meridian :</span></dt><dd>0.0</dd><dt><span>prime_meridian_name :</span></dt><dd>Greenwich</dd><dt><span>geographic_crs_name :</span></dt><dd>IGCB 1955</dd><dt><span>horizontal_datum_name :</span></dt><dd>Institut Geographique du Congo Belge 1955</dd><dt><span>projected_crs_name :</span></dt><dd>IGCB 1955 / Congo TM zone 16</dd><dt><span>grid_mapping_name :</span></dt><dd>transverse_mercator</dd><dt><span>latitude_of_projection_origin :</span></dt><dd>0.0</dd><dt><span>longitude_of_central_meridian :</span></dt><dd>16.0</dd><dt><span>false_easting :</span></dt><dd>500000.0</dd><dt><span>false_northing :</span></dt><dd>10000000.0</dd><dt><span>scale_factor_at_central_meridian :</span></dt><dd>0.9999</dd><dt><span>towgs84 :</span></dt><dd>[-79.9, -158.0, -168.9, 0.0, 0.0, 0.0, 0.0]</dd><dt><span>spatial_ref :</span></dt><dd>PROJCS[&quot;IGCB 1955 / Congo TM zone 16&quot;,GEOGCS[&quot;IGCB 1955&quot;,DATUM[&quot;Institut_Geographique_du_Congo_Belge_1955&quot;,SPHEROID[&quot;Clarke 1880 (RGS)&quot;,6378249.145,293.465,AUTHORITY[&quot;EPSG&quot;,&quot;7012&quot;]],TOWGS84[-79.9,-158,-168.9,0,0,0,0],AUTHORITY[&quot;EPSG&quot;,&quot;6701&quot;]],PRIMEM[&quot;Greenwich&quot;,0,AUTHORITY[&quot;EPSG&quot;,&quot;8901&quot;]],UNIT[&quot;degree&quot;,0.0174532925199433,AUTHORITY[&quot;EPSG&quot;,&quot;9122&quot;]],AUTHORITY[&quot;EPSG&quot;,&quot;4701&quot;]],PROJECTION[&quot;Transverse_Mercator&quot;],PARAMETER[&quot;latitude_of_origin&quot;,0],PARAMETER[&quot;central_meridian&quot;,16],PARAMETER[&quot;scale_factor&quot;,0.9999],PARAMETER[&quot;false_easting&quot;,500000],PARAMETER[&quot;false_northing&quot;,10000000],UNIT[&quot;metre&quot;,1,AUTHORITY[&quot;EPSG&quot;,&quot;9001&quot;]],AXIS[&quot;Easting&quot;,EAST],AXIS[&quot;Northing&quot;,NORTH],AUTHORITY[&quot;EPSG&quot;,&quot;3341&quot;]]</dd><dt><span>GeoTransform :</span></dt><dd>219005.03970397508 29.835613720358946 0.0 9558403.59366567 0.0 -29.835613720358946</dd></dl></div><div class='xr-var-data'><pre>array(0)</pre></div></li></ul></div></li><li class='xr-section-item'><input id='section-7f0d597b-575d-489b-8215-bfce5fd4a4f8' class='xr-section-summary-in' type='checkbox'  checked><label for='section-7f0d597b-575d-489b-8215-bfce5fd4a4f8' class='xr-section-summary' >Attributes: <span>(2)</span></label><div class='xr-section-inline-details'></div><div class='xr-section-details'><dl class='xr-attrs'><dt><span>scale_factor :</span></dt><dd>1.0</dd><dt><span>add_offset :</span></dt><dd>0.0</dd></dl></div></li></ul></div></div>"
      ],
      "text/plain": [
       "<xarray.DataArray (y: 15295, x: 24263)>\n",
       "array([[0., 0., 0., ..., 0., 0., 0.],\n",
       "       [0., 0., 0., ..., 0., 0., 0.],\n",
       "       [0., 0., 0., ..., 0., 0., 0.],\n",
       "       ...,\n",
       "       [0., 0., 0., ..., 0., 0., 0.],\n",
       "       [0., 0., 0., ..., 0., 0., 0.],\n",
       "       [0., 0., 0., ..., 0., 0., 0.]])\n",
       "Coordinates:\n",
       "    band         int64 1\n",
       "  * x            (x) float64 2.19e+05 2.19e+05 2.191e+05 ... 9.429e+05 9.429e+05\n",
       "  * y            (y) float64 9.558e+06 9.558e+06 ... 9.102e+06 9.102e+06\n",
       "    spatial_ref  int64 0\n",
       "Attributes:\n",
       "    scale_factor:  1.0\n",
       "    add_offset:    0.0"
      ]
     },
     "execution_count": 13,
     "metadata": {},
     "output_type": "execute_result"
    }
   ],
   "source": [
    "l8_data \n"
   ]
  },
  {
   "cell_type": "markdown",
   "id": "4d47fb44",
   "metadata": {},
   "source": [
    "### Resample Landsat Data to match resolution of Landcover Data"
   ]
  },
  {
   "cell_type": "code",
   "execution_count": 14,
   "id": "538dd3e9",
   "metadata": {},
   "outputs": [],
   "source": [
    "def write_image(arr: np.array, save_path: os.PathLike, **raster_meta) -> None:\n",
    "    \"\"\"\n",
    "    Write a Geotiff to disk with the given raster metadata.\n",
    "    Convenience function that automatically sets permissions correctly.\n",
    "    Args:\n",
    "        arr (np.array): The data to write to disk in geotif format\n",
    "        save_path (os.PathLike): The path to write to\n",
    "    \"\"\"\n",
    "    with rasterio.open(save_path, \"w\", **raster_meta) as target:\n",
    "        target.write(arr)\n",
    "      # Allow group workspace users access\n",
    "\n",
    "\n",
    "def downsample_image(\n",
    "    image: rasterio.DatasetReader,\n",
    "    bands: List[int],\n",
    "    downsample_factor: int = 10,\n",
    "    resampling: Resampling = Resampling.bilinear,\n",
    ") -> Tuple[np.ndarray, Any]:\n",
    "    \"\"\"\n",
    "    Downsample the given bands of a raster image by the given downsample_fator.\n",
    "    Args:\n",
    "        image (rasterio.DatasetReader): Rasterio IO handle to the image\n",
    "        bands (List[int]): The bands to downsample\n",
    "        downsample_factor (int, optional): Factor by which the image will be\n",
    "            downsampled. Defaults to 2.\n",
    "        resampling (Resampling, optional): Resampling algorithm to use. Must be one of\n",
    "            Rasterio's built-in resampling algorithms. Defaults to Resampling.bilinear.\n",
    "    Returns:\n",
    "        Tuple[np.ndarray, Any]: Return the resampled bands of the image as a numpy\n",
    "            array together with the transform.\n",
    "    \"\"\"\n",
    "\n",
    "    downsampled_image = image.read(\n",
    "        bands,\n",
    "        out_shape=(\n",
    "            int(image.height / downsample_factor),\n",
    "            int(image.width / downsample_factor),\n",
    "        ),\n",
    "        resampling=resampling,\n",
    "    )\n",
    "\n",
    "    transform = image.transform * image.transform.scale(\n",
    "        (image.width / downsampled_image.shape[-1]),\n",
    "        (image.height / downsampled_image.shape[-2]),\n",
    "    )\n",
    "\n",
    "    return downsampled_image, transform\n",
    "\n",
    "\n",
    "def generate_downsample(\n",
    "    file_path: os.PathLike,\n",
    "    downsample_factor: int = 10,\n",
    "    resampling: Resampling = Resampling.bilinear,\n",
    "    overwrite: bool = False,\n",
    ") -> None:\n",
    "    \"\"\"\n",
    "    Generate downsample of the raster file at `file_path` and save it in same folder.\n",
    "    Saved file will have appendix `_downsample_{downsample_factor}x.tif`\n",
    "    Args:\n",
    "        file_path (os.PathLike): The path to the raster image todownsample\n",
    "        downsample_factor (int, optional): The downsampling factor to use.\n",
    "            Defaults to 2.\n",
    "        resampling (Resampling, optional): The resampling algorithm to use.\n",
    "            Defaults to Resampling.bilinear.\n",
    "        overwrite (bool, optional): Iff True, any existing downsampling file with the\n",
    "            same downsampling factor will be overwritten. Defaults to False.\n",
    "    \"\"\"\n",
    "\n",
    "    save_path = '/gws/nopw/j04/ai4er/users/jl2182/data/Mres_Data/L8_training_data/resampled_l8_10.tif'\n",
    "\n",
    "    with rasterio.open(file_path) as image:\n",
    "        downsampled_image, transform = downsample_image(\n",
    "            image,\n",
    "            image.indexes,\n",
    "            downsample_factor=downsample_factor,\n",
    "            resampling=resampling,\n",
    "        )\n",
    "        nbands, height, width = downsampled_image.shape\n",
    "\n",
    "    write_image(\n",
    "        downsampled_image,\n",
    "        save_path,\n",
    "        driver=\"GTiff\",\n",
    "        height=height,\n",
    "        width=width,\n",
    "        count=nbands,\n",
    "        dtype=\"float64\",\n",
    "        crs=image.crs,\n",
    "        transform=transform,\n",
    "        nodata=image.nodata,\n",
    "    )\n"
   ]
  },
  {
   "cell_type": "code",
   "execution_count": 17,
   "id": "4cc06dc8",
   "metadata": {},
   "outputs": [],
   "source": [
    "generate_downsample(l8_reprojected)"
   ]
  },
  {
   "cell_type": "code",
   "execution_count": 18,
   "id": "9b496e32",
   "metadata": {},
   "outputs": [
    {
     "name": "stdout",
     "output_type": "stream",
     "text": [
      "<xarray.DataArray (band: 7, y: 15295, x: 24263)>\n",
      "[2597718095 values with dtype=float64]\n",
      "Coordinates:\n",
      "  * band         (band) int64 1 2 3 4 5 6 7\n",
      "  * x            (x) float64 2.19e+05 2.19e+05 2.191e+05 ... 9.429e+05 9.429e+05\n",
      "  * y            (y) float64 9.558e+06 9.558e+06 ... 9.102e+06 9.102e+06\n",
      "    spatial_ref  int64 0\n",
      "Attributes:\n",
      "    scale_factor:  1.0\n",
      "    add_offset:    0.0\n"
     ]
    }
   ],
   "source": [
    "#visualising resampled landsat imagery\n",
    "l8_resampled = '/gws/nopw/j04/ai4er/users/jl2182/data/Mres_Data/L8_training_data/resampled_l8_10.tif'\n",
    "l8_resampled = xr.open_rasterio(l8_reprojected)\n",
    "print(l8_resampled)"
   ]
  },
  {
   "cell_type": "code",
   "execution_count": 34,
   "id": "3f5a827d",
   "metadata": {},
   "outputs": [
    {
     "name": "stdout",
     "output_type": "stream",
     "text": [
      "EPSG:3341\n",
      "None\n",
      "(219005.03970397508, 9102067.881812781, 942906.5354010442, 9558403.59366567)\n",
      "24263\n",
      "15295\n",
      "PROJCS[\"IGCB 1955 / Congo TM zone 16\",GEOGCS[\"IGCB 1955\",DATUM[\"Institut_Geographique_du_Congo_Belge_1955\",SPHEROID[\"Clarke 1880 (RGS)\",6378249.145,293.465,AUTHORITY[\"EPSG\",\"7012\"]],TOWGS84[-79.9,-158,-168.9,0,0,0,0],AUTHORITY[\"EPSG\",\"6701\"]],PRIMEM[\"Greenwich\",0,AUTHORITY[\"EPSG\",\"8901\"]],UNIT[\"degree\",0.0174532925199433,AUTHORITY[\"EPSG\",\"9122\"]],AUTHORITY[\"EPSG\",\"4701\"]],PROJECTION[\"Transverse_Mercator\"],PARAMETER[\"latitude_of_origin\",0],PARAMETER[\"central_meridian\",16],PARAMETER[\"scale_factor\",0.9999],PARAMETER[\"false_easting\",500000],PARAMETER[\"false_northing\",10000000],UNIT[\"metre\",1,AUTHORITY[\"EPSG\",\"9001\"]],AXIS[\"Easting\",EAST],AXIS[\"Northing\",NORTH],AUTHORITY[\"EPSG\",\"3341\"]]\n"
     ]
    }
   ],
   "source": [
    "#explore statistics\n",
    "print(l8_resampled.rio.crs)\n",
    "print(l8_resampled.rio.nodata)\n",
    "print(l8_resampled.rio.bounds())\n",
    "print(l8_resampled.rio.width)\n",
    "print(l8_resampled.rio.height)\n",
    "print(l8_resampled.rio.crs.wkt)"
   ]
  },
  {
   "cell_type": "code",
   "execution_count": null,
   "id": "227ab1b9",
   "metadata": {},
   "outputs": [],
   "source": [
    "### Merge satellite data tiles\n",
    "\n",
    "\"\"\"\n",
    "import rasterio\n",
    "import numpy as np\n",
    "from rasterio.merge import merge\n",
    "from rasterio.plot import show\n",
    "\n",
    "dirpath = '/gws/nopw/j04/ai4er/users/jl2182/data/Mres_Data/training_tiles'\n",
    "search_criteria = 'D*.tif'\n",
    "q = os.path.join(dirpath, search_criteria)\n",
    "dem_fps = glob.glob(q)\n",
    "src_files_to_mosaic = []\n",
    "\n",
    "for fp in dem_fps:\n",
    "    src = rasterio.open(fp)\n",
    "    src_files_to_mosaic.append(src)\n",
    "    \n",
    "mosaic, out_trans = merge(src_files_to_mosaic)\n",
    "\n",
    "\n",
    "\n",
    "\n",
    "src1 = rasterio.open('/gws/nopw/j04/ai4er/users/jl2182/data/Mres_Data/training_tiles/DRC_L8_2013_Training_Image_New-0000000000-0000000000.tif')\n",
    "src2 = rasterio.open('/gws/nopw/j04/ai4er/users/jl2182/data/Mres_Data/training_tiles/DRC_L8_2013_Training_Image_New-0000000000-0000008960.tif')\n",
    "src3 = rasterio.open('/gws/nopw/j04/ai4er/users/jl2182/data/Mres_Data/training_tiles/DRC_L8_2013_Training_Image_New-0000000000-0000017920.tif')\n",
    "src4 = rasterio.open('/gws/nopw/j04/ai4er/users/jl2182/data/Mres_Data/training_tiles/DRC_L8_2013_Training_Image_New-0000008960-0000000000.tif')\n",
    "src5 = rasterio.open('/gws/nopw/j04/ai4er/users/jl2182/data/Mres_Data/training_tiles/DRC_L8_2013_Training_Image_New-0000008960-0000008960.tif')\n",
    "src6 = rasterio.open('/gws/nopw/j04/ai4er/users/jl2182/data/Mres_Data/training_tiles/DRC_L8_2013_Training_Image_New-0000008960-0000017920.tif')\n",
    "\n",
    "srcs_to_mosaic = [src1, src2, src3, src4, src5, src6]\n",
    "\n",
    "# The merge function returns a single array and the affine transform info\n",
    "arr, out_trans = merge(srcs_to_mosaic)\n",
    "\"\"\""
   ]
  }
 ],
 "metadata": {
  "kernelspec": {
   "display_name": "Python 3",
   "language": "python",
   "name": "python3"
  },
  "language_info": {
   "codemirror_mode": {
    "name": "ipython",
    "version": 3
   },
   "file_extension": ".py",
   "mimetype": "text/x-python",
   "name": "python",
   "nbconvert_exporter": "python",
   "pygments_lexer": "ipython3",
   "version": "3.7.0"
  }
 },
 "nbformat": 4,
 "nbformat_minor": 5
}
