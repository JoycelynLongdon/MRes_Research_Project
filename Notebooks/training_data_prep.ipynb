{
 "cells": [
  {
   "cell_type": "code",
   "execution_count": 1,
   "id": "e27e459c",
   "metadata": {},
   "outputs": [],
   "source": [
    "import rasterio\n",
    "from rasterio.plot import show\n",
    "from rasterio.merge import merge\n",
    "from rasterio.plot import show\n",
    "import rasterio.features\n",
    "import rasterio.warp\n",
    "import glob\n",
    "import os\n",
    "import rioxarray as xr\n",
    "import pandas as pd\n",
    "import geopandas as gpd\n",
    "import numpy as np\n",
    "from rasterio.enums import Resampling\n",
    "from rasterio.crs import CRS\n",
    "import matplotlib.pyplot as plt\n",
    "import earthpy as et\n",
    "import earthpy.plot as ep\n",
    "from shapely.geometry import mapping\n",
    "import subprocess\n",
    "from osgeo import gdal\n",
    "import multiprocessing as mp\n",
    "from typing import List, Any, Sequence, Tuple\n",
    "import xarray as xarray\n",
    "from numpy import savetxt\n",
    "\n",
    "\n",
    "\n",
    "\n",
    "%matplotlib inline\n"
   ]
  },
  {
   "cell_type": "markdown",
   "id": "ede2afef",
   "metadata": {},
   "source": [
    "# Landcover Data"
   ]
  },
  {
   "cell_type": "markdown",
   "id": "8176c88d",
   "metadata": {},
   "source": [
    "### Importing the Training Region Polygon"
   ]
  },
  {
   "cell_type": "code",
   "execution_count": 2,
   "id": "205fb2e6",
   "metadata": {},
   "outputs": [
    {
     "ename": "KeyboardInterrupt",
     "evalue": "",
     "output_type": "error",
     "traceback": [
      "\u001b[0;31m---------------------------------------------------------------------------\u001b[0m",
      "\u001b[0;31mKeyboardInterrupt\u001b[0m                         Traceback (most recent call last)",
      "\u001b[0;32m<ipython-input-2-d4586a73fa5f>\u001b[0m in \u001b[0;36m<module>\u001b[0;34m\u001b[0m\n\u001b[1;32m      1\u001b[0m \u001b[0;31m#region of interest\u001b[0m\u001b[0;34m\u001b[0m\u001b[0;34m\u001b[0m\u001b[0m\n\u001b[1;32m      2\u001b[0m \u001b[0mstudyRegion\u001b[0m \u001b[0;34m=\u001b[0m \u001b[0;34m'/gws/nopw/j04/ai4er/users/jl2182/data/Mres_Data/GeoJSONS/drc_training_new.geojson'\u001b[0m\u001b[0;34m\u001b[0m\u001b[0m\n\u001b[0;32m----> 3\u001b[0;31m \u001b[0mstudyRegion\u001b[0m \u001b[0;34m=\u001b[0m \u001b[0mgpd\u001b[0m\u001b[0;34m.\u001b[0m\u001b[0mread_file\u001b[0m\u001b[0;34m(\u001b[0m\u001b[0mstudyRegion\u001b[0m\u001b[0;34m)\u001b[0m\u001b[0;34m\u001b[0m\u001b[0m\n\u001b[0m\u001b[1;32m      4\u001b[0m \u001b[0mprint\u001b[0m\u001b[0;34m(\u001b[0m\u001b[0mstudyRegion\u001b[0m\u001b[0;34m.\u001b[0m\u001b[0mhead\u001b[0m\u001b[0;34m(\u001b[0m\u001b[0;34m)\u001b[0m\u001b[0;34m)\u001b[0m\u001b[0;34m\u001b[0m\u001b[0m\n\u001b[1;32m      5\u001b[0m \u001b[0mprint\u001b[0m\u001b[0;34m(\u001b[0m\u001b[0mstudyRegion\u001b[0m\u001b[0;34m.\u001b[0m\u001b[0mcrs\u001b[0m\u001b[0;34m)\u001b[0m\u001b[0;34m\u001b[0m\u001b[0m\n",
      "\u001b[0;32m~/miniconda3/envs/mres_proj/lib/python3.7/site-packages/geopandas/io/file.py\u001b[0m in \u001b[0;36m_read_file\u001b[0;34m(filename, bbox, mask, rows, **kwargs)\u001b[0m\n\u001b[1;32m    158\u001b[0m \u001b[0;34m\u001b[0m\u001b[0m\n\u001b[1;32m    159\u001b[0m     \u001b[0;32mwith\u001b[0m \u001b[0mfiona_env\u001b[0m\u001b[0;34m(\u001b[0m\u001b[0;34m)\u001b[0m\u001b[0;34m:\u001b[0m\u001b[0;34m\u001b[0m\u001b[0m\n\u001b[0;32m--> 160\u001b[0;31m         \u001b[0;32mwith\u001b[0m \u001b[0mreader\u001b[0m\u001b[0;34m(\u001b[0m\u001b[0mpath_or_bytes\u001b[0m\u001b[0;34m,\u001b[0m \u001b[0;34m**\u001b[0m\u001b[0mkwargs\u001b[0m\u001b[0;34m)\u001b[0m \u001b[0;32mas\u001b[0m \u001b[0mfeatures\u001b[0m\u001b[0;34m:\u001b[0m\u001b[0;34m\u001b[0m\u001b[0m\n\u001b[0m\u001b[1;32m    161\u001b[0m \u001b[0;34m\u001b[0m\u001b[0m\n\u001b[1;32m    162\u001b[0m             \u001b[0;31m# In a future Fiona release the crs attribute of features will\u001b[0m\u001b[0;34m\u001b[0m\u001b[0;34m\u001b[0m\u001b[0m\n",
      "\u001b[0;32m~/miniconda3/envs/mres_proj/lib/python3.7/site-packages/fiona/env.py\u001b[0m in \u001b[0;36mwrapper\u001b[0;34m(*args, **kwargs)\u001b[0m\n\u001b[1;32m    406\u001b[0m     \u001b[0;32mdef\u001b[0m \u001b[0mwrapper\u001b[0m\u001b[0;34m(\u001b[0m\u001b[0;34m*\u001b[0m\u001b[0margs\u001b[0m\u001b[0;34m,\u001b[0m \u001b[0;34m**\u001b[0m\u001b[0mkwargs\u001b[0m\u001b[0;34m)\u001b[0m\u001b[0;34m:\u001b[0m\u001b[0;34m\u001b[0m\u001b[0m\n\u001b[1;32m    407\u001b[0m         \u001b[0;32mif\u001b[0m \u001b[0mlocal\u001b[0m\u001b[0;34m.\u001b[0m\u001b[0m_env\u001b[0m\u001b[0;34m:\u001b[0m\u001b[0;34m\u001b[0m\u001b[0m\n\u001b[0;32m--> 408\u001b[0;31m             \u001b[0;32mreturn\u001b[0m \u001b[0mf\u001b[0m\u001b[0;34m(\u001b[0m\u001b[0;34m*\u001b[0m\u001b[0margs\u001b[0m\u001b[0;34m,\u001b[0m \u001b[0;34m**\u001b[0m\u001b[0mkwargs\u001b[0m\u001b[0;34m)\u001b[0m\u001b[0;34m\u001b[0m\u001b[0m\n\u001b[0m\u001b[1;32m    409\u001b[0m         \u001b[0;32melse\u001b[0m\u001b[0;34m:\u001b[0m\u001b[0;34m\u001b[0m\u001b[0m\n\u001b[1;32m    410\u001b[0m             \u001b[0;32mif\u001b[0m \u001b[0misinstance\u001b[0m\u001b[0;34m(\u001b[0m\u001b[0margs\u001b[0m\u001b[0;34m[\u001b[0m\u001b[0;36m0\u001b[0m\u001b[0;34m]\u001b[0m\u001b[0;34m,\u001b[0m \u001b[0mstr\u001b[0m\u001b[0;34m)\u001b[0m\u001b[0;34m:\u001b[0m\u001b[0;34m\u001b[0m\u001b[0m\n",
      "\u001b[0;32m~/miniconda3/envs/mres_proj/lib/python3.7/site-packages/fiona/__init__.py\u001b[0m in \u001b[0;36mopen\u001b[0;34m(fp, mode, driver, schema, crs, encoding, layer, vfs, enabled_drivers, crs_wkt, **kwargs)\u001b[0m\n\u001b[1;32m    255\u001b[0m         \u001b[0;32mif\u001b[0m \u001b[0mmode\u001b[0m \u001b[0;32min\u001b[0m \u001b[0;34m(\u001b[0m\u001b[0;34m'a'\u001b[0m\u001b[0;34m,\u001b[0m \u001b[0;34m'r'\u001b[0m\u001b[0;34m)\u001b[0m\u001b[0;34m:\u001b[0m\u001b[0;34m\u001b[0m\u001b[0m\n\u001b[1;32m    256\u001b[0m             c = Collection(path, mode, driver=driver, encoding=encoding,\n\u001b[0;32m--> 257\u001b[0;31m                            layer=layer, enabled_drivers=enabled_drivers, **kwargs)\n\u001b[0m\u001b[1;32m    258\u001b[0m         \u001b[0;32melif\u001b[0m \u001b[0mmode\u001b[0m \u001b[0;34m==\u001b[0m \u001b[0;34m'w'\u001b[0m\u001b[0;34m:\u001b[0m\u001b[0;34m\u001b[0m\u001b[0m\n\u001b[1;32m    259\u001b[0m             \u001b[0;32mif\u001b[0m \u001b[0mschema\u001b[0m\u001b[0;34m:\u001b[0m\u001b[0;34m\u001b[0m\u001b[0m\n",
      "\u001b[0;32m~/miniconda3/envs/mres_proj/lib/python3.7/site-packages/fiona/collection.py\u001b[0m in \u001b[0;36m__init__\u001b[0;34m(self, path, mode, driver, schema, crs, encoding, layer, vsi, archive, enabled_drivers, crs_wkt, ignore_fields, ignore_geometry, **kwargs)\u001b[0m\n\u001b[1;32m    160\u001b[0m             \u001b[0;32mif\u001b[0m \u001b[0mself\u001b[0m\u001b[0;34m.\u001b[0m\u001b[0mmode\u001b[0m \u001b[0;34m==\u001b[0m \u001b[0;34m'r'\u001b[0m\u001b[0;34m:\u001b[0m\u001b[0;34m\u001b[0m\u001b[0m\n\u001b[1;32m    161\u001b[0m                 \u001b[0mself\u001b[0m\u001b[0;34m.\u001b[0m\u001b[0msession\u001b[0m \u001b[0;34m=\u001b[0m \u001b[0mSession\u001b[0m\u001b[0;34m(\u001b[0m\u001b[0;34m)\u001b[0m\u001b[0;34m\u001b[0m\u001b[0m\n\u001b[0;32m--> 162\u001b[0;31m                 \u001b[0mself\u001b[0m\u001b[0;34m.\u001b[0m\u001b[0msession\u001b[0m\u001b[0;34m.\u001b[0m\u001b[0mstart\u001b[0m\u001b[0;34m(\u001b[0m\u001b[0mself\u001b[0m\u001b[0;34m,\u001b[0m \u001b[0;34m**\u001b[0m\u001b[0mkwargs\u001b[0m\u001b[0;34m)\u001b[0m\u001b[0;34m\u001b[0m\u001b[0m\n\u001b[0m\u001b[1;32m    163\u001b[0m             \u001b[0;32melif\u001b[0m \u001b[0mself\u001b[0m\u001b[0;34m.\u001b[0m\u001b[0mmode\u001b[0m \u001b[0;32min\u001b[0m \u001b[0;34m(\u001b[0m\u001b[0;34m'a'\u001b[0m\u001b[0;34m,\u001b[0m \u001b[0;34m'w'\u001b[0m\u001b[0;34m)\u001b[0m\u001b[0;34m:\u001b[0m\u001b[0;34m\u001b[0m\u001b[0m\n\u001b[1;32m    164\u001b[0m                 \u001b[0mself\u001b[0m\u001b[0;34m.\u001b[0m\u001b[0msession\u001b[0m \u001b[0;34m=\u001b[0m \u001b[0mWritingSession\u001b[0m\u001b[0;34m(\u001b[0m\u001b[0;34m)\u001b[0m\u001b[0;34m\u001b[0m\u001b[0m\n",
      "\u001b[0;31mKeyboardInterrupt\u001b[0m: "
     ]
    }
   ],
   "source": [
    "#region of interest\n",
    "studyRegion = '/gws/nopw/j04/ai4er/users/jl2182/data/Mres_Data/GeoJSONS/drc_training_new.geojson'\n",
    "studyRegion = gpd.read_file(studyRegion)\n",
    "print(studyRegion.head())\n",
    "print(studyRegion.crs)\n"
   ]
  },
  {
   "cell_type": "code",
   "execution_count": null,
   "id": "da67238f",
   "metadata": {},
   "outputs": [],
   "source": [
    "fig, ax = plt.subplots(figsize=(6, 6))\n",
    "\n",
    "studyRegion.plot(ax=ax)\n",
    "\n",
    "ax.set_title(\"studyRegion\",\n",
    "             fontsize=16)\n",
    "plt.show()"
   ]
  },
  {
   "cell_type": "markdown",
   "id": "8539d603",
   "metadata": {},
   "source": [
    "### Importing and Exploring the Landcover Data"
   ]
  },
  {
   "cell_type": "code",
   "execution_count": null,
   "id": "108b541e",
   "metadata": {},
   "outputs": [],
   "source": [
    "#landcover data\n",
    "ESA_CCI = '/gws/nopw/j04/ai4er/users/jl2182/data/Mres_Data/ESA_CCI/TIF/ESA_CCI_LC_Map_2013.tif'\n",
    "landcover = xr.open_rasterio(ESA_CCI)\n",
    "print(landcover)\n"
   ]
  },
  {
   "cell_type": "code",
   "execution_count": null,
   "id": "eb48cc57",
   "metadata": {},
   "outputs": [],
   "source": [
    "#landcover classes\n",
    "landcover_classes = '/gws/nopw/j04/ai4er/users/jl2182/data/Mres_Data/ESA_CCI/TIF/ESACCI-LC-Legend.csv'\n",
    "classes = pd.read_csv(landcover_classes, delimiter=\";\", index_col=0)\n",
    "\n",
    "print(f\"There are {len(classes)} classes.\")\n",
    "print(classes.head())"
   ]
  },
  {
   "cell_type": "code",
   "execution_count": null,
   "id": "cb9d3a71",
   "metadata": {},
   "outputs": [],
   "source": [
    "#explore statistics\n",
    "print(landcover.rio.crs)\n",
    "print(landcover.rio.nodata)\n",
    "print(landcover.rio.bounds())\n",
    "print(landcover.rio.width)\n",
    "print(landcover.rio.height)\n",
    "print(landcover.rio.crs.wkt)"
   ]
  },
  {
   "cell_type": "code",
   "execution_count": null,
   "id": "734974e6",
   "metadata": {},
   "outputs": [],
   "source": [
    "#landcover.values\n",
    "landcover"
   ]
  },
  {
   "cell_type": "markdown",
   "id": "949961ad",
   "metadata": {},
   "source": [
    "### Reproject and Clip the Landcover Data to DRC Cooridnate Projection and Study Region"
   ]
  },
  {
   "cell_type": "code",
   "execution_count": null,
   "id": "ef40682c",
   "metadata": {},
   "outputs": [],
   "source": [
    "drc_landcover = landcover.rio.clip(studyRegion.geometry.apply(mapping))"
   ]
  },
  {
   "cell_type": "code",
   "execution_count": null,
   "id": "cf0b4a79",
   "metadata": {},
   "outputs": [],
   "source": [
    "#define projection for DRC\n",
    "crs_drc = CRS.from_string('EPSG:3341')\n",
    "landcover_drc_crs = drc_landcover.rio.reproject(crs_drc)"
   ]
  },
  {
   "cell_type": "code",
   "execution_count": null,
   "id": "86b17057",
   "metadata": {},
   "outputs": [],
   "source": [
    "landcover_drc_crs.rio.crs\n",
    "landcover_drc_crs.shape"
   ]
  },
  {
   "cell_type": "code",
   "execution_count": null,
   "id": "33bde6c4",
   "metadata": {},
   "outputs": [],
   "source": [
    "landcover_drc_crs.values"
   ]
  },
  {
   "cell_type": "code",
   "execution_count": null,
   "id": "82e66871",
   "metadata": {},
   "outputs": [],
   "source": [
    "#save as raster ahead of reclassification\n",
    "landcover_drc_crs.rio.to_raster('/gws/nopw/j04/ai4er/users/jl2182/data/Mres_Data/ESA_CCI_Unmerged.tif')"
   ]
  },
  {
   "cell_type": "markdown",
   "id": "7aa68ea4",
   "metadata": {},
   "source": [
    "### Reclassify classes "
   ]
  },
  {
   "cell_type": "code",
   "execution_count": 8,
   "id": "74edc6c5",
   "metadata": {},
   "outputs": [],
   "source": [
    "#training_landcover_path = '/gws/nopw/j04/ai4er/users/jl2182/data/Mres_Data/ESA_CCI_Unmerged.tif'\n",
    "#training_landcover = xr.open_rasterio(training_landcover_path)\n"
   ]
  },
  {
   "cell_type": "code",
   "execution_count": null,
   "id": "83f871a0",
   "metadata": {},
   "outputs": [],
   "source": [
    "training_landcover.plot()"
   ]
  },
  {
   "cell_type": "code",
   "execution_count": 6,
   "id": "740e1ac8",
   "metadata": {},
   "outputs": [
    {
     "data": {
      "text/html": [
       "<div>\n",
       "<style scoped>\n",
       "    .dataframe tbody tr th:only-of-type {\n",
       "        vertical-align: middle;\n",
       "    }\n",
       "\n",
       "    .dataframe tbody tr th {\n",
       "        vertical-align: top;\n",
       "    }\n",
       "\n",
       "    .dataframe thead th {\n",
       "        text-align: right;\n",
       "    }\n",
       "</style>\n",
       "<table border=\"1\" class=\"dataframe\">\n",
       "  <thead>\n",
       "    <tr style=\"text-align: right;\">\n",
       "      <th></th>\n",
       "      <th>pixel_count</th>\n",
       "      <th>class_name</th>\n",
       "    </tr>\n",
       "  </thead>\n",
       "  <tbody>\n",
       "    <tr>\n",
       "      <th>1</th>\n",
       "      <td>120176</td>\n",
       "      <td>Cropland</td>\n",
       "    </tr>\n",
       "    <tr>\n",
       "      <th>2</th>\n",
       "      <td>179811</td>\n",
       "      <td>Shrubland</td>\n",
       "    </tr>\n",
       "    <tr>\n",
       "      <th>3</th>\n",
       "      <td>984873</td>\n",
       "      <td>Forest</td>\n",
       "    </tr>\n",
       "    <tr>\n",
       "      <th>4</th>\n",
       "      <td>4036</td>\n",
       "      <td>Urban</td>\n",
       "    </tr>\n",
       "    <tr>\n",
       "      <th>5</th>\n",
       "      <td>33701</td>\n",
       "      <td>Water</td>\n",
       "    </tr>\n",
       "    <tr>\n",
       "      <th>6</th>\n",
       "      <td>2166902</td>\n",
       "      <td>No Data and Other</td>\n",
       "    </tr>\n",
       "  </tbody>\n",
       "</table>\n",
       "</div>"
      ],
      "text/plain": [
       "   pixel_count         class_name\n",
       "1       120176           Cropland\n",
       "2       179811          Shrubland\n",
       "3       984873             Forest\n",
       "4         4036              Urban\n",
       "5        33701              Water\n",
       "6      2166902  No Data and Other"
      ]
     },
     "execution_count": 6,
     "metadata": {},
     "output_type": "execute_result"
    }
   ],
   "source": [
    "training_landcover_path = '/gws/nopw/j04/ai4er/users/jl2182/data/Mres_Data/landcover_clipped_reproj.tif'\n",
    "training_landcover = xr.open_rasterio(training_landcover_path)\n",
    "\n",
    "def reclassify_landcover(input_array):\n",
    "    '''input xarray.DataArray with classes and output dataarray with super classes\n",
    "        but same coords and attributes as input'''\n",
    "\n",
    "    new_class_1 = np.where((input_array == 10)|(input_array == 20)|(input_array ==130), \n",
    "                             1, input_array) #cropland\n",
    "    new_class_2 = np.where((input_array == 11)|(input_array == 12)|(input_array == 30)|(input_array == 153)|(input_array == 152)|(input_array == 151)|(input_array == 150)|(input_array == 110)|(input_array == 120)|(input_array == 121)|(input_array == 122), \n",
    "                             2, new_class_1)#shrubland\n",
    "    #new_class_3 = np.where((input_array == 40), \n",
    "                             #3, new_class_2)#mosaic vegetation\n",
    "    new_class_3 = np.where((input_array == 50)|(input_array == 60)|(input_array == 40)|(input_array == 61)|(input_array == 62)|(input_array == 100)|(input_array == 151)|(input_array == 70)|(input_array == 71)|(input_array == 72)|(input_array == 80)|(input_array == 81)|(input_array == 82)|(input_array == 90)|(input_array == 160)|(input_array == 170), \n",
    "                             3, new_class_2)#forest\n",
    "    #new_class_3 = np.where((input_array == 11)|(input_array == 12)|(input_array == 40)|, \n",
    "                             #3, new_class_2)#shrubland\n",
    "    #new_class_4 = np.where((input_array ==130), \n",
    "                             #4, new_class_3) #grassland\n",
    "    new_class_4 = np.where((input_array == 190)|(input_array == 202)|(input_array == 201)|(input_array == 200), \n",
    "                             4, new_class_3) #urban\n",
    "    new_class_5 = np.where((input_array == 210)|(input_array == 180), \n",
    "                             5, new_class_4)#water\n",
    "    new_class_6 = np.where((input_array == 0)|(input_array == 140)|(input_array == 220), \n",
    "                             6, new_class_5)#No data and Other\n",
    "    #new_class_10 = np.where((input_array == 0), 10, new_class_9) #no data\n",
    "\n",
    "    \n",
    "    output_array_final = xarray.DataArray(data=new_class_6, coords=input_array.coords, attrs=input_array.attrs)\n",
    "    \n",
    "    return output_array_final\n",
    "\n",
    "#super classes\n",
    "drc_training_landcover = reclassify_landcover(training_landcover)\n",
    "superclass_data=[]\n",
    "superclass_vals = np.unique(drc_training_landcover)\n",
    "for c in superclass_vals:\n",
    "    superclass_data.append((drc_training_landcover == c).sum())\n",
    "\n",
    "superclass_df = pd.DataFrame(superclass_data, index = superclass_vals, columns = ['pixel_count']) \n",
    "\n",
    "\n",
    "superclass_df.insert(superclass_df.shape[1], 'class_name', ['Cropland', 'Shrubland', 'Forest',\n",
    "                         'Urban', 'Water', 'No Data and Other'\n",
    "                                                           ])\n",
    "\n",
    "superclass_df"
   ]
  },
  {
   "cell_type": "code",
   "execution_count": 7,
   "id": "d322166f",
   "metadata": {},
   "outputs": [],
   "source": [
    "drc_training_landcover.rio.to_raster('/gws/nopw/j04/ai4er/users/jl2182/data/Mres_Data/classification_training_data/third_remerge_landcover_training_data.tif')"
   ]
  },
  {
   "cell_type": "code",
   "execution_count": null,
   "id": "dd03597f",
   "metadata": {},
   "outputs": [],
   "source": [
    "savetxt('/gws/nopw/j04/ai4er/users/jl2182/data/Mres_Data/drc_training_landcover', drc_training_landcover, delimiter=',')"
   ]
  },
  {
   "cell_type": "code",
   "execution_count": null,
   "id": "4c61a814",
   "metadata": {},
   "outputs": [],
   "source": [
    "drc_training_landcover"
   ]
  },
  {
   "cell_type": "code",
   "execution_count": null,
   "id": "ed9adff4",
   "metadata": {},
   "outputs": [],
   "source": [
    "#from 3D ----> 2D\n",
    "drc_training_landcover = landcover_drc_crs[0, :, :]\n",
    "print(drc_training_landcover.shape)"
   ]
  },
  {
   "cell_type": "code",
   "execution_count": null,
   "id": "6eb5c4cb",
   "metadata": {},
   "outputs": [],
   "source": [
    "\n",
    "# save to csv file\n",
    "savetxt('/gws/nopw/j04/ai4er/users/jl2182/data/Mres_Data/ESA_Landcover_Data.csv', ESA_Landcover_Data, delimiter=',')"
   ]
  },
  {
   "cell_type": "code",
   "execution_count": null,
   "id": "789ca553",
   "metadata": {},
   "outputs": [],
   "source": [
    "landcover_drc_crs.values"
   ]
  },
  {
   "cell_type": "code",
   "execution_count": null,
   "id": "84a77b76",
   "metadata": {},
   "outputs": [],
   "source": [
    "# ESA_Landcover_Data.values\n",
    "ESA_Landcover_Data"
   ]
  },
  {
   "cell_type": "code",
   "execution_count": null,
   "id": "ebfdc79c",
   "metadata": {},
   "outputs": [],
   "source": [
    "#print(landcover_drc_crs)"
   ]
  },
  {
   "cell_type": "code",
   "execution_count": null,
   "id": "4c6591c6",
   "metadata": {},
   "outputs": [],
   "source": [
    "f, ax = plt.subplots(figsize=(20, 10))\n",
    "landcover_drc_crs.plot(ax=ax)\n",
    "ax.set(title=\"Landcover Map of Training Region\")\n",
    "ax.set_axis_off()\n",
    "plt.savefig('/gws/nopw/j04/ai4er/users/jl2182/data/Mres_Data/landcover_map_of_training_region.png')\n",
    "plt.show()"
   ]
  },
  {
   "cell_type": "code",
   "execution_count": null,
   "id": "5cfd2934",
   "metadata": {},
   "outputs": [],
   "source": [
    "f, ax = plt.subplots(figsize=(20, 10))\n",
    "drc_training_landcover.plot(ax=ax)\n",
    "ax.set(title=\"Landcover Map of Training Region\")\n",
    "ax.set_axis_off()\n",
    "plt.savefig('/gws/nopw/j04/ai4er/users/jl2182/data/Mres_Data/landcover_map_of_training_region.png')\n",
    "plt.show()"
   ]
  },
  {
   "cell_type": "markdown",
   "id": "d8f994bc",
   "metadata": {},
   "source": [
    "# Satellite Data"
   ]
  },
  {
   "cell_type": "markdown",
   "id": "95e511e5",
   "metadata": {},
   "source": [
    "### Importing and Exploring the Satellite Data\n"
   ]
  },
  {
   "cell_type": "code",
   "execution_count": null,
   "id": "42bb19a7",
   "metadata": {},
   "outputs": [],
   "source": [
    "#l8 = '/gws/nopw/j04/ai4er/users/jl2182/data/Mres_Data/training_tiles/merged_l8_train_data.tif'\n",
    "l8_reprojected = '/gws/nopw/j04/ai4er/users/jl2182/data/Mres_Data/training_tiles/reprojected_l8_train.tif' #the imagery was reprojected in \n",
    "#the command line using gdal as rioxarray was re-filloing the array with unwanted values\n",
    "l8_data = xr.open_rasterio(l8_reprojected)\n",
    "print(l8_data)"
   ]
  },
  {
   "cell_type": "code",
   "execution_count": null,
   "id": "5bd5a65a",
   "metadata": {},
   "outputs": [],
   "source": [
    "#explore statistics\n",
    "print(l8_data.rio.crs)\n",
    "print(l8_data.rio.nodata)\n",
    "print(l8_data.rio.bounds())\n",
    "print(l8_data.rio.width)\n",
    "print(l8_data.rio.height)\n",
    "print(l8_data.rio.crs.wkt)"
   ]
  },
  {
   "cell_type": "code",
   "execution_count": null,
   "id": "1b8687ea",
   "metadata": {},
   "outputs": [],
   "source": [
    "l8_data.values\n",
    "#l8_data"
   ]
  },
  {
   "cell_type": "code",
   "execution_count": null,
   "id": "8957ac03",
   "metadata": {},
   "outputs": [],
   "source": [
    "l8_data[4].plot() #plotting one band from the training imagery"
   ]
  },
  {
   "cell_type": "code",
   "execution_count": null,
   "id": "33e24a01",
   "metadata": {},
   "outputs": [],
   "source": [
    "#from 3D ----> 2D\n",
    "l8_data = l8_data[0, :, :]\n",
    "print(l8_data.shape)"
   ]
  },
  {
   "cell_type": "code",
   "execution_count": null,
   "id": "c4a8aeea",
   "metadata": {},
   "outputs": [],
   "source": [
    "from numpy import savetxt\n",
    "\n",
    "# save to csv file\n",
    "savetxt('/gws/nopw/j04/ai4er/users/jl2182/data/Mres_Data/Landsat_Satellite_Data_Training.csv', l8_data, delimiter=',')"
   ]
  },
  {
   "cell_type": "code",
   "execution_count": null,
   "id": "4f5a30da",
   "metadata": {},
   "outputs": [],
   "source": [
    "l8_data"
   ]
  },
  {
   "cell_type": "markdown",
   "id": "4d47fb44",
   "metadata": {},
   "source": [
    "### Resample Landsat Data to match resolution of Landcover Data"
   ]
  },
  {
   "cell_type": "code",
   "execution_count": null,
   "id": "538dd3e9",
   "metadata": {},
   "outputs": [],
   "source": [
    "def write_image(arr: np.array, save_path: os.PathLike, **raster_meta) -> None:\n",
    "    \"\"\"\n",
    "    Write a Geotiff to disk with the given raster metadata.\n",
    "    Convenience function that automatically sets permissions correctly.\n",
    "    Args:\n",
    "        arr (np.array): The data to write to disk in geotif format\n",
    "        save_path (os.PathLike): The path to write to\n",
    "    \"\"\"\n",
    "    with rasterio.open(save_path, \"w\", **raster_meta) as target:\n",
    "        target.write(arr)\n",
    "      # Allow group workspace users access\n",
    "\n",
    "\n",
    "def downsample_image(\n",
    "    image: rasterio.DatasetReader,\n",
    "    bands: List[int],\n",
    "    downsample_factor: int = 10.311,\n",
    "    resampling: Resampling = Resampling.bilinear,\n",
    ") -> Tuple[np.ndarray, Any]:\n",
    "    \"\"\"\n",
    "    Downsample the given bands of a raster image by the given downsample_fator.\n",
    "    Args:\n",
    "        image (rasterio.DatasetReader): Rasterio IO handle to the image\n",
    "        bands (List[int]): The bands to downsample\n",
    "        downsample_factor (int, optional): Factor by which the image will be\n",
    "            downsampled. Defaults to 2.\n",
    "        resampling (Resampling, optional): Resampling algorithm to use. Must be one of\n",
    "            Rasterio's built-in resampling algorithms. Defaults to Resampling.bilinear.\n",
    "    Returns:\n",
    "        Tuple[np.ndarray, Any]: Return the resampled bands of the image as a numpy\n",
    "            array together with the transform.\n",
    "    \"\"\"\n",
    "\n",
    "    downsampled_image = image.read(\n",
    "        bands,\n",
    "        out_shape=(\n",
    "            int(image.height / downsample_factor),\n",
    "            int(image.width / downsample_factor),\n",
    "        ),\n",
    "        resampling=resampling,\n",
    "    )\n",
    "\n",
    "    transform = image.transform * image.transform.scale(\n",
    "        (image.width / downsampled_image.shape[-1]),\n",
    "        (image.height / downsampled_image.shape[-2]),\n",
    "    )\n",
    "\n",
    "    return downsampled_image, transform\n",
    "\n",
    "\n",
    "def generate_downsample(\n",
    "    file_path: os.PathLike,\n",
    "    downsample_factor: int = 10.311,\n",
    "    resampling: Resampling = Resampling.bilinear,\n",
    "    overwrite: bool = False,\n",
    ") -> None:\n",
    "    \"\"\"\n",
    "    Generate downsample of the raster file at `file_path` and save it in same folder.\n",
    "    Saved file will have appendix `_downsample_{downsample_factor}x.tif`\n",
    "    Args:\n",
    "        file_path (os.PathLike): The path to the raster image todownsample\n",
    "        downsample_factor (int, optional): The downsampling factor to use.\n",
    "            Defaults to 2.\n",
    "        resampling (Resampling, optional): The resampling algorithm to use.\n",
    "            Defaults to Resampling.bilinear.\n",
    "        overwrite (bool, optional): Iff True, any existing downsampling file with the\n",
    "            same downsampling factor will be overwritten. Defaults to False.\n",
    "    \"\"\"\n",
    "\n",
    "    save_path = '/gws/nopw/j04/ai4er/users/jl2182/data/Mres_Data/L8_training_data/resampled_satellite_nans.tif'\n",
    "\n",
    "    with rasterio.open(file_path) as image:\n",
    "        downsampled_image, transform = downsample_image(\n",
    "            image,\n",
    "            image.indexes,\n",
    "            downsample_factor=downsample_factor,\n",
    "            resampling=resampling,\n",
    "        )\n",
    "        nbands, height, width = downsampled_image.shape\n",
    "\n",
    "    write_image(\n",
    "        downsampled_image,\n",
    "        save_path,\n",
    "        driver=\"GTiff\",\n",
    "        height=height,\n",
    "        width=width,\n",
    "        count=nbands,\n",
    "        dtype=\"float64\",\n",
    "        crs=image.crs,\n",
    "        transform=transform,\n",
    "        nodata=image.nodata,\n",
    "    )\n"
   ]
  },
  {
   "cell_type": "code",
   "execution_count": null,
   "id": "4cc06dc8",
   "metadata": {},
   "outputs": [],
   "source": [
    "generate_downsample(l8_reprojected)"
   ]
  },
  {
   "cell_type": "code",
   "execution_count": null,
   "id": "9b496e32",
   "metadata": {},
   "outputs": [],
   "source": [
    "#visualising resampled landsat imagery\n",
    "l8_resampled = '/gws/nopw/j04/ai4er/users/jl2182/data/Mres_Data/L8_training_data/resampled_satellite_nans.tif'\n",
    "l8_resampled = xr.open_rasterio(l8_resampled)\n",
    "print(l8_resampled)"
   ]
  },
  {
   "cell_type": "code",
   "execution_count": null,
   "id": "6d476a41",
   "metadata": {},
   "outputs": [],
   "source": [
    "l8_resampled[5].plot()"
   ]
  },
  {
   "cell_type": "code",
   "execution_count": null,
   "id": "da5243f8",
   "metadata": {},
   "outputs": [],
   "source": [
    "l8_resampled.values"
   ]
  },
  {
   "cell_type": "code",
   "execution_count": null,
   "id": "c9b3a7c8",
   "metadata": {},
   "outputs": [],
   "source": [
    "### turning all 0 non data vlaues into nans\n",
    "#l8_final = l8_resampled.where(l8_resampled !=0)\n",
    "l8_filled = l8_resampled.fillna(0)\n",
    "l8_filled.fillna(0)"
   ]
  },
  {
   "cell_type": "code",
   "execution_count": null,
   "id": "81309a3f",
   "metadata": {},
   "outputs": [],
   "source": [
    "#converting to raster for use in classification\n",
    "l8_filled.rio.to_raster('/gws/nopw/j04/ai4er/users/jl2182/data/Mres_Data/classification_training_data/final_filled_l8_training_data.tif')"
   ]
  },
  {
   "cell_type": "code",
   "execution_count": null,
   "id": "3f5a827d",
   "metadata": {},
   "outputs": [],
   "source": [
    "#explore statistics\n",
    "print(l8_resampled.rio.crs)\n",
    "print(l8_resampled.rio.nodata)\n",
    "print(l8_resampled.rio.bounds())\n",
    "print(l8_resampled.rio.width)\n",
    "print(l8_resampled.rio.height)\n",
    "print(l8_resampled.rio.crs.wkt)"
   ]
  },
  {
   "cell_type": "code",
   "execution_count": null,
   "id": "227ab1b9",
   "metadata": {},
   "outputs": [],
   "source": [
    "### Merge satellite data tiles\n",
    "\n",
    "\"\"\"\n",
    "import rasterio\n",
    "import numpy as np\n",
    "from rasterio.merge import merge\n",
    "from rasterio.plot import show\n",
    "\n",
    "dirpath = '/gws/nopw/j04/ai4er/users/jl2182/data/Mres_Data/training_tiles'\n",
    "search_criteria = 'D*.tif'\n",
    "q = os.path.join(dirpath, search_criteria)\n",
    "dem_fps = glob.glob(q)\n",
    "src_files_to_mosaic = []\n",
    "\n",
    "for fp in dem_fps:\n",
    "    src = rasterio.open(fp)\n",
    "    src_files_to_mosaic.append(src)\n",
    "    \n",
    "mosaic, out_trans = merge(src_files_to_mosaic)\n",
    "\n",
    "\n",
    "\n",
    "\n",
    "src1 = rasterio.open('/gws/nopw/j04/ai4er/users/jl2182/data/Mres_Data/training_tiles/DRC_L8_2013_Training_Image_New-0000000000-0000000000.tif')\n",
    "src2 = rasterio.open('/gws/nopw/j04/ai4er/users/jl2182/data/Mres_Data/training_tiles/DRC_L8_2013_Training_Image_New-0000000000-0000008960.tif')\n",
    "src3 = rasterio.open('/gws/nopw/j04/ai4er/users/jl2182/data/Mres_Data/training_tiles/DRC_L8_2013_Training_Image_New-0000000000-0000017920.tif')\n",
    "src4 = rasterio.open('/gws/nopw/j04/ai4er/users/jl2182/data/Mres_Data/training_tiles/DRC_L8_2013_Training_Image_New-0000008960-0000000000.tif')\n",
    "src5 = rasterio.open('/gws/nopw/j04/ai4er/users/jl2182/data/Mres_Data/training_tiles/DRC_L8_2013_Training_Image_New-0000008960-0000008960.tif')\n",
    "src6 = rasterio.open('/gws/nopw/j04/ai4er/users/jl2182/data/Mres_Data/training_tiles/DRC_L8_2013_Training_Image_New-0000008960-0000017920.tif')\n",
    "\n",
    "srcs_to_mosaic = [src1, src2, src3, src4, src5, src6]\n",
    "\n",
    "# The merge function returns a single array and the affine transform info\n",
    "arr, out_trans = merge(srcs_to_mosaic)\n",
    "\"\"\""
   ]
  },
  {
   "cell_type": "code",
   "execution_count": null,
   "id": "4b48dad8",
   "metadata": {},
   "outputs": [],
   "source": [
    "#filled_l8_path = '/gws/nopw/j04/ai4er/users/jl2182/data/Mres_Data/filled_l8_data.tif'\n",
    "#filled_l8 = xr.open_rasterio(l8)\n",
    "#l8_data_drc_crs = l8_filled.rio.reproject(crs_drc)\n",
    "#warp = gdal.Warp('/gws/nopw/j04/ai4er/users/jl2182/data/Mres_Data/reprojected_l8.tif','/gws/nopw/j04/ai4er/users/jl2182/data/Mres_Data/filled_l8_data.tif',dstSRS='EPSG:3341')\n"
   ]
  },
  {
   "cell_type": "code",
   "execution_count": null,
   "id": "49b18657",
   "metadata": {},
   "outputs": [],
   "source": [
    "#l8_filled.rio.to_raster('/gws/nopw/j04/ai4er/users/jl2182/data/Mres_Data/filled_l8_data.tif')"
   ]
  },
  {
   "cell_type": "code",
   "execution_count": null,
   "id": "b8869c5a",
   "metadata": {},
   "outputs": [],
   "source": [
    "#l8_filled = l8_data.fillna(0)\n",
    "#l8_filled.fillna(0)"
   ]
  },
  {
   "cell_type": "code",
   "execution_count": null,
   "id": "0b532000",
   "metadata": {},
   "outputs": [],
   "source": [
    "#l8_filled.rio.to_raster('/gws/nopw/j04/ai4er/users/jl2182/data/Mres_Data/classification_training_data/filled_l8_training_data.tif')"
   ]
  }
 ],
 "metadata": {
  "kernelspec": {
   "display_name": "Python 3",
   "language": "python",
   "name": "python3"
  },
  "language_info": {
   "codemirror_mode": {
    "name": "ipython",
    "version": 3
   },
   "file_extension": ".py",
   "mimetype": "text/x-python",
   "name": "python",
   "nbconvert_exporter": "python",
   "pygments_lexer": "ipython3",
   "version": "3.7.0"
  }
 },
 "nbformat": 4,
 "nbformat_minor": 5
}
