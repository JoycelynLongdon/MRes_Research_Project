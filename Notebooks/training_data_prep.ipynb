{
 "cells": [
  {
   "cell_type": "code",
   "execution_count": 10,
   "id": "e27e459c",
   "metadata": {},
   "outputs": [],
   "source": [
    "import rasterio\n",
    "from rasterio.plot import show\n",
    "from rasterio.merge import merge\n",
    "from rasterio.plot import show\n",
    "import rasterio.features\n",
    "import rasterio.warp\n",
    "import glob\n",
    "import os\n",
    "import rioxarray as xr\n",
    "import pandas as pd\n",
    "import geopandas as gpd\n",
    "import numpy as np\n",
    "from rasterio.enums import Resampling\n",
    "from rasterio.crs import CRS\n",
    "\n",
    "\n",
    "\n",
    "%matplotlib inline\n"
   ]
  },
  {
   "cell_type": "markdown",
   "id": "ede2afef",
   "metadata": {},
   "source": [
    "# Landcover Data"
   ]
  },
  {
   "cell_type": "markdown",
   "id": "8176c88d",
   "metadata": {},
   "source": [
    "### Importing and Exploring the Landcover Data"
   ]
  },
  {
   "cell_type": "code",
   "execution_count": 11,
   "id": "205fb2e6",
   "metadata": {},
   "outputs": [
    {
     "name": "stdout",
     "output_type": "stream",
     "text": [
      "                                            geometry\n",
      "0  POLYGON ((30.80566 -8.21149, 30.45410 -7.58033...\n"
     ]
    }
   ],
   "source": [
    "#region of interest\n",
    "studyRegion = '/Users/joycelynlongdon/Desktop/Cambridge/CambridgeCoding/MRES/Data/GeoJSONS/DRC_Training_Polygon.geojson'\n",
    "studyRegion = gpd.read_file(studyRegion)\n",
    "print(studyRegion.head())"
   ]
  },
  {
   "cell_type": "code",
   "execution_count": 12,
   "id": "108b541e",
   "metadata": {},
   "outputs": [
    {
     "name": "stdout",
     "output_type": "stream",
     "text": [
      "<xarray.DataArray 'lccs_class' (time: 1, y: 64800, x: 129600)>\n",
      "[8398080000 values with dtype=uint8]\n",
      "Coordinates:\n",
      "  * time         (time) object 2013-01-01 00:00:00\n",
      "  * x            (x) float64 -180.0 -180.0 -180.0 -180.0 ... 180.0 180.0 180.0\n",
      "  * y            (y) float64 90.0 90.0 89.99 89.99 ... -89.99 -89.99 -90.0 -90.0\n",
      "    spatial_ref  int64 0\n",
      "Attributes:\n",
      "    ancillary_variables:  processed_flag current_pixel_state observation_coun...\n",
      "    flag_colors:          #ffff64 #ffff64 #ffff00 #aaf0f0 #dcf064 #c8c864 #00...\n",
      "    flag_meanings:        no_data cropland_rainfed cropland_rainfed_herbaceou...\n",
      "    flag_values:          [  0.  10.  11.  12.  20.  30.  40.  50.  60.  61. ...\n",
      "    long_name:            Land cover class defined in LCCS\n",
      "    standard_name:        land_cover_lccs\n",
      "    valid_max:            220\n",
      "    valid_min:            1\n",
      "    _FillValue:           0.0\n",
      "    scale_factor:         1.0\n",
      "    add_offset:           0.0\n"
     ]
    }
   ],
   "source": [
    "#landcover data\n",
    "ESA_CCI = '/Users/joycelynlongdon/Desktop/Cambridge/CambridgeCoding/MRES/Data/ESA_CCI/TIF/ESA_CCI_LC_Map_2013.tif'\n",
    "landcover = xr.open_rasterio(ESA_CCI)\n",
    "print(landcover)\n"
   ]
  },
  {
   "cell_type": "code",
   "execution_count": 13,
   "id": "cb9d3a71",
   "metadata": {},
   "outputs": [
    {
     "name": "stdout",
     "output_type": "stream",
     "text": [
      "EPSG:4326\n",
      "0\n",
      "(-180.0, -90.0000000000144, 180.0000000000288, 90.0)\n",
      "129600\n",
      "64800\n",
      "GEOGCS[\"WGS 84\",DATUM[\"WGS_1984\",SPHEROID[\"WGS 84\",6378137,298.257223563,AUTHORITY[\"EPSG\",\"7030\"]],AUTHORITY[\"EPSG\",\"6326\"]],PRIMEM[\"Greenwich\",0],UNIT[\"degree\",0.0174532925199433,AUTHORITY[\"EPSG\",\"9122\"]],AXIS[\"Latitude\",NORTH],AXIS[\"Longitude\",EAST],AUTHORITY[\"EPSG\",\"4326\"]]\n"
     ]
    }
   ],
   "source": [
    "#explore statistics\n",
    "print(landcover.rio.crs)\n",
    "print(landcover.rio.nodata)\n",
    "print(landcover.rio.bounds())\n",
    "print(landcover.rio.width)\n",
    "print(landcover.rio.height)\n",
    "print(landcover.rio.crs.wkt)"
   ]
  },
  {
   "cell_type": "code",
   "execution_count": 14,
   "id": "734974e6",
   "metadata": {},
   "outputs": [],
   "source": [
    "#landcover.values"
   ]
  },
  {
   "cell_type": "markdown",
   "id": "949961ad",
   "metadata": {},
   "source": [
    "### Reproject the Landcover Data to DRC Cooridnate Projection"
   ]
  },
  {
   "cell_type": "code",
   "execution_count": 15,
   "id": "b18de6c8",
   "metadata": {},
   "outputs": [],
   "source": [
    "#define projection for DRC\n",
    "crs_drc = CRS.from_string('EPSG:3341')\n"
   ]
  },
  {
   "cell_type": "code",
   "execution_count": null,
   "id": "cf0b4a79",
   "metadata": {},
   "outputs": [],
   "source": [
    "landcover_drc_crs = landcover.rio.reproject(crs_drc)\n",
    "#landcover_drc_crs.rio.crs"
   ]
  },
  {
   "cell_type": "markdown",
   "id": "2a2c3785",
   "metadata": {},
   "source": [
    "### Clip to StudyRegion"
   ]
  },
  {
   "cell_type": "code",
   "execution_count": null,
   "id": "a8461b67",
   "metadata": {},
   "outputs": [],
   "source": [
    "drc_landcover = landcover.rio.clip(studyRegion)"
   ]
  },
  {
   "cell_type": "markdown",
   "id": "d8f994bc",
   "metadata": {},
   "source": [
    "# Satellite Data"
   ]
  },
  {
   "cell_type": "markdown",
   "id": "95e511e5",
   "metadata": {},
   "source": [
    "### Importing and Exploring the Landcover Data\n"
   ]
  },
  {
   "cell_type": "code",
   "execution_count": null,
   "id": "42bb19a7",
   "metadata": {},
   "outputs": [],
   "source": [
    "l8 = ''\n",
    "l8_data = xr.open_rasterio(l8)\n",
    "print(l8_data)"
   ]
  },
  {
   "cell_type": "code",
   "execution_count": null,
   "id": "5bd5a65a",
   "metadata": {},
   "outputs": [],
   "source": [
    "#explore statistics\n",
    "print(l8_data.rio.crs)\n",
    "print(l8_data.rio.nodata)\n",
    "print(l8_data.rio.bounds())\n",
    "print(l8_data.rio.width)\n",
    "print(l8_data.rio.height)\n",
    "print(l8_data.rio.crs.wkt)"
   ]
  },
  {
   "cell_type": "markdown",
   "id": "7d99d751",
   "metadata": {},
   "source": [
    "### Reproject the Landcover Data to DRC Cooridnate Projection"
   ]
  },
  {
   "cell_type": "code",
   "execution_count": null,
   "id": "4b48dad8",
   "metadata": {},
   "outputs": [],
   "source": [
    "l8_data_drc_crs = l8_data.rio.reproject(crs_drc)\n"
   ]
  },
  {
   "cell_type": "markdown",
   "id": "4d47fb44",
   "metadata": {},
   "source": [
    "### Resample Landsat Data to match resolution of Landcover Data"
   ]
  },
  {
   "cell_type": "code",
   "execution_count": null,
   "id": "dbde4be7",
   "metadata": {},
   "outputs": [],
   "source": [
    "#resample satellite data to same resolution as landcover data \n",
    "def write_image(arr: np.array, save_path: os.PathLike, **raster_meta) -> None:\n",
    "    \"\"\"\n",
    "    Write a Geotiff to disk with the given raster metadata.\n",
    "    Convenience function that automatically sets permissions correctly.\n",
    "    Args:\n",
    "        arr (np.array): The data to write to disk in geotif format\n",
    "        save_path (os.PathLike): The path to write to\n",
    "    \"\"\"\n",
    "\n",
    "    with rasterio.open(save_path, \"w\", **raster_meta) as target:\n",
    "        target.write(arr)\n",
    "    save_path.chmod(0o664)  # Allow group workspace users access\n",
    "\n",
    "def generate_downsample(\n",
    "    file_path: ESA_CCI,\n",
    "    downsample_factor: int = 10, #resampling to 300m\n",
    "    resampling: Resampling = Resampling.bilinear,\n",
    "    overwrite: bool = False,\n",
    ") -> None:\n",
    "    \"\"\"\n",
    "    Generate downsample of the raster file at `file_path` and save it in same folder.\n",
    "    Saved file will have appendix `_downsample_{downsample_factor}x.tif`\n",
    "    Args:\n",
    "        file_path (os.PathLike): The path to the raster image todownsample\n",
    "        downsample_factor (int, optional): The downsampling factor to use.\n",
    "            Defaults to 2.\n",
    "        resampling (Resampling, optional): The resampling algorithm to use.\n",
    "            Defaults to Resampling.bilinear.\n",
    "        overwrite (bool, optional): Iff True, any existing downsampling file with the\n",
    "            same downsampling factor will be overwritten. Defaults to False.\n",
    "    \"\"\"\n",
    "\n",
    "    save_path = ESA_CCI + f\"_downsample_{downsample_factor}x.tif\"\n",
    "    \n",
    "    with rasterio.open(file_path) as image:\n",
    "        downsampled_image, transform = downsample_image(\n",
    "            image,\n",
    "            image.indexes,\n",
    "            downsample_factor=downsample_factor,\n",
    "            resampling=resampling,\n",
    "        )\n",
    "        nbands, height, width = downsampled_image.shape\n",
    "        \n",
    "        write_image(\n",
    "        downsampled_image,\n",
    "        save_path,\n",
    "        driver=\"GTiff\",\n",
    "        height=height,\n",
    "        width=width,\n",
    "        count=nbands,\n",
    "        dtype=\"float64\",\n",
    "        crs=image.crs,\n",
    "        transform=transform,\n",
    "        nodata=image.nodata,\n",
    "    )\n",
    " \n"
   ]
  },
  {
   "cell_type": "code",
   "execution_count": null,
   "id": "19a80e91",
   "metadata": {},
   "outputs": [],
   "source": [
    "generate_downsample(l8_data_drc_crs)"
   ]
  },
  {
   "cell_type": "code",
   "execution_count": null,
   "id": "6b675ba0",
   "metadata": {},
   "outputs": [],
   "source": [
    "l8_data = landcover.rio.clip(studyRegion)"
   ]
  },
  {
   "cell_type": "code",
   "execution_count": null,
   "id": "c545c08c",
   "metadata": {},
   "outputs": [],
   "source": [
    "landcover.plot()"
   ]
  }
 ],
 "metadata": {
  "kernelspec": {
   "display_name": "Python 3",
   "language": "python",
   "name": "python3"
  },
  "language_info": {
   "codemirror_mode": {
    "name": "ipython",
    "version": 3
   },
   "file_extension": ".py",
   "mimetype": "text/x-python",
   "name": "python",
   "nbconvert_exporter": "python",
   "pygments_lexer": "ipython3",
   "version": "3.7.0"
  }
 },
 "nbformat": 4,
 "nbformat_minor": 5
}
