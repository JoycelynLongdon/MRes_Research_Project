{
 "cells": [
  {
   "cell_type": "code",
   "execution_count": 5,
   "id": "ba7205d0",
   "metadata": {},
   "outputs": [
    {
     "data": {
      "text/plain": [
       "'\\nCreated on Sat May 08 \\n\\nFunctions used to create Landsat 8 cloud and shadow free composites for given period and area of interest (aoi).\\n\\nCode sources:\\n- https://blog.gishub.org/earth-engine-tutorial-32-machine-learning-with-earth-engine-supervised-classification\\n- https://geohackweek.github.io/GoogleEarthEngine/05-classify-imagery/\\n- https://ceholden.github.io/open-geo-tutorial/python/chapter_5_classification.html\\n- GEE Documentation\\n\\n@author: Joycelyn Longdon\\n\\n'"
      ]
     },
     "execution_count": 5,
     "metadata": {},
     "output_type": "execute_result"
    }
   ],
   "source": [
    "\"\"\"\n",
    "Created on Sat May 08 \n",
    "\n",
    "Functions used to create Landsat 8 cloud and shadow free composites for given period and area of interest (aoi).\n",
    "\n",
    "Code sources:\n",
    "- https://blog.gishub.org/earth-engine-tutorial-32-machine-learning-with-earth-engine-supervised-classification\n",
    "- https://geohackweek.github.io/GoogleEarthEngine/05-classify-imagery/\n",
    "- https://ceholden.github.io/open-geo-tutorial/python/chapter_5_classification.html\n",
    "- GEE Documentation\n",
    "\n",
    "@author: Joycelyn Longdon\n",
    "\n",
    "\"\"\""
   ]
  },
  {
   "cell_type": "code",
   "execution_count": 1,
   "id": "6bcc80a5",
   "metadata": {},
   "outputs": [],
   "source": [
    "#imports\n",
    "\n",
    "import ee"
   ]
  },
  {
   "cell_type": "code",
   "execution_count": null,
   "id": "41f448c9",
   "metadata": {},
   "outputs": [],
   "source": [
    "#import the data, apply cloud mask and clip\n",
    "def get_l8_sr_cld_free_data(aoi, start_date, end_date, cloudMask):\n",
    "    \"\"\"\n",
    "    Build a cloud free composite of Landsat 8 Surface Reflectance Data\n",
    "    \"\"\"\n",
    "    image = ee.ImageCollection('LANDSAT/LC08/C01/T2_SR').filterDate(start_date, end_date) #NOT SURE IF THIS IS RIGHT\n",
    "    image = image.map(cloudMask)#apply cloud mask\n",
    "    l8_sr_cld_free = image.map(clip_image_to_aoi)#clip to aoi\n",
    "\n",
    "    #Map.addLayer(l8_sr_cld_free, vis_params, \"Landsat-8_2016\")\n",
    "    #Map\n",
    "    return l8_sr_cld_free\n",
    "    \n",
    "#NOT SURE IF THIS IS RIGHT"
   ]
  },
  {
   "cell_type": "code",
   "execution_count": null,
   "id": "990ec407",
   "metadata": {},
   "outputs": [],
   "source": [
    "#define cloud mask\n",
    "def cloudMask(image):\n",
    "  #Bits 3 and 5 are cloud shadow and cloud, respectively.\n",
    "    cloudShadowBitMask = (1 << 3)\n",
    "    cloudsBitMask = (1 << 5)\n",
    "    #Get the pixel QA band.\n",
    "    qa = image.select('pixel_qa')\n",
    "    #Both flags should be set to zero, indicating clear conditions.\n",
    "    mask = qa.bitwiseAnd(cloudShadowBitMask).eq(0).And(qa.bitwiseAnd(cloudsBitMask).eq(0))\n",
    "    return image.updateMask(mask)"
   ]
  },
  {
   "cell_type": "code",
   "execution_count": null,
   "id": "17d67688",
   "metadata": {},
   "outputs": [],
   "source": [
    "#reduce image and clip to aoi\n",
    "def clip_image_to_aoi(image):\n",
    "    #reduce image collection into one multiband image taking the median value of each pixel\n",
    "    image = image.median()\n",
    "    #clip image to required boundary for studyRegion\n",
    "    return image.clip(aoi) #NEED TO FIGURE OUT HOW TO DO THIS SEAMLESSLY WITH THE VARYING AOI'S"
   ]
  }
 ],
 "metadata": {
  "kernelspec": {
   "display_name": "Python 3",
   "language": "python",
   "name": "python3"
  },
  "language_info": {
   "codemirror_mode": {
    "name": "ipython",
    "version": 3
   },
   "file_extension": ".py",
   "mimetype": "text/x-python",
   "name": "python",
   "nbconvert_exporter": "python",
   "pygments_lexer": "ipython3",
   "version": "3.7.0"
  }
 },
 "nbformat": 4,
 "nbformat_minor": 5
}
