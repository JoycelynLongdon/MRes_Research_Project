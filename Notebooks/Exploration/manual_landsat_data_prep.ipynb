{
 "cells": [
  {
   "cell_type": "code",
   "execution_count": 1,
   "id": "50942893",
   "metadata": {},
   "outputs": [
    {
     "data": {
      "text/html": [
       "<p>To authorize access needed by Earth Engine, open the following\n",
       "        URL in a web browser and follow the instructions:</p>\n",
       "        <p><a href=https://accounts.google.com/o/oauth2/auth?client_id=517222506229-vsmmajv00ul0bs7p89v5m89qs8eb9359.apps.googleusercontent.com&scope=https%3A%2F%2Fwww.googleapis.com%2Fauth%2Fearthengine+https%3A%2F%2Fwww.googleapis.com%2Fauth%2Fdevstorage.full_control&redirect_uri=urn%3Aietf%3Awg%3Aoauth%3A2.0%3Aoob&response_type=code&code_challenge=2JK2M8rZFzPytuC9jwvBZbYZaeYTkp8Uc1uTAnmXrlw&code_challenge_method=S256>https://accounts.google.com/o/oauth2/auth?client_id=517222506229-vsmmajv00ul0bs7p89v5m89qs8eb9359.apps.googleusercontent.com&scope=https%3A%2F%2Fwww.googleapis.com%2Fauth%2Fearthengine+https%3A%2F%2Fwww.googleapis.com%2Fauth%2Fdevstorage.full_control&redirect_uri=urn%3Aietf%3Awg%3Aoauth%3A2.0%3Aoob&response_type=code&code_challenge=2JK2M8rZFzPytuC9jwvBZbYZaeYTkp8Uc1uTAnmXrlw&code_challenge_method=S256</a></p>\n",
       "        <p>The authorization workflow will generate a code, which you\n",
       "        should paste in the box below</p>\n",
       "        "
      ],
      "text/plain": [
       "<IPython.core.display.HTML object>"
      ]
     },
     "metadata": {},
     "output_type": "display_data"
    },
    {
     "name": "stdout",
     "output_type": "stream",
     "text": [
      "Enter verification code: 4/1AY0e-g7vIcWmvo2ypgQGGzCZXGxEv5dw0WTvIPx2C9HDCSgW3kXATJDXelI\n",
      "\n",
      "Successfully saved authorization token.\n"
     ]
    }
   ],
   "source": [
    "import ee\n",
    "import ee\n",
    "import geemap\n",
    "from geemap import *\n",
    "import json\n",
    "from geemap import geojson_to_ee, ee_to_geojson\n",
    "from ipyleaflet import GeoJSON\n",
    "import os\n",
    "import ipygee as ui\n",
    "import datetime\n",
    "import pandas as pd\n",
    "\n",
    "#Trigger the authentication flow.\n",
    "ee.Authenticate()\n",
    "\n",
    "#Initialize the library.\n",
    "ee.Initialize()"
   ]
  },
  {
   "cell_type": "code",
   "execution_count": 2,
   "id": "09b3ef79",
   "metadata": {},
   "outputs": [],
   "source": [
    "#initialise map\n",
    "Map = geemap.Map()"
   ]
  },
  {
   "cell_type": "code",
   "execution_count": 19,
   "id": "c167bfe3",
   "metadata": {},
   "outputs": [],
   "source": [
    "#AOI geometry\n",
    "AOI_FILE_PATH = os.path.abspath('/Users/joycelynlongdon/Desktop/Cambridge/CambridgeCoding/MRES/Data/GeoJSONS/wwc_concesion.GeoJSON')\n",
    "OUTPUT_PATH = \"/Users/joycelynlongdon/Desktop/Cambridge/CambridgeCoding/MRES/GEE_examples/Output Data\"\n",
    "\n",
    "#visual parameters\n",
    "VIZ_PARAMS = {'min': 0,'max': 3000,'bands': ['B4', 'B3', 'B2']} #RGB Composite \n",
    "\n",
    "#satellite data source\n",
    "l8 = ee.ImageCollection('LANDSAT/LC08/C01/T1_SR')\n",
    "\n",
    "#set point for map centering\n",
    "point = ee.Geometry.Point(18.4276, -2.6357)\n",
    "\n"
   ]
  },
  {
   "cell_type": "code",
   "execution_count": 4,
   "id": "4041f8a5",
   "metadata": {},
   "outputs": [],
   "source": [
    "#define area of interest\n",
    "def open_aoi_json(aoi_file_path):\n",
    "    with open(aoi_file_path) as f:\n",
    "        studyRegion = json.load(f)\n",
    "    studyRegion = ee.FeatureCollection(studyRegion).first().geometry()\n",
    "    #print(aoi)\n",
    "    return studyRegion\n",
    "\n",
    "studyRegion = open_aoi_json(AOI_FILE_PATH)"
   ]
  },
  {
   "cell_type": "code",
   "execution_count": 5,
   "id": "ac9c7f6d",
   "metadata": {},
   "outputs": [],
   "source": [
    "#define cloud mask\n",
    "def cloudMask(image):\n",
    "  #Bits 3 and 5 are cloud shadow and cloud, respectively.\n",
    "    cloudShadowBitMask = (1 << 3)\n",
    "    cloudsBitMask = (1 << 5)\n",
    "    #Get the pixel QA band.\n",
    "    qa = image.select('pixel_qa')\n",
    "    #Both flags should be set to zero, indicating clear conditions.\n",
    "    mask = qa.bitwiseAnd(cloudShadowBitMask).eq(0).And(qa.bitwiseAnd(cloudsBitMask).eq(0))\n",
    "    return image.updateMask(mask)"
   ]
  },
  {
   "cell_type": "code",
   "execution_count": 6,
   "id": "ba4f5a77",
   "metadata": {},
   "outputs": [],
   "source": [
    "#reduce image and clip to aoi\n",
    "def clip_image_to_aoi(image):\n",
    "    #reduce image collection into one multiband image taking the median value of each pixel\n",
    "    image = image.median()\n",
    "    #clip image to required boundary for studyRegion\n",
    "    return image.clip(aoi) #NEED TO FIGURE OUT HOW TO DO THIS SEAMLESSLY WITH THE VARYING AOI'S"
   ]
  },
  {
   "cell_type": "code",
   "execution_count": 40,
   "id": "91e0e34d",
   "metadata": {},
   "outputs": [],
   "source": [
    "#filter temporally at period of one month\n",
    "Jan = l8_spatial.filterDate('2013-01-01','2013-01-31')\n",
    "Feb = l8_spatial.filterDate('2013-02-01','2013-02-28')\n",
    "Mar = l8_spatial.filterDate('2013-03-01','2013-03-31')\n",
    "Apr = l8_spatial.filterDate('2013-04-01','2013-04-30')\n",
    "May = l8_spatial.filterDate('2013-05-01','2013-05-30')\n",
    "Jun = l8_spatial.filterDate('2013-06-01','2013-06-30')\n",
    "Jul = l8_spatial.filterDate('2013-07-01','2013-07-31')\n",
    "Aug = l8_spatial.filterDate('2013-08-01','2013-08-31')\n",
    "Sept = l8_spatial.filterDate('2013-09-01','2013-09-30')\n",
    "Oct = l8_spatial.filterDate('2013-10-01','2013-10-31')\n",
    "Nov = l8_spatial.filterDate('2013-11-01','2013-11-30')\n",
    "Dec = l8_spatial.filterDate('2013-12-01','2013-12-31')"
   ]
  },
  {
   "cell_type": "code",
   "execution_count": 41,
   "id": "6e0d230c",
   "metadata": {},
   "outputs": [],
   "source": [
    "#cloud mask data\n",
    "Jan_masked = Jan.map(cloudMask)\n",
    "Feb_masked = Feb.map(cloudMask)\n",
    "Mar_masked = Mar.map(cloudMask)\n",
    "Apr_masked = Apr.map(cloudMask)\n",
    "May_masked = May.map(cloudMask)\n",
    "Jun_masked = Jun.map(cloudMask)\n",
    "Jul_masked = Jul.map(cloudMask)\n",
    "Aug_masked = Aug.map(cloudMask)\n",
    "Sept_masked = Sept.map(cloudMask)\n",
    "Oct_masked = Oct.map(cloudMask)\n",
    "Nov_masked = Nov.map(cloudMask)\n",
    "Dec_masked = Dec.map(cloudMask)"
   ]
  },
  {
   "cell_type": "code",
   "execution_count": 42,
   "id": "62d56424",
   "metadata": {},
   "outputs": [],
   "source": [
    "#create median composite and select bands\n",
    "Jan_med = Jan_masked.median().select(['B2','B3','B4','B5','B6','B7','B10','B11'])\n",
    "Feb_med = Feb_masked.median().select(['B2','B3','B4','B5','B6','B7','B10','B11'])\n",
    "Mar_med = Mar_masked.median().select(['B2','B3','B4','B5','B6','B7','B10','B11'])\n",
    "Apr_med= Apr_masked.median().select(['B2','B3','B4','B5','B6','B7','B10','B11'])\n",
    "May_med= May_masked.median().select(['B2','B3','B4','B5','B6','B7','B10','B11'])\n",
    "Jun_med= Jun_masked.median().select(['B2','B3','B4','B5','B6','B7','B10','B11'])\n",
    "Jul_med = Jul_masked.median().select(['B2','B3','B4','B5','B6','B7','B10','B11'])\n",
    "Aug_med = Aug_masked.median().select(['B2','B3','B4','B5','B6','B7','B10','B11'])\n",
    "Sept_med = Sept_masked.median().select(['B2','B3','B4','B5','B6','B7','B10','B11'])\n",
    "Oct_med= Oct_masked.median().select(['B2','B3','B4','B5','B6','B7','B10','B11'])\n",
    "Nov_med = Nov_masked.median().select(['B2','B3','B4','B5','B6','B7','B10','B11'])\n",
    "Dec_med= Dec.median().select(['B2','B3','B4','B5','B6','B7','B10','B11'])"
   ]
  },
  {
   "cell_type": "code",
   "execution_count": 43,
   "id": "aa1d2b55",
   "metadata": {},
   "outputs": [],
   "source": [
    "#clip to study region\n",
    "Jan_image = Jan_med.clip(studyRegion)#clip to studyRegion\n",
    "Feb_image = Feb_med.clip(studyRegion)#clip to studyRegion\n",
    "Mar_image = Mar_med.clip(studyRegion)#clip to studyRegion\n",
    "Apr_image = Apr_med.clip(studyRegion)#clip to studyRegion\n",
    "May_image = May_med.clip(studyRegion)#clip to studyRegion\n",
    "Jun_image = Jun_med.clip(studyRegion)#clip to studyRegion\n",
    "Jul_image = Jul_med.clip(studyRegion)#clip to studyRegion\n",
    "Aug_image = Aug_med.clip(studyRegion)#clip to studyRegion\n",
    "Sept_image = Sept_med.clip(studyRegion)#clip to studyRegion\n",
    "Oct_image = Oct_med.clip(studyRegion)#clip to studyRegion\n",
    "Nov_image = Nov_med.clip(studyRegion)#clip to studyRegion\n",
    "Dec_image = Dec_med.clip(studyRegion)#clip to studyRegion"
   ]
  },
  {
   "cell_type": "code",
   "execution_count": 52,
   "id": "372ed0cb",
   "metadata": {
    "scrolled": true
   },
   "outputs": [
    {
     "data": {
      "application/vnd.jupyter.widget-view+json": {
       "model_id": "19230205e60041b0bd548cf6c7cc3d43",
       "version_major": 2,
       "version_minor": 0
      },
      "text/plain": [
       "Map(bottom=66445.83203125, center=[-1.6747151822261304, 18.34530115127564], controls=(WidgetControl(options=['…"
      ]
     },
     "metadata": {},
     "output_type": "display_data"
    }
   ],
   "source": [
    "#check out and visualise imagery\n",
    "Map.addLayer(_image, VIZ_PARAMS)\n",
    "Map"
   ]
  },
  {
   "cell_type": "code",
   "execution_count": 56,
   "id": "044576a2",
   "metadata": {},
   "outputs": [
    {
     "name": "stdout",
     "output_type": "stream",
     "text": [
      "Generating URL ...\n",
      "An error occurred while downloading.\n",
      "Total request size (414021120 bytes) must be less than or equal to 33554432 bytes.\n"
     ]
    }
   ],
   "source": [
    "#export June\n",
    "geemap.ee_export_image(Jun_image, filename='wwc_concession_Jun_2013.tif', scale=30, region=studyRegion, file_per_band=False)"
   ]
  },
  {
   "cell_type": "code",
   "execution_count": 57,
   "id": "87c58d8e",
   "metadata": {},
   "outputs": [
    {
     "name": "stdout",
     "output_type": "stream",
     "text": [
      "Exporting wwc_concession_Jun_2013 ...\n"
     ]
    }
   ],
   "source": [
    "#export June\n",
    "geemap.ee_export_image_to_drive(Jun_image, description='wwc_concession_Jun_2013', folder='wwc_concession_data', region=studyRegion, scale=30)\n"
   ]
  },
  {
   "cell_type": "code",
   "execution_count": null,
   "id": "d27c113b",
   "metadata": {},
   "outputs": [],
   "source": [
    "#export July\n",
    "geemap.ee_export_image_to_drive(Jul_image, filename=filename, folder='wwc_concession_data', region=studyRegion, scale=30, file_per_band=False)\n"
   ]
  },
  {
   "cell_type": "code",
   "execution_count": null,
   "id": "cf8b7d0e",
   "metadata": {},
   "outputs": [],
   "source": [
    "#export August\n",
    "geemap.ee_export_image_to_drive(Aug_image, description='wwc_concession_Jun_2013', folder='wwc_concession_data', region=studyRegion, scale=30)\n"
   ]
  },
  {
   "cell_type": "code",
   "execution_count": null,
   "id": "ce88351d",
   "metadata": {},
   "outputs": [],
   "source": [
    "#export September\n",
    "geemap.ee_export_image_to_drive(Jun_image, description='wwc_concession_Jun_2013', folder='wwc_concession_data', region=studyRegion, scale=30)\n"
   ]
  }
 ],
 "metadata": {
  "kernelspec": {
   "display_name": "Python 3",
   "language": "python",
   "name": "python3"
  },
  "language_info": {
   "codemirror_mode": {
    "name": "ipython",
    "version": 3
   },
   "file_extension": ".py",
   "mimetype": "text/x-python",
   "name": "python",
   "nbconvert_exporter": "python",
   "pygments_lexer": "ipython3",
   "version": "3.7.0"
  }
 },
 "nbformat": 4,
 "nbformat_minor": 5
}
