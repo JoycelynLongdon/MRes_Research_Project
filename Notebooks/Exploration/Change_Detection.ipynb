{
 "cells": [
  {
   "cell_type": "markdown",
   "id": "27bf4b0e",
   "metadata": {},
   "source": [
    "# Continuous Change Detection (CCDC) Land Cover"
   ]
  },
  {
   "cell_type": "markdown",
   "id": "63843fbb",
   "metadata": {},
   "source": [
    "This code is adapted from the CCDC methodology detailed in the following manuscript: https://www.sciencedirect.com/science/article/abs/pii/S0034425714000248"
   ]
  },
  {
   "cell_type": "code",
   "execution_count": 1,
   "id": "a8b02067",
   "metadata": {},
   "outputs": [],
   "source": [
    "import ee\n",
    "import geemap\n",
    "from geemap import *\n",
    "import json\n",
    "from geemap import geojson_to_ee, ee_to_geojson\n",
    "from ipyleaflet import GeoJSON\n",
    "import os\n",
    "import sklearn\n",
    "import js2py\n",
    "\n",
    "\n",
    "# !pip install geemap\n",
    "\n",
    "utils = ('users/parevalo_bu/gee-ccdc-tools:ccdcUtilities/api')"
   ]
  },
  {
   "cell_type": "markdown",
   "id": "51078de7",
   "metadata": {},
   "source": [
    "### Define parameters"
   ]
  },
  {
   "cell_type": "code",
   "execution_count": 2,
   "id": "113675c1",
   "metadata": {},
   "outputs": [
    {
     "ename": "EEException",
     "evalue": "Earth Engine client library not initialized. Run `ee.Initialize()`",
     "output_type": "error",
     "traceback": [
      "\u001b[0;31m---------------------------------------------------------------------------\u001b[0m",
      "\u001b[0;31mEEException\u001b[0m                               Traceback (most recent call last)",
      "\u001b[0;32m<ipython-input-2-533b76acba65>\u001b[0m in \u001b[0;36m<module>\u001b[0;34m\u001b[0m\n\u001b[1;32m     42\u001b[0m     \u001b[0maoi_poly\u001b[0m \u001b[0;34m=\u001b[0m \u001b[0mjson\u001b[0m\u001b[0;34m.\u001b[0m\u001b[0mload\u001b[0m\u001b[0;34m(\u001b[0m\u001b[0mf\u001b[0m\u001b[0;34m)\u001b[0m\u001b[0;34m\u001b[0m\u001b[0m\n\u001b[1;32m     43\u001b[0m \u001b[0;34m\u001b[0m\u001b[0m\n\u001b[0;32m---> 44\u001b[0;31m \u001b[0mstudyRegion\u001b[0m \u001b[0;34m=\u001b[0m \u001b[0mee\u001b[0m\u001b[0;34m.\u001b[0m\u001b[0mFeatureCollection\u001b[0m\u001b[0;34m(\u001b[0m\u001b[0maoi_poly\u001b[0m\u001b[0;34m)\u001b[0m\u001b[0;34m.\u001b[0m\u001b[0mfirst\u001b[0m\u001b[0;34m(\u001b[0m\u001b[0;34m)\u001b[0m\u001b[0;34m.\u001b[0m\u001b[0mgeometry\u001b[0m\u001b[0;34m(\u001b[0m\u001b[0;34m)\u001b[0m\u001b[0;34m\u001b[0m\u001b[0m\n\u001b[0m\u001b[1;32m     45\u001b[0m \u001b[0;34m\u001b[0m\u001b[0m\n\u001b[1;32m     46\u001b[0m params = {\n",
      "\u001b[0;32m~/opt/anaconda3/envs/GEEenv/lib/python3.7/site-packages/ee/computedobject.py\u001b[0m in \u001b[0;36m__call__\u001b[0;34m(cls, *args, **kwargs)\u001b[0m\n\u001b[1;32m     30\u001b[0m       \u001b[0;32mreturn\u001b[0m \u001b[0margs\u001b[0m\u001b[0;34m[\u001b[0m\u001b[0;36m0\u001b[0m\u001b[0;34m]\u001b[0m\u001b[0;34m\u001b[0m\u001b[0m\n\u001b[1;32m     31\u001b[0m     \u001b[0;32melse\u001b[0m\u001b[0;34m:\u001b[0m\u001b[0;34m\u001b[0m\u001b[0m\n\u001b[0;32m---> 32\u001b[0;31m       \u001b[0;32mreturn\u001b[0m \u001b[0mtype\u001b[0m\u001b[0;34m.\u001b[0m\u001b[0m__call__\u001b[0m\u001b[0;34m(\u001b[0m\u001b[0mcls\u001b[0m\u001b[0;34m,\u001b[0m \u001b[0;34m*\u001b[0m\u001b[0margs\u001b[0m\u001b[0;34m,\u001b[0m \u001b[0;34m**\u001b[0m\u001b[0mkwargs\u001b[0m\u001b[0;34m)\u001b[0m\u001b[0;34m\u001b[0m\u001b[0m\n\u001b[0m\u001b[1;32m     33\u001b[0m \u001b[0;34m\u001b[0m\u001b[0m\n\u001b[1;32m     34\u001b[0m \u001b[0;34m\u001b[0m\u001b[0m\n",
      "\u001b[0;32m~/opt/anaconda3/envs/GEEenv/lib/python3.7/site-packages/ee/featurecollection.py\u001b[0m in \u001b[0;36m__init__\u001b[0;34m(self, args, opt_column)\u001b[0m\n\u001b[1;32m     42\u001b[0m       \u001b[0mEEException\u001b[0m\u001b[0;34m:\u001b[0m \u001b[0;32mif\u001b[0m \u001b[0mpassed\u001b[0m \u001b[0msomething\u001b[0m \u001b[0mother\u001b[0m \u001b[0mthan\u001b[0m \u001b[0mthe\u001b[0m \u001b[0mabove\u001b[0m\u001b[0;34m.\u001b[0m\u001b[0;34m\u001b[0m\u001b[0m\n\u001b[1;32m     43\u001b[0m     \"\"\"\n\u001b[0;32m---> 44\u001b[0;31m     \u001b[0mself\u001b[0m\u001b[0;34m.\u001b[0m\u001b[0minitialize\u001b[0m\u001b[0;34m(\u001b[0m\u001b[0;34m)\u001b[0m\u001b[0;34m\u001b[0m\u001b[0m\n\u001b[0m\u001b[1;32m     45\u001b[0m \u001b[0;34m\u001b[0m\u001b[0m\n\u001b[1;32m     46\u001b[0m     \u001b[0;31m# Wrap geometries with features.\u001b[0m\u001b[0;34m\u001b[0m\u001b[0;34m\u001b[0m\u001b[0m\n",
      "\u001b[0;32m~/opt/anaconda3/envs/GEEenv/lib/python3.7/site-packages/ee/featurecollection.py\u001b[0m in \u001b[0;36minitialize\u001b[0;34m(cls)\u001b[0m\n\u001b[1;32m     89\u001b[0m     \u001b[0;34m\"\"\"Imports API functions to this class.\"\"\"\u001b[0m\u001b[0;34m\u001b[0m\u001b[0m\n\u001b[1;32m     90\u001b[0m     \u001b[0;32mif\u001b[0m \u001b[0;32mnot\u001b[0m \u001b[0mcls\u001b[0m\u001b[0;34m.\u001b[0m\u001b[0m_initialized\u001b[0m\u001b[0;34m:\u001b[0m\u001b[0;34m\u001b[0m\u001b[0m\n\u001b[0;32m---> 91\u001b[0;31m       \u001b[0msuper\u001b[0m\u001b[0;34m(\u001b[0m\u001b[0mFeatureCollection\u001b[0m\u001b[0;34m,\u001b[0m \u001b[0mcls\u001b[0m\u001b[0;34m)\u001b[0m\u001b[0;34m.\u001b[0m\u001b[0minitialize\u001b[0m\u001b[0;34m(\u001b[0m\u001b[0;34m)\u001b[0m\u001b[0;34m\u001b[0m\u001b[0m\n\u001b[0m\u001b[1;32m     92\u001b[0m       apifunction.ApiFunction.importApi(\n\u001b[1;32m     93\u001b[0m           cls, 'FeatureCollection', 'FeatureCollection')\n",
      "\u001b[0;32m~/opt/anaconda3/envs/GEEenv/lib/python3.7/site-packages/ee/collection.py\u001b[0m in \u001b[0;36minitialize\u001b[0;34m(cls)\u001b[0m\n\u001b[1;32m     30\u001b[0m     \u001b[0;34m\"\"\"Imports API functions to this class.\"\"\"\u001b[0m\u001b[0;34m\u001b[0m\u001b[0m\n\u001b[1;32m     31\u001b[0m     \u001b[0;32mif\u001b[0m \u001b[0;32mnot\u001b[0m \u001b[0mcls\u001b[0m\u001b[0;34m.\u001b[0m\u001b[0m_initialized\u001b[0m\u001b[0;34m:\u001b[0m\u001b[0;34m\u001b[0m\u001b[0m\n\u001b[0;32m---> 32\u001b[0;31m       \u001b[0mapifunction\u001b[0m\u001b[0;34m.\u001b[0m\u001b[0mApiFunction\u001b[0m\u001b[0;34m.\u001b[0m\u001b[0mimportApi\u001b[0m\u001b[0;34m(\u001b[0m\u001b[0mcls\u001b[0m\u001b[0;34m,\u001b[0m \u001b[0;34m'Collection'\u001b[0m\u001b[0;34m,\u001b[0m \u001b[0;34m'Collection'\u001b[0m\u001b[0;34m)\u001b[0m\u001b[0;34m\u001b[0m\u001b[0m\n\u001b[0m\u001b[1;32m     33\u001b[0m       apifunction.ApiFunction.importApi(\n\u001b[1;32m     34\u001b[0m           cls, 'AggregateFeatureCollection', 'Collection', 'aggregate_')\n",
      "\u001b[0;32m~/opt/anaconda3/envs/GEEenv/lib/python3.7/site-packages/ee/apifunction.py\u001b[0m in \u001b[0;36mimportApi\u001b[0;34m(cls, target, prefix, type_name, opt_prepend)\u001b[0m\n\u001b[1;32m    181\u001b[0m           \u001b[0madded\u001b[0m \u001b[0mfunctions\u001b[0m\u001b[0;34m.\u001b[0m\u001b[0;34m\u001b[0m\u001b[0m\n\u001b[1;32m    182\u001b[0m     \"\"\"\n\u001b[0;32m--> 183\u001b[0;31m     \u001b[0mcls\u001b[0m\u001b[0;34m.\u001b[0m\u001b[0minitialize\u001b[0m\u001b[0;34m(\u001b[0m\u001b[0;34m)\u001b[0m\u001b[0;34m\u001b[0m\u001b[0m\n\u001b[0m\u001b[1;32m    184\u001b[0m     \u001b[0mprepend\u001b[0m \u001b[0;34m=\u001b[0m \u001b[0mopt_prepend\u001b[0m \u001b[0;32mor\u001b[0m \u001b[0;34m''\u001b[0m\u001b[0;34m\u001b[0m\u001b[0m\n\u001b[1;32m    185\u001b[0m     \u001b[0;32mfor\u001b[0m \u001b[0mname\u001b[0m\u001b[0;34m,\u001b[0m \u001b[0mapi_func\u001b[0m \u001b[0;32min\u001b[0m \u001b[0mcls\u001b[0m\u001b[0;34m.\u001b[0m\u001b[0m_api\u001b[0m\u001b[0;34m.\u001b[0m\u001b[0mitems\u001b[0m\u001b[0;34m(\u001b[0m\u001b[0;34m)\u001b[0m\u001b[0;34m:\u001b[0m\u001b[0;34m\u001b[0m\u001b[0m\n",
      "\u001b[0;32m~/opt/anaconda3/envs/GEEenv/lib/python3.7/site-packages/ee/apifunction.py\u001b[0m in \u001b[0;36minitialize\u001b[0;34m(cls)\u001b[0m\n\u001b[1;32m    152\u001b[0m     \u001b[0;34m\"\"\"Initializes the list of signatures from the Earth Engine front-end.\"\"\"\u001b[0m\u001b[0;34m\u001b[0m\u001b[0m\n\u001b[1;32m    153\u001b[0m     \u001b[0;32mif\u001b[0m \u001b[0;32mnot\u001b[0m \u001b[0mcls\u001b[0m\u001b[0;34m.\u001b[0m\u001b[0m_api\u001b[0m\u001b[0;34m:\u001b[0m\u001b[0;34m\u001b[0m\u001b[0m\n\u001b[0;32m--> 154\u001b[0;31m       \u001b[0msignatures\u001b[0m \u001b[0;34m=\u001b[0m \u001b[0mdata\u001b[0m\u001b[0;34m.\u001b[0m\u001b[0mgetAlgorithms\u001b[0m\u001b[0;34m(\u001b[0m\u001b[0;34m)\u001b[0m\u001b[0;34m\u001b[0m\u001b[0m\n\u001b[0m\u001b[1;32m    155\u001b[0m       \u001b[0mapi\u001b[0m \u001b[0;34m=\u001b[0m \u001b[0;34m{\u001b[0m\u001b[0;34m}\u001b[0m\u001b[0;34m\u001b[0m\u001b[0m\n\u001b[1;32m    156\u001b[0m       \u001b[0;32mfor\u001b[0m \u001b[0mname\u001b[0m\u001b[0;34m,\u001b[0m \u001b[0msig\u001b[0m \u001b[0;32min\u001b[0m \u001b[0msignatures\u001b[0m\u001b[0;34m.\u001b[0m\u001b[0mitems\u001b[0m\u001b[0;34m(\u001b[0m\u001b[0;34m)\u001b[0m\u001b[0;34m:\u001b[0m\u001b[0;34m\u001b[0m\u001b[0m\n",
      "\u001b[0;32m~/opt/anaconda3/envs/GEEenv/lib/python3.7/site-packages/ee/data.py\u001b[0m in \u001b[0;36mgetAlgorithms\u001b[0;34m()\u001b[0m\n\u001b[1;32m    979\u001b[0m   \"\"\"\n\u001b[1;32m    980\u001b[0m   \u001b[0;32mtry\u001b[0m\u001b[0;34m:\u001b[0m\u001b[0;34m\u001b[0m\u001b[0m\n\u001b[0;32m--> 981\u001b[0;31m     call = _get_cloud_api_resource().projects().algorithms().list(\n\u001b[0m\u001b[1;32m    982\u001b[0m         parent=_get_projects_path(), prettyPrint=False)\n\u001b[1;32m    983\u001b[0m   \u001b[0;32mexcept\u001b[0m \u001b[0mTypeError\u001b[0m\u001b[0;34m:\u001b[0m\u001b[0;34m\u001b[0m\u001b[0m\n",
      "\u001b[0;32m~/opt/anaconda3/envs/GEEenv/lib/python3.7/site-packages/ee/data.py\u001b[0m in \u001b[0;36m_get_cloud_api_resource\u001b[0;34m()\u001b[0m\n\u001b[1;32m    287\u001b[0m   \u001b[0;32mif\u001b[0m \u001b[0m_cloud_api_resource\u001b[0m \u001b[0;32mis\u001b[0m \u001b[0;32mNone\u001b[0m\u001b[0;34m:\u001b[0m\u001b[0;34m\u001b[0m\u001b[0m\n\u001b[1;32m    288\u001b[0m     raise ee_exception.EEException(\n\u001b[0;32m--> 289\u001b[0;31m         'Earth Engine client library not initialized. Run `ee.Initialize()`')\n\u001b[0m\u001b[1;32m    290\u001b[0m   \u001b[0;32mreturn\u001b[0m \u001b[0m_cloud_api_resource\u001b[0m\u001b[0;34m\u001b[0m\u001b[0m\n\u001b[1;32m    291\u001b[0m \u001b[0;34m\u001b[0m\u001b[0m\n",
      "\u001b[0;31mEEException\u001b[0m: Earth Engine client library not initialized. Run `ee.Initialize()`"
     ]
    }
   ],
   "source": [
    "#Change detection parameters\n",
    "changeDetection = {\n",
    "  'breakpointBands': ['GREEN','RED','NIR','SWIR1','SWIR2'],\n",
    "  'tmaskBands': ['GREEN','SWIR2'],\n",
    "  'minObservations': 6,\n",
    "  'chiSquareProbability': .99,\n",
    "  'minNumOfYearsScaler': 1.33,\n",
    "  'dateFormat': 2,\n",
    "  'lambda': 20/10000,\n",
    "  'maxIterations': 25000\n",
    "}\n",
    "\n",
    "'''\n",
    "#Classification parameters\n",
    "classification = {\n",
    "  'bandNames': [\"B1\",\"B2\",\"B3\",\"B4\",\"B5\",\"B6\",\"B7\"],\n",
    "  'inputFeatures': [\"INTP\", \"SLP\",\"PHASE\",\"RMSE\"],\n",
    "  'coefs': [\"INTP\", \"SLP\",\"COS\", \"SIN\",\"RMSE\",\"COS2\",\"SIN2\",\"COS3\",\"SIN3\"],\n",
    "  'ancillaryFeatures': [\"ELEVATION\",\"ASPECT\",\"DEM_SLOPE\",\"RAINFALL\",\"TEMPERATURE\"],\n",
    "  'resultFormat': 'SegCollection',\n",
    "  'classProperty': 'LC_Class',\n",
    "  'yearProperty': 'year',\n",
    "  'classifier': ee.Classifier.smileRandomForest,\n",
    "  'classifierParams': {\n",
    "    'numberOfTrees': 150,\n",
    "    'variablesPerSplit': null,\n",
    "    'minLeafPopulation': 1,\n",
    "    'bagFraction': 0.5,\n",
    "    'maxNodes': null\n",
    "  },\n",
    "  'outPath': '/Users/joycelynlongdon/Desktop/Cambridge/CambridgeCoding/MRES/GEE_examples/Notebooks/Change Detection',\n",
    "  'segs': [\"S1\", \"S2\", \"S3\", \"S4\", \"S5\", \"S6\"],\n",
    "  #'trainingPath': projects/GLANCE/TRAINING/MASTER/NA/NA_V1/NA_Training_Master_V1_NO_LCMAP_2021_03_17',\n",
    "  #'trainingPathPredictors': 'projects/GLANCE/TRAINING/MASTER/NA/NA_V1/NA_Training_Master_V1_NO_LCMAP_2021_03_17_predictors',\n",
    "}\n",
    "'''\n",
    "\n",
    "#define study region\n",
    "file_path = os.path.abspath('/Users/joycelynlongdon/Desktop/Cambridge/CambridgeCoding/MRES/GEE_examples/Input Data/mai_ndombe.json')\n",
    "\n",
    "with open(file_path) as f:\n",
    "    aoi_poly = json.load(f)\n",
    "\n",
    "studyRegion = ee.FeatureCollection(aoi_poly).first().geometry()\n",
    "\n",
    "params = {\n",
    "  'start': '2013-01-01',\n",
    "  'end': '2019-01-01',\n",
    "  'ChangeDetection': changeDetection,\n",
    "  'Classification': classification,\n",
    "  'StudyRegion': studyRegion\n",
    "}\n",
    "\n",
    "#Filter Landsat data by date and location \n",
    "filteredLandsat = utils.Inputs.getLandsat().filterBounds(params.StudyRegion).filterDate(params.start, params.end)\n",
    "\n",
    "print(filteredLandsat.size())"
   ]
  },
  {
   "cell_type": "code",
   "execution_count": null,
   "id": "5ea30b3a",
   "metadata": {},
   "outputs": [],
   "source": []
  }
 ],
 "metadata": {
  "kernelspec": {
   "display_name": "Python 3",
   "language": "python",
   "name": "python3"
  },
  "language_info": {
   "codemirror_mode": {
    "name": "ipython",
    "version": 3
   },
   "file_extension": ".py",
   "mimetype": "text/x-python",
   "name": "python",
   "nbconvert_exporter": "python",
   "pygments_lexer": "ipython3",
   "version": "3.7.0"
  }
 },
 "nbformat": 4,
 "nbformat_minor": 5
}
