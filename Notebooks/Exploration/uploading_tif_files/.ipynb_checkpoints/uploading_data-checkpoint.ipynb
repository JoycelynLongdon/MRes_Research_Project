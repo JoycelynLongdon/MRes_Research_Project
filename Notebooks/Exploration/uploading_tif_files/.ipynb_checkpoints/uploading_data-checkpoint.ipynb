{
 "cells": [
  {
   "cell_type": "markdown",
   "id": "ec4d6719",
   "metadata": {},
   "source": [
    "code from: https://rasterio.readthedocs.io/en/latest/topics/reading.html"
   ]
  },
  {
   "cell_type": "markdown",
   "id": "2321c114",
   "metadata": {},
   "source": [
    "### Merging Raster Imagery"
   ]
  },
  {
   "cell_type": "code",
   "execution_count": 1,
   "id": "379a985a",
   "metadata": {},
   "outputs": [],
   "source": [
    "import rasterio\n",
    "from rasterio.plot import show\n",
    "from rasterio.merge import merge\n",
    "from rasterio.plot import show\n",
    "import glob\n",
    "import os\n",
    "import rioxarray as xr\n",
    "\n",
    "%matplotlib inline\n"
   ]
  },
  {
   "cell_type": "markdown",
   "id": "bf909966",
   "metadata": {},
   "source": [
    "# Exploring Landcover Data"
   ]
  },
  {
   "cell_type": "code",
   "execution_count": 4,
   "id": "588da54b",
   "metadata": {},
   "outputs": [],
   "source": [
    "ESA_CCI = '/Users/joycelynlongdon/Desktop/Cambridge/CambridgeCoding/MRES/Data/ESA_CCI/TIF/ESA_CCI_LC_Map_2013.tif'\n",
    "landcover = xr.open_rasterio(ESA_CCI)\n"
   ]
  },
  {
   "cell_type": "markdown",
   "id": "a40ff114",
   "metadata": {},
   "source": [
    "# Data Exploration"
   ]
  },
  {
   "cell_type": "markdown",
   "id": "5281d66c",
   "metadata": {},
   "source": [
    "### Import the data"
   ]
  },
  {
   "cell_type": "code",
   "execution_count": 46,
   "id": "ba139a3d",
   "metadata": {},
   "outputs": [
    {
     "name": "stdout",
     "output_type": "stream",
     "text": [
      "<xarray.DataArray (band: 7, y: 8960, x: 8409)>\n",
      "[527412480 values with dtype=float64]\n",
      "Coordinates:\n",
      "  * band         (band) int64 1 2 3 4 5 6 7\n",
      "  * x            (x) float64 15.89 15.89 15.89 15.9 ... 18.16 18.16 18.16 18.16\n",
      "  * y            (y) float64 -1.719 -1.719 -1.72 -1.72 ... -4.133 -4.133 -4.133\n",
      "    spatial_ref  int64 0\n",
      "Attributes:\n",
      "    scale_factor:  1.0\n",
      "    add_offset:    0.0\n",
      "    long_name:     ('B1', 'B3', 'B2', 'B4', 'B5', 'B6', 'B7')\n"
     ]
    }
   ],
   "source": [
    "imagePath_1 = '/Users/joycelynlongdon/Desktop/Cambridge/CambridgeCoding/MRES/Data/PIREDD_Platue_Test Data/PIREDD_Plataue_L8_2013/PIREDD_Plataue_L8_2013-0000000000-0000000000.tif'\n",
    "imagePath_2 = '/Users/joycelynlongdon/Desktop/Cambridge/CambridgeCoding/MRES/Data/PIREDD_Platue_Test Data/PIREDD_Plataue_L8_2013/PIREDD_Plataue_L8_2013-0000008960-0000000000.tif'\n",
    "\n",
    "src =  rioxarray.open_rasterio(imagePath_1)\n",
    "#print(src.profile)\n",
    "#src\n",
    "#show(src)\n",
    "print(src)\n",
    "#image = src.read()\n"
   ]
  },
  {
   "cell_type": "code",
   "execution_count": 48,
   "id": "efcfa676",
   "metadata": {},
   "outputs": [
    {
     "name": "stdout",
     "output_type": "stream",
     "text": [
      "<class 'xarray.core.dataarray.DataArray'>\n",
      "(7, 8960, 8409)\n",
      "[[[nan nan nan ... nan nan nan]\n",
      "  [nan nan nan ... nan nan nan]\n",
      "  [nan nan nan ... nan nan nan]\n",
      "  ...\n",
      "  [nan nan nan ... nan nan nan]\n",
      "  [nan nan nan ... nan nan nan]\n",
      "  [nan nan nan ... nan nan nan]]\n",
      "\n",
      " [[nan nan nan ... nan nan nan]\n",
      "  [nan nan nan ... nan nan nan]\n",
      "  [nan nan nan ... nan nan nan]\n",
      "  ...\n",
      "  [nan nan nan ... nan nan nan]\n",
      "  [nan nan nan ... nan nan nan]\n",
      "  [nan nan nan ... nan nan nan]]\n",
      "\n",
      " [[nan nan nan ... nan nan nan]\n",
      "  [nan nan nan ... nan nan nan]\n",
      "  [nan nan nan ... nan nan nan]\n",
      "  ...\n",
      "  [nan nan nan ... nan nan nan]\n",
      "  [nan nan nan ... nan nan nan]\n",
      "  [nan nan nan ... nan nan nan]]\n",
      "\n",
      " ...\n",
      "\n",
      " [[nan nan nan ... nan nan nan]\n",
      "  [nan nan nan ... nan nan nan]\n",
      "  [nan nan nan ... nan nan nan]\n",
      "  ...\n",
      "  [nan nan nan ... nan nan nan]\n",
      "  [nan nan nan ... nan nan nan]\n",
      "  [nan nan nan ... nan nan nan]]\n",
      "\n",
      " [[nan nan nan ... nan nan nan]\n",
      "  [nan nan nan ... nan nan nan]\n",
      "  [nan nan nan ... nan nan nan]\n",
      "  ...\n",
      "  [nan nan nan ... nan nan nan]\n",
      "  [nan nan nan ... nan nan nan]\n",
      "  [nan nan nan ... nan nan nan]]\n",
      "\n",
      " [[nan nan nan ... nan nan nan]\n",
      "  [nan nan nan ... nan nan nan]\n",
      "  [nan nan nan ... nan nan nan]\n",
      "  ...\n",
      "  [nan nan nan ... nan nan nan]\n",
      "  [nan nan nan ... nan nan nan]\n",
      "  [nan nan nan ... nan nan nan]]]\n"
     ]
    }
   ],
   "source": [
    "print(type(src))\n",
    "print(src.shape)\n",
    "print(src.values)"
   ]
  },
  {
   "cell_type": "markdown",
   "id": "d8a29837",
   "metadata": {},
   "source": [
    "### Read MetaData"
   ]
  },
  {
   "cell_type": "code",
   "execution_count": 31,
   "id": "cee8f094",
   "metadata": {},
   "outputs": [
    {
     "name": "stdout",
     "output_type": "stream",
     "text": [
      "Number of bands in image: 7\n",
      "\n",
      "Image size is: 8960 rows x 8409 columns\n",
      "\n",
      "Raster driver: GTiff\n",
      "\n",
      "Image projection:\n",
      "EPSG:4326\n"
     ]
    }
   ],
   "source": [
    "# How many bands does this image have?\n",
    "num_bands = src.count\n",
    "print('Number of bands in image: {n}\\n'.format(n=num_bands))\n",
    "\n",
    "# How many rows and columns?\n",
    "rows, cols = src.shape\n",
    "print('Image size is: {r} rows x {c} columns\\n'.format(r=rows, c=cols))\n",
    "\n",
    "# What driver was used to open the raster?\n",
    "driver = src.driver\n",
    "print('Raster driver: {d}\\n'.format(d=driver))\n",
    "\n",
    "# What is the raster's projection?\n",
    "proj = src.crs\n",
    "print('Image projection:')\n",
    "print(proj)"
   ]
  },
  {
   "cell_type": "code",
   "execution_count": 40,
   "id": "f819e46b",
   "metadata": {},
   "outputs": [
    {
     "data": {
      "image/png": "[encoded data removed]",
      "text/plain": [
       "<Figure size 432x288 with 1 Axes>"
      ]
     },
     "metadata": {
      "needs_background": "light"
     },
     "output_type": "display_data"
    }
   ],
   "source": [
    "from rasterio.plot import show_hist\n",
    "show_hist(src, bins=20, lw=0.0, stacked=False, alpha=0.3,\n",
    "        histtype='stepfilled', title=\"Histogram\")"
   ]
  },
  {
   "cell_type": "markdown",
   "id": "05805db2",
   "metadata": {},
   "source": [
    "### Exploring the bands"
   ]
  },
  {
   "cell_type": "code",
   "execution_count": 33,
   "id": "25ccc1f7",
   "metadata": {},
   "outputs": [
    {
     "name": "stdout",
     "output_type": "stream",
     "text": [
      "(8960, 8409)\n"
     ]
    }
   ],
   "source": [
    "red_band = image[2, :, :] # this pulls out the 3rd band\n",
    "print(red_band.shape)"
   ]
  },
  {
   "cell_type": "markdown",
   "id": "05abfc0e",
   "metadata": {},
   "source": [
    "### Remapping the bands"
   ]
  },
  {
   "cell_type": "code",
   "execution_count": 34,
   "id": "1ed5b00d",
   "metadata": {},
   "outputs": [
    {
     "name": "stdout",
     "output_type": "stream",
     "text": [
      "(3, 8960, 8409)\n",
      "(8960, 8409, 3)\n"
     ]
    }
   ],
   "source": [
    "from rasterio.plot import reshape_as_raster, reshape_as_image\n",
    "\n",
    "# Extract reference to SWIR1, NIR, and Red bands\n",
    "index = np.array([4, 3, 2])\n",
    "colors = image[index, :, :].astype(np.float64)\n",
    "\n",
    "max_val = 5000\n",
    "min_val = 0\n",
    "\n",
    "# Enforce maximum and minimum values\n",
    "colors[colors[:, :, :] > max_val] = max_val\n",
    "colors[colors[:, :, :] < min_val] = min_val\n",
    "\n",
    "for b in range(colors.shape[0]):\n",
    "    colors[b, :, :] = colors[b, :, :] * 1 / (max_val - min_val)\n",
    "\n",
    "# rasters are in the format [bands, rows, cols] whereas images are typically [rows, cols, bands]\n",
    "# and so our array needs to be reshaped\n",
    "print(colors.shape)\n",
    "colors_reshaped = reshape_as_image(colors)\n",
    "print(colors_reshaped.shape)"
   ]
  },
  {
   "cell_type": "code",
   "execution_count": 35,
   "id": "01b41ae6",
   "metadata": {},
   "outputs": [
    {
     "ename": "TypeError",
     "evalue": "Invalid shape (8409, 3, 8960) for image data",
     "output_type": "error",
     "traceback": [
      "\u001b[0;31m---------------------------------------------------------------------------\u001b[0m",
      "\u001b[0;31mTypeError\u001b[0m                                 Traceback (most recent call last)",
      "\u001b[0;32m<ipython-input-35-a3088ce4ad7d>\u001b[0m in \u001b[0;36m<module>\u001b[0;34m\u001b[0m\n\u001b[0;32m----> 1\u001b[0;31m \u001b[0mshow\u001b[0m\u001b[0;34m(\u001b[0m\u001b[0mcolors_reshaped\u001b[0m\u001b[0;34m)\u001b[0m\u001b[0;34m\u001b[0m\u001b[0m\n\u001b[0m",
      "\u001b[0;32m~/opt/anaconda3/envs/mres/lib/python3.7/site-packages/rasterio/plot.py\u001b[0m in \u001b[0;36mshow\u001b[0;34m(source, with_bounds, contour, contour_label_kws, ax, title, transform, adjust, **kwargs)\u001b[0m\n\u001b[1;32m    145\u001b[0m             \u001b[0max\u001b[0m\u001b[0;34m.\u001b[0m\u001b[0mclabel\u001b[0m\u001b[0;34m(\u001b[0m\u001b[0mC\u001b[0m\u001b[0;34m,\u001b[0m \u001b[0;34m**\u001b[0m\u001b[0mcontour_label_kws\u001b[0m\u001b[0;34m)\u001b[0m\u001b[0;34m\u001b[0m\u001b[0m\n\u001b[1;32m    146\u001b[0m     \u001b[0;32melse\u001b[0m\u001b[0;34m:\u001b[0m\u001b[0;34m\u001b[0m\u001b[0m\n\u001b[0;32m--> 147\u001b[0;31m         \u001b[0max\u001b[0m\u001b[0;34m.\u001b[0m\u001b[0mimshow\u001b[0m\u001b[0;34m(\u001b[0m\u001b[0marr\u001b[0m\u001b[0;34m,\u001b[0m \u001b[0;34m**\u001b[0m\u001b[0mkwargs\u001b[0m\u001b[0;34m)\u001b[0m\u001b[0;34m\u001b[0m\u001b[0m\n\u001b[0m\u001b[1;32m    148\u001b[0m     \u001b[0;32mif\u001b[0m \u001b[0mtitle\u001b[0m\u001b[0;34m:\u001b[0m\u001b[0;34m\u001b[0m\u001b[0m\n\u001b[1;32m    149\u001b[0m         \u001b[0max\u001b[0m\u001b[0;34m.\u001b[0m\u001b[0mset_title\u001b[0m\u001b[0;34m(\u001b[0m\u001b[0mtitle\u001b[0m\u001b[0;34m,\u001b[0m \u001b[0mfontweight\u001b[0m\u001b[0;34m=\u001b[0m\u001b[0;34m'bold'\u001b[0m\u001b[0;34m)\u001b[0m\u001b[0;34m\u001b[0m\u001b[0m\n",
      "\u001b[0;32m~/opt/anaconda3/envs/mres/lib/python3.7/site-packages/matplotlib/__init__.py\u001b[0m in \u001b[0;36minner\u001b[0;34m(ax, data, *args, **kwargs)\u001b[0m\n\u001b[1;32m   1350\u001b[0m     \u001b[0;32mdef\u001b[0m \u001b[0minner\u001b[0m\u001b[0;34m(\u001b[0m\u001b[0max\u001b[0m\u001b[0;34m,\u001b[0m \u001b[0;34m*\u001b[0m\u001b[0margs\u001b[0m\u001b[0;34m,\u001b[0m \u001b[0mdata\u001b[0m\u001b[0;34m=\u001b[0m\u001b[0;32mNone\u001b[0m\u001b[0;34m,\u001b[0m \u001b[0;34m**\u001b[0m\u001b[0mkwargs\u001b[0m\u001b[0;34m)\u001b[0m\u001b[0;34m:\u001b[0m\u001b[0;34m\u001b[0m\u001b[0m\n\u001b[1;32m   1351\u001b[0m         \u001b[0;32mif\u001b[0m \u001b[0mdata\u001b[0m \u001b[0;32mis\u001b[0m \u001b[0;32mNone\u001b[0m\u001b[0;34m:\u001b[0m\u001b[0;34m\u001b[0m\u001b[0m\n\u001b[0;32m-> 1352\u001b[0;31m             \u001b[0;32mreturn\u001b[0m \u001b[0mfunc\u001b[0m\u001b[0;34m(\u001b[0m\u001b[0max\u001b[0m\u001b[0;34m,\u001b[0m \u001b[0;34m*\u001b[0m\u001b[0mmap\u001b[0m\u001b[0;34m(\u001b[0m\u001b[0msanitize_sequence\u001b[0m\u001b[0;34m,\u001b[0m \u001b[0margs\u001b[0m\u001b[0;34m)\u001b[0m\u001b[0;34m,\u001b[0m \u001b[0;34m**\u001b[0m\u001b[0mkwargs\u001b[0m\u001b[0;34m)\u001b[0m\u001b[0;34m\u001b[0m\u001b[0m\n\u001b[0m\u001b[1;32m   1353\u001b[0m \u001b[0;34m\u001b[0m\u001b[0m\n\u001b[1;32m   1354\u001b[0m         \u001b[0mbound\u001b[0m \u001b[0;34m=\u001b[0m \u001b[0mnew_sig\u001b[0m\u001b[0;34m.\u001b[0m\u001b[0mbind\u001b[0m\u001b[0;34m(\u001b[0m\u001b[0max\u001b[0m\u001b[0;34m,\u001b[0m \u001b[0;34m*\u001b[0m\u001b[0margs\u001b[0m\u001b[0;34m,\u001b[0m \u001b[0;34m**\u001b[0m\u001b[0mkwargs\u001b[0m\u001b[0;34m)\u001b[0m\u001b[0;34m\u001b[0m\u001b[0m\n",
      "\u001b[0;32m~/opt/anaconda3/envs/mres/lib/python3.7/site-packages/matplotlib/axes/_axes.py\u001b[0m in \u001b[0;36mimshow\u001b[0;34m(self, X, cmap, norm, aspect, interpolation, alpha, vmin, vmax, origin, extent, filternorm, filterrad, resample, url, **kwargs)\u001b[0m\n\u001b[1;32m   5587\u001b[0m                               resample=resample, **kwargs)\n\u001b[1;32m   5588\u001b[0m \u001b[0;34m\u001b[0m\u001b[0m\n\u001b[0;32m-> 5589\u001b[0;31m         \u001b[0mim\u001b[0m\u001b[0;34m.\u001b[0m\u001b[0mset_data\u001b[0m\u001b[0;34m(\u001b[0m\u001b[0mX\u001b[0m\u001b[0;34m)\u001b[0m\u001b[0;34m\u001b[0m\u001b[0m\n\u001b[0m\u001b[1;32m   5590\u001b[0m         \u001b[0mim\u001b[0m\u001b[0;34m.\u001b[0m\u001b[0mset_alpha\u001b[0m\u001b[0;34m(\u001b[0m\u001b[0malpha\u001b[0m\u001b[0;34m)\u001b[0m\u001b[0;34m\u001b[0m\u001b[0m\n\u001b[1;32m   5591\u001b[0m         \u001b[0;32mif\u001b[0m \u001b[0mim\u001b[0m\u001b[0;34m.\u001b[0m\u001b[0mget_clip_path\u001b[0m\u001b[0;34m(\u001b[0m\u001b[0;34m)\u001b[0m \u001b[0;32mis\u001b[0m \u001b[0;32mNone\u001b[0m\u001b[0;34m:\u001b[0m\u001b[0;34m\u001b[0m\u001b[0m\n",
      "\u001b[0;32m~/opt/anaconda3/envs/mres/lib/python3.7/site-packages/matplotlib/image.py\u001b[0m in \u001b[0;36mset_data\u001b[0;34m(self, A)\u001b[0m\n\u001b[1;32m    708\u001b[0m                 or self._A.ndim == 3 and self._A.shape[-1] in [3, 4]):\n\u001b[1;32m    709\u001b[0m             raise TypeError(\"Invalid shape {} for image data\"\n\u001b[0;32m--> 710\u001b[0;31m                             .format(self._A.shape))\n\u001b[0m\u001b[1;32m    711\u001b[0m \u001b[0;34m\u001b[0m\u001b[0m\n\u001b[1;32m    712\u001b[0m         \u001b[0;32mif\u001b[0m \u001b[0mself\u001b[0m\u001b[0;34m.\u001b[0m\u001b[0m_A\u001b[0m\u001b[0;34m.\u001b[0m\u001b[0mndim\u001b[0m \u001b[0;34m==\u001b[0m \u001b[0;36m3\u001b[0m\u001b[0;34m:\u001b[0m\u001b[0;34m\u001b[0m\u001b[0m\n",
      "\u001b[0;31mTypeError\u001b[0m: Invalid shape (8409, 3, 8960) for image data"
     ]
    },
    {
     "data": {
      "image/png": "[encoded data removed]",
      "text/plain": [
       "<Figure size 432x288 with 1 Axes>"
      ]
     },
     "metadata": {
      "needs_background": "light"
     },
     "output_type": "display_data"
    }
   ],
   "source": []
  },
  {
   "cell_type": "code",
   "execution_count": null,
   "id": "cf95c2aa",
   "metadata": {},
   "outputs": [],
   "source": [
    "\n",
    "# File and folder paths\n",
    "dirpath = \"/Users/joycelynlongdon/Desktop/Cambridge/CambridgeCoding/MRES/Data/PIREDD_Platue_Test Data/PIREDD_Plataue_L8_2013\"\n",
    "out_fp = os.path.join(dirpath, \"PIREDD_Plataue_L8_2013_Mosaic.tif\")\n",
    "\n",
    "# Make a search criteria to select the DEM files\n",
    "search_criteria = \"*.tif\"\n",
    "q = os.path.join(dirpath, search_criteria)\n",
    "print(q)\n",
    "\n",
    "\n",
    "# glob function can be used to list files from a directory with specific criteria\n",
    "mos_2013 = glob.glob(q)\n",
    "dirpath\n",
    "# Files that were found:\n",
    "print(mos_2013)"
   ]
  },
  {
   "cell_type": "code",
   "execution_count": 39,
   "id": "b4b1205e",
   "metadata": {},
   "outputs": [
    {
     "data": {
      "text/plain": [
       "[<open DatasetReader name='/Users/joycelynlongdon/Desktop/Cambridge/CambridgeCoding/MRES/Data/PIREDD_Platue_Test Data/PIREDD_Plataue_L8_2013/PIREDD_Plataue_L8_2013-0000008960-0000000000.tif' mode='r'>,\n",
       " <open DatasetReader name='/Users/joycelynlongdon/Desktop/Cambridge/CambridgeCoding/MRES/Data/PIREDD_Platue_Test Data/PIREDD_Plataue_L8_2013/PIREDD_Plataue_L8_2013-0000000000-0000000000.tif' mode='r'>]"
      ]
     },
     "execution_count": 39,
     "metadata": {},
     "output_type": "execute_result"
    }
   ],
   "source": [
    "# List for the source files\n",
    "src_files_to_mosaic = []\n",
    "\n",
    "# Iterate over raster files and add them to source -list in 'read mode'\n",
    "for f in mos_2013:\n",
    "    src = rasterio.open(f)\n",
    "    src_files_to_mosaic.append(src)\n",
    "\n",
    "src_files_to_mosaic"
   ]
  },
  {
   "cell_type": "code",
   "execution_count": 12,
   "id": "dec7ad25",
   "metadata": {},
   "outputs": [
    {
     "data": {
      "text/plain": [
       "<AxesSubplot:>"
      ]
     },
     "execution_count": 12,
     "metadata": {},
     "output_type": "execute_result"
    },
    {
     "data": {
      "image/png": "[encoded data removed]",
      "text/plain": [
       "<Figure size 432x288 with 2 Axes>"
      ]
     },
     "metadata": {
      "needs_background": "light"
     },
     "output_type": "display_data"
    }
   ],
   "source": [
    "import matplotlib.pyplot as plt\n",
    "%matplotlib inline\n",
    "\n",
    "# Create 4 plots next to each other\n",
    "fig, (ax1, ax2) = plt.subplots(ncols=2, nrows=1)\n",
    "\n",
    "# Plot first four files\n",
    "show(src_files_to_mosaic[1], ax=ax1)\n",
    "show(src_files_to_mosaic[0], ax=ax2)\n",
    "\n",
    "\n"
   ]
  },
  {
   "cell_type": "code",
   "execution_count": 18,
   "id": "0c99ad89",
   "metadata": {},
   "outputs": [
    {
     "name": "stdout",
     "output_type": "stream",
     "text": [
      "<open DatasetReader name='/Users/joycelynlongdon/Desktop/Cambridge/CambridgeCoding/MRES/Data/PIREDD_Platue_Test Data/PIREDD_Plataue_L8_2013/PIREDD_Plataue_L8_2013-0000000000-0000000000.tif' mode='r'>\n"
     ]
    },
    {
     "data": {
      "image/png": "[encoded data removed]",
      "text/plain": [
       "<Figure size 432x288 with 1 Axes>"
      ]
     },
     "metadata": {
      "needs_background": "light"
     },
     "output_type": "display_data"
    },
    {
     "data": {
      "text/plain": [
       "<AxesSubplot:>"
      ]
     },
     "execution_count": 18,
     "metadata": {},
     "output_type": "execute_result"
    }
   ],
   "source": [
    "print(src_files_to_mosaic[1])\n",
    "show(src_files_to_mosaic[1])"
   ]
  },
  {
   "cell_type": "code",
   "execution_count": null,
   "id": "5f26bc86",
   "metadata": {},
   "outputs": [],
   "source": [
    "# Merge function returns a single mosaic array and the transformation info\n",
    "mosaic, out_trans = merge(src_files_to_mosaic)\n",
    "print(mosaic(1))\n",
    "# Plot the result\n",
    "#show(mosaic, cmap='terrain')"
   ]
  },
  {
   "cell_type": "code",
   "execution_count": 20,
   "id": "b5899059",
   "metadata": {},
   "outputs": [
    {
     "ename": "TypeError",
     "evalue": "'tuple' object is not callable",
     "output_type": "error",
     "traceback": [
      "\u001b[0;31m---------------------------------------------------------------------------\u001b[0m",
      "\u001b[0;31mTypeError\u001b[0m                                 Traceback (most recent call last)",
      "\u001b[0;32m<ipython-input-20-b98473f408ea>\u001b[0m in \u001b[0;36m<module>\u001b[0;34m\u001b[0m\n\u001b[0;32m----> 1\u001b[0;31m \u001b[0mmosaic\u001b[0m\u001b[0;34m.\u001b[0m\u001b[0mshape\u001b[0m\u001b[0;34m(\u001b[0m\u001b[0;34m)\u001b[0m\u001b[0;34m\u001b[0m\u001b[0m\n\u001b[0m",
      "\u001b[0;31mTypeError\u001b[0m: 'tuple' object is not callable"
     ]
    }
   ],
   "source": [
    "mosaic.shape()"
   ]
  },
  {
   "cell_type": "code",
   "execution_count": null,
   "id": "90fe9e78",
   "metadata": {},
   "outputs": [],
   "source": [
    "array = src_files_to_mosaic[1].read()\n",
    "array.shape #bands, rows, columns"
   ]
  },
  {
   "cell_type": "code",
   "execution_count": null,
   "id": "7fa0b687",
   "metadata": {},
   "outputs": [],
   "source": [
    "print(array)"
   ]
  },
  {
   "cell_type": "code",
   "execution_count": null,
   "id": "44b276aa",
   "metadata": {},
   "outputs": [],
   "source": [
    "for i, dtype, nodataval in zip(src_files_to_mosaic[1].indexes, src_files_to_mosaic[1].dtypes, src_files_to_mosaic[1].nodatavals):\n",
    "    print(i, dtype, nodataval)"
   ]
  },
  {
   "cell_type": "code",
   "execution_count": null,
   "id": "258259d1",
   "metadata": {},
   "outputs": [],
   "source": [
    "from rasterio.plot import show_hist\n",
    "show_hist(\n",
    "    src_files_to_mosaic[1], bins=50, lw=0.0, stacked=False, alpha=0.3,\n",
    "    histtype='stepfilled', title=\"Histogram\")"
   ]
  },
  {
   "cell_type": "markdown",
   "id": "47bbff1d",
   "metadata": {},
   "source": [
    "### Opening a ShapeFile"
   ]
  },
  {
   "cell_type": "code",
   "execution_count": null,
   "id": "24d84245",
   "metadata": {},
   "outputs": [],
   "source": [
    "import folium # let's make an interactive map using leaflet\n",
    "\n",
    "# create the folium map object\n",
    "m = folium.Map(location=[34.33361, -75.552807], zoom_start=7) # set the map centered around the first point\n",
    "\n",
    "# this actually adds the polygon to the map based on the geojson we extracted earlier\n",
    "for footprint in raster_footprints:\n",
    "    folium.GeoJson(\n",
    "        footprint[0],\n",
    "        tooltip=footprint[1]\n",
    "    ).add_to(m)\n",
    "\n",
    "\n",
    "m\n"
   ]
  }
 ],
 "metadata": {
  "kernelspec": {
   "display_name": "Python 3",
   "language": "python",
   "name": "python3"
  },
  "language_info": {
   "codemirror_mode": {
    "name": "ipython",
    "version": 3
   },
   "file_extension": ".py",
   "mimetype": "text/x-python",
   "name": "python",
   "nbconvert_exporter": "python",
   "pygments_lexer": "ipython3",
   "version": "3.7.0"
  }
 },
 "nbformat": 4,
 "nbformat_minor": 5
}
