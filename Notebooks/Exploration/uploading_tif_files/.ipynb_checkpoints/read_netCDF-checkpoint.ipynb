{
 "cells": [
  {
   "cell_type": "code",
   "execution_count": 2,
   "id": "b7bfcf8e",
   "metadata": {},
   "outputs": [],
   "source": [
    "# -*- coding: UTF-8 -*-\n",
    "from osgeo import gdal\n",
    "from netCDF4 import Dataset\n",
    "import numpy as np\n",
    "import matplotlib.pyplot as plt\n",
    "import xarray as xr\n"
   ]
  },
  {
   "cell_type": "code",
   "execution_count": 3,
   "id": "b20757d1",
   "metadata": {},
   "outputs": [
    {
     "name": "stderr",
     "output_type": "stream",
     "text": [
      "/Users/joycelynlongdon/opt/anaconda3/envs/mres/lib/python3.7/site-packages/xarray/backends/plugins.py:61: RuntimeWarning: Engine 'rasterio' loading failed:\n",
      "(click 8.0.1 (/Users/joycelynlongdon/opt/anaconda3/envs/mres/lib/python3.7/site-packages), Requirement.parse('click<8,>=4.0'), {'rasterio', 'cligj'})\n",
      "  warnings.warn(f\"Engine {name!r} loading failed:\\n{ex}\", RuntimeWarning)\n"
     ]
    }
   ],
   "source": [
    "file_path = '/Users/joycelynlongdon/Desktop/Cambridge/CambridgeCoding/MRES/Data/ESA_CCI/CCI_Landcover_Maps/ESACCI_LC_L4_LCCS_Map_300m_P1Y_2013_v2.0.7cds.nc'\n",
    "DS = xr.open_dataset(file_path)\n"
   ]
  },
  {
   "cell_type": "code",
   "execution_count": 5,
   "id": "2647adad",
   "metadata": {},
   "outputs": [
    {
     "name": "stdout",
     "output_type": "stream",
     "text": [
      "xarray.Dataset {\n",
      "dimensions:\n",
      "\tbounds = 2 ;\n",
      "\tlat = 64800 ;\n",
      "\tlon = 129600 ;\n",
      "\ttime = 1 ;\n",
      "\n",
      "variables:\n",
      "\tuint8 lccs_class(time, lat, lon) ;\n",
      "\t\tlccs_class:standard_name = land_cover_lccs ;\n",
      "\t\tlccs_class:flag_colors = #ffff64 #ffff64 #ffff00 #aaf0f0 #dcf064 #c8c864 #006400 #00a000 #00a000 #aac800 #003c00 #003c00 #005000 #285000 #285000 #286400 #788200 #8ca000 #be9600 #966400 #966400 #966400 #ffb432 #ffdcd2 #ffebaf #ffc864 #ffd278 #ffebaf #00785a #009678 #00dc82 #c31400 #fff5d7 #dcdcdc #fff5d7 #0046c8 #ffffff ;\n",
      "\t\tlccs_class:long_name = Land cover class defined in LCCS ;\n",
      "\t\tlccs_class:valid_min = 1 ;\n",
      "\t\tlccs_class:valid_max = 220 ;\n",
      "\t\tlccs_class:ancillary_variables = processed_flag current_pixel_state observation_count change_count ;\n",
      "\t\tlccs_class:flag_meanings = no_data cropland_rainfed cropland_rainfed_herbaceous_cover cropland_rainfed_tree_or_shrub_cover cropland_irrigated mosaic_cropland mosaic_natural_vegetation tree_broadleaved_evergreen_closed_to_open tree_broadleaved_deciduous_closed_to_open tree_broadleaved_deciduous_closed tree_broadleaved_deciduous_open tree_needleleaved_evergreen_closed_to_open tree_needleleaved_evergreen_closed tree_needleleaved_evergreen_open tree_needleleaved_deciduous_closed_to_open tree_needleleaved_deciduous_closed tree_needleleaved_deciduous_open tree_mixed mosaic_tree_and_shrub mosaic_herbaceous shrubland shrubland_evergreen shrubland_deciduous grassland lichens_and_mosses sparse_vegetation sparse_tree sparse_shrub sparse_herbaceous tree_cover_flooded_fresh_or_brakish_water tree_cover_flooded_saline_water shrub_or_herbaceous_cover_flooded urban bare_areas bare_areas_consolidated bare_areas_unconsolidated water snow_and_ice ;\n",
      "\t\tlccs_class:flag_values = [  0  10  11  12  20  30  40  50  60  61  62  70  71  72  80  81  82  90\n",
      " 100 110 120 121 122 130 140 150 151 152 153 160 170 180 190 200 201 202\n",
      " 210 220] ;\n",
      "\tfloat32 processed_flag(time, lat, lon) ;\n",
      "\t\tprocessed_flag:long_name = LC map processed area flag ;\n",
      "\t\tprocessed_flag:standard_name = land_cover_lccs status_flag ;\n",
      "\t\tprocessed_flag:valid_min = 0 ;\n",
      "\t\tprocessed_flag:valid_max = 1 ;\n",
      "\t\tprocessed_flag:flag_meanings = not_processed processed ;\n",
      "\t\tprocessed_flag:flag_values = [0 1] ;\n",
      "\tfloat32 current_pixel_state(time, lat, lon) ;\n",
      "\t\tcurrent_pixel_state:long_name = LC pixel type mask ;\n",
      "\t\tcurrent_pixel_state:standard_name = land_cover_lccs status_flag ;\n",
      "\t\tcurrent_pixel_state:valid_min = 0 ;\n",
      "\t\tcurrent_pixel_state:valid_max = 5 ;\n",
      "\t\tcurrent_pixel_state:flag_meanings = invalid clear_land clear_water clear_snow_ice cloud cloud_shadow ;\n",
      "\t\tcurrent_pixel_state:flag_values = [0 1 2 3 4 5] ;\n",
      "\tuint16 observation_count(time, lat, lon) ;\n",
      "\t\tobservation_count:long_name = number of valid observations ;\n",
      "\t\tobservation_count:standard_name = land_cover_lccs number_of_observations ;\n",
      "\t\tobservation_count:valid_min = 0 ;\n",
      "\t\tobservation_count:valid_max = 32767 ;\n",
      "\tuint8 change_count(time, lat, lon) ;\n",
      "\t\tchange_count:long_name = number of class changes ;\n",
      "\t\tchange_count:valid_min = 0 ;\n",
      "\t\tchange_count:valid_max = 100 ;\n",
      "\tfloat64 lat(lat) ;\n",
      "\t\tlat:units = degrees_north ;\n",
      "\t\tlat:long_name = latitude ;\n",
      "\t\tlat:standard_name = latitude ;\n",
      "\t\tlat:valid_min = -90.0 ;\n",
      "\t\tlat:valid_max = 90.0 ;\n",
      "\t\tlat:bounds = lat_bounds ;\n",
      "\t\tlat:axis = Y ;\n",
      "\tfloat64 lon(lon) ;\n",
      "\t\tlon:units = degrees_east ;\n",
      "\t\tlon:long_name = longitude ;\n",
      "\t\tlon:standard_name = longitude ;\n",
      "\t\tlon:valid_min = -180.0 ;\n",
      "\t\tlon:valid_max = 180.0 ;\n",
      "\t\tlon:bounds = lon_bounds ;\n",
      "\t\tlon:axis = X ;\n",
      "\tint32 crs() ;\n",
      "\t\tcrs:wkt = GEOGCS[\"WGS 84\", \n",
      "  DATUM[\"World Geodetic System 1984\", \n",
      "    SPHEROID[\"WGS 84\", 6378137.0, 298.257223563, AUTHORITY[\"EPSG\",\"7030\"]], \n",
      "    AUTHORITY[\"EPSG\",\"6326\"]], \n",
      "  PRIMEM[\"Greenwich\", 0.0, AUTHORITY[\"EPSG\",\"8901\"]], \n",
      "  UNIT[\"degree\", 0.017453292519943295], \n",
      "  AXIS[\"Geodetic longitude\", EAST], \n",
      "  AXIS[\"Geodetic latitude\", NORTH], \n",
      "  AUTHORITY[\"EPSG\",\"4326\"]] ;\n",
      "\t\tcrs:i2m = 0.002777777777778,0.0,0.0,-0.002777777777778,-180.0,90.0 ;\n",
      "\tfloat64 lat_bounds(lat, bounds) ;\n",
      "\tfloat64 lon_bounds(lon, bounds) ;\n",
      "\tdatetime64[ns] time_bounds(time, bounds) ;\n",
      "\tdatetime64[ns] time(time) ;\n",
      "\t\ttime:standard_name = time ;\n",
      "\t\ttime:long_name = time ;\n",
      "\t\ttime:axis = T ;\n",
      "\t\ttime:bounds = time_bounds ;\n",
      "\n",
      "// global attributes:\n",
      "\t:id = ESACCI-LC-L4-LCCS-Map-300m-P1Y-2013-v2.0.7cds ;\n",
      "\t:title = Land Cover Map of ESA CCI brokered by CDS ;\n",
      "\t:summary = This dataset characterizes the land cover of a particular year (see time_coverage). The land cover was derived from the analysis of satellite data time series of the full period. ;\n",
      "\t:type = ESACCI-LC-L4-LCCS-Map-300m-P1Y ;\n",
      "\t:project = Climate Change Initiative - European Space Agency ;\n",
      "\t:references = http://www.esa-landcover-cci.org/ ;\n",
      "\t:institution = UCLouvain ;\n",
      "\t:contact = https://www.ecmwf.int/en/about/contact-us/get-support ;\n",
      "\t:comment =  ;\n",
      "\t:Conventions = CF-1.6 ;\n",
      "\t:standard_name_vocabulary = NetCDF Climate and Forecast (CF) Standard Names version 21 ;\n",
      "\t:keywords = land cover classification,satellite,observation ;\n",
      "\t:keywords_vocabulary = NASA Global Change Master Directory (GCMD) Science Keywords ;\n",
      "\t:license = ESA CCI Data Policy: free and open access ;\n",
      "\t:naming_authority = org.esa-cci ;\n",
      "\t:cdm_data_type = grid ;\n",
      "\t:TileSize = 2025:2025 ;\n",
      "\t:tracking_id = 24801e22-5f0c-4704-b5bc-39b4adaa66f1 ;\n",
      "\t:product_version = 2.0.7cds ;\n",
      "\t:creation_date = 20181130T095355Z ;\n",
      "\t:creator_name = UCLouvain ;\n",
      "\t:creator_url = http://www.uclouvain.be/ ;\n",
      "\t:creator_email = landcover-cci@uclouvain.be ;\n",
      "\t:source = MERIS FR L1B version 5.05, MERIS RR L1B version 8.0, SPOT VGT P ;\n",
      "\t:history = amorgos-4,0, lc-sdr-1.0, lc-sr-1.0, lc-classification-1.0,lc-user-tools-3.13,lc-user-tools-4.3 ;\n",
      "\t:time_coverage_start = 20130101 ;\n",
      "\t:time_coverage_end = 20131231 ;\n",
      "\t:time_coverage_duration = P1Y ;\n",
      "\t:time_coverage_resolution = P1Y ;\n",
      "\t:geospatial_lat_min = -90.0 ;\n",
      "\t:geospatial_lat_max = 90.0 ;\n",
      "\t:geospatial_lon_min = -180 ;\n",
      "\t:geospatial_lon_max = 180 ;\n",
      "\t:spatial_resolution = 300m ;\n",
      "\t:geospatial_lat_units = degrees_north ;\n",
      "\t:geospatial_lat_resolution = 0.002778 ;\n",
      "\t:geospatial_lon_units = degrees_east ;\n",
      "\t:geospatial_lon_resolution = 0.002778 ;\n",
      "}"
     ]
    }
   ],
   "source": [
    "DS.info()"
   ]
  },
  {
   "cell_type": "code",
   "execution_count": 6,
   "id": "2bbf7c14",
   "metadata": {},
   "outputs": [
    {
     "data": {
      "text/plain": [
       "100.781625628"
      ]
     },
     "execution_count": 6,
     "metadata": {},
     "output_type": "execute_result"
    }
   ],
   "source": [
    "DS.nbytes / 1e9 #GB"
   ]
  },
  {
   "cell_type": "code",
   "execution_count": null,
   "id": "53990632",
   "metadata": {},
   "outputs": [],
   "source": []
  },
  {
   "cell_type": "code",
   "execution_count": null,
   "id": "625c8455",
   "metadata": {},
   "outputs": [],
   "source": [
    "lons = fh.variables['lon'][:]\n",
    "lats = fh.variables['lat'][:]\n",
    "\n"
   ]
  },
  {
   "cell_type": "code",
   "execution_count": null,
   "id": "ad2c187c",
   "metadata": {},
   "outputs": [],
   "source": []
  }
 ],
 "metadata": {
  "kernelspec": {
   "display_name": "Python 3",
   "language": "python",
   "name": "python3"
  },
  "language_info": {
   "codemirror_mode": {
    "name": "ipython",
    "version": 3
   },
   "file_extension": ".py",
   "mimetype": "text/x-python",
   "name": "python",
   "nbconvert_exporter": "python",
   "pygments_lexer": "ipython3",
   "version": "3.7.0"
  }
 },
 "nbformat": 4,
 "nbformat_minor": 5
}
