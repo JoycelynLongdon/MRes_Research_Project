{
 "cells": [
  {
   "cell_type": "code",
   "execution_count": 1,
   "id": "d1276d11",
   "metadata": {},
   "outputs": [],
   "source": [
    "import ee\n",
    "import geemap\n",
    "from geemap import *\n",
    "import json\n",
    "from geemap import geojson_to_ee, ee_to_geojson\n",
    "from ipyleaflet import GeoJSON\n",
    "import os\n",
    "import sklearn\n",
    "# !pip install geemap\n"
   ]
  },
  {
   "cell_type": "code",
   "execution_count": 2,
   "id": "fe50a598",
   "metadata": {},
   "outputs": [
    {
     "data": {
      "application/vnd.jupyter.widget-view+json": {
       "model_id": "afe452a03b55409b86194d0df70df72c",
       "version_major": 2,
       "version_minor": 0
      },
      "text/plain": [
       "Map(center=[40, -100], controls=(WidgetControl(options=['position'], widget=HBox(children=(ToggleButton(value=…"
      ]
     },
     "metadata": {},
     "output_type": "display_data"
    }
   ],
   "source": [
    "Map = geemap.Map()\n",
    "Map"
   ]
  },
  {
   "cell_type": "code",
   "execution_count": 19,
   "id": "867cf1af",
   "metadata": {},
   "outputs": [
    {
     "data": {
      "application/vnd.jupyter.widget-view+json": {
       "model_id": "b7006419fae7421895c8d9c6aee543bd",
       "version_major": 2,
       "version_minor": 0
      },
      "text/plain": [
       "Map(bottom=1889.0, center=[7.3696495, 12.344585599999998], controls=(WidgetControl(options=['position', 'trans…"
      ]
     },
     "metadata": {},
     "output_type": "display_data"
    }
   ],
   "source": [
    "point = ee.Geometry.Point(12.3445856, 7.3696495)\n",
    "image = ee.ImageCollection('LANDSAT/LC08/C01/T1_SR').filterBounds(point).filterDate('2016-01-01', '2016-12-31').sort('CLOUD_COVER').first()\n",
    "\n",
    "vis_params = {\n",
    "    'min': 0,\n",
    "    'max': 3000,\n",
    "    'bands': ['B4', 'B3', 'B2'] #True Colour Composite\n",
    "}\n",
    "\n",
    "\n",
    "Map.centerObject(point, 8)\n",
    "Map.addLayer(image, vis_params, \"Landsat-8\")\n",
    "Map"
   ]
  },
  {
   "cell_type": "code",
   "execution_count": 9,
   "id": "aa9dd7ce",
   "metadata": {},
   "outputs": [
    {
     "data": {
      "text/plain": [
       "'2016-05-13'"
      ]
     },
     "execution_count": 9,
     "metadata": {},
     "output_type": "execute_result"
    }
   ],
   "source": [
    "ee.Date(image.get('system:time_start')).format('YYYY-MM-dd').getInfo()"
   ]
  },
  {
   "cell_type": "code",
   "execution_count": 10,
   "id": "301fef0e",
   "metadata": {},
   "outputs": [
    {
     "data": {
      "text/plain": [
       "0"
      ]
     },
     "execution_count": 10,
     "metadata": {},
     "output_type": "execute_result"
    }
   ],
   "source": [
    "image.get('CLOUD_COVER').getInfo()"
   ]
  },
  {
   "cell_type": "code",
   "execution_count": 20,
   "id": "ceac8180",
   "metadata": {},
   "outputs": [],
   "source": [
    "# region = Map.user_roi\n",
    "# region = ee.Geometry.Rectangle([-122.6003, 37.4831, -121.8036, 37.8288])\n",
    "region = ee.Geometry.Point([12.3445856, 7.3696495]).buffer(10000)"
   ]
  },
  {
   "cell_type": "code",
   "execution_count": 28,
   "id": "60fb8568",
   "metadata": {},
   "outputs": [
    {
     "data": {
      "application/vnd.jupyter.widget-view+json": {
       "model_id": "b7006419fae7421895c8d9c6aee543bd",
       "version_major": 2,
       "version_minor": 0
      },
      "text/plain": [
       "Map(bottom=4228.0, center=[7.3696495, 12.344585599999998], controls=(WidgetControl(options=['position', 'trans…"
      ]
     },
     "metadata": {},
     "output_type": "display_data"
    }
   ],
   "source": [
    "#forestNonForest = ee.ImageCollection('JAXA/ALOS/PALSAR/YEARLY/FNF').filterDate('2017-01-01', '2017-12-31')\n",
    "palsar = ee.ImageCollection(\"JAXA/ALOS/PALSAR/YEARLY/FNF\").filterBounds(point).filterDate('2017-01-01', '2017-12-31').select('fnf')\n",
    "\n",
    "forestNonForestVis = {\n",
    "  min: 1.0,\n",
    "  max: 3.0,\n",
    "  'palette': ['006400', 'FEFF99', '0000FF'],\n",
    "}\n",
    "\n",
    "Map.centerObject(point, 8)\n",
    "Map.addLayer(forestNonForest, forestNonForestVis, 'Forest/Non-Forest');\n",
    "Map"
   ]
  },
  {
   "cell_type": "code",
   "execution_count": null,
   "id": "1e529baa",
   "metadata": {},
   "outputs": [],
   "source": []
  }
 ],
 "metadata": {
  "kernelspec": {
   "display_name": "Python 3",
   "language": "python",
   "name": "python3"
  },
  "language_info": {
   "codemirror_mode": {
    "name": "ipython",
    "version": 3
   },
   "file_extension": ".py",
   "mimetype": "text/x-python",
   "name": "python",
   "nbconvert_exporter": "python",
   "pygments_lexer": "ipython3",
   "version": "3.7.0"
  }
 },
 "nbformat": 4,
 "nbformat_minor": 5
}
