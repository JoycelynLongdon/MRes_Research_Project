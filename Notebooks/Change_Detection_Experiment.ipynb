{
 "cells": [
  {
   "cell_type": "markdown",
   "id": "93ab6aee",
   "metadata": {},
   "source": [
    "# Change Detection Experiment"
   ]
  },
  {
   "cell_type": "code",
   "execution_count": 1,
   "id": "ba25653b",
   "metadata": {},
   "outputs": [],
   "source": [
    "import ee\n",
    "import geemap\n",
    "from geemap import *\n",
    "import json\n",
    "from geemap import geojson_to_ee, ee_to_geojson\n",
    "from ipyleaflet import GeoJSON\n",
    "import os\n",
    "\n",
    "# Trigger the authentication flow.\n",
    "#ee.Authenticate()\n",
    "\n",
    "# Initialize the library.\n",
    "#ee.Initialize()\n",
    "\n",
    "# !pip install geemap\n"
   ]
  },
  {
   "cell_type": "code",
   "execution_count": 2,
   "id": "2ed825ee",
   "metadata": {},
   "outputs": [
    {
     "data": {
      "application/vnd.jupyter.widget-view+json": {
       "model_id": "eb8e631f44e14172824e9fd4b5f5b526",
       "version_major": 2,
       "version_minor": 0
      },
      "text/plain": [
       "Map(center=[40, -100], controls=(WidgetControl(options=['position'], widget=HBox(children=(ToggleButton(value=…"
      ]
     },
     "metadata": {},
     "output_type": "display_data"
    }
   ],
   "source": [
    "Map = geemap.Map()\n",
    "Map"
   ]
  },
  {
   "cell_type": "markdown",
   "id": "c4ce1e70",
   "metadata": {},
   "source": [
    "## Data Preparation"
   ]
  },
  {
   "cell_type": "markdown",
   "id": "ef6dce64",
   "metadata": {},
   "source": [
    "### Import and Visualise AOI GeoJSON"
   ]
  },
  {
   "cell_type": "code",
   "execution_count": 3,
   "id": "70ed63de",
   "metadata": {},
   "outputs": [
    {
     "data": {
      "application/vnd.jupyter.widget-view+json": {
       "model_id": "eb8e631f44e14172824e9fd4b5f5b526",
       "version_major": 2,
       "version_minor": 0
      },
      "text/plain": [
       "Map(center=[-2.6357, 18.4276], controls=(WidgetControl(options=['position'], widget=HBox(children=(ToggleButto…"
      ]
     },
     "metadata": {},
     "output_type": "display_data"
    }
   ],
   "source": [
    "#clip image to only include aoi region\n",
    "file_path = os.path.abspath('/Users/joycelynlongdon/Desktop/Cambridge/CambridgeCoding/MRES/GEE_examples/Input_Data/mai_ndombe.json')\n",
    "\n",
    "with open(file_path) as f:\n",
    "    studyRegion = json.load(f)\n",
    "\n",
    "studyRegion = ee.FeatureCollection(studyRegion).first().geometry()\n",
    "Map.setCenter(18.4276, -2.6357,7)\n",
    "Map.addLayer(studyRegion,{},\"studyRegion\")\n",
    "Map"
   ]
  },
  {
   "cell_type": "markdown",
   "id": "53223d11",
   "metadata": {},
   "source": [
    "### Create Image Collection and Cloud Mask\n",
    "\n"
   ]
  },
  {
   "cell_type": "code",
   "execution_count": 18,
   "id": "7a4efcb9",
   "metadata": {
    "scrolled": true
   },
   "outputs": [
    {
     "data": {
      "application/vnd.jupyter.widget-view+json": {
       "model_id": "eb8e631f44e14172824e9fd4b5f5b526",
       "version_major": 2,
       "version_minor": 0
      },
      "text/plain": [
       "Map(bottom=8723.0, center=[-5.069057826784033, 18.270263671875004], controls=(WidgetControl(options=['position…"
      ]
     },
     "metadata": {},
     "output_type": "display_data"
    }
   ],
   "source": [
    "point = ee.Geometry.Point(18.4276, -2.6357)\n",
    "\n",
    "#define cloud mask\n",
    "def cloudMask(image):\n",
    "  #Bits 3 and 5 are cloud shadow and cloud, respectively.\n",
    "    cloudShadowBitMask = (1 << 3)\n",
    "    cloudsBitMask = (1 << 5)\n",
    "    #Get the pixel QA band.\n",
    "    qa = image.select('pixel_qa')\n",
    "    #Both flags should be set to zero, indicating clear conditions.\n",
    "    mask = qa.bitwiseAnd(cloudShadowBitMask).eq(0).And(qa.bitwiseAnd(cloudsBitMask).eq(0))\n",
    "    return image.updateMask(mask)\n",
    "#grab image collection for the required date\n",
    "image = ee.ImageCollection('LANDSAT/LC08/C01/T1_SR').filterDate('2016-01-01', '2016-12-31').map(cloudMask)\n",
    "\n",
    "image = image.map(cloudMask)\n",
    "\n",
    "vis_params = {\n",
    "    'min': 0,\n",
    "    'max': 3000,\n",
    "    'bands': ['B4', 'B3', 'B2'] #RGB Composite\n",
    "}\n",
    "\n",
    "Map.addLayer(image, vis_params, \"Landsat-8_2016\")\n",
    "Map"
   ]
  },
  {
   "cell_type": "markdown",
   "id": "5f2bf5ef",
   "metadata": {},
   "source": [
    "### Reduce the cloud free imageCollection into a multiband image and clip to studyRegion"
   ]
  },
  {
   "cell_type": "code",
   "execution_count": 19,
   "id": "b71edb61",
   "metadata": {},
   "outputs": [
    {
     "data": {
      "application/vnd.jupyter.widget-view+json": {
       "model_id": "eb8e631f44e14172824e9fd4b5f5b526",
       "version_major": 2,
       "version_minor": 0
      },
      "text/plain": [
       "Map(bottom=8723.0, center=[-2.6357, 18.4276], controls=(WidgetControl(options=['position'], widget=HBox(childr…"
      ]
     },
     "metadata": {},
     "output_type": "display_data"
    }
   ],
   "source": [
    "#reduce image collection into one multiband image taking the median value of each pixel\n",
    "image = image.median()\n",
    "#clip image to required boundary for studyRegion\n",
    "image = image.clip(studyRegion)\n",
    "\n",
    "Map.setCenter(18.4276, -2.6357,7)\n",
    "\n",
    "Map.addLayer(image, vis_params, \"Landsat-8_2016\")\n",
    "Map"
   ]
  },
  {
   "cell_type": "markdown",
   "id": "29036726",
   "metadata": {},
   "source": [
    "## Change Detection"
   ]
  },
  {
   "cell_type": "markdown",
   "id": "292805dd",
   "metadata": {},
   "source": [
    "### Define Parameters"
   ]
  },
  {
   "cell_type": "code",
   "execution_count": 26,
   "id": "18111ba9",
   "metadata": {},
   "outputs": [],
   "source": [
    "#change detection parameters\n",
    "breakpointBands = ['GREEN','RED','NIR','SWIR1','SWIR2'] #bands to be used for change detection (if unspecififed, all bands are used)\n",
    "tmaskBands = ['GREEN','SWIR2'] #bands to use for iterative TMask cloud detection which are typically green and swir2\n",
    "\n",
    "#all other parameters are kept as default for now\n",
    "#minObservations = 6 #the number of observations required to flag a change\n",
    "#chiSquareProbability  = .99 #the chi-squared probability threshold for change detection in the range [0,10]\n",
    "#dateFormat = 0 #julian days\n",
    "#minNumOfYearsScaler = 1.0 #minimum number of years to appply new fitting\n",
    "\n",
    "#lamda = 20/10000, #lambda for LASSO regression fitting\n",
    "#maxIterations = 25000\n",
    "\n"
   ]
  },
  {
   "cell_type": "markdown",
   "id": "174b8439",
   "metadata": {},
   "source": [
    "### Implementing the CCDC algorithm \n",
    "\n",
    "The Output bands are:\n",
    "- tStart: The start date of each model segment.\n",
    "- tEnd: The end date of each model segment.\n",
    "- tBreak: The model break date if a change is detected.\n",
    "- numObs: The number of observations used in each model segment.\n",
    "- changeProb: A numeric value representing the multi-band change probability.\n",
    "- *_coefs: The regression coefficients for each of the bands in the image collection.\n",
    "- *_rmse: The model root-mean-square error for each segment and input band.\n",
    "- *_magnitude: For segments with changes detected, this represents the normalized residuals during the change period.\n",
    "\n"
   ]
  },
  {
   "cell_type": "code",
   "execution_count": 30,
   "id": "34c4fd6e",
   "metadata": {},
   "outputs": [],
   "source": [
    "change_detection = ee.Algorithms.TemporalSegmentation.Ccdc(breakpointBands,tmaskBands)\n",
    "#print(change_detection)"
   ]
  },
  {
   "cell_type": "markdown",
   "id": "c3bee949",
   "metadata": {},
   "source": [
    "## Classification"
   ]
  },
  {
   "cell_type": "markdown",
   "id": "2a82e0bf",
   "metadata": {},
   "source": [
    "### Formatting training data to be used in classification.\n",
    "\n",
    "There are a few requirements for the training data for it to work with the rest of the process.\n",
    "- The data must be an Earth Engine FeatureCollection of point geometries.\n",
    "- An attribute in each point must contain a numeric value indicating the associated land cover.\n",
    "- An attribute in each point must contain a year that corresponds to the land cover label."
   ]
  },
  {
   "cell_type": "code",
   "execution_count": null,
   "id": "86113254",
   "metadata": {},
   "outputs": [],
   "source": []
  }
 ],
 "metadata": {
  "kernelspec": {
   "display_name": "Python 3",
   "language": "python",
   "name": "python3"
  },
  "language_info": {
   "codemirror_mode": {
    "name": "ipython",
    "version": 3
   },
   "file_extension": ".py",
   "mimetype": "text/x-python",
   "name": "python",
   "nbconvert_exporter": "python",
   "pygments_lexer": "ipython3",
   "version": "3.7.0"
  }
 },
 "nbformat": 4,
 "nbformat_minor": 5
}
